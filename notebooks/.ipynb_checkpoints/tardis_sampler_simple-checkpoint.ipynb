{
 "cells": [
  {
   "cell_type": "code",
   "execution_count": 6,
   "metadata": {},
   "outputs": [],
   "source": [
    "from tardis.io.atom_data.util import download_atom_data"
   ]
  },
  {
   "cell_type": "code",
   "execution_count": 7,
   "metadata": {},
   "outputs": [],
   "source": [
    "import numpy as np"
   ]
  },
  {
   "cell_type": "code",
   "execution_count": 8,
   "metadata": {},
   "outputs": [],
   "source": [
    "# create a pandas dataframe with the abundances of the elements\n",
    "import pandas as pd\n",
    "names = ['O', 'Si', 'S', 'Mg', 'Ca', 'Ti+Cr', 'Fe', 'Ni56']\n",
    "pd.DataFrame(columns = names)\n",
    "\n",
    "a = np.array([0.43,0.12,0.02,0.016,0.0006,0.001,0.007,0.007])\n",
    "alphas = a/a.sum()\n",
    "data = pd.DataFrame(columns = names)"
   ]
  },
  {
   "cell_type": "code",
   "execution_count": 21,
   "metadata": {
    "tags": []
   },
   "outputs": [],
   "source": [
    "import numpy as np\n",
    "from scipy.stats import gamma as gamma_dist\n",
    "\n",
    "def sample_dirichlet2(cube, alphas):\n",
    "    \n",
    "    #a = 1\n",
    "    #a = means[:10]\n",
    "    y = gamma_dist.ppf(cube, alphas)#, scale=stds[:10])\n",
    "    x = y/y.sum()\n",
    "    #y = gamma_dist.ppf(cube, a, loc=means[:10], scale=stds[:10])\n",
    "    #return y/y.sum()\n",
    "    return x\n",
    "\n",
    "def generate_distribution(n, alphas, names):\n",
    "    data = pd.DataFrame(columns = names)\n",
    "    for i in range(n):\n",
    "        data.loc[i] = sample_dirichlet2(np.random.rand(8), alphas)\n",
    "    return data\n",
    "from copy import deepcopy\n",
    "\n",
    "def run_sample(config_template, abundance_samples):\n",
    "    config = deepcopy(config_template)\n",
    "    config.model.abundances = {'type': 'uniform'}\n",
    "    abund = dict(zip(names, abundance_samples))\n",
    "    print(abund)\n",
    "    abund['Ti'] = abund['Ti+Cr']/2\n",
    "    abund['Cr'] = abund['Ti']\n",
    "    del abund['Ti+Cr']\n",
    "    config.model.abundances.update(abund)\n",
    "    return config\n",
    "\n",
    "def run_all_samples(config_template, abundance_samples):\n",
    "    \n",
    "    configs = []\n",
    "    for i in range(len(abundance_samples)):\n",
    "        configs.append(run_sample(config_template, abundance_samples.iloc[i]))\n",
    "    return configs\n",
    "\n",
    "def run_models(configs):\n",
    "    from tardis import run_tardis\n",
    "    models = []\n",
    "    for i in range(len(configs)):\n",
    "        models.append(run_tardis(configs[i]))\n",
    "    return models\n",
    "\n",
    "def save_output(data, models, output_path):\n",
    "    import pickle\n",
    "    for i in range(len(models)):\n",
    "        data['v_inner'][i] = models[i].model.v_inner\n",
    "        data['t_rad'][i] = models[i].model.t_rad\n",
    "        data['w'][i] = models[i].model.w\n",
    "\n",
    "    with open(output_path, 'wb') as f:\n",
    "        pickle.dump((data, models), f)\n"
   ]
  },
  {
   "cell_type": "code",
   "execution_count": 10,
   "metadata": {
    "tags": []
   },
   "outputs": [],
   "source": [
    "a = np.array([0.43,0.12,0.02,0.016,0.0006,0.001,0.007,0.007])\n",
    "alphas = a/a.sum()\n",
    "\n",
    "names = ['O', 'Si', 'S', 'Mg', 'Ca', 'Ti+Cr', 'Fe', 'Ni56']\n",
    "\n",
    "samples = generate_distribution(2, alphas, names)"
   ]
  },
  {
   "cell_type": "code",
   "execution_count": 11,
   "metadata": {
    "tags": []
   },
   "outputs": [
    {
     "data": {
      "text/html": [
       "<div>\n",
       "<style scoped>\n",
       "    .dataframe tbody tr th:only-of-type {\n",
       "        vertical-align: middle;\n",
       "    }\n",
       "\n",
       "    .dataframe tbody tr th {\n",
       "        vertical-align: top;\n",
       "    }\n",
       "\n",
       "    .dataframe thead th {\n",
       "        text-align: right;\n",
       "    }\n",
       "</style>\n",
       "<table border=\"1\" class=\"dataframe\">\n",
       "  <thead>\n",
       "    <tr style=\"text-align: right;\">\n",
       "      <th></th>\n",
       "      <th>O</th>\n",
       "      <th>Si</th>\n",
       "      <th>S</th>\n",
       "      <th>Mg</th>\n",
       "      <th>Ca</th>\n",
       "      <th>Ti+Cr</th>\n",
       "      <th>Fe</th>\n",
       "      <th>Ni56</th>\n",
       "    </tr>\n",
       "  </thead>\n",
       "  <tbody>\n",
       "    <tr>\n",
       "      <th>0</th>\n",
       "      <td>0.741424</td>\n",
       "      <td>0.010816</td>\n",
       "      <td>2.309486e-01</td>\n",
       "      <td>1.681217e-02</td>\n",
       "      <td>0.000000e+00</td>\n",
       "      <td>6.865759e-176</td>\n",
       "      <td>1.392331e-88</td>\n",
       "      <td>1.099450e-45</td>\n",
       "    </tr>\n",
       "    <tr>\n",
       "      <th>1</th>\n",
       "      <td>0.410258</td>\n",
       "      <td>0.579204</td>\n",
       "      <td>8.329192e-27</td>\n",
       "      <td>2.208713e-24</td>\n",
       "      <td>9.134356e-65</td>\n",
       "      <td>0.000000e+00</td>\n",
       "      <td>4.369777e-15</td>\n",
       "      <td>1.053870e-02</td>\n",
       "    </tr>\n",
       "  </tbody>\n",
       "</table>\n",
       "</div>"
      ],
      "text/plain": [
       "          O        Si             S            Mg            Ca  \\\n",
       "0  0.741424  0.010816  2.309486e-01  1.681217e-02  0.000000e+00   \n",
       "1  0.410258  0.579204  8.329192e-27  2.208713e-24  9.134356e-65   \n",
       "\n",
       "           Ti+Cr            Fe          Ni56  \n",
       "0  6.865759e-176  1.392331e-88  1.099450e-45  \n",
       "1   0.000000e+00  4.369777e-15  1.053870e-02  "
      ]
     },
     "execution_count": 11,
     "metadata": {},
     "output_type": "execute_result"
    }
   ],
   "source": [
    "samples"
   ]
  },
  {
   "cell_type": "code",
   "execution_count": 12,
   "metadata": {
    "tags": []
   },
   "outputs": [
    {
     "data": {
      "text/plain": [
       "O         1.151681e+00\n",
       "Si        5.900192e-01\n",
       "S         2.309486e-01\n",
       "Mg        1.681217e-02\n",
       "Ca        9.134356e-65\n",
       "Ti+Cr    6.865759e-176\n",
       "Fe        4.369777e-15\n",
       "Ni56      1.053870e-02\n",
       "dtype: float64"
      ]
     },
     "execution_count": 12,
     "metadata": {},
     "output_type": "execute_result"
    }
   ],
   "source": [
    "samples.sum()"
   ]
  },
  {
   "cell_type": "code",
   "execution_count": 13,
   "metadata": {
    "tags": []
   },
   "outputs": [],
   "source": [
    "import tardis\n",
    "from tardis.io.config_reader import Configuration"
   ]
  },
  {
   "cell_type": "code",
   "execution_count": 14,
   "metadata": {},
   "outputs": [],
   "source": [
    "!wget -q -nc https://raw.githubusercontent.com/tardis-sn/tardis/master/docs/tardis_example.yml"
   ]
  },
  {
   "cell_type": "code",
   "execution_count": 15,
   "metadata": {},
   "outputs": [],
   "source": [
    "config = Configuration.from_yaml(\"tardis_example.yml\")\n",
    "#configs = run_all_samples(config, samples)\n",
    "#configs[1]"
   ]
  },
  {
   "cell_type": "code",
   "execution_count": 16,
   "metadata": {},
   "outputs": [
    {
     "data": {
      "text/plain": [
       "{'tardis_config_version': 'v1.0',\n",
       " 'supernova': {'luminosity_requested': <Quantity 1.05927636e+43 erg / s>,\n",
       "  'time_explosion': <Quantity 13. d>,\n",
       "  'luminosity_wavelength_start': <Quantity 0. Angstrom>,\n",
       "  'luminosity_wavelength_end': <Quantity inf Angstrom>},\n",
       " 'atom_data': 'kurucz_cd23_chianti_H_He.h5',\n",
       " 'model': {'structure': {'type': 'specific',\n",
       "   'velocity': {'start': <Quantity 11000. km / s>,\n",
       "    'stop': <Quantity 20000. km / s>,\n",
       "    'num': 20},\n",
       "   'density': {'type': 'branch85_w7',\n",
       "    'w7_time_0': <Quantity 0.00023148 d>,\n",
       "    'w7_rho_0': <Quantity 3.e+29 g / cm3>,\n",
       "    'w7_v_0': <Quantity 1. km / s>}},\n",
       "  'abundances': {'type': 'uniform',\n",
       "   'O': 0.19,\n",
       "   'Mg': 0.03,\n",
       "   'Si': 0.52,\n",
       "   'S': 0.19,\n",
       "   'Ar': 0.04,\n",
       "   'Ca': 0.03}},\n",
       " 'plasma': {'disable_electron_scattering': False,\n",
       "  'ionization': 'lte',\n",
       "  'excitation': 'lte',\n",
       "  'radiative_rates_type': 'dilute-blackbody',\n",
       "  'line_interaction_type': 'macroatom',\n",
       "  'initial_t_inner': <Quantity -1. K>,\n",
       "  'initial_t_rad': <Quantity -1. K>,\n",
       "  'disable_line_scattering': False,\n",
       "  'w_epsilon': 1e-10,\n",
       "  'nlte': {'species': [],\n",
       "   'coronal_approximation': False,\n",
       "   'classical_nebular': False},\n",
       "  'continuum_interaction': {'species': [],\n",
       "   'enable_adiabatic_cooling': False,\n",
       "   'enable_two_photon_decay': False},\n",
       "  'helium_treatment': 'none',\n",
       "  'heating_rate_data_file': 'none',\n",
       "  'link_t_rad_t_electron': 0.9,\n",
       "  'nlte_ionization_species': [],\n",
       "  'nlte_excitation_species': []},\n",
       " 'montecarlo': {'seed': 23111963,\n",
       "  'no_of_packets': 40000.0,\n",
       "  'iterations': 20,\n",
       "  'nthreads': 1,\n",
       "  'last_no_of_packets': 100000.0,\n",
       "  'no_of_virtual_packets': 10,\n",
       "  'convergence_strategy': {'type': 'damped',\n",
       "   'damping_constant': 1.0,\n",
       "   'threshold': 0.05,\n",
       "   'fraction': 0.8,\n",
       "   'hold_iterations': 3,\n",
       "   't_inner': {'damping_constant': 0.5, 'threshold': 0.05},\n",
       "   'stop_if_converged': False,\n",
       "   'lock_t_inner_cycles': 1,\n",
       "   't_inner_update_exponent': -0.5,\n",
       "   't_rad': {'damping_constant': 1.0, 'threshold': 0.05},\n",
       "   'w': {'damping_constant': 1.0, 'threshold': 0.05}},\n",
       "  'virtual_spectrum_spawn_range': {'start': <Quantity 1. Angstrom>,\n",
       "   'end': <Quantity inf Angstrom>},\n",
       "  'enable_reflective_inner_boundary': False,\n",
       "  'inner_boundary_albedo': 0.0,\n",
       "  'enable_full_relativity': False,\n",
       "  'enable_nonhomologous_expansion': False,\n",
       "  'tracking': {'track_rpacket': False, 'initial_array_length': 10},\n",
       "  'debug_packets': False,\n",
       "  'logger_buffer': 1},\n",
       " 'spectrum': {'start': <Quantity 500. Angstrom>,\n",
       "  'stop': <Quantity 20000. Angstrom>,\n",
       "  'num': 10000,\n",
       "  'method': 'virtual',\n",
       "  'integrated': {'points': 1000, 'interpolate_shells': 0, 'compute': 'CPU'},\n",
       "  'virtual': {'tau_russian': 10.0,\n",
       "   'survival_probability': 0.0,\n",
       "   'enable_biasing': False,\n",
       "   'virtual_packet_logging': False}},\n",
       " 'config_dirname': ''}"
      ]
     },
     "execution_count": 16,
     "metadata": {},
     "output_type": "execute_result"
    }
   ],
   "source": [
    "config"
   ]
  },
  {
   "cell_type": "code",
   "execution_count": 28,
   "metadata": {},
   "outputs": [
    {
     "data": {
      "text/plain": [
       "0    3.915391e-238\n",
       "1    1.060484e-111\n",
       "Name: Ti+Cr, dtype: float64"
      ]
     },
     "execution_count": 28,
     "metadata": {},
     "output_type": "execute_result"
    }
   ],
   "source": [
    "samples['Ti+Cr']/2"
   ]
  },
  {
   "cell_type": "code",
   "execution_count": 35,
   "metadata": {},
   "outputs": [
    {
     "data": {
      "text/plain": [
       "O         7.494060e-01\n",
       "Si        2.505307e-01\n",
       "S         4.293880e-08\n",
       "Mg        6.319435e-05\n",
       "Ca       1.852186e-167\n",
       "Ti+Cr    7.830783e-238\n",
       "Fe        2.536505e-19\n",
       "Ni56      1.399750e-54\n",
       "Name: 0, dtype: float64"
      ]
     },
     "execution_count": 35,
     "metadata": {},
     "output_type": "execute_result"
    }
   ],
   "source": []
  },
  {
   "cell_type": "code",
   "execution_count": 17,
   "metadata": {},
   "outputs": [
    {
     "name": "stdout",
     "output_type": "stream",
     "text": [
      "{'O': 0.7414236149171857, 'Si': 0.010815635921023943, 'S': 0.2309485752541709, 'Mg': 0.016812173907619445, 'Ca': 0.0, 'Ti+Cr': 6.865758506687823e-176, 'Fe': 1.3923307977596617e-88, 'Ni56': 1.0994502199398291e-45}\n"
     ]
    }
   ],
   "source": [
    "my_config = run_sample(config, samples.iloc[0])"
   ]
  },
  {
   "cell_type": "code",
   "execution_count": 37,
   "metadata": {},
   "outputs": [
    {
     "data": {
      "text/plain": [
       "{'tardis_config_version': 'v1.0',\n",
       " 'supernova': {'luminosity_requested': <Quantity 1.05927636e+43 erg / s>,\n",
       "  'time_explosion': <Quantity 13. d>,\n",
       "  'luminosity_wavelength_start': <Quantity 0. Angstrom>,\n",
       "  'luminosity_wavelength_end': <Quantity inf Angstrom>},\n",
       " 'atom_data': 'kurucz_cd23_chianti_H_He.h5',\n",
       " 'model': {'structure': {'type': 'specific',\n",
       "   'velocity': {'start': <Quantity 11000. km / s>,\n",
       "    'stop': <Quantity 20000. km / s>,\n",
       "    'num': 20},\n",
       "   'density': {'type': 'branch85_w7',\n",
       "    'w7_time_0': <Quantity 0.00023148 d>,\n",
       "    'w7_rho_0': <Quantity 3.e+29 g / cm3>,\n",
       "    'w7_v_0': <Quantity 1. km / s>}},\n",
       "  'abundances': {'type': 'uniform',\n",
       "   'O': 0.7494060160913858,\n",
       "   'Si': 0.25053074662178415,\n",
       "   'S': 4.2938802408945344e-08,\n",
       "   'Mg': 6.319434802755028e-05,\n",
       "   'Ca': 1.852185543892953e-167,\n",
       "   'Fe': 2.536505234445548e-19,\n",
       "   'Ni56': 1.3997497243315036e-54,\n",
       "   'Ti': 3.915391349677787e-238,\n",
       "   'Cr': 3.915391349677787e-238}},\n",
       " 'plasma': {'disable_electron_scattering': False,\n",
       "  'ionization': 'lte',\n",
       "  'excitation': 'lte',\n",
       "  'radiative_rates_type': 'dilute-blackbody',\n",
       "  'line_interaction_type': 'macroatom',\n",
       "  'initial_t_inner': <Quantity -1. K>,\n",
       "  'initial_t_rad': <Quantity -1. K>,\n",
       "  'disable_line_scattering': False,\n",
       "  'w_epsilon': 1e-10,\n",
       "  'nlte': {'species': [],\n",
       "   'coronal_approximation': False,\n",
       "   'classical_nebular': False},\n",
       "  'continuum_interaction': {'species': [],\n",
       "   'enable_adiabatic_cooling': False,\n",
       "   'enable_two_photon_decay': False},\n",
       "  'helium_treatment': 'none',\n",
       "  'heating_rate_data_file': 'none',\n",
       "  'link_t_rad_t_electron': 0.9,\n",
       "  'nlte_ionization_species': [],\n",
       "  'nlte_excitation_species': []},\n",
       " 'montecarlo': {'seed': 23111963,\n",
       "  'no_of_packets': 40000.0,\n",
       "  'iterations': 20,\n",
       "  'nthreads': 1,\n",
       "  'last_no_of_packets': 100000.0,\n",
       "  'no_of_virtual_packets': 10,\n",
       "  'convergence_strategy': {'type': 'damped',\n",
       "   'damping_constant': 1.0,\n",
       "   'threshold': 0.05,\n",
       "   'fraction': 0.8,\n",
       "   'hold_iterations': 3,\n",
       "   't_inner': {'damping_constant': 0.5, 'threshold': 0.05},\n",
       "   'stop_if_converged': False,\n",
       "   'lock_t_inner_cycles': 1,\n",
       "   't_inner_update_exponent': -0.5,\n",
       "   't_rad': {'damping_constant': 1.0, 'threshold': 0.05},\n",
       "   'w': {'damping_constant': 1.0, 'threshold': 0.05}},\n",
       "  'virtual_spectrum_spawn_range': {'start': <Quantity 1. Angstrom>,\n",
       "   'end': <Quantity inf Angstrom>},\n",
       "  'enable_reflective_inner_boundary': False,\n",
       "  'inner_boundary_albedo': 0.0,\n",
       "  'enable_full_relativity': False,\n",
       "  'enable_nonhomologous_expansion': False,\n",
       "  'tracking': {'track_rpacket': False, 'initial_array_length': 10},\n",
       "  'debug_packets': False,\n",
       "  'logger_buffer': 1},\n",
       " 'spectrum': {'start': <Quantity 500. Angstrom>,\n",
       "  'stop': <Quantity 20000. Angstrom>,\n",
       "  'num': 10000,\n",
       "  'method': 'virtual',\n",
       "  'integrated': {'points': 1000, 'interpolate_shells': 0, 'compute': 'CPU'},\n",
       "  'virtual': {'tau_russian': 10.0,\n",
       "   'survival_probability': 0.0,\n",
       "   'enable_biasing': False,\n",
       "   'virtual_packet_logging': False}},\n",
       " 'config_dirname': ''}"
      ]
     },
     "execution_count": 37,
     "metadata": {},
     "output_type": "execute_result"
    }
   ],
   "source": [
    "my_config"
   ]
  },
  {
   "cell_type": "code",
   "execution_count": 1,
   "metadata": {},
   "outputs": [
    {
     "ename": "NameError",
     "evalue": "name 'sims' is not defined",
     "output_type": "error",
     "traceback": [
      "\u001b[0;31m---------------------------------------------------------------------------\u001b[0m",
      "\u001b[0;31mNameError\u001b[0m                                 Traceback (most recent call last)",
      "Cell \u001b[0;32mIn[1], line 1\u001b[0m\n\u001b[0;32m----> 1\u001b[0m sims\n",
      "\u001b[0;31mNameError\u001b[0m: name 'sims' is not defined"
     ]
    }
   ],
   "source": [
    "sims"
   ]
  },
  {
   "cell_type": "code",
   "execution_count": 19,
   "metadata": {},
   "outputs": [],
   "source": [
    "download_atom_data('kurucz_cd23_chianti_H_He')"
   ]
  },
  {
   "cell_type": "code",
   "execution_count": 20,
   "metadata": {},
   "outputs": [
    {
     "ename": "KeyError",
     "evalue": "'log_level'",
     "output_type": "error",
     "traceback": [
      "\u001b[0;31m---------------------------------------------------------------------------\u001b[0m",
      "\u001b[0;31mKeyError\u001b[0m                                  Traceback (most recent call last)",
      "Cell \u001b[0;32mIn[20], line 1\u001b[0m\n\u001b[0;32m----> 1\u001b[0m smis \u001b[39m=\u001b[39m run_models([config])\n",
      "Cell \u001b[0;32mIn[9], line 43\u001b[0m, in \u001b[0;36mrun_models\u001b[0;34m(configs)\u001b[0m\n\u001b[1;32m     41\u001b[0m models \u001b[39m=\u001b[39m []\n\u001b[1;32m     42\u001b[0m \u001b[39mfor\u001b[39;00m i \u001b[39min\u001b[39;00m \u001b[39mrange\u001b[39m(\u001b[39mlen\u001b[39m(configs)):\n\u001b[0;32m---> 43\u001b[0m     models\u001b[39m.\u001b[39mappend(run_tardis(configs[i], log_level\u001b[39m=\u001b[39;49m\u001b[39m\"\u001b[39;49m\u001b[39mError\u001b[39;49m\u001b[39m\"\u001b[39;49m))\n\u001b[1;32m     44\u001b[0m \u001b[39mreturn\u001b[39;00m models\n",
      "File \u001b[0;32m~/anaconda3/envs/tardis/lib/python3.8/site-packages/tardis/base.py:92\u001b[0m, in \u001b[0;36mrun_tardis\u001b[0;34m(config, atom_data, packet_source, simulation_callbacks, virtual_packet_logging, show_convergence_plots, log_level, specific_log_level, show_progress_bars, **kwargs)\u001b[0m\n\u001b[1;32m     89\u001b[0m \u001b[39mif\u001b[39;00m \u001b[39mnot\u001b[39;00m \u001b[39misinstance\u001b[39m(show_convergence_plots, \u001b[39mbool\u001b[39m):\n\u001b[1;32m     90\u001b[0m     \u001b[39mraise\u001b[39;00m \u001b[39mTypeError\u001b[39;00m(\u001b[39m\"\u001b[39m\u001b[39mExpected bool in show_convergence_plots argument\u001b[39m\u001b[39m\"\u001b[39m)\n\u001b[0;32m---> 92\u001b[0m logging_state(log_level, tardis_config, specific_log_level)\n\u001b[1;32m     94\u001b[0m \u001b[39mif\u001b[39;00m atom_data \u001b[39mis\u001b[39;00m \u001b[39mnot\u001b[39;00m \u001b[39mNone\u001b[39;00m:\n\u001b[1;32m     95\u001b[0m     \u001b[39mtry\u001b[39;00m:\n",
      "File \u001b[0;32m~/anaconda3/envs/tardis/lib/python3.8/site-packages/tardis/io/logger/logger.py:93\u001b[0m, in \u001b[0;36mlogging_state\u001b[0;34m(log_level, tardis_config, specific_log_level)\u001b[0m\n\u001b[1;32m     88\u001b[0m logging_level \u001b[39m=\u001b[39m (\n\u001b[1;32m     89\u001b[0m     log_level \u001b[39mif\u001b[39;00m log_level \u001b[39melse\u001b[39;00m tardis_config[\u001b[39m\"\u001b[39m\u001b[39mdebug\u001b[39m\u001b[39m\"\u001b[39m][\u001b[39m\"\u001b[39m\u001b[39mlog_level\u001b[39m\u001b[39m\"\u001b[39m]\n\u001b[1;32m     90\u001b[0m )\n\u001b[1;32m     92\u001b[0m \u001b[39m# Displays a message when both log_level & tardis[\"debug\"][\"log_level\"] are specified\u001b[39;00m\n\u001b[0;32m---> 93\u001b[0m \u001b[39mif\u001b[39;00m log_level \u001b[39mand\u001b[39;00m tardis_config[\u001b[39m\"\u001b[39;49m\u001b[39mdebug\u001b[39;49m\u001b[39m\"\u001b[39;49m][\u001b[39m\"\u001b[39;49m\u001b[39mlog_level\u001b[39;49m\u001b[39m\"\u001b[39;49m]:\n\u001b[1;32m     94\u001b[0m     \u001b[39mprint\u001b[39m(\n\u001b[1;32m     95\u001b[0m         \u001b[39m\"\u001b[39m\u001b[39mlog_level is defined both in Functional Argument & YAML Configuration \u001b[39m\u001b[39m{\u001b[39m\u001b[39mdebug section}\u001b[39m\u001b[39m\"\u001b[39m\n\u001b[1;32m     96\u001b[0m     )\n\u001b[1;32m     97\u001b[0m     \u001b[39mprint\u001b[39m(\n\u001b[1;32m     98\u001b[0m         \u001b[39mf\u001b[39m\u001b[39m\"\u001b[39m\u001b[39mlog_level = \u001b[39m\u001b[39m{\u001b[39;00mlog_level\u001b[39m.\u001b[39mupper()\u001b[39m}\u001b[39;00m\u001b[39m will be used for Log Level Determination\u001b[39m\u001b[39m\\n\u001b[39;00m\u001b[39m\"\u001b[39m\n\u001b[1;32m     99\u001b[0m     )\n",
      "File \u001b[0;32m~/anaconda3/envs/tardis/lib/python3.8/site-packages/tardis/io/config_reader.py:143\u001b[0m, in \u001b[0;36mConfigurationNameSpace.__getitem__\u001b[0;34m(self, key)\u001b[0m\n\u001b[1;32m    142\u001b[0m \u001b[39mdef\u001b[39;00m \u001b[39m__getitem__\u001b[39m(\u001b[39mself\u001b[39m, key):\n\u001b[0;32m--> 143\u001b[0m     \u001b[39mreturn\u001b[39;00m \u001b[39msuper\u001b[39;49m(ConfigurationNameSpace, \u001b[39mself\u001b[39;49m)\u001b[39m.\u001b[39;49m\u001b[39m__getitem__\u001b[39;49m(key)\n",
      "\u001b[0;31mKeyError\u001b[0m: 'log_level'"
     ]
    }
   ],
   "source": [
    "smis = run_models([config])"
   ]
  },
  {
   "cell_type": "code",
   "execution_count": 22,
   "metadata": {},
   "outputs": [
    {
     "name": "stdout",
     "output_type": "stream",
     "text": [
      "[\u001b[1mtardis.io.atom_data.util\u001b[0m][\u001b[1;37mINFO\u001b[0m   ]  \n",
      "\t\n",
      "\tAtom Data kurucz_cd23_chianti_H_He.h5 not found in local path.\n",
      "\tExists in TARDIS Data repo /mnt/home/grunew14/Downloads/tardis-data/kurucz_cd23_chianti_H_He.h5 (\u001b[1mutil.py\u001b[0m:33)\n"
     ]
    },
    {
     "name": "stderr",
     "output_type": "stream",
     "text": [
      "\u001b[1;37mINFO\u001b[0m:tardis.io.atom_data.util:\n",
      "\tAtom Data kurucz_cd23_chianti_H_He.h5 not found in local path.\n",
      "\tExists in TARDIS Data repo /mnt/home/grunew14/Downloads/tardis-data/kurucz_cd23_chianti_H_He.h5\n"
     ]
    },
    {
     "name": "stdout",
     "output_type": "stream",
     "text": [
      "[\u001b[1mtardis.io.atom_data.base\u001b[0m][\u001b[1;37mINFO\u001b[0m   ]  \n",
      "\tReading Atom Data with: UUID = 6f7b09e887a311e7a06b246e96350010 MD5  = 864f1753714343c41f99cb065710cace  (\u001b[1mbase.py\u001b[0m:249)\n"
     ]
    },
    {
     "name": "stderr",
     "output_type": "stream",
     "text": [
      "\u001b[1;37mINFO\u001b[0m:tardis.io.atom_data.base:Reading Atom Data with: UUID = 6f7b09e887a311e7a06b246e96350010 MD5  = 864f1753714343c41f99cb065710cace \n"
     ]
    },
    {
     "name": "stdout",
     "output_type": "stream",
     "text": [
      "[\u001b[1mtardis.io.atom_data.base\u001b[0m][\u001b[1;37mINFO\u001b[0m   ]  \n",
      "\tNon provided Atomic Data: synpp_refs, photoionization_data, yg_data, two_photon_data (\u001b[1mbase.py\u001b[0m:253)\n"
     ]
    },
    {
     "name": "stderr",
     "output_type": "stream",
     "text": [
      "\u001b[1;37mINFO\u001b[0m:tardis.io.atom_data.base:Non provided Atomic Data: synpp_refs, photoionization_data, yg_data, two_photon_data\n"
     ]
    },
    {
     "name": "stdout",
     "output_type": "stream",
     "text": [
      "[\u001b[1mpy.warnings         \u001b[0m][\u001b[1;33mWARNING\u001b[0m]  \n",
      "\t/mnt/home/grunew14/anaconda3/envs/tardis/lib/python3.8/site-packages/tardis/plasma/properties/radiative_properties.py:93: RuntimeWarning: invalid value encountered in true_divide\n",
      "  (g_lower * n_upper) / (g_upper * n_lower)\n",
      " (\u001b[1mwarnings.py\u001b[0m:109)\n"
     ]
    },
    {
     "name": "stderr",
     "output_type": "stream",
     "text": [
      "\u001b[1;33mWARNING\u001b[0m:py.warnings:/mnt/home/grunew14/anaconda3/envs/tardis/lib/python3.8/site-packages/tardis/plasma/properties/radiative_properties.py:93: RuntimeWarning: invalid value encountered in true_divide\n",
      "  (g_lower * n_upper) / (g_upper * n_lower)\n",
      "\n"
     ]
    },
    {
     "name": "stdout",
     "output_type": "stream",
     "text": [
      "[\u001b[1mpy.warnings         \u001b[0m][\u001b[1;33mWARNING\u001b[0m]  \n",
      "\t/mnt/home/grunew14/anaconda3/envs/tardis/lib/python3.8/site-packages/numba/np/ufunc/parallel.py:365: NumbaWarning: \u001b[1mThe TBB threading layer requires TBB version 2019.5 or later i.e., TBB_INTERFACE_VERSION >= 11005. Found TBB_INTERFACE_VERSION = 10003. The TBB threading layer is disabled.\u001b[0m\n",
      "  warnings.warn(problem)\n",
      " (\u001b[1mwarnings.py\u001b[0m:109)\n"
     ]
    },
    {
     "name": "stderr",
     "output_type": "stream",
     "text": [
      "\u001b[1;33mWARNING\u001b[0m:py.warnings:/mnt/home/grunew14/anaconda3/envs/tardis/lib/python3.8/site-packages/numba/np/ufunc/parallel.py:365: NumbaWarning: \u001b[1mThe TBB threading layer requires TBB version 2019.5 or later i.e., TBB_INTERFACE_VERSION >= 11005. Found TBB_INTERFACE_VERSION = 10003. The TBB threading layer is disabled.\u001b[0m\n",
      "  warnings.warn(problem)\n",
      "\n"
     ]
    },
    {
     "name": "stdout",
     "output_type": "stream",
     "text": [
      "[\u001b[1mpy.warnings         \u001b[0m][\u001b[1;33mWARNING\u001b[0m]  \n",
      "\t/mnt/home/grunew14/anaconda3/envs/tardis/lib/python3.8/site-packages/tardis/plasma/properties/radiative_properties.py:93: RuntimeWarning: invalid value encountered in true_divide\n",
      "  (g_lower * n_upper) / (g_upper * n_lower)\n",
      " (\u001b[1mwarnings.py\u001b[0m:109)\n"
     ]
    },
    {
     "name": "stderr",
     "output_type": "stream",
     "text": [
      "\u001b[1;33mWARNING\u001b[0m:py.warnings:/mnt/home/grunew14/anaconda3/envs/tardis/lib/python3.8/site-packages/tardis/plasma/properties/radiative_properties.py:93: RuntimeWarning: invalid value encountered in true_divide\n",
      "  (g_lower * n_upper) / (g_upper * n_lower)\n",
      "\n"
     ]
    },
    {
     "name": "stdout",
     "output_type": "stream",
     "text": [
      "[\u001b[1mtardis.simulation.base\u001b[0m][\u001b[1;37mINFO\u001b[0m   ]  \n",
      "\t\n",
      "\tStarting iteration 1 of 20 (\u001b[1mbase.py\u001b[0m:385)\n"
     ]
    },
    {
     "name": "stderr",
     "output_type": "stream",
     "text": [
      "\u001b[1;37mINFO\u001b[0m:tardis.simulation.base:\n",
      "\tStarting iteration 1 of 20\n"
     ]
    },
    {
     "data": {
      "application/vnd.jupyter.widget-view+json": {
       "model_id": "50e92d4bd772433ca904d44cc43c9ca6",
       "version_major": 2,
       "version_minor": 0
      },
      "text/plain": [
       "TqdmHBox(children=(HTML(value='Iterations:', layout=Layout(width='6%')), FloatProgress(value=0.0, layout=Layou…"
      ]
     },
     "metadata": {},
     "output_type": "display_data"
    },
    {
     "data": {
      "application/vnd.jupyter.widget-view+json": {
       "model_id": "349d86a03bf342ffabd68f2792c65964",
       "version_major": 2,
       "version_minor": 0
      },
      "text/plain": [
       "TqdmHBox(children=(HTML(value='Packets:   ', layout=Layout(width='6%')), FloatProgress(value=0.0, layout=Layou…"
      ]
     },
     "metadata": {},
     "output_type": "display_data"
    },
    {
     "name": "stdout",
     "output_type": "stream",
     "text": [
      "[\u001b[1mtardis.simulation.base\u001b[0m][\u001b[1;37mINFO\u001b[0m   ]  \n",
      "\t\n",
      "\tLuminosity emitted   = 8.396e+42 erg / s\n",
      "\tLuminosity absorbed  = 2.242e+42 erg / s\n",
      "\tLuminosity requested = 1.059e+43 erg / s\n",
      " (\u001b[1mbase.py\u001b[0m:559)\n"
     ]
    },
    {
     "name": "stderr",
     "output_type": "stream",
     "text": [
      "\u001b[1;37mINFO\u001b[0m:tardis.simulation.base:\n",
      "\tLuminosity emitted   = 8.396e+42 erg / s\n",
      "\tLuminosity absorbed  = 2.242e+42 erg / s\n",
      "\tLuminosity requested = 1.059e+43 erg / s\n",
      "\n"
     ]
    },
    {
     "name": "stdout",
     "output_type": "stream",
     "text": [
      "[\u001b[1mtardis.simulation.base\u001b[0m][\u001b[1;37mINFO\u001b[0m   ]  \n",
      "\t\n",
      "\tPlasma stratification: (\u001b[1mbase.py\u001b[0m:527)\n"
     ]
    },
    {
     "name": "stderr",
     "output_type": "stream",
     "text": [
      "\u001b[1;37mINFO\u001b[0m:tardis.simulation.base:\n",
      "\tPlasma stratification:\n"
     ]
    },
    {
     "data": {
      "text/html": [
       "<style  type=\"text/css\" >\n",
       "</style><table id=\"T_9ada67f4_c6a0_11ed_ba71_e4434be0643c\" ><thead>    <tr>        <th class=\"index_name level0\" >Shell No.</th>        <th class=\"col_heading level0 col0\" >t_rad</th>        <th class=\"col_heading level0 col1\" >next_t_rad</th>        <th class=\"col_heading level0 col2\" >w</th>        <th class=\"col_heading level0 col3\" >next_w</th>    </tr></thead><tbody>\n",
       "                <tr>\n",
       "                        <th id=\"T_9ada67f4_c6a0_11ed_ba71_e4434be0643clevel0_row0\" class=\"row_heading level0 row0\" >0</th>\n",
       "                        <td id=\"T_9ada67f4_c6a0_11ed_ba71_e4434be0643crow0_col0\" class=\"data row0 col0\" >9.93e+03</td>\n",
       "                        <td id=\"T_9ada67f4_c6a0_11ed_ba71_e4434be0643crow0_col1\" class=\"data row0 col1\" >1e+04</td>\n",
       "                        <td id=\"T_9ada67f4_c6a0_11ed_ba71_e4434be0643crow0_col2\" class=\"data row0 col2\" >0.4</td>\n",
       "                        <td id=\"T_9ada67f4_c6a0_11ed_ba71_e4434be0643crow0_col3\" class=\"data row0 col3\" >0.508</td>\n",
       "            </tr>\n",
       "            <tr>\n",
       "                        <th id=\"T_9ada67f4_c6a0_11ed_ba71_e4434be0643clevel0_row1\" class=\"row_heading level0 row1\" >5</th>\n",
       "                        <td id=\"T_9ada67f4_c6a0_11ed_ba71_e4434be0643crow1_col0\" class=\"data row1 col0\" >9.85e+03</td>\n",
       "                        <td id=\"T_9ada67f4_c6a0_11ed_ba71_e4434be0643crow1_col1\" class=\"data row1 col1\" >1.01e+04</td>\n",
       "                        <td id=\"T_9ada67f4_c6a0_11ed_ba71_e4434be0643crow1_col2\" class=\"data row1 col2\" >0.211</td>\n",
       "                        <td id=\"T_9ada67f4_c6a0_11ed_ba71_e4434be0643crow1_col3\" class=\"data row1 col3\" >0.205</td>\n",
       "            </tr>\n",
       "            <tr>\n",
       "                        <th id=\"T_9ada67f4_c6a0_11ed_ba71_e4434be0643clevel0_row2\" class=\"row_heading level0 row2\" >10</th>\n",
       "                        <td id=\"T_9ada67f4_c6a0_11ed_ba71_e4434be0643crow2_col0\" class=\"data row2 col0\" >9.78e+03</td>\n",
       "                        <td id=\"T_9ada67f4_c6a0_11ed_ba71_e4434be0643crow2_col1\" class=\"data row2 col1\" >1.01e+04</td>\n",
       "                        <td id=\"T_9ada67f4_c6a0_11ed_ba71_e4434be0643crow2_col2\" class=\"data row2 col2\" >0.143</td>\n",
       "                        <td id=\"T_9ada67f4_c6a0_11ed_ba71_e4434be0643crow2_col3\" class=\"data row2 col3\" >0.123</td>\n",
       "            </tr>\n",
       "            <tr>\n",
       "                        <th id=\"T_9ada67f4_c6a0_11ed_ba71_e4434be0643clevel0_row3\" class=\"row_heading level0 row3\" >15</th>\n",
       "                        <td id=\"T_9ada67f4_c6a0_11ed_ba71_e4434be0643crow3_col0\" class=\"data row3 col0\" >9.71e+03</td>\n",
       "                        <td id=\"T_9ada67f4_c6a0_11ed_ba71_e4434be0643crow3_col1\" class=\"data row3 col1\" >9.85e+03</td>\n",
       "                        <td id=\"T_9ada67f4_c6a0_11ed_ba71_e4434be0643crow3_col2\" class=\"data row3 col2\" >0.105</td>\n",
       "                        <td id=\"T_9ada67f4_c6a0_11ed_ba71_e4434be0643crow3_col3\" class=\"data row3 col3\" >0.091</td>\n",
       "            </tr>\n",
       "    </tbody></table>"
      ],
      "text/plain": [
       "<pandas.io.formats.style.Styler at 0x2b070b244f70>"
      ]
     },
     "metadata": {},
     "output_type": "display_data"
    },
    {
     "name": "stdout",
     "output_type": "stream",
     "text": [
      "[\u001b[1mtardis.simulation.base\u001b[0m][\u001b[1;37mINFO\u001b[0m   ]  \n",
      "\t\n",
      "\tCurrent t_inner = 9933.952 K\n",
      "\tExpected t_inner for next iteration = 10546.020 K\n",
      " (\u001b[1mbase.py\u001b[0m:554)\n"
     ]
    },
    {
     "name": "stderr",
     "output_type": "stream",
     "text": [
      "\u001b[1;37mINFO\u001b[0m:tardis.simulation.base:\n",
      "\tCurrent t_inner = 9933.952 K\n",
      "\tExpected t_inner for next iteration = 10546.020 K\n",
      "\n"
     ]
    },
    {
     "name": "stdout",
     "output_type": "stream",
     "text": [
      "[\u001b[1mpy.warnings         \u001b[0m][\u001b[1;33mWARNING\u001b[0m]  \n",
      "\t/mnt/home/grunew14/anaconda3/envs/tardis/lib/python3.8/site-packages/tardis/plasma/properties/radiative_properties.py:93: RuntimeWarning: invalid value encountered in true_divide\n",
      "  (g_lower * n_upper) / (g_upper * n_lower)\n",
      " (\u001b[1mwarnings.py\u001b[0m:109)\n"
     ]
    },
    {
     "name": "stderr",
     "output_type": "stream",
     "text": [
      "\u001b[1;33mWARNING\u001b[0m:py.warnings:/mnt/home/grunew14/anaconda3/envs/tardis/lib/python3.8/site-packages/tardis/plasma/properties/radiative_properties.py:93: RuntimeWarning: invalid value encountered in true_divide\n",
      "  (g_lower * n_upper) / (g_upper * n_lower)\n",
      "\n"
     ]
    },
    {
     "name": "stdout",
     "output_type": "stream",
     "text": [
      "[\u001b[1mtardis.simulation.base\u001b[0m][\u001b[1;37mINFO\u001b[0m   ]  \n",
      "\t\n",
      "\tStarting iteration 2 of 20 (\u001b[1mbase.py\u001b[0m:385)\n"
     ]
    },
    {
     "name": "stderr",
     "output_type": "stream",
     "text": [
      "\u001b[1;37mINFO\u001b[0m:tardis.simulation.base:\n",
      "\tStarting iteration 2 of 20\n"
     ]
    },
    {
     "name": "stdout",
     "output_type": "stream",
     "text": [
      "[\u001b[1mtardis.simulation.base\u001b[0m][\u001b[1;37mINFO\u001b[0m   ]  \n",
      "\t\n",
      "\tLuminosity emitted   = 1.069e+43 erg / s\n",
      "\tLuminosity absorbed  = 2.820e+42 erg / s\n",
      "\tLuminosity requested = 1.059e+43 erg / s\n",
      " (\u001b[1mbase.py\u001b[0m:559)\n"
     ]
    },
    {
     "name": "stderr",
     "output_type": "stream",
     "text": [
      "\u001b[1;37mINFO\u001b[0m:tardis.simulation.base:\n",
      "\tLuminosity emitted   = 1.069e+43 erg / s\n",
      "\tLuminosity absorbed  = 2.820e+42 erg / s\n",
      "\tLuminosity requested = 1.059e+43 erg / s\n",
      "\n"
     ]
    },
    {
     "name": "stdout",
     "output_type": "stream",
     "text": [
      "[\u001b[1mtardis.simulation.base\u001b[0m][\u001b[1;37mINFO\u001b[0m   ]  \n",
      "\t\n",
      "\tPlasma stratification: (\u001b[1mbase.py\u001b[0m:527)\n"
     ]
    },
    {
     "name": "stderr",
     "output_type": "stream",
     "text": [
      "\u001b[1;37mINFO\u001b[0m:tardis.simulation.base:\n",
      "\tPlasma stratification:\n"
     ]
    },
    {
     "data": {
      "text/html": [
       "<style  type=\"text/css\" >\n",
       "</style><table id=\"T_9ca2fc18_c6a0_11ed_ba71_e4434be0643c\" ><thead>    <tr>        <th class=\"index_name level0\" >Shell No.</th>        <th class=\"col_heading level0 col0\" >t_rad</th>        <th class=\"col_heading level0 col1\" >next_t_rad</th>        <th class=\"col_heading level0 col2\" >w</th>        <th class=\"col_heading level0 col3\" >next_w</th>    </tr></thead><tbody>\n",
       "                <tr>\n",
       "                        <th id=\"T_9ca2fc18_c6a0_11ed_ba71_e4434be0643clevel0_row0\" class=\"row_heading level0 row0\" >0</th>\n",
       "                        <td id=\"T_9ca2fc18_c6a0_11ed_ba71_e4434be0643crow0_col0\" class=\"data row0 col0\" >1e+04</td>\n",
       "                        <td id=\"T_9ca2fc18_c6a0_11ed_ba71_e4434be0643crow0_col1\" class=\"data row0 col1\" >1.06e+04</td>\n",
       "                        <td id=\"T_9ca2fc18_c6a0_11ed_ba71_e4434be0643crow0_col2\" class=\"data row0 col2\" >0.508</td>\n",
       "                        <td id=\"T_9ca2fc18_c6a0_11ed_ba71_e4434be0643crow0_col3\" class=\"data row0 col3\" >0.52</td>\n",
       "            </tr>\n",
       "            <tr>\n",
       "                        <th id=\"T_9ca2fc18_c6a0_11ed_ba71_e4434be0643clevel0_row1\" class=\"row_heading level0 row1\" >5</th>\n",
       "                        <td id=\"T_9ca2fc18_c6a0_11ed_ba71_e4434be0643crow1_col0\" class=\"data row1 col0\" >1.01e+04</td>\n",
       "                        <td id=\"T_9ca2fc18_c6a0_11ed_ba71_e4434be0643crow1_col1\" class=\"data row1 col1\" >1.08e+04</td>\n",
       "                        <td id=\"T_9ca2fc18_c6a0_11ed_ba71_e4434be0643crow1_col2\" class=\"data row1 col2\" >0.205</td>\n",
       "                        <td id=\"T_9ca2fc18_c6a0_11ed_ba71_e4434be0643crow1_col3\" class=\"data row1 col3\" >0.204</td>\n",
       "            </tr>\n",
       "            <tr>\n",
       "                        <th id=\"T_9ca2fc18_c6a0_11ed_ba71_e4434be0643clevel0_row2\" class=\"row_heading level0 row2\" >10</th>\n",
       "                        <td id=\"T_9ca2fc18_c6a0_11ed_ba71_e4434be0643crow2_col0\" class=\"data row2 col0\" >1.01e+04</td>\n",
       "                        <td id=\"T_9ca2fc18_c6a0_11ed_ba71_e4434be0643crow2_col1\" class=\"data row2 col1\" >1.06e+04</td>\n",
       "                        <td id=\"T_9ca2fc18_c6a0_11ed_ba71_e4434be0643crow2_col2\" class=\"data row2 col2\" >0.123</td>\n",
       "                        <td id=\"T_9ca2fc18_c6a0_11ed_ba71_e4434be0643crow2_col3\" class=\"data row2 col3\" >0.128</td>\n",
       "            </tr>\n",
       "            <tr>\n",
       "                        <th id=\"T_9ca2fc18_c6a0_11ed_ba71_e4434be0643clevel0_row3\" class=\"row_heading level0 row3\" >15</th>\n",
       "                        <td id=\"T_9ca2fc18_c6a0_11ed_ba71_e4434be0643crow3_col0\" class=\"data row3 col0\" >9.85e+03</td>\n",
       "                        <td id=\"T_9ca2fc18_c6a0_11ed_ba71_e4434be0643crow3_col1\" class=\"data row3 col1\" >1.04e+04</td>\n",
       "                        <td id=\"T_9ca2fc18_c6a0_11ed_ba71_e4434be0643crow3_col2\" class=\"data row3 col2\" >0.091</td>\n",
       "                        <td id=\"T_9ca2fc18_c6a0_11ed_ba71_e4434be0643crow3_col3\" class=\"data row3 col3\" >0.0944</td>\n",
       "            </tr>\n",
       "    </tbody></table>"
      ],
      "text/plain": [
       "<pandas.io.formats.style.Styler at 0x2b089c17d820>"
      ]
     },
     "metadata": {},
     "output_type": "display_data"
    },
    {
     "name": "stdout",
     "output_type": "stream",
     "text": [
      "[\u001b[1mtardis.simulation.base\u001b[0m][\u001b[1;37mINFO\u001b[0m   ]  \n",
      "\t\n",
      "\tCurrent t_inner = 10546.020 K\n",
      "\tExpected t_inner for next iteration = 10521.132 K\n",
      " (\u001b[1mbase.py\u001b[0m:554)\n"
     ]
    },
    {
     "name": "stderr",
     "output_type": "stream",
     "text": [
      "\u001b[1;37mINFO\u001b[0m:tardis.simulation.base:\n",
      "\tCurrent t_inner = 10546.020 K\n",
      "\tExpected t_inner for next iteration = 10521.132 K\n",
      "\n"
     ]
    },
    {
     "name": "stdout",
     "output_type": "stream",
     "text": [
      "[\u001b[1mtardis.simulation.base\u001b[0m][\u001b[1;37mINFO\u001b[0m   ]  \n",
      "\t\n",
      "\tStarting iteration 3 of 20 (\u001b[1mbase.py\u001b[0m:385)\n"
     ]
    },
    {
     "name": "stderr",
     "output_type": "stream",
     "text": [
      "\u001b[1;37mINFO\u001b[0m:tardis.simulation.base:\n",
      "\tStarting iteration 3 of 20\n"
     ]
    },
    {
     "name": "stdout",
     "output_type": "stream",
     "text": [
      "[\u001b[1mtardis.simulation.base\u001b[0m][\u001b[1;37mINFO\u001b[0m   ]  \n",
      "\t\n",
      "\tLuminosity emitted   = 1.075e+43 erg / s\n",
      "\tLuminosity absorbed  = 2.646e+42 erg / s\n",
      "\tLuminosity requested = 1.059e+43 erg / s\n",
      " (\u001b[1mbase.py\u001b[0m:559)\n"
     ]
    },
    {
     "name": "stderr",
     "output_type": "stream",
     "text": [
      "\u001b[1;37mINFO\u001b[0m:tardis.simulation.base:\n",
      "\tLuminosity emitted   = 1.075e+43 erg / s\n",
      "\tLuminosity absorbed  = 2.646e+42 erg / s\n",
      "\tLuminosity requested = 1.059e+43 erg / s\n",
      "\n"
     ]
    },
    {
     "name": "stdout",
     "output_type": "stream",
     "text": [
      "[\u001b[1mtardis.simulation.base\u001b[0m][\u001b[1;37mINFO\u001b[0m   ]  \n",
      "\tIteration converged 1/4 consecutive times. (\u001b[1mbase.py\u001b[0m:266)\n"
     ]
    },
    {
     "name": "stderr",
     "output_type": "stream",
     "text": [
      "\u001b[1;37mINFO\u001b[0m:tardis.simulation.base:Iteration converged 1/4 consecutive times.\n"
     ]
    },
    {
     "name": "stdout",
     "output_type": "stream",
     "text": [
      "[\u001b[1mtardis.simulation.base\u001b[0m][\u001b[1;37mINFO\u001b[0m   ]  \n",
      "\t\n",
      "\tPlasma stratification: (\u001b[1mbase.py\u001b[0m:527)\n"
     ]
    },
    {
     "name": "stderr",
     "output_type": "stream",
     "text": [
      "\u001b[1;37mINFO\u001b[0m:tardis.simulation.base:\n",
      "\tPlasma stratification:\n"
     ]
    },
    {
     "data": {
      "text/html": [
       "<style  type=\"text/css\" >\n",
       "</style><table id=\"T_9e7612f0_c6a0_11ed_ba71_e4434be0643c\" ><thead>    <tr>        <th class=\"index_name level0\" >Shell No.</th>        <th class=\"col_heading level0 col0\" >t_rad</th>        <th class=\"col_heading level0 col1\" >next_t_rad</th>        <th class=\"col_heading level0 col2\" >w</th>        <th class=\"col_heading level0 col3\" >next_w</th>    </tr></thead><tbody>\n",
       "                <tr>\n",
       "                        <th id=\"T_9e7612f0_c6a0_11ed_ba71_e4434be0643clevel0_row0\" class=\"row_heading level0 row0\" >0</th>\n",
       "                        <td id=\"T_9e7612f0_c6a0_11ed_ba71_e4434be0643crow0_col0\" class=\"data row0 col0\" >1.06e+04</td>\n",
       "                        <td id=\"T_9e7612f0_c6a0_11ed_ba71_e4434be0643crow0_col1\" class=\"data row0 col1\" >1.07e+04</td>\n",
       "                        <td id=\"T_9e7612f0_c6a0_11ed_ba71_e4434be0643crow0_col2\" class=\"data row0 col2\" >0.52</td>\n",
       "                        <td id=\"T_9e7612f0_c6a0_11ed_ba71_e4434be0643crow0_col3\" class=\"data row0 col3\" >0.495</td>\n",
       "            </tr>\n",
       "            <tr>\n",
       "                        <th id=\"T_9e7612f0_c6a0_11ed_ba71_e4434be0643clevel0_row1\" class=\"row_heading level0 row1\" >5</th>\n",
       "                        <td id=\"T_9e7612f0_c6a0_11ed_ba71_e4434be0643crow1_col0\" class=\"data row1 col0\" >1.08e+04</td>\n",
       "                        <td id=\"T_9e7612f0_c6a0_11ed_ba71_e4434be0643crow1_col1\" class=\"data row1 col1\" >1.08e+04</td>\n",
       "                        <td id=\"T_9e7612f0_c6a0_11ed_ba71_e4434be0643crow1_col2\" class=\"data row1 col2\" >0.204</td>\n",
       "                        <td id=\"T_9e7612f0_c6a0_11ed_ba71_e4434be0643crow1_col3\" class=\"data row1 col3\" >0.199</td>\n",
       "            </tr>\n",
       "            <tr>\n",
       "                        <th id=\"T_9e7612f0_c6a0_11ed_ba71_e4434be0643clevel0_row2\" class=\"row_heading level0 row2\" >10</th>\n",
       "                        <td id=\"T_9e7612f0_c6a0_11ed_ba71_e4434be0643crow2_col0\" class=\"data row2 col0\" >1.06e+04</td>\n",
       "                        <td id=\"T_9e7612f0_c6a0_11ed_ba71_e4434be0643crow2_col1\" class=\"data row2 col1\" >1.07e+04</td>\n",
       "                        <td id=\"T_9e7612f0_c6a0_11ed_ba71_e4434be0643crow2_col2\" class=\"data row2 col2\" >0.128</td>\n",
       "                        <td id=\"T_9e7612f0_c6a0_11ed_ba71_e4434be0643crow2_col3\" class=\"data row2 col3\" >0.123</td>\n",
       "            </tr>\n",
       "            <tr>\n",
       "                        <th id=\"T_9e7612f0_c6a0_11ed_ba71_e4434be0643clevel0_row3\" class=\"row_heading level0 row3\" >15</th>\n",
       "                        <td id=\"T_9e7612f0_c6a0_11ed_ba71_e4434be0643crow3_col0\" class=\"data row3 col0\" >1.04e+04</td>\n",
       "                        <td id=\"T_9e7612f0_c6a0_11ed_ba71_e4434be0643crow3_col1\" class=\"data row3 col1\" >1.04e+04</td>\n",
       "                        <td id=\"T_9e7612f0_c6a0_11ed_ba71_e4434be0643crow3_col2\" class=\"data row3 col2\" >0.0944</td>\n",
       "                        <td id=\"T_9e7612f0_c6a0_11ed_ba71_e4434be0643crow3_col3\" class=\"data row3 col3\" >0.0941</td>\n",
       "            </tr>\n",
       "    </tbody></table>"
      ],
      "text/plain": [
       "<pandas.io.formats.style.Styler at 0x2b089bc89df0>"
      ]
     },
     "metadata": {},
     "output_type": "display_data"
    },
    {
     "name": "stdout",
     "output_type": "stream",
     "text": [
      "[\u001b[1mtardis.simulation.base\u001b[0m][\u001b[1;37mINFO\u001b[0m   ]  \n",
      "\t\n",
      "\tCurrent t_inner = 10521.132 K\n",
      "\tExpected t_inner for next iteration = 10482.742 K\n",
      " (\u001b[1mbase.py\u001b[0m:554)\n"
     ]
    },
    {
     "name": "stderr",
     "output_type": "stream",
     "text": [
      "\u001b[1;37mINFO\u001b[0m:tardis.simulation.base:\n",
      "\tCurrent t_inner = 10521.132 K\n",
      "\tExpected t_inner for next iteration = 10482.742 K\n",
      "\n"
     ]
    },
    {
     "name": "stdout",
     "output_type": "stream",
     "text": [
      "[\u001b[1mtardis.simulation.base\u001b[0m][\u001b[1;37mINFO\u001b[0m   ]  \n",
      "\t\n",
      "\tStarting iteration 4 of 20 (\u001b[1mbase.py\u001b[0m:385)\n"
     ]
    },
    {
     "name": "stderr",
     "output_type": "stream",
     "text": [
      "\u001b[1;37mINFO\u001b[0m:tardis.simulation.base:\n",
      "\tStarting iteration 4 of 20\n"
     ]
    },
    {
     "name": "stdout",
     "output_type": "stream",
     "text": [
      "[\u001b[1mtardis.simulation.base\u001b[0m][\u001b[1;37mINFO\u001b[0m   ]  \n",
      "\t\n",
      "\tLuminosity emitted   = 1.061e+43 erg / s\n",
      "\tLuminosity absorbed  = 2.594e+42 erg / s\n",
      "\tLuminosity requested = 1.059e+43 erg / s\n",
      " (\u001b[1mbase.py\u001b[0m:559)\n"
     ]
    },
    {
     "name": "stderr",
     "output_type": "stream",
     "text": [
      "\u001b[1;37mINFO\u001b[0m:tardis.simulation.base:\n",
      "\tLuminosity emitted   = 1.061e+43 erg / s\n",
      "\tLuminosity absorbed  = 2.594e+42 erg / s\n",
      "\tLuminosity requested = 1.059e+43 erg / s\n",
      "\n"
     ]
    },
    {
     "name": "stdout",
     "output_type": "stream",
     "text": [
      "[\u001b[1mtardis.simulation.base\u001b[0m][\u001b[1;37mINFO\u001b[0m   ]  \n",
      "\tIteration converged 2/4 consecutive times. (\u001b[1mbase.py\u001b[0m:266)\n"
     ]
    },
    {
     "name": "stderr",
     "output_type": "stream",
     "text": [
      "\u001b[1;37mINFO\u001b[0m:tardis.simulation.base:Iteration converged 2/4 consecutive times.\n"
     ]
    },
    {
     "name": "stdout",
     "output_type": "stream",
     "text": [
      "[\u001b[1mtardis.simulation.base\u001b[0m][\u001b[1;37mINFO\u001b[0m   ]  \n",
      "\t\n",
      "\tPlasma stratification: (\u001b[1mbase.py\u001b[0m:527)\n"
     ]
    },
    {
     "name": "stderr",
     "output_type": "stream",
     "text": [
      "\u001b[1;37mINFO\u001b[0m:tardis.simulation.base:\n",
      "\tPlasma stratification:\n"
     ]
    },
    {
     "data": {
      "text/html": [
       "<style  type=\"text/css\" >\n",
       "</style><table id=\"T_a03bcd78_c6a0_11ed_ba71_e4434be0643c\" ><thead>    <tr>        <th class=\"index_name level0\" >Shell No.</th>        <th class=\"col_heading level0 col0\" >t_rad</th>        <th class=\"col_heading level0 col1\" >next_t_rad</th>        <th class=\"col_heading level0 col2\" >w</th>        <th class=\"col_heading level0 col3\" >next_w</th>    </tr></thead><tbody>\n",
       "                <tr>\n",
       "                        <th id=\"T_a03bcd78_c6a0_11ed_ba71_e4434be0643clevel0_row0\" class=\"row_heading level0 row0\" >0</th>\n",
       "                        <td id=\"T_a03bcd78_c6a0_11ed_ba71_e4434be0643crow0_col0\" class=\"data row0 col0\" >1.07e+04</td>\n",
       "                        <td id=\"T_a03bcd78_c6a0_11ed_ba71_e4434be0643crow0_col1\" class=\"data row0 col1\" >1.07e+04</td>\n",
       "                        <td id=\"T_a03bcd78_c6a0_11ed_ba71_e4434be0643crow0_col2\" class=\"data row0 col2\" >0.495</td>\n",
       "                        <td id=\"T_a03bcd78_c6a0_11ed_ba71_e4434be0643crow0_col3\" class=\"data row0 col3\" >0.481</td>\n",
       "            </tr>\n",
       "            <tr>\n",
       "                        <th id=\"T_a03bcd78_c6a0_11ed_ba71_e4434be0643clevel0_row1\" class=\"row_heading level0 row1\" >5</th>\n",
       "                        <td id=\"T_a03bcd78_c6a0_11ed_ba71_e4434be0643crow1_col0\" class=\"data row1 col0\" >1.08e+04</td>\n",
       "                        <td id=\"T_a03bcd78_c6a0_11ed_ba71_e4434be0643crow1_col1\" class=\"data row1 col1\" >1.07e+04</td>\n",
       "                        <td id=\"T_a03bcd78_c6a0_11ed_ba71_e4434be0643crow1_col2\" class=\"data row1 col2\" >0.199</td>\n",
       "                        <td id=\"T_a03bcd78_c6a0_11ed_ba71_e4434be0643crow1_col3\" class=\"data row1 col3\" >0.201</td>\n",
       "            </tr>\n",
       "            <tr>\n",
       "                        <th id=\"T_a03bcd78_c6a0_11ed_ba71_e4434be0643clevel0_row2\" class=\"row_heading level0 row2\" >10</th>\n",
       "                        <td id=\"T_a03bcd78_c6a0_11ed_ba71_e4434be0643crow2_col0\" class=\"data row2 col0\" >1.07e+04</td>\n",
       "                        <td id=\"T_a03bcd78_c6a0_11ed_ba71_e4434be0643crow2_col1\" class=\"data row2 col1\" >1.06e+04</td>\n",
       "                        <td id=\"T_a03bcd78_c6a0_11ed_ba71_e4434be0643crow2_col2\" class=\"data row2 col2\" >0.123</td>\n",
       "                        <td id=\"T_a03bcd78_c6a0_11ed_ba71_e4434be0643crow2_col3\" class=\"data row2 col3\" >0.127</td>\n",
       "            </tr>\n",
       "            <tr>\n",
       "                        <th id=\"T_a03bcd78_c6a0_11ed_ba71_e4434be0643clevel0_row3\" class=\"row_heading level0 row3\" >15</th>\n",
       "                        <td id=\"T_a03bcd78_c6a0_11ed_ba71_e4434be0643crow3_col0\" class=\"data row3 col0\" >1.04e+04</td>\n",
       "                        <td id=\"T_a03bcd78_c6a0_11ed_ba71_e4434be0643crow3_col1\" class=\"data row3 col1\" >1.04e+04</td>\n",
       "                        <td id=\"T_a03bcd78_c6a0_11ed_ba71_e4434be0643crow3_col2\" class=\"data row3 col2\" >0.0941</td>\n",
       "                        <td id=\"T_a03bcd78_c6a0_11ed_ba71_e4434be0643crow3_col3\" class=\"data row3 col3\" >0.0939</td>\n",
       "            </tr>\n",
       "    </tbody></table>"
      ],
      "text/plain": [
       "<pandas.io.formats.style.Styler at 0x2b08a1a2e040>"
      ]
     },
     "metadata": {},
     "output_type": "display_data"
    },
    {
     "name": "stdout",
     "output_type": "stream",
     "text": [
      "[\u001b[1mtardis.simulation.base\u001b[0m][\u001b[1;37mINFO\u001b[0m   ]  \n",
      "\t\n",
      "\tCurrent t_inner = 10482.742 K\n",
      "\tExpected t_inner for next iteration = 10477.926 K\n",
      " (\u001b[1mbase.py\u001b[0m:554)\n"
     ]
    },
    {
     "name": "stderr",
     "output_type": "stream",
     "text": [
      "\u001b[1;37mINFO\u001b[0m:tardis.simulation.base:\n",
      "\tCurrent t_inner = 10482.742 K\n",
      "\tExpected t_inner for next iteration = 10477.926 K\n",
      "\n"
     ]
    },
    {
     "name": "stdout",
     "output_type": "stream",
     "text": [
      "[\u001b[1mtardis.simulation.base\u001b[0m][\u001b[1;37mINFO\u001b[0m   ]  \n",
      "\t\n",
      "\tStarting iteration 5 of 20 (\u001b[1mbase.py\u001b[0m:385)\n"
     ]
    },
    {
     "name": "stderr",
     "output_type": "stream",
     "text": [
      "\u001b[1;37mINFO\u001b[0m:tardis.simulation.base:\n",
      "\tStarting iteration 5 of 20\n"
     ]
    },
    {
     "name": "stdout",
     "output_type": "stream",
     "text": [
      "[\u001b[1mtardis.simulation.base\u001b[0m][\u001b[1;37mINFO\u001b[0m   ]  \n",
      "\t\n",
      "\tLuminosity emitted   = 1.054e+43 erg / s\n",
      "\tLuminosity absorbed  = 2.634e+42 erg / s\n",
      "\tLuminosity requested = 1.059e+43 erg / s\n",
      " (\u001b[1mbase.py\u001b[0m:559)\n"
     ]
    },
    {
     "name": "stderr",
     "output_type": "stream",
     "text": [
      "\u001b[1;37mINFO\u001b[0m:tardis.simulation.base:\n",
      "\tLuminosity emitted   = 1.054e+43 erg / s\n",
      "\tLuminosity absorbed  = 2.634e+42 erg / s\n",
      "\tLuminosity requested = 1.059e+43 erg / s\n",
      "\n"
     ]
    },
    {
     "name": "stdout",
     "output_type": "stream",
     "text": [
      "[\u001b[1mtardis.simulation.base\u001b[0m][\u001b[1;37mINFO\u001b[0m   ]  \n",
      "\tIteration converged 3/4 consecutive times. (\u001b[1mbase.py\u001b[0m:266)\n"
     ]
    },
    {
     "name": "stderr",
     "output_type": "stream",
     "text": [
      "\u001b[1;37mINFO\u001b[0m:tardis.simulation.base:Iteration converged 3/4 consecutive times.\n"
     ]
    },
    {
     "name": "stdout",
     "output_type": "stream",
     "text": [
      "[\u001b[1mtardis.simulation.base\u001b[0m][\u001b[1;37mINFO\u001b[0m   ]  \n",
      "\t\n",
      "\tPlasma stratification: (\u001b[1mbase.py\u001b[0m:527)\n"
     ]
    },
    {
     "name": "stderr",
     "output_type": "stream",
     "text": [
      "\u001b[1;37mINFO\u001b[0m:tardis.simulation.base:\n",
      "\tPlasma stratification:\n"
     ]
    },
    {
     "data": {
      "text/html": [
       "<style  type=\"text/css\" >\n",
       "</style><table id=\"T_a1ff7b28_c6a0_11ed_ba71_e4434be0643c\" ><thead>    <tr>        <th class=\"index_name level0\" >Shell No.</th>        <th class=\"col_heading level0 col0\" >t_rad</th>        <th class=\"col_heading level0 col1\" >next_t_rad</th>        <th class=\"col_heading level0 col2\" >w</th>        <th class=\"col_heading level0 col3\" >next_w</th>    </tr></thead><tbody>\n",
       "                <tr>\n",
       "                        <th id=\"T_a1ff7b28_c6a0_11ed_ba71_e4434be0643clevel0_row0\" class=\"row_heading level0 row0\" >0</th>\n",
       "                        <td id=\"T_a1ff7b28_c6a0_11ed_ba71_e4434be0643crow0_col0\" class=\"data row0 col0\" >1.07e+04</td>\n",
       "                        <td id=\"T_a1ff7b28_c6a0_11ed_ba71_e4434be0643crow0_col1\" class=\"data row0 col1\" >1.06e+04</td>\n",
       "                        <td id=\"T_a1ff7b28_c6a0_11ed_ba71_e4434be0643crow0_col2\" class=\"data row0 col2\" >0.481</td>\n",
       "                        <td id=\"T_a1ff7b28_c6a0_11ed_ba71_e4434be0643crow0_col3\" class=\"data row0 col3\" >0.491</td>\n",
       "            </tr>\n",
       "            <tr>\n",
       "                        <th id=\"T_a1ff7b28_c6a0_11ed_ba71_e4434be0643clevel0_row1\" class=\"row_heading level0 row1\" >5</th>\n",
       "                        <td id=\"T_a1ff7b28_c6a0_11ed_ba71_e4434be0643crow1_col0\" class=\"data row1 col0\" >1.07e+04</td>\n",
       "                        <td id=\"T_a1ff7b28_c6a0_11ed_ba71_e4434be0643crow1_col1\" class=\"data row1 col1\" >1.07e+04</td>\n",
       "                        <td id=\"T_a1ff7b28_c6a0_11ed_ba71_e4434be0643crow1_col2\" class=\"data row1 col2\" >0.201</td>\n",
       "                        <td id=\"T_a1ff7b28_c6a0_11ed_ba71_e4434be0643crow1_col3\" class=\"data row1 col3\" >0.201</td>\n",
       "            </tr>\n",
       "            <tr>\n",
       "                        <th id=\"T_a1ff7b28_c6a0_11ed_ba71_e4434be0643clevel0_row2\" class=\"row_heading level0 row2\" >10</th>\n",
       "                        <td id=\"T_a1ff7b28_c6a0_11ed_ba71_e4434be0643crow2_col0\" class=\"data row2 col0\" >1.06e+04</td>\n",
       "                        <td id=\"T_a1ff7b28_c6a0_11ed_ba71_e4434be0643crow2_col1\" class=\"data row2 col1\" >1.06e+04</td>\n",
       "                        <td id=\"T_a1ff7b28_c6a0_11ed_ba71_e4434be0643crow2_col2\" class=\"data row2 col2\" >0.127</td>\n",
       "                        <td id=\"T_a1ff7b28_c6a0_11ed_ba71_e4434be0643crow2_col3\" class=\"data row2 col3\" >0.125</td>\n",
       "            </tr>\n",
       "            <tr>\n",
       "                        <th id=\"T_a1ff7b28_c6a0_11ed_ba71_e4434be0643clevel0_row3\" class=\"row_heading level0 row3\" >15</th>\n",
       "                        <td id=\"T_a1ff7b28_c6a0_11ed_ba71_e4434be0643crow3_col0\" class=\"data row3 col0\" >1.04e+04</td>\n",
       "                        <td id=\"T_a1ff7b28_c6a0_11ed_ba71_e4434be0643crow3_col1\" class=\"data row3 col1\" >1.04e+04</td>\n",
       "                        <td id=\"T_a1ff7b28_c6a0_11ed_ba71_e4434be0643crow3_col2\" class=\"data row3 col2\" >0.0939</td>\n",
       "                        <td id=\"T_a1ff7b28_c6a0_11ed_ba71_e4434be0643crow3_col3\" class=\"data row3 col3\" >0.0925</td>\n",
       "            </tr>\n",
       "    </tbody></table>"
      ],
      "text/plain": [
       "<pandas.io.formats.style.Styler at 0x2b089d0b1250>"
      ]
     },
     "metadata": {},
     "output_type": "display_data"
    },
    {
     "name": "stdout",
     "output_type": "stream",
     "text": [
      "[\u001b[1mtardis.simulation.base\u001b[0m][\u001b[1;37mINFO\u001b[0m   ]  \n",
      "\t\n",
      "\tCurrent t_inner = 10477.926 K\n",
      "\tExpected t_inner for next iteration = 10490.087 K\n",
      " (\u001b[1mbase.py\u001b[0m:554)\n"
     ]
    },
    {
     "name": "stderr",
     "output_type": "stream",
     "text": [
      "\u001b[1;37mINFO\u001b[0m:tardis.simulation.base:\n",
      "\tCurrent t_inner = 10477.926 K\n",
      "\tExpected t_inner for next iteration = 10490.087 K\n",
      "\n"
     ]
    },
    {
     "name": "stdout",
     "output_type": "stream",
     "text": [
      "[\u001b[1mtardis.simulation.base\u001b[0m][\u001b[1;37mINFO\u001b[0m   ]  \n",
      "\t\n",
      "\tStarting iteration 6 of 20 (\u001b[1mbase.py\u001b[0m:385)\n"
     ]
    },
    {
     "name": "stderr",
     "output_type": "stream",
     "text": [
      "\u001b[1;37mINFO\u001b[0m:tardis.simulation.base:\n",
      "\tStarting iteration 6 of 20\n"
     ]
    },
    {
     "name": "stdout",
     "output_type": "stream",
     "text": [
      "[\u001b[1mtardis.simulation.base\u001b[0m][\u001b[1;37mINFO\u001b[0m   ]  \n",
      "\t\n",
      "\tLuminosity emitted   = 1.064e+43 erg / s\n",
      "\tLuminosity absorbed  = 2.603e+42 erg / s\n",
      "\tLuminosity requested = 1.059e+43 erg / s\n",
      " (\u001b[1mbase.py\u001b[0m:559)\n"
     ]
    },
    {
     "name": "stderr",
     "output_type": "stream",
     "text": [
      "\u001b[1;37mINFO\u001b[0m:tardis.simulation.base:\n",
      "\tLuminosity emitted   = 1.064e+43 erg / s\n",
      "\tLuminosity absorbed  = 2.603e+42 erg / s\n",
      "\tLuminosity requested = 1.059e+43 erg / s\n",
      "\n"
     ]
    },
    {
     "name": "stdout",
     "output_type": "stream",
     "text": [
      "[\u001b[1mtardis.simulation.base\u001b[0m][\u001b[1;37mINFO\u001b[0m   ]  \n",
      "\tIteration converged 4/4 consecutive times. (\u001b[1mbase.py\u001b[0m:266)\n"
     ]
    },
    {
     "name": "stderr",
     "output_type": "stream",
     "text": [
      "\u001b[1;37mINFO\u001b[0m:tardis.simulation.base:Iteration converged 4/4 consecutive times.\n"
     ]
    },
    {
     "name": "stdout",
     "output_type": "stream",
     "text": [
      "[\u001b[1mtardis.simulation.base\u001b[0m][\u001b[1;37mINFO\u001b[0m   ]  \n",
      "\t\n",
      "\tPlasma stratification: (\u001b[1mbase.py\u001b[0m:527)\n"
     ]
    },
    {
     "name": "stderr",
     "output_type": "stream",
     "text": [
      "\u001b[1;37mINFO\u001b[0m:tardis.simulation.base:\n",
      "\tPlasma stratification:\n"
     ]
    },
    {
     "data": {
      "text/html": [
       "<style  type=\"text/css\" >\n",
       "</style><table id=\"T_a3c86eec_c6a0_11ed_ba71_e4434be0643c\" ><thead>    <tr>        <th class=\"index_name level0\" >Shell No.</th>        <th class=\"col_heading level0 col0\" >t_rad</th>        <th class=\"col_heading level0 col1\" >next_t_rad</th>        <th class=\"col_heading level0 col2\" >w</th>        <th class=\"col_heading level0 col3\" >next_w</th>    </tr></thead><tbody>\n",
       "                <tr>\n",
       "                        <th id=\"T_a3c86eec_c6a0_11ed_ba71_e4434be0643clevel0_row0\" class=\"row_heading level0 row0\" >0</th>\n",
       "                        <td id=\"T_a3c86eec_c6a0_11ed_ba71_e4434be0643crow0_col0\" class=\"data row0 col0\" >1.06e+04</td>\n",
       "                        <td id=\"T_a3c86eec_c6a0_11ed_ba71_e4434be0643crow0_col1\" class=\"data row0 col1\" >1.07e+04</td>\n",
       "                        <td id=\"T_a3c86eec_c6a0_11ed_ba71_e4434be0643crow0_col2\" class=\"data row0 col2\" >0.491</td>\n",
       "                        <td id=\"T_a3c86eec_c6a0_11ed_ba71_e4434be0643crow0_col3\" class=\"data row0 col3\" >0.491</td>\n",
       "            </tr>\n",
       "            <tr>\n",
       "                        <th id=\"T_a3c86eec_c6a0_11ed_ba71_e4434be0643clevel0_row1\" class=\"row_heading level0 row1\" >5</th>\n",
       "                        <td id=\"T_a3c86eec_c6a0_11ed_ba71_e4434be0643crow1_col0\" class=\"data row1 col0\" >1.07e+04</td>\n",
       "                        <td id=\"T_a3c86eec_c6a0_11ed_ba71_e4434be0643crow1_col1\" class=\"data row1 col1\" >1.08e+04</td>\n",
       "                        <td id=\"T_a3c86eec_c6a0_11ed_ba71_e4434be0643crow1_col2\" class=\"data row1 col2\" >0.201</td>\n",
       "                        <td id=\"T_a3c86eec_c6a0_11ed_ba71_e4434be0643crow1_col3\" class=\"data row1 col3\" >0.2</td>\n",
       "            </tr>\n",
       "            <tr>\n",
       "                        <th id=\"T_a3c86eec_c6a0_11ed_ba71_e4434be0643clevel0_row2\" class=\"row_heading level0 row2\" >10</th>\n",
       "                        <td id=\"T_a3c86eec_c6a0_11ed_ba71_e4434be0643crow2_col0\" class=\"data row2 col0\" >1.06e+04</td>\n",
       "                        <td id=\"T_a3c86eec_c6a0_11ed_ba71_e4434be0643crow2_col1\" class=\"data row2 col1\" >1.07e+04</td>\n",
       "                        <td id=\"T_a3c86eec_c6a0_11ed_ba71_e4434be0643crow2_col2\" class=\"data row2 col2\" >0.125</td>\n",
       "                        <td id=\"T_a3c86eec_c6a0_11ed_ba71_e4434be0643crow2_col3\" class=\"data row2 col3\" >0.123</td>\n",
       "            </tr>\n",
       "            <tr>\n",
       "                        <th id=\"T_a3c86eec_c6a0_11ed_ba71_e4434be0643clevel0_row3\" class=\"row_heading level0 row3\" >15</th>\n",
       "                        <td id=\"T_a3c86eec_c6a0_11ed_ba71_e4434be0643crow3_col0\" class=\"data row3 col0\" >1.04e+04</td>\n",
       "                        <td id=\"T_a3c86eec_c6a0_11ed_ba71_e4434be0643crow3_col1\" class=\"data row3 col1\" >1.04e+04</td>\n",
       "                        <td id=\"T_a3c86eec_c6a0_11ed_ba71_e4434be0643crow3_col2\" class=\"data row3 col2\" >0.0925</td>\n",
       "                        <td id=\"T_a3c86eec_c6a0_11ed_ba71_e4434be0643crow3_col3\" class=\"data row3 col3\" >0.0931</td>\n",
       "            </tr>\n",
       "    </tbody></table>"
      ],
      "text/plain": [
       "<pandas.io.formats.style.Styler at 0x2b08a0d2fdf0>"
      ]
     },
     "metadata": {},
     "output_type": "display_data"
    },
    {
     "name": "stdout",
     "output_type": "stream",
     "text": [
      "[\u001b[1mtardis.simulation.base\u001b[0m][\u001b[1;37mINFO\u001b[0m   ]  \n",
      "\t\n",
      "\tCurrent t_inner = 10490.087 K\n",
      "\tExpected t_inner for next iteration = 10479.597 K\n",
      " (\u001b[1mbase.py\u001b[0m:554)\n"
     ]
    },
    {
     "name": "stderr",
     "output_type": "stream",
     "text": [
      "\u001b[1;37mINFO\u001b[0m:tardis.simulation.base:\n",
      "\tCurrent t_inner = 10490.087 K\n",
      "\tExpected t_inner for next iteration = 10479.597 K\n",
      "\n"
     ]
    },
    {
     "name": "stdout",
     "output_type": "stream",
     "text": [
      "[\u001b[1mtardis.simulation.base\u001b[0m][\u001b[1;37mINFO\u001b[0m   ]  \n",
      "\t\n",
      "\tStarting iteration 7 of 20 (\u001b[1mbase.py\u001b[0m:385)\n"
     ]
    },
    {
     "name": "stderr",
     "output_type": "stream",
     "text": [
      "\u001b[1;37mINFO\u001b[0m:tardis.simulation.base:\n",
      "\tStarting iteration 7 of 20\n"
     ]
    },
    {
     "name": "stdout",
     "output_type": "stream",
     "text": [
      "[\u001b[1mtardis.simulation.base\u001b[0m][\u001b[1;37mINFO\u001b[0m   ]  \n",
      "\t\n",
      "\tLuminosity emitted   = 1.057e+43 erg / s\n",
      "\tLuminosity absorbed  = 2.619e+42 erg / s\n",
      "\tLuminosity requested = 1.059e+43 erg / s\n",
      " (\u001b[1mbase.py\u001b[0m:559)\n"
     ]
    },
    {
     "name": "stderr",
     "output_type": "stream",
     "text": [
      "\u001b[1;37mINFO\u001b[0m:tardis.simulation.base:\n",
      "\tLuminosity emitted   = 1.057e+43 erg / s\n",
      "\tLuminosity absorbed  = 2.619e+42 erg / s\n",
      "\tLuminosity requested = 1.059e+43 erg / s\n",
      "\n"
     ]
    },
    {
     "name": "stdout",
     "output_type": "stream",
     "text": [
      "[\u001b[1mtardis.simulation.base\u001b[0m][\u001b[1;37mINFO\u001b[0m   ]  \n",
      "\tIteration converged 5/4 consecutive times. (\u001b[1mbase.py\u001b[0m:266)\n"
     ]
    },
    {
     "name": "stderr",
     "output_type": "stream",
     "text": [
      "\u001b[1;37mINFO\u001b[0m:tardis.simulation.base:Iteration converged 5/4 consecutive times.\n"
     ]
    },
    {
     "name": "stdout",
     "output_type": "stream",
     "text": [
      "[\u001b[1mtardis.simulation.base\u001b[0m][\u001b[1;37mINFO\u001b[0m   ]  \n",
      "\t\n",
      "\tPlasma stratification: (\u001b[1mbase.py\u001b[0m:527)\n"
     ]
    },
    {
     "name": "stderr",
     "output_type": "stream",
     "text": [
      "\u001b[1;37mINFO\u001b[0m:tardis.simulation.base:\n",
      "\tPlasma stratification:\n"
     ]
    },
    {
     "data": {
      "text/html": [
       "<style  type=\"text/css\" >\n",
       "</style><table id=\"T_a59acff8_c6a0_11ed_ba71_e4434be0643c\" ><thead>    <tr>        <th class=\"index_name level0\" >Shell No.</th>        <th class=\"col_heading level0 col0\" >t_rad</th>        <th class=\"col_heading level0 col1\" >next_t_rad</th>        <th class=\"col_heading level0 col2\" >w</th>        <th class=\"col_heading level0 col3\" >next_w</th>    </tr></thead><tbody>\n",
       "                <tr>\n",
       "                        <th id=\"T_a59acff8_c6a0_11ed_ba71_e4434be0643clevel0_row0\" class=\"row_heading level0 row0\" >0</th>\n",
       "                        <td id=\"T_a59acff8_c6a0_11ed_ba71_e4434be0643crow0_col0\" class=\"data row0 col0\" >1.07e+04</td>\n",
       "                        <td id=\"T_a59acff8_c6a0_11ed_ba71_e4434be0643crow0_col1\" class=\"data row0 col1\" >1.06e+04</td>\n",
       "                        <td id=\"T_a59acff8_c6a0_11ed_ba71_e4434be0643crow0_col2\" class=\"data row0 col2\" >0.491</td>\n",
       "                        <td id=\"T_a59acff8_c6a0_11ed_ba71_e4434be0643crow0_col3\" class=\"data row0 col3\" >0.489</td>\n",
       "            </tr>\n",
       "            <tr>\n",
       "                        <th id=\"T_a59acff8_c6a0_11ed_ba71_e4434be0643clevel0_row1\" class=\"row_heading level0 row1\" >5</th>\n",
       "                        <td id=\"T_a59acff8_c6a0_11ed_ba71_e4434be0643crow1_col0\" class=\"data row1 col0\" >1.08e+04</td>\n",
       "                        <td id=\"T_a59acff8_c6a0_11ed_ba71_e4434be0643crow1_col1\" class=\"data row1 col1\" >1.09e+04</td>\n",
       "                        <td id=\"T_a59acff8_c6a0_11ed_ba71_e4434be0643crow1_col2\" class=\"data row1 col2\" >0.2</td>\n",
       "                        <td id=\"T_a59acff8_c6a0_11ed_ba71_e4434be0643crow1_col3\" class=\"data row1 col3\" >0.194</td>\n",
       "            </tr>\n",
       "            <tr>\n",
       "                        <th id=\"T_a59acff8_c6a0_11ed_ba71_e4434be0643clevel0_row2\" class=\"row_heading level0 row2\" >10</th>\n",
       "                        <td id=\"T_a59acff8_c6a0_11ed_ba71_e4434be0643crow2_col0\" class=\"data row2 col0\" >1.07e+04</td>\n",
       "                        <td id=\"T_a59acff8_c6a0_11ed_ba71_e4434be0643crow2_col1\" class=\"data row2 col1\" >1.06e+04</td>\n",
       "                        <td id=\"T_a59acff8_c6a0_11ed_ba71_e4434be0643crow2_col2\" class=\"data row2 col2\" >0.123</td>\n",
       "                        <td id=\"T_a59acff8_c6a0_11ed_ba71_e4434be0643crow2_col3\" class=\"data row2 col3\" >0.125</td>\n",
       "            </tr>\n",
       "            <tr>\n",
       "                        <th id=\"T_a59acff8_c6a0_11ed_ba71_e4434be0643clevel0_row3\" class=\"row_heading level0 row3\" >15</th>\n",
       "                        <td id=\"T_a59acff8_c6a0_11ed_ba71_e4434be0643crow3_col0\" class=\"data row3 col0\" >1.04e+04</td>\n",
       "                        <td id=\"T_a59acff8_c6a0_11ed_ba71_e4434be0643crow3_col1\" class=\"data row3 col1\" >1.03e+04</td>\n",
       "                        <td id=\"T_a59acff8_c6a0_11ed_ba71_e4434be0643crow3_col2\" class=\"data row3 col2\" >0.0931</td>\n",
       "                        <td id=\"T_a59acff8_c6a0_11ed_ba71_e4434be0643crow3_col3\" class=\"data row3 col3\" >0.0941</td>\n",
       "            </tr>\n",
       "    </tbody></table>"
      ],
      "text/plain": [
       "<pandas.io.formats.style.Styler at 0x2b089b37c670>"
      ]
     },
     "metadata": {},
     "output_type": "display_data"
    },
    {
     "name": "stdout",
     "output_type": "stream",
     "text": [
      "[\u001b[1mtardis.simulation.base\u001b[0m][\u001b[1;37mINFO\u001b[0m   ]  \n",
      "\t\n",
      "\tCurrent t_inner = 10479.597 K\n",
      "\tExpected t_inner for next iteration = 10485.276 K\n",
      " (\u001b[1mbase.py\u001b[0m:554)\n"
     ]
    },
    {
     "name": "stderr",
     "output_type": "stream",
     "text": [
      "\u001b[1;37mINFO\u001b[0m:tardis.simulation.base:\n",
      "\tCurrent t_inner = 10479.597 K\n",
      "\tExpected t_inner for next iteration = 10485.276 K\n",
      "\n"
     ]
    },
    {
     "name": "stdout",
     "output_type": "stream",
     "text": [
      "[\u001b[1mtardis.simulation.base\u001b[0m][\u001b[1;37mINFO\u001b[0m   ]  \n",
      "\t\n",
      "\tStarting iteration 8 of 20 (\u001b[1mbase.py\u001b[0m:385)\n"
     ]
    },
    {
     "name": "stderr",
     "output_type": "stream",
     "text": [
      "\u001b[1;37mINFO\u001b[0m:tardis.simulation.base:\n",
      "\tStarting iteration 8 of 20\n"
     ]
    },
    {
     "name": "stdout",
     "output_type": "stream",
     "text": [
      "[\u001b[1mtardis.simulation.base\u001b[0m][\u001b[1;37mINFO\u001b[0m   ]  \n",
      "\t\n",
      "\tLuminosity emitted   = 1.061e+43 erg / s\n",
      "\tLuminosity absorbed  = 2.607e+42 erg / s\n",
      "\tLuminosity requested = 1.059e+43 erg / s\n",
      " (\u001b[1mbase.py\u001b[0m:559)\n"
     ]
    },
    {
     "name": "stderr",
     "output_type": "stream",
     "text": [
      "\u001b[1;37mINFO\u001b[0m:tardis.simulation.base:\n",
      "\tLuminosity emitted   = 1.061e+43 erg / s\n",
      "\tLuminosity absorbed  = 2.607e+42 erg / s\n",
      "\tLuminosity requested = 1.059e+43 erg / s\n",
      "\n"
     ]
    },
    {
     "name": "stdout",
     "output_type": "stream",
     "text": [
      "[\u001b[1mtardis.simulation.base\u001b[0m][\u001b[1;37mINFO\u001b[0m   ]  \n",
      "\tIteration converged 6/4 consecutive times. (\u001b[1mbase.py\u001b[0m:266)\n"
     ]
    },
    {
     "name": "stderr",
     "output_type": "stream",
     "text": [
      "\u001b[1;37mINFO\u001b[0m:tardis.simulation.base:Iteration converged 6/4 consecutive times.\n"
     ]
    },
    {
     "name": "stdout",
     "output_type": "stream",
     "text": [
      "[\u001b[1mtardis.simulation.base\u001b[0m][\u001b[1;37mINFO\u001b[0m   ]  \n",
      "\t\n",
      "\tPlasma stratification: (\u001b[1mbase.py\u001b[0m:527)\n"
     ]
    },
    {
     "name": "stderr",
     "output_type": "stream",
     "text": [
      "\u001b[1;37mINFO\u001b[0m:tardis.simulation.base:\n",
      "\tPlasma stratification:\n"
     ]
    },
    {
     "data": {
      "text/html": [
       "<style  type=\"text/css\" >\n",
       "</style><table id=\"T_a7769794_c6a0_11ed_ba71_e4434be0643c\" ><thead>    <tr>        <th class=\"index_name level0\" >Shell No.</th>        <th class=\"col_heading level0 col0\" >t_rad</th>        <th class=\"col_heading level0 col1\" >next_t_rad</th>        <th class=\"col_heading level0 col2\" >w</th>        <th class=\"col_heading level0 col3\" >next_w</th>    </tr></thead><tbody>\n",
       "                <tr>\n",
       "                        <th id=\"T_a7769794_c6a0_11ed_ba71_e4434be0643clevel0_row0\" class=\"row_heading level0 row0\" >0</th>\n",
       "                        <td id=\"T_a7769794_c6a0_11ed_ba71_e4434be0643crow0_col0\" class=\"data row0 col0\" >1.06e+04</td>\n",
       "                        <td id=\"T_a7769794_c6a0_11ed_ba71_e4434be0643crow0_col1\" class=\"data row0 col1\" >1.07e+04</td>\n",
       "                        <td id=\"T_a7769794_c6a0_11ed_ba71_e4434be0643crow0_col2\" class=\"data row0 col2\" >0.489</td>\n",
       "                        <td id=\"T_a7769794_c6a0_11ed_ba71_e4434be0643crow0_col3\" class=\"data row0 col3\" >0.489</td>\n",
       "            </tr>\n",
       "            <tr>\n",
       "                        <th id=\"T_a7769794_c6a0_11ed_ba71_e4434be0643clevel0_row1\" class=\"row_heading level0 row1\" >5</th>\n",
       "                        <td id=\"T_a7769794_c6a0_11ed_ba71_e4434be0643crow1_col0\" class=\"data row1 col0\" >1.09e+04</td>\n",
       "                        <td id=\"T_a7769794_c6a0_11ed_ba71_e4434be0643crow1_col1\" class=\"data row1 col1\" >1.08e+04</td>\n",
       "                        <td id=\"T_a7769794_c6a0_11ed_ba71_e4434be0643crow1_col2\" class=\"data row1 col2\" >0.194</td>\n",
       "                        <td id=\"T_a7769794_c6a0_11ed_ba71_e4434be0643crow1_col3\" class=\"data row1 col3\" >0.198</td>\n",
       "            </tr>\n",
       "            <tr>\n",
       "                        <th id=\"T_a7769794_c6a0_11ed_ba71_e4434be0643clevel0_row2\" class=\"row_heading level0 row2\" >10</th>\n",
       "                        <td id=\"T_a7769794_c6a0_11ed_ba71_e4434be0643crow2_col0\" class=\"data row2 col0\" >1.06e+04</td>\n",
       "                        <td id=\"T_a7769794_c6a0_11ed_ba71_e4434be0643crow2_col1\" class=\"data row2 col1\" >1.07e+04</td>\n",
       "                        <td id=\"T_a7769794_c6a0_11ed_ba71_e4434be0643crow2_col2\" class=\"data row2 col2\" >0.125</td>\n",
       "                        <td id=\"T_a7769794_c6a0_11ed_ba71_e4434be0643crow2_col3\" class=\"data row2 col3\" >0.124</td>\n",
       "            </tr>\n",
       "            <tr>\n",
       "                        <th id=\"T_a7769794_c6a0_11ed_ba71_e4434be0643clevel0_row3\" class=\"row_heading level0 row3\" >15</th>\n",
       "                        <td id=\"T_a7769794_c6a0_11ed_ba71_e4434be0643crow3_col0\" class=\"data row3 col0\" >1.03e+04</td>\n",
       "                        <td id=\"T_a7769794_c6a0_11ed_ba71_e4434be0643crow3_col1\" class=\"data row3 col1\" >1.04e+04</td>\n",
       "                        <td id=\"T_a7769794_c6a0_11ed_ba71_e4434be0643crow3_col2\" class=\"data row3 col2\" >0.0941</td>\n",
       "                        <td id=\"T_a7769794_c6a0_11ed_ba71_e4434be0643crow3_col3\" class=\"data row3 col3\" >0.0921</td>\n",
       "            </tr>\n",
       "    </tbody></table>"
      ],
      "text/plain": [
       "<pandas.io.formats.style.Styler at 0x2b08a1a1f0d0>"
      ]
     },
     "metadata": {},
     "output_type": "display_data"
    },
    {
     "name": "stdout",
     "output_type": "stream",
     "text": [
      "[\u001b[1mtardis.simulation.base\u001b[0m][\u001b[1;37mINFO\u001b[0m   ]  \n",
      "\t\n",
      "\tCurrent t_inner = 10485.276 K\n",
      "\tExpected t_inner for next iteration = 10481.372 K\n",
      " (\u001b[1mbase.py\u001b[0m:554)\n"
     ]
    },
    {
     "name": "stderr",
     "output_type": "stream",
     "text": [
      "\u001b[1;37mINFO\u001b[0m:tardis.simulation.base:\n",
      "\tCurrent t_inner = 10485.276 K\n",
      "\tExpected t_inner for next iteration = 10481.372 K\n",
      "\n"
     ]
    },
    {
     "name": "stdout",
     "output_type": "stream",
     "text": [
      "[\u001b[1mtardis.simulation.base\u001b[0m][\u001b[1;37mINFO\u001b[0m   ]  \n",
      "\t\n",
      "\tStarting iteration 9 of 20 (\u001b[1mbase.py\u001b[0m:385)\n"
     ]
    },
    {
     "name": "stderr",
     "output_type": "stream",
     "text": [
      "\u001b[1;37mINFO\u001b[0m:tardis.simulation.base:\n",
      "\tStarting iteration 9 of 20\n"
     ]
    },
    {
     "name": "stdout",
     "output_type": "stream",
     "text": [
      "[\u001b[1mtardis.simulation.base\u001b[0m][\u001b[1;37mINFO\u001b[0m   ]  \n",
      "\t\n",
      "\tLuminosity emitted   = 1.055e+43 erg / s\n",
      "\tLuminosity absorbed  = 2.645e+42 erg / s\n",
      "\tLuminosity requested = 1.059e+43 erg / s\n",
      " (\u001b[1mbase.py\u001b[0m:559)\n"
     ]
    },
    {
     "name": "stderr",
     "output_type": "stream",
     "text": [
      "\u001b[1;37mINFO\u001b[0m:tardis.simulation.base:\n",
      "\tLuminosity emitted   = 1.055e+43 erg / s\n",
      "\tLuminosity absorbed  = 2.645e+42 erg / s\n",
      "\tLuminosity requested = 1.059e+43 erg / s\n",
      "\n"
     ]
    },
    {
     "name": "stdout",
     "output_type": "stream",
     "text": [
      "[\u001b[1mtardis.simulation.base\u001b[0m][\u001b[1;37mINFO\u001b[0m   ]  \n",
      "\tIteration converged 7/4 consecutive times. (\u001b[1mbase.py\u001b[0m:266)\n"
     ]
    },
    {
     "name": "stderr",
     "output_type": "stream",
     "text": [
      "\u001b[1;37mINFO\u001b[0m:tardis.simulation.base:Iteration converged 7/4 consecutive times.\n"
     ]
    },
    {
     "name": "stdout",
     "output_type": "stream",
     "text": [
      "[\u001b[1mtardis.simulation.base\u001b[0m][\u001b[1;37mINFO\u001b[0m   ]  \n",
      "\t\n",
      "\tPlasma stratification: (\u001b[1mbase.py\u001b[0m:527)\n"
     ]
    },
    {
     "name": "stderr",
     "output_type": "stream",
     "text": [
      "\u001b[1;37mINFO\u001b[0m:tardis.simulation.base:\n",
      "\tPlasma stratification:\n"
     ]
    },
    {
     "data": {
      "text/html": [
       "<style  type=\"text/css\" >\n",
       "</style><table id=\"T_a93d2764_c6a0_11ed_ba71_e4434be0643c\" ><thead>    <tr>        <th class=\"index_name level0\" >Shell No.</th>        <th class=\"col_heading level0 col0\" >t_rad</th>        <th class=\"col_heading level0 col1\" >next_t_rad</th>        <th class=\"col_heading level0 col2\" >w</th>        <th class=\"col_heading level0 col3\" >next_w</th>    </tr></thead><tbody>\n",
       "                <tr>\n",
       "                        <th id=\"T_a93d2764_c6a0_11ed_ba71_e4434be0643clevel0_row0\" class=\"row_heading level0 row0\" >0</th>\n",
       "                        <td id=\"T_a93d2764_c6a0_11ed_ba71_e4434be0643crow0_col0\" class=\"data row0 col0\" >1.07e+04</td>\n",
       "                        <td id=\"T_a93d2764_c6a0_11ed_ba71_e4434be0643crow0_col1\" class=\"data row0 col1\" >1.06e+04</td>\n",
       "                        <td id=\"T_a93d2764_c6a0_11ed_ba71_e4434be0643crow0_col2\" class=\"data row0 col2\" >0.489</td>\n",
       "                        <td id=\"T_a93d2764_c6a0_11ed_ba71_e4434be0643crow0_col3\" class=\"data row0 col3\" >0.492</td>\n",
       "            </tr>\n",
       "            <tr>\n",
       "                        <th id=\"T_a93d2764_c6a0_11ed_ba71_e4434be0643clevel0_row1\" class=\"row_heading level0 row1\" >5</th>\n",
       "                        <td id=\"T_a93d2764_c6a0_11ed_ba71_e4434be0643crow1_col0\" class=\"data row1 col0\" >1.08e+04</td>\n",
       "                        <td id=\"T_a93d2764_c6a0_11ed_ba71_e4434be0643crow1_col1\" class=\"data row1 col1\" >1.08e+04</td>\n",
       "                        <td id=\"T_a93d2764_c6a0_11ed_ba71_e4434be0643crow1_col2\" class=\"data row1 col2\" >0.198</td>\n",
       "                        <td id=\"T_a93d2764_c6a0_11ed_ba71_e4434be0643crow1_col3\" class=\"data row1 col3\" >0.195</td>\n",
       "            </tr>\n",
       "            <tr>\n",
       "                        <th id=\"T_a93d2764_c6a0_11ed_ba71_e4434be0643clevel0_row2\" class=\"row_heading level0 row2\" >10</th>\n",
       "                        <td id=\"T_a93d2764_c6a0_11ed_ba71_e4434be0643crow2_col0\" class=\"data row2 col0\" >1.07e+04</td>\n",
       "                        <td id=\"T_a93d2764_c6a0_11ed_ba71_e4434be0643crow2_col1\" class=\"data row2 col1\" >1.06e+04</td>\n",
       "                        <td id=\"T_a93d2764_c6a0_11ed_ba71_e4434be0643crow2_col2\" class=\"data row2 col2\" >0.124</td>\n",
       "                        <td id=\"T_a93d2764_c6a0_11ed_ba71_e4434be0643crow2_col3\" class=\"data row2 col3\" >0.124</td>\n",
       "            </tr>\n",
       "            <tr>\n",
       "                        <th id=\"T_a93d2764_c6a0_11ed_ba71_e4434be0643clevel0_row3\" class=\"row_heading level0 row3\" >15</th>\n",
       "                        <td id=\"T_a93d2764_c6a0_11ed_ba71_e4434be0643crow3_col0\" class=\"data row3 col0\" >1.04e+04</td>\n",
       "                        <td id=\"T_a93d2764_c6a0_11ed_ba71_e4434be0643crow3_col1\" class=\"data row3 col1\" >1.04e+04</td>\n",
       "                        <td id=\"T_a93d2764_c6a0_11ed_ba71_e4434be0643crow3_col2\" class=\"data row3 col2\" >0.0921</td>\n",
       "                        <td id=\"T_a93d2764_c6a0_11ed_ba71_e4434be0643crow3_col3\" class=\"data row3 col3\" >0.0902</td>\n",
       "            </tr>\n",
       "    </tbody></table>"
      ],
      "text/plain": [
       "<pandas.io.formats.style.Styler at 0x2b08a1a1f640>"
      ]
     },
     "metadata": {},
     "output_type": "display_data"
    },
    {
     "name": "stdout",
     "output_type": "stream",
     "text": [
      "[\u001b[1mtardis.simulation.base\u001b[0m][\u001b[1;37mINFO\u001b[0m   ]  \n",
      "\t\n",
      "\tCurrent t_inner = 10481.372 K\n",
      "\tExpected t_inner for next iteration = 10491.899 K\n",
      " (\u001b[1mbase.py\u001b[0m:554)\n"
     ]
    },
    {
     "name": "stderr",
     "output_type": "stream",
     "text": [
      "\u001b[1;37mINFO\u001b[0m:tardis.simulation.base:\n",
      "\tCurrent t_inner = 10481.372 K\n",
      "\tExpected t_inner for next iteration = 10491.899 K\n",
      "\n"
     ]
    },
    {
     "name": "stdout",
     "output_type": "stream",
     "text": [
      "[\u001b[1mtardis.simulation.base\u001b[0m][\u001b[1;37mINFO\u001b[0m   ]  \n",
      "\t\n",
      "\tStarting iteration 10 of 20 (\u001b[1mbase.py\u001b[0m:385)\n"
     ]
    },
    {
     "name": "stderr",
     "output_type": "stream",
     "text": [
      "\u001b[1;37mINFO\u001b[0m:tardis.simulation.base:\n",
      "\tStarting iteration 10 of 20\n"
     ]
    },
    {
     "name": "stdout",
     "output_type": "stream",
     "text": [
      "[\u001b[1mtardis.simulation.base\u001b[0m][\u001b[1;37mINFO\u001b[0m   ]  \n",
      "\t\n",
      "\tLuminosity emitted   = 1.066e+43 erg / s\n",
      "\tLuminosity absorbed  = 2.592e+42 erg / s\n",
      "\tLuminosity requested = 1.059e+43 erg / s\n",
      " (\u001b[1mbase.py\u001b[0m:559)\n"
     ]
    },
    {
     "name": "stderr",
     "output_type": "stream",
     "text": [
      "\u001b[1;37mINFO\u001b[0m:tardis.simulation.base:\n",
      "\tLuminosity emitted   = 1.066e+43 erg / s\n",
      "\tLuminosity absorbed  = 2.592e+42 erg / s\n",
      "\tLuminosity requested = 1.059e+43 erg / s\n",
      "\n"
     ]
    },
    {
     "name": "stdout",
     "output_type": "stream",
     "text": [
      "[\u001b[1mtardis.simulation.base\u001b[0m][\u001b[1;37mINFO\u001b[0m   ]  \n",
      "\tIteration converged 8/4 consecutive times. (\u001b[1mbase.py\u001b[0m:266)\n"
     ]
    },
    {
     "name": "stderr",
     "output_type": "stream",
     "text": [
      "\u001b[1;37mINFO\u001b[0m:tardis.simulation.base:Iteration converged 8/4 consecutive times.\n"
     ]
    },
    {
     "name": "stdout",
     "output_type": "stream",
     "text": [
      "[\u001b[1mtardis.simulation.base\u001b[0m][\u001b[1;37mINFO\u001b[0m   ]  \n",
      "\t\n",
      "\tPlasma stratification: (\u001b[1mbase.py\u001b[0m:527)\n"
     ]
    },
    {
     "name": "stderr",
     "output_type": "stream",
     "text": [
      "\u001b[1;37mINFO\u001b[0m:tardis.simulation.base:\n",
      "\tPlasma stratification:\n"
     ]
    },
    {
     "data": {
      "text/html": [
       "<style  type=\"text/css\" >\n",
       "</style><table id=\"T_ab077a2c_c6a0_11ed_ba71_e4434be0643c\" ><thead>    <tr>        <th class=\"index_name level0\" >Shell No.</th>        <th class=\"col_heading level0 col0\" >t_rad</th>        <th class=\"col_heading level0 col1\" >next_t_rad</th>        <th class=\"col_heading level0 col2\" >w</th>        <th class=\"col_heading level0 col3\" >next_w</th>    </tr></thead><tbody>\n",
       "                <tr>\n",
       "                        <th id=\"T_ab077a2c_c6a0_11ed_ba71_e4434be0643clevel0_row0\" class=\"row_heading level0 row0\" >0</th>\n",
       "                        <td id=\"T_ab077a2c_c6a0_11ed_ba71_e4434be0643crow0_col0\" class=\"data row0 col0\" >1.06e+04</td>\n",
       "                        <td id=\"T_ab077a2c_c6a0_11ed_ba71_e4434be0643crow0_col1\" class=\"data row0 col1\" >1.06e+04</td>\n",
       "                        <td id=\"T_ab077a2c_c6a0_11ed_ba71_e4434be0643crow0_col2\" class=\"data row0 col2\" >0.492</td>\n",
       "                        <td id=\"T_ab077a2c_c6a0_11ed_ba71_e4434be0643crow0_col3\" class=\"data row0 col3\" >0.497</td>\n",
       "            </tr>\n",
       "            <tr>\n",
       "                        <th id=\"T_ab077a2c_c6a0_11ed_ba71_e4434be0643clevel0_row1\" class=\"row_heading level0 row1\" >5</th>\n",
       "                        <td id=\"T_ab077a2c_c6a0_11ed_ba71_e4434be0643crow1_col0\" class=\"data row1 col0\" >1.08e+04</td>\n",
       "                        <td id=\"T_ab077a2c_c6a0_11ed_ba71_e4434be0643crow1_col1\" class=\"data row1 col1\" >1.09e+04</td>\n",
       "                        <td id=\"T_ab077a2c_c6a0_11ed_ba71_e4434be0643crow1_col2\" class=\"data row1 col2\" >0.195</td>\n",
       "                        <td id=\"T_ab077a2c_c6a0_11ed_ba71_e4434be0643crow1_col3\" class=\"data row1 col3\" >0.193</td>\n",
       "            </tr>\n",
       "            <tr>\n",
       "                        <th id=\"T_ab077a2c_c6a0_11ed_ba71_e4434be0643clevel0_row2\" class=\"row_heading level0 row2\" >10</th>\n",
       "                        <td id=\"T_ab077a2c_c6a0_11ed_ba71_e4434be0643crow2_col0\" class=\"data row2 col0\" >1.06e+04</td>\n",
       "                        <td id=\"T_ab077a2c_c6a0_11ed_ba71_e4434be0643crow2_col1\" class=\"data row2 col1\" >1.07e+04</td>\n",
       "                        <td id=\"T_ab077a2c_c6a0_11ed_ba71_e4434be0643crow2_col2\" class=\"data row2 col2\" >0.124</td>\n",
       "                        <td id=\"T_ab077a2c_c6a0_11ed_ba71_e4434be0643crow2_col3\" class=\"data row2 col3\" >0.124</td>\n",
       "            </tr>\n",
       "            <tr>\n",
       "                        <th id=\"T_ab077a2c_c6a0_11ed_ba71_e4434be0643clevel0_row3\" class=\"row_heading level0 row3\" >15</th>\n",
       "                        <td id=\"T_ab077a2c_c6a0_11ed_ba71_e4434be0643crow3_col0\" class=\"data row3 col0\" >1.04e+04</td>\n",
       "                        <td id=\"T_ab077a2c_c6a0_11ed_ba71_e4434be0643crow3_col1\" class=\"data row3 col1\" >1.04e+04</td>\n",
       "                        <td id=\"T_ab077a2c_c6a0_11ed_ba71_e4434be0643crow3_col2\" class=\"data row3 col2\" >0.0902</td>\n",
       "                        <td id=\"T_ab077a2c_c6a0_11ed_ba71_e4434be0643crow3_col3\" class=\"data row3 col3\" >0.0935</td>\n",
       "            </tr>\n",
       "    </tbody></table>"
      ],
      "text/plain": [
       "<pandas.io.formats.style.Styler at 0x2b070b22e280>"
      ]
     },
     "metadata": {},
     "output_type": "display_data"
    },
    {
     "name": "stdout",
     "output_type": "stream",
     "text": [
      "[\u001b[1mtardis.simulation.base\u001b[0m][\u001b[1;37mINFO\u001b[0m   ]  \n",
      "\t\n",
      "\tCurrent t_inner = 10491.899 K\n",
      "\tExpected t_inner for next iteration = 10475.829 K\n",
      " (\u001b[1mbase.py\u001b[0m:554)\n"
     ]
    },
    {
     "name": "stderr",
     "output_type": "stream",
     "text": [
      "\u001b[1;37mINFO\u001b[0m:tardis.simulation.base:\n",
      "\tCurrent t_inner = 10491.899 K\n",
      "\tExpected t_inner for next iteration = 10475.829 K\n",
      "\n"
     ]
    },
    {
     "name": "stdout",
     "output_type": "stream",
     "text": [
      "[\u001b[1mtardis.simulation.base\u001b[0m][\u001b[1;37mINFO\u001b[0m   ]  \n",
      "\t\n",
      "\tStarting iteration 11 of 20 (\u001b[1mbase.py\u001b[0m:385)\n"
     ]
    },
    {
     "name": "stderr",
     "output_type": "stream",
     "text": [
      "\u001b[1;37mINFO\u001b[0m:tardis.simulation.base:\n",
      "\tStarting iteration 11 of 20\n"
     ]
    },
    {
     "name": "stdout",
     "output_type": "stream",
     "text": [
      "[\u001b[1mtardis.simulation.base\u001b[0m][\u001b[1;37mINFO\u001b[0m   ]  \n",
      "\t\n",
      "\tLuminosity emitted   = 1.056e+43 erg / s\n",
      "\tLuminosity absorbed  = 2.612e+42 erg / s\n",
      "\tLuminosity requested = 1.059e+43 erg / s\n",
      " (\u001b[1mbase.py\u001b[0m:559)\n"
     ]
    },
    {
     "name": "stderr",
     "output_type": "stream",
     "text": [
      "\u001b[1;37mINFO\u001b[0m:tardis.simulation.base:\n",
      "\tLuminosity emitted   = 1.056e+43 erg / s\n",
      "\tLuminosity absorbed  = 2.612e+42 erg / s\n",
      "\tLuminosity requested = 1.059e+43 erg / s\n",
      "\n"
     ]
    },
    {
     "name": "stdout",
     "output_type": "stream",
     "text": [
      "[\u001b[1mtardis.simulation.base\u001b[0m][\u001b[1;37mINFO\u001b[0m   ]  \n",
      "\tIteration converged 9/4 consecutive times. (\u001b[1mbase.py\u001b[0m:266)\n"
     ]
    },
    {
     "name": "stderr",
     "output_type": "stream",
     "text": [
      "\u001b[1;37mINFO\u001b[0m:tardis.simulation.base:Iteration converged 9/4 consecutive times.\n"
     ]
    },
    {
     "name": "stdout",
     "output_type": "stream",
     "text": [
      "[\u001b[1mtardis.simulation.base\u001b[0m][\u001b[1;37mINFO\u001b[0m   ]  \n",
      "\t\n",
      "\tPlasma stratification: (\u001b[1mbase.py\u001b[0m:527)\n"
     ]
    },
    {
     "name": "stderr",
     "output_type": "stream",
     "text": [
      "\u001b[1;37mINFO\u001b[0m:tardis.simulation.base:\n",
      "\tPlasma stratification:\n"
     ]
    },
    {
     "data": {
      "text/html": [
       "<style  type=\"text/css\" >\n",
       "</style><table id=\"T_acda473a_c6a0_11ed_ba71_e4434be0643c\" ><thead>    <tr>        <th class=\"index_name level0\" >Shell No.</th>        <th class=\"col_heading level0 col0\" >t_rad</th>        <th class=\"col_heading level0 col1\" >next_t_rad</th>        <th class=\"col_heading level0 col2\" >w</th>        <th class=\"col_heading level0 col3\" >next_w</th>    </tr></thead><tbody>\n",
       "                <tr>\n",
       "                        <th id=\"T_acda473a_c6a0_11ed_ba71_e4434be0643clevel0_row0\" class=\"row_heading level0 row0\" >0</th>\n",
       "                        <td id=\"T_acda473a_c6a0_11ed_ba71_e4434be0643crow0_col0\" class=\"data row0 col0\" >1.06e+04</td>\n",
       "                        <td id=\"T_acda473a_c6a0_11ed_ba71_e4434be0643crow0_col1\" class=\"data row0 col1\" >1.06e+04</td>\n",
       "                        <td id=\"T_acda473a_c6a0_11ed_ba71_e4434be0643crow0_col2\" class=\"data row0 col2\" >0.497</td>\n",
       "                        <td id=\"T_acda473a_c6a0_11ed_ba71_e4434be0643crow0_col3\" class=\"data row0 col3\" >0.495</td>\n",
       "            </tr>\n",
       "            <tr>\n",
       "                        <th id=\"T_acda473a_c6a0_11ed_ba71_e4434be0643clevel0_row1\" class=\"row_heading level0 row1\" >5</th>\n",
       "                        <td id=\"T_acda473a_c6a0_11ed_ba71_e4434be0643crow1_col0\" class=\"data row1 col0\" >1.09e+04</td>\n",
       "                        <td id=\"T_acda473a_c6a0_11ed_ba71_e4434be0643crow1_col1\" class=\"data row1 col1\" >1.07e+04</td>\n",
       "                        <td id=\"T_acda473a_c6a0_11ed_ba71_e4434be0643crow1_col2\" class=\"data row1 col2\" >0.193</td>\n",
       "                        <td id=\"T_acda473a_c6a0_11ed_ba71_e4434be0643crow1_col3\" class=\"data row1 col3\" >0.202</td>\n",
       "            </tr>\n",
       "            <tr>\n",
       "                        <th id=\"T_acda473a_c6a0_11ed_ba71_e4434be0643clevel0_row2\" class=\"row_heading level0 row2\" >10</th>\n",
       "                        <td id=\"T_acda473a_c6a0_11ed_ba71_e4434be0643crow2_col0\" class=\"data row2 col0\" >1.07e+04</td>\n",
       "                        <td id=\"T_acda473a_c6a0_11ed_ba71_e4434be0643crow2_col1\" class=\"data row2 col1\" >1.06e+04</td>\n",
       "                        <td id=\"T_acda473a_c6a0_11ed_ba71_e4434be0643crow2_col2\" class=\"data row2 col2\" >0.124</td>\n",
       "                        <td id=\"T_acda473a_c6a0_11ed_ba71_e4434be0643crow2_col3\" class=\"data row2 col3\" >0.126</td>\n",
       "            </tr>\n",
       "            <tr>\n",
       "                        <th id=\"T_acda473a_c6a0_11ed_ba71_e4434be0643clevel0_row3\" class=\"row_heading level0 row3\" >15</th>\n",
       "                        <td id=\"T_acda473a_c6a0_11ed_ba71_e4434be0643crow3_col0\" class=\"data row3 col0\" >1.04e+04</td>\n",
       "                        <td id=\"T_acda473a_c6a0_11ed_ba71_e4434be0643crow3_col1\" class=\"data row3 col1\" >1.04e+04</td>\n",
       "                        <td id=\"T_acda473a_c6a0_11ed_ba71_e4434be0643crow3_col2\" class=\"data row3 col2\" >0.0935</td>\n",
       "                        <td id=\"T_acda473a_c6a0_11ed_ba71_e4434be0643crow3_col3\" class=\"data row3 col3\" >0.0929</td>\n",
       "            </tr>\n",
       "    </tbody></table>"
      ],
      "text/plain": [
       "<pandas.io.formats.style.Styler at 0x2b08a196d760>"
      ]
     },
     "metadata": {},
     "output_type": "display_data"
    },
    {
     "name": "stdout",
     "output_type": "stream",
     "text": [
      "[\u001b[1mtardis.simulation.base\u001b[0m][\u001b[1;37mINFO\u001b[0m   ]  \n",
      "\t\n",
      "\tCurrent t_inner = 10475.829 K\n",
      "\tExpected t_inner for next iteration = 10484.865 K\n",
      " (\u001b[1mbase.py\u001b[0m:554)\n"
     ]
    },
    {
     "name": "stderr",
     "output_type": "stream",
     "text": [
      "\u001b[1;37mINFO\u001b[0m:tardis.simulation.base:\n",
      "\tCurrent t_inner = 10475.829 K\n",
      "\tExpected t_inner for next iteration = 10484.865 K\n",
      "\n"
     ]
    },
    {
     "name": "stdout",
     "output_type": "stream",
     "text": [
      "[\u001b[1mtardis.simulation.base\u001b[0m][\u001b[1;37mINFO\u001b[0m   ]  \n",
      "\t\n",
      "\tStarting iteration 12 of 20 (\u001b[1mbase.py\u001b[0m:385)\n"
     ]
    },
    {
     "name": "stderr",
     "output_type": "stream",
     "text": [
      "\u001b[1;37mINFO\u001b[0m:tardis.simulation.base:\n",
      "\tStarting iteration 12 of 20\n"
     ]
    },
    {
     "name": "stdout",
     "output_type": "stream",
     "text": [
      "[\u001b[1mtardis.simulation.base\u001b[0m][\u001b[1;37mINFO\u001b[0m   ]  \n",
      "\t\n",
      "\tLuminosity emitted   = 1.057e+43 erg / s\n",
      "\tLuminosity absorbed  = 2.646e+42 erg / s\n",
      "\tLuminosity requested = 1.059e+43 erg / s\n",
      " (\u001b[1mbase.py\u001b[0m:559)\n"
     ]
    },
    {
     "name": "stderr",
     "output_type": "stream",
     "text": [
      "\u001b[1;37mINFO\u001b[0m:tardis.simulation.base:\n",
      "\tLuminosity emitted   = 1.057e+43 erg / s\n",
      "\tLuminosity absorbed  = 2.646e+42 erg / s\n",
      "\tLuminosity requested = 1.059e+43 erg / s\n",
      "\n"
     ]
    },
    {
     "name": "stdout",
     "output_type": "stream",
     "text": [
      "[\u001b[1mtardis.simulation.base\u001b[0m][\u001b[1;37mINFO\u001b[0m   ]  \n",
      "\t\n",
      "\tPlasma stratification: (\u001b[1mbase.py\u001b[0m:527)\n"
     ]
    },
    {
     "name": "stderr",
     "output_type": "stream",
     "text": [
      "\u001b[1;37mINFO\u001b[0m:tardis.simulation.base:\n",
      "\tPlasma stratification:\n"
     ]
    },
    {
     "data": {
      "text/html": [
       "<style  type=\"text/css\" >\n",
       "</style><table id=\"T_ae9abe6a_c6a0_11ed_ba71_e4434be0643c\" ><thead>    <tr>        <th class=\"index_name level0\" >Shell No.</th>        <th class=\"col_heading level0 col0\" >t_rad</th>        <th class=\"col_heading level0 col1\" >next_t_rad</th>        <th class=\"col_heading level0 col2\" >w</th>        <th class=\"col_heading level0 col3\" >next_w</th>    </tr></thead><tbody>\n",
       "                <tr>\n",
       "                        <th id=\"T_ae9abe6a_c6a0_11ed_ba71_e4434be0643clevel0_row0\" class=\"row_heading level0 row0\" >0</th>\n",
       "                        <td id=\"T_ae9abe6a_c6a0_11ed_ba71_e4434be0643crow0_col0\" class=\"data row0 col0\" >1.06e+04</td>\n",
       "                        <td id=\"T_ae9abe6a_c6a0_11ed_ba71_e4434be0643crow0_col1\" class=\"data row0 col1\" >1.07e+04</td>\n",
       "                        <td id=\"T_ae9abe6a_c6a0_11ed_ba71_e4434be0643crow0_col2\" class=\"data row0 col2\" >0.495</td>\n",
       "                        <td id=\"T_ae9abe6a_c6a0_11ed_ba71_e4434be0643crow0_col3\" class=\"data row0 col3\" >0.483</td>\n",
       "            </tr>\n",
       "            <tr>\n",
       "                        <th id=\"T_ae9abe6a_c6a0_11ed_ba71_e4434be0643clevel0_row1\" class=\"row_heading level0 row1\" >5</th>\n",
       "                        <td id=\"T_ae9abe6a_c6a0_11ed_ba71_e4434be0643crow1_col0\" class=\"data row1 col0\" >1.07e+04</td>\n",
       "                        <td id=\"T_ae9abe6a_c6a0_11ed_ba71_e4434be0643crow1_col1\" class=\"data row1 col1\" >1.09e+04</td>\n",
       "                        <td id=\"T_ae9abe6a_c6a0_11ed_ba71_e4434be0643crow1_col2\" class=\"data row1 col2\" >0.202</td>\n",
       "                        <td id=\"T_ae9abe6a_c6a0_11ed_ba71_e4434be0643crow1_col3\" class=\"data row1 col3\" >0.194</td>\n",
       "            </tr>\n",
       "            <tr>\n",
       "                        <th id=\"T_ae9abe6a_c6a0_11ed_ba71_e4434be0643clevel0_row2\" class=\"row_heading level0 row2\" >10</th>\n",
       "                        <td id=\"T_ae9abe6a_c6a0_11ed_ba71_e4434be0643crow2_col0\" class=\"data row2 col0\" >1.06e+04</td>\n",
       "                        <td id=\"T_ae9abe6a_c6a0_11ed_ba71_e4434be0643crow2_col1\" class=\"data row2 col1\" >1.06e+04</td>\n",
       "                        <td id=\"T_ae9abe6a_c6a0_11ed_ba71_e4434be0643crow2_col2\" class=\"data row2 col2\" >0.126</td>\n",
       "                        <td id=\"T_ae9abe6a_c6a0_11ed_ba71_e4434be0643crow2_col3\" class=\"data row2 col3\" >0.125</td>\n",
       "            </tr>\n",
       "            <tr>\n",
       "                        <th id=\"T_ae9abe6a_c6a0_11ed_ba71_e4434be0643clevel0_row3\" class=\"row_heading level0 row3\" >15</th>\n",
       "                        <td id=\"T_ae9abe6a_c6a0_11ed_ba71_e4434be0643crow3_col0\" class=\"data row3 col0\" >1.04e+04</td>\n",
       "                        <td id=\"T_ae9abe6a_c6a0_11ed_ba71_e4434be0643crow3_col1\" class=\"data row3 col1\" >1.04e+04</td>\n",
       "                        <td id=\"T_ae9abe6a_c6a0_11ed_ba71_e4434be0643crow3_col2\" class=\"data row3 col2\" >0.0929</td>\n",
       "                        <td id=\"T_ae9abe6a_c6a0_11ed_ba71_e4434be0643crow3_col3\" class=\"data row3 col3\" >0.0902</td>\n",
       "            </tr>\n",
       "    </tbody></table>"
      ],
      "text/plain": [
       "<pandas.io.formats.style.Styler at 0x2b089c17daf0>"
      ]
     },
     "metadata": {},
     "output_type": "display_data"
    },
    {
     "name": "stdout",
     "output_type": "stream",
     "text": [
      "[\u001b[1mtardis.simulation.base\u001b[0m][\u001b[1;37mINFO\u001b[0m   ]  \n",
      "\t\n",
      "\tCurrent t_inner = 10484.865 K\n",
      "\tExpected t_inner for next iteration = 10491.519 K\n",
      " (\u001b[1mbase.py\u001b[0m:554)\n"
     ]
    },
    {
     "name": "stderr",
     "output_type": "stream",
     "text": [
      "\u001b[1;37mINFO\u001b[0m:tardis.simulation.base:\n",
      "\tCurrent t_inner = 10484.865 K\n",
      "\tExpected t_inner for next iteration = 10491.519 K\n",
      "\n"
     ]
    },
    {
     "name": "stdout",
     "output_type": "stream",
     "text": [
      "[\u001b[1mtardis.simulation.base\u001b[0m][\u001b[1;37mINFO\u001b[0m   ]  \n",
      "\t\n",
      "\tStarting iteration 13 of 20 (\u001b[1mbase.py\u001b[0m:385)\n"
     ]
    },
    {
     "name": "stderr",
     "output_type": "stream",
     "text": [
      "\u001b[1;37mINFO\u001b[0m:tardis.simulation.base:\n",
      "\tStarting iteration 13 of 20\n"
     ]
    },
    {
     "name": "stdout",
     "output_type": "stream",
     "text": [
      "[\u001b[1mtardis.simulation.base\u001b[0m][\u001b[1;37mINFO\u001b[0m   ]  \n",
      "\t\n",
      "\tLuminosity emitted   = 1.067e+43 erg / s\n",
      "\tLuminosity absorbed  = 2.578e+42 erg / s\n",
      "\tLuminosity requested = 1.059e+43 erg / s\n",
      " (\u001b[1mbase.py\u001b[0m:559)\n"
     ]
    },
    {
     "name": "stderr",
     "output_type": "stream",
     "text": [
      "\u001b[1;37mINFO\u001b[0m:tardis.simulation.base:\n",
      "\tLuminosity emitted   = 1.067e+43 erg / s\n",
      "\tLuminosity absorbed  = 2.578e+42 erg / s\n",
      "\tLuminosity requested = 1.059e+43 erg / s\n",
      "\n"
     ]
    },
    {
     "name": "stdout",
     "output_type": "stream",
     "text": [
      "[\u001b[1mtardis.simulation.base\u001b[0m][\u001b[1;37mINFO\u001b[0m   ]  \n",
      "\tIteration converged 1/4 consecutive times. (\u001b[1mbase.py\u001b[0m:266)\n"
     ]
    },
    {
     "name": "stderr",
     "output_type": "stream",
     "text": [
      "\u001b[1;37mINFO\u001b[0m:tardis.simulation.base:Iteration converged 1/4 consecutive times.\n"
     ]
    },
    {
     "name": "stdout",
     "output_type": "stream",
     "text": [
      "[\u001b[1mtardis.simulation.base\u001b[0m][\u001b[1;37mINFO\u001b[0m   ]  \n",
      "\t\n",
      "\tPlasma stratification: (\u001b[1mbase.py\u001b[0m:527)\n"
     ]
    },
    {
     "name": "stderr",
     "output_type": "stream",
     "text": [
      "\u001b[1;37mINFO\u001b[0m:tardis.simulation.base:\n",
      "\tPlasma stratification:\n"
     ]
    },
    {
     "data": {
      "text/html": [
       "<style  type=\"text/css\" >\n",
       "</style><table id=\"T_b06ea53a_c6a0_11ed_ba71_e4434be0643c\" ><thead>    <tr>        <th class=\"index_name level0\" >Shell No.</th>        <th class=\"col_heading level0 col0\" >t_rad</th>        <th class=\"col_heading level0 col1\" >next_t_rad</th>        <th class=\"col_heading level0 col2\" >w</th>        <th class=\"col_heading level0 col3\" >next_w</th>    </tr></thead><tbody>\n",
       "                <tr>\n",
       "                        <th id=\"T_b06ea53a_c6a0_11ed_ba71_e4434be0643clevel0_row0\" class=\"row_heading level0 row0\" >0</th>\n",
       "                        <td id=\"T_b06ea53a_c6a0_11ed_ba71_e4434be0643crow0_col0\" class=\"data row0 col0\" >1.07e+04</td>\n",
       "                        <td id=\"T_b06ea53a_c6a0_11ed_ba71_e4434be0643crow0_col1\" class=\"data row0 col1\" >1.07e+04</td>\n",
       "                        <td id=\"T_b06ea53a_c6a0_11ed_ba71_e4434be0643crow0_col2\" class=\"data row0 col2\" >0.483</td>\n",
       "                        <td id=\"T_b06ea53a_c6a0_11ed_ba71_e4434be0643crow0_col3\" class=\"data row0 col3\" >0.482</td>\n",
       "            </tr>\n",
       "            <tr>\n",
       "                        <th id=\"T_b06ea53a_c6a0_11ed_ba71_e4434be0643clevel0_row1\" class=\"row_heading level0 row1\" >5</th>\n",
       "                        <td id=\"T_b06ea53a_c6a0_11ed_ba71_e4434be0643crow1_col0\" class=\"data row1 col0\" >1.09e+04</td>\n",
       "                        <td id=\"T_b06ea53a_c6a0_11ed_ba71_e4434be0643crow1_col1\" class=\"data row1 col1\" >1.08e+04</td>\n",
       "                        <td id=\"T_b06ea53a_c6a0_11ed_ba71_e4434be0643crow1_col2\" class=\"data row1 col2\" >0.194</td>\n",
       "                        <td id=\"T_b06ea53a_c6a0_11ed_ba71_e4434be0643crow1_col3\" class=\"data row1 col3\" >0.2</td>\n",
       "            </tr>\n",
       "            <tr>\n",
       "                        <th id=\"T_b06ea53a_c6a0_11ed_ba71_e4434be0643clevel0_row2\" class=\"row_heading level0 row2\" >10</th>\n",
       "                        <td id=\"T_b06ea53a_c6a0_11ed_ba71_e4434be0643crow2_col0\" class=\"data row2 col0\" >1.06e+04</td>\n",
       "                        <td id=\"T_b06ea53a_c6a0_11ed_ba71_e4434be0643crow2_col1\" class=\"data row2 col1\" >1.07e+04</td>\n",
       "                        <td id=\"T_b06ea53a_c6a0_11ed_ba71_e4434be0643crow2_col2\" class=\"data row2 col2\" >0.125</td>\n",
       "                        <td id=\"T_b06ea53a_c6a0_11ed_ba71_e4434be0643crow2_col3\" class=\"data row2 col3\" >0.125</td>\n",
       "            </tr>\n",
       "            <tr>\n",
       "                        <th id=\"T_b06ea53a_c6a0_11ed_ba71_e4434be0643clevel0_row3\" class=\"row_heading level0 row3\" >15</th>\n",
       "                        <td id=\"T_b06ea53a_c6a0_11ed_ba71_e4434be0643crow3_col0\" class=\"data row3 col0\" >1.04e+04</td>\n",
       "                        <td id=\"T_b06ea53a_c6a0_11ed_ba71_e4434be0643crow3_col1\" class=\"data row3 col1\" >1.04e+04</td>\n",
       "                        <td id=\"T_b06ea53a_c6a0_11ed_ba71_e4434be0643crow3_col2\" class=\"data row3 col2\" >0.0902</td>\n",
       "                        <td id=\"T_b06ea53a_c6a0_11ed_ba71_e4434be0643crow3_col3\" class=\"data row3 col3\" >0.0939</td>\n",
       "            </tr>\n",
       "    </tbody></table>"
      ],
      "text/plain": [
       "<pandas.io.formats.style.Styler at 0x2b08a1a2e220>"
      ]
     },
     "metadata": {},
     "output_type": "display_data"
    },
    {
     "name": "stdout",
     "output_type": "stream",
     "text": [
      "[\u001b[1mtardis.simulation.base\u001b[0m][\u001b[1;37mINFO\u001b[0m   ]  \n",
      "\t\n",
      "\tCurrent t_inner = 10491.519 K\n",
      "\tExpected t_inner for next iteration = 10472.211 K\n",
      " (\u001b[1mbase.py\u001b[0m:554)\n"
     ]
    },
    {
     "name": "stderr",
     "output_type": "stream",
     "text": [
      "\u001b[1;37mINFO\u001b[0m:tardis.simulation.base:\n",
      "\tCurrent t_inner = 10491.519 K\n",
      "\tExpected t_inner for next iteration = 10472.211 K\n",
      "\n"
     ]
    },
    {
     "name": "stdout",
     "output_type": "stream",
     "text": [
      "[\u001b[1mtardis.simulation.base\u001b[0m][\u001b[1;37mINFO\u001b[0m   ]  \n",
      "\t\n",
      "\tStarting iteration 14 of 20 (\u001b[1mbase.py\u001b[0m:385)\n"
     ]
    },
    {
     "name": "stderr",
     "output_type": "stream",
     "text": [
      "\u001b[1;37mINFO\u001b[0m:tardis.simulation.base:\n",
      "\tStarting iteration 14 of 20\n"
     ]
    },
    {
     "name": "stdout",
     "output_type": "stream",
     "text": [
      "[\u001b[1mtardis.simulation.base\u001b[0m][\u001b[1;37mINFO\u001b[0m   ]  \n",
      "\t\n",
      "\tLuminosity emitted   = 1.058e+43 erg / s\n",
      "\tLuminosity absorbed  = 2.573e+42 erg / s\n",
      "\tLuminosity requested = 1.059e+43 erg / s\n",
      " (\u001b[1mbase.py\u001b[0m:559)\n"
     ]
    },
    {
     "name": "stderr",
     "output_type": "stream",
     "text": [
      "\u001b[1;37mINFO\u001b[0m:tardis.simulation.base:\n",
      "\tLuminosity emitted   = 1.058e+43 erg / s\n",
      "\tLuminosity absorbed  = 2.573e+42 erg / s\n",
      "\tLuminosity requested = 1.059e+43 erg / s\n",
      "\n"
     ]
    },
    {
     "name": "stdout",
     "output_type": "stream",
     "text": [
      "[\u001b[1mtardis.simulation.base\u001b[0m][\u001b[1;37mINFO\u001b[0m   ]  \n",
      "\tIteration converged 2/4 consecutive times. (\u001b[1mbase.py\u001b[0m:266)\n"
     ]
    },
    {
     "name": "stderr",
     "output_type": "stream",
     "text": [
      "\u001b[1;37mINFO\u001b[0m:tardis.simulation.base:Iteration converged 2/4 consecutive times.\n"
     ]
    },
    {
     "name": "stdout",
     "output_type": "stream",
     "text": [
      "[\u001b[1mtardis.simulation.base\u001b[0m][\u001b[1;37mINFO\u001b[0m   ]  \n",
      "\t\n",
      "\tPlasma stratification: (\u001b[1mbase.py\u001b[0m:527)\n"
     ]
    },
    {
     "name": "stderr",
     "output_type": "stream",
     "text": [
      "\u001b[1;37mINFO\u001b[0m:tardis.simulation.base:\n",
      "\tPlasma stratification:\n"
     ]
    },
    {
     "data": {
      "text/html": [
       "<style  type=\"text/css\" >\n",
       "</style><table id=\"T_b22d52c2_c6a0_11ed_ba71_e4434be0643c\" ><thead>    <tr>        <th class=\"index_name level0\" >Shell No.</th>        <th class=\"col_heading level0 col0\" >t_rad</th>        <th class=\"col_heading level0 col1\" >next_t_rad</th>        <th class=\"col_heading level0 col2\" >w</th>        <th class=\"col_heading level0 col3\" >next_w</th>    </tr></thead><tbody>\n",
       "                <tr>\n",
       "                        <th id=\"T_b22d52c2_c6a0_11ed_ba71_e4434be0643clevel0_row0\" class=\"row_heading level0 row0\" >0</th>\n",
       "                        <td id=\"T_b22d52c2_c6a0_11ed_ba71_e4434be0643crow0_col0\" class=\"data row0 col0\" >1.07e+04</td>\n",
       "                        <td id=\"T_b22d52c2_c6a0_11ed_ba71_e4434be0643crow0_col1\" class=\"data row0 col1\" >1.07e+04</td>\n",
       "                        <td id=\"T_b22d52c2_c6a0_11ed_ba71_e4434be0643crow0_col2\" class=\"data row0 col2\" >0.482</td>\n",
       "                        <td id=\"T_b22d52c2_c6a0_11ed_ba71_e4434be0643crow0_col3\" class=\"data row0 col3\" >0.488</td>\n",
       "            </tr>\n",
       "            <tr>\n",
       "                        <th id=\"T_b22d52c2_c6a0_11ed_ba71_e4434be0643clevel0_row1\" class=\"row_heading level0 row1\" >5</th>\n",
       "                        <td id=\"T_b22d52c2_c6a0_11ed_ba71_e4434be0643crow1_col0\" class=\"data row1 col0\" >1.08e+04</td>\n",
       "                        <td id=\"T_b22d52c2_c6a0_11ed_ba71_e4434be0643crow1_col1\" class=\"data row1 col1\" >1.08e+04</td>\n",
       "                        <td id=\"T_b22d52c2_c6a0_11ed_ba71_e4434be0643crow1_col2\" class=\"data row1 col2\" >0.2</td>\n",
       "                        <td id=\"T_b22d52c2_c6a0_11ed_ba71_e4434be0643crow1_col3\" class=\"data row1 col3\" >0.2</td>\n",
       "            </tr>\n",
       "            <tr>\n",
       "                        <th id=\"T_b22d52c2_c6a0_11ed_ba71_e4434be0643clevel0_row2\" class=\"row_heading level0 row2\" >10</th>\n",
       "                        <td id=\"T_b22d52c2_c6a0_11ed_ba71_e4434be0643crow2_col0\" class=\"data row2 col0\" >1.07e+04</td>\n",
       "                        <td id=\"T_b22d52c2_c6a0_11ed_ba71_e4434be0643crow2_col1\" class=\"data row2 col1\" >1.06e+04</td>\n",
       "                        <td id=\"T_b22d52c2_c6a0_11ed_ba71_e4434be0643crow2_col2\" class=\"data row2 col2\" >0.125</td>\n",
       "                        <td id=\"T_b22d52c2_c6a0_11ed_ba71_e4434be0643crow2_col3\" class=\"data row2 col3\" >0.127</td>\n",
       "            </tr>\n",
       "            <tr>\n",
       "                        <th id=\"T_b22d52c2_c6a0_11ed_ba71_e4434be0643clevel0_row3\" class=\"row_heading level0 row3\" >15</th>\n",
       "                        <td id=\"T_b22d52c2_c6a0_11ed_ba71_e4434be0643crow3_col0\" class=\"data row3 col0\" >1.04e+04</td>\n",
       "                        <td id=\"T_b22d52c2_c6a0_11ed_ba71_e4434be0643crow3_col1\" class=\"data row3 col1\" >1.04e+04</td>\n",
       "                        <td id=\"T_b22d52c2_c6a0_11ed_ba71_e4434be0643crow3_col2\" class=\"data row3 col2\" >0.0939</td>\n",
       "                        <td id=\"T_b22d52c2_c6a0_11ed_ba71_e4434be0643crow3_col3\" class=\"data row3 col3\" >0.0934</td>\n",
       "            </tr>\n",
       "    </tbody></table>"
      ],
      "text/plain": [
       "<pandas.io.formats.style.Styler at 0x2b08a196d820>"
      ]
     },
     "metadata": {},
     "output_type": "display_data"
    },
    {
     "name": "stdout",
     "output_type": "stream",
     "text": [
      "[\u001b[1mtardis.simulation.base\u001b[0m][\u001b[1;37mINFO\u001b[0m   ]  \n",
      "\t\n",
      "\tCurrent t_inner = 10472.211 K\n",
      "\tExpected t_inner for next iteration = 10475.227 K\n",
      " (\u001b[1mbase.py\u001b[0m:554)\n"
     ]
    },
    {
     "name": "stderr",
     "output_type": "stream",
     "text": [
      "\u001b[1;37mINFO\u001b[0m:tardis.simulation.base:\n",
      "\tCurrent t_inner = 10472.211 K\n",
      "\tExpected t_inner for next iteration = 10475.227 K\n",
      "\n"
     ]
    },
    {
     "name": "stdout",
     "output_type": "stream",
     "text": [
      "[\u001b[1mtardis.simulation.base\u001b[0m][\u001b[1;37mINFO\u001b[0m   ]  \n",
      "\t\n",
      "\tStarting iteration 15 of 20 (\u001b[1mbase.py\u001b[0m:385)\n"
     ]
    },
    {
     "name": "stderr",
     "output_type": "stream",
     "text": [
      "\u001b[1;37mINFO\u001b[0m:tardis.simulation.base:\n",
      "\tStarting iteration 15 of 20\n"
     ]
    },
    {
     "name": "stdout",
     "output_type": "stream",
     "text": [
      "[\u001b[1mtardis.simulation.base\u001b[0m][\u001b[1;37mINFO\u001b[0m   ]  \n",
      "\t\n",
      "\tLuminosity emitted   = 1.053e+43 erg / s\n",
      "\tLuminosity absorbed  = 2.634e+42 erg / s\n",
      "\tLuminosity requested = 1.059e+43 erg / s\n",
      " (\u001b[1mbase.py\u001b[0m:559)\n"
     ]
    },
    {
     "name": "stderr",
     "output_type": "stream",
     "text": [
      "\u001b[1;37mINFO\u001b[0m:tardis.simulation.base:\n",
      "\tLuminosity emitted   = 1.053e+43 erg / s\n",
      "\tLuminosity absorbed  = 2.634e+42 erg / s\n",
      "\tLuminosity requested = 1.059e+43 erg / s\n",
      "\n"
     ]
    },
    {
     "name": "stdout",
     "output_type": "stream",
     "text": [
      "[\u001b[1mtardis.simulation.base\u001b[0m][\u001b[1;37mINFO\u001b[0m   ]  \n",
      "\tIteration converged 3/4 consecutive times. (\u001b[1mbase.py\u001b[0m:266)\n"
     ]
    },
    {
     "name": "stderr",
     "output_type": "stream",
     "text": [
      "\u001b[1;37mINFO\u001b[0m:tardis.simulation.base:Iteration converged 3/4 consecutive times.\n"
     ]
    },
    {
     "name": "stdout",
     "output_type": "stream",
     "text": [
      "[\u001b[1mtardis.simulation.base\u001b[0m][\u001b[1;37mINFO\u001b[0m   ]  \n",
      "\t\n",
      "\tPlasma stratification: (\u001b[1mbase.py\u001b[0m:527)\n"
     ]
    },
    {
     "name": "stderr",
     "output_type": "stream",
     "text": [
      "\u001b[1;37mINFO\u001b[0m:tardis.simulation.base:\n",
      "\tPlasma stratification:\n"
     ]
    },
    {
     "data": {
      "text/html": [
       "<style  type=\"text/css\" >\n",
       "</style><table id=\"T_b3f3da5e_c6a0_11ed_ba71_e4434be0643c\" ><thead>    <tr>        <th class=\"index_name level0\" >Shell No.</th>        <th class=\"col_heading level0 col0\" >t_rad</th>        <th class=\"col_heading level0 col1\" >next_t_rad</th>        <th class=\"col_heading level0 col2\" >w</th>        <th class=\"col_heading level0 col3\" >next_w</th>    </tr></thead><tbody>\n",
       "                <tr>\n",
       "                        <th id=\"T_b3f3da5e_c6a0_11ed_ba71_e4434be0643clevel0_row0\" class=\"row_heading level0 row0\" >0</th>\n",
       "                        <td id=\"T_b3f3da5e_c6a0_11ed_ba71_e4434be0643crow0_col0\" class=\"data row0 col0\" >1.07e+04</td>\n",
       "                        <td id=\"T_b3f3da5e_c6a0_11ed_ba71_e4434be0643crow0_col1\" class=\"data row0 col1\" >1.06e+04</td>\n",
       "                        <td id=\"T_b3f3da5e_c6a0_11ed_ba71_e4434be0643crow0_col2\" class=\"data row0 col2\" >0.488</td>\n",
       "                        <td id=\"T_b3f3da5e_c6a0_11ed_ba71_e4434be0643crow0_col3\" class=\"data row0 col3\" >0.498</td>\n",
       "            </tr>\n",
       "            <tr>\n",
       "                        <th id=\"T_b3f3da5e_c6a0_11ed_ba71_e4434be0643clevel0_row1\" class=\"row_heading level0 row1\" >5</th>\n",
       "                        <td id=\"T_b3f3da5e_c6a0_11ed_ba71_e4434be0643crow1_col0\" class=\"data row1 col0\" >1.08e+04</td>\n",
       "                        <td id=\"T_b3f3da5e_c6a0_11ed_ba71_e4434be0643crow1_col1\" class=\"data row1 col1\" >1.08e+04</td>\n",
       "                        <td id=\"T_b3f3da5e_c6a0_11ed_ba71_e4434be0643crow1_col2\" class=\"data row1 col2\" >0.2</td>\n",
       "                        <td id=\"T_b3f3da5e_c6a0_11ed_ba71_e4434be0643crow1_col3\" class=\"data row1 col3\" >0.196</td>\n",
       "            </tr>\n",
       "            <tr>\n",
       "                        <th id=\"T_b3f3da5e_c6a0_11ed_ba71_e4434be0643clevel0_row2\" class=\"row_heading level0 row2\" >10</th>\n",
       "                        <td id=\"T_b3f3da5e_c6a0_11ed_ba71_e4434be0643crow2_col0\" class=\"data row2 col0\" >1.06e+04</td>\n",
       "                        <td id=\"T_b3f3da5e_c6a0_11ed_ba71_e4434be0643crow2_col1\" class=\"data row2 col1\" >1.06e+04</td>\n",
       "                        <td id=\"T_b3f3da5e_c6a0_11ed_ba71_e4434be0643crow2_col2\" class=\"data row2 col2\" >0.127</td>\n",
       "                        <td id=\"T_b3f3da5e_c6a0_11ed_ba71_e4434be0643crow2_col3\" class=\"data row2 col3\" >0.125</td>\n",
       "            </tr>\n",
       "            <tr>\n",
       "                        <th id=\"T_b3f3da5e_c6a0_11ed_ba71_e4434be0643clevel0_row3\" class=\"row_heading level0 row3\" >15</th>\n",
       "                        <td id=\"T_b3f3da5e_c6a0_11ed_ba71_e4434be0643crow3_col0\" class=\"data row3 col0\" >1.04e+04</td>\n",
       "                        <td id=\"T_b3f3da5e_c6a0_11ed_ba71_e4434be0643crow3_col1\" class=\"data row3 col1\" >1.03e+04</td>\n",
       "                        <td id=\"T_b3f3da5e_c6a0_11ed_ba71_e4434be0643crow3_col2\" class=\"data row3 col2\" >0.0934</td>\n",
       "                        <td id=\"T_b3f3da5e_c6a0_11ed_ba71_e4434be0643crow3_col3\" class=\"data row3 col3\" >0.094</td>\n",
       "            </tr>\n",
       "    </tbody></table>"
      ],
      "text/plain": [
       "<pandas.io.formats.style.Styler at 0x2b08a196d940>"
      ]
     },
     "metadata": {},
     "output_type": "display_data"
    },
    {
     "name": "stdout",
     "output_type": "stream",
     "text": [
      "[\u001b[1mtardis.simulation.base\u001b[0m][\u001b[1;37mINFO\u001b[0m   ]  \n",
      "\t\n",
      "\tCurrent t_inner = 10475.227 K\n",
      "\tExpected t_inner for next iteration = 10491.466 K\n",
      " (\u001b[1mbase.py\u001b[0m:554)\n"
     ]
    },
    {
     "name": "stderr",
     "output_type": "stream",
     "text": [
      "\u001b[1;37mINFO\u001b[0m:tardis.simulation.base:\n",
      "\tCurrent t_inner = 10475.227 K\n",
      "\tExpected t_inner for next iteration = 10491.466 K\n",
      "\n"
     ]
    },
    {
     "name": "stdout",
     "output_type": "stream",
     "text": [
      "[\u001b[1mtardis.simulation.base\u001b[0m][\u001b[1;37mINFO\u001b[0m   ]  \n",
      "\t\n",
      "\tStarting iteration 16 of 20 (\u001b[1mbase.py\u001b[0m:385)\n"
     ]
    },
    {
     "name": "stderr",
     "output_type": "stream",
     "text": [
      "\u001b[1;37mINFO\u001b[0m:tardis.simulation.base:\n",
      "\tStarting iteration 16 of 20\n"
     ]
    },
    {
     "name": "stdout",
     "output_type": "stream",
     "text": [
      "[\u001b[1mtardis.simulation.base\u001b[0m][\u001b[1;37mINFO\u001b[0m   ]  \n",
      "\t\n",
      "\tLuminosity emitted   = 1.061e+43 erg / s\n",
      "\tLuminosity absorbed  = 2.638e+42 erg / s\n",
      "\tLuminosity requested = 1.059e+43 erg / s\n",
      " (\u001b[1mbase.py\u001b[0m:559)\n"
     ]
    },
    {
     "name": "stderr",
     "output_type": "stream",
     "text": [
      "\u001b[1;37mINFO\u001b[0m:tardis.simulation.base:\n",
      "\tLuminosity emitted   = 1.061e+43 erg / s\n",
      "\tLuminosity absorbed  = 2.638e+42 erg / s\n",
      "\tLuminosity requested = 1.059e+43 erg / s\n",
      "\n"
     ]
    },
    {
     "name": "stdout",
     "output_type": "stream",
     "text": [
      "[\u001b[1mtardis.simulation.base\u001b[0m][\u001b[1;37mINFO\u001b[0m   ]  \n",
      "\tIteration converged 4/4 consecutive times. (\u001b[1mbase.py\u001b[0m:266)\n"
     ]
    },
    {
     "name": "stderr",
     "output_type": "stream",
     "text": [
      "\u001b[1;37mINFO\u001b[0m:tardis.simulation.base:Iteration converged 4/4 consecutive times.\n"
     ]
    },
    {
     "name": "stdout",
     "output_type": "stream",
     "text": [
      "[\u001b[1mtardis.simulation.base\u001b[0m][\u001b[1;37mINFO\u001b[0m   ]  \n",
      "\t\n",
      "\tPlasma stratification: (\u001b[1mbase.py\u001b[0m:527)\n"
     ]
    },
    {
     "name": "stderr",
     "output_type": "stream",
     "text": [
      "\u001b[1;37mINFO\u001b[0m:tardis.simulation.base:\n",
      "\tPlasma stratification:\n"
     ]
    },
    {
     "data": {
      "text/html": [
       "<style  type=\"text/css\" >\n",
       "</style><table id=\"T_b5b43eb0_c6a0_11ed_ba71_e4434be0643c\" ><thead>    <tr>        <th class=\"index_name level0\" >Shell No.</th>        <th class=\"col_heading level0 col0\" >t_rad</th>        <th class=\"col_heading level0 col1\" >next_t_rad</th>        <th class=\"col_heading level0 col2\" >w</th>        <th class=\"col_heading level0 col3\" >next_w</th>    </tr></thead><tbody>\n",
       "                <tr>\n",
       "                        <th id=\"T_b5b43eb0_c6a0_11ed_ba71_e4434be0643clevel0_row0\" class=\"row_heading level0 row0\" >0</th>\n",
       "                        <td id=\"T_b5b43eb0_c6a0_11ed_ba71_e4434be0643crow0_col0\" class=\"data row0 col0\" >1.06e+04</td>\n",
       "                        <td id=\"T_b5b43eb0_c6a0_11ed_ba71_e4434be0643crow0_col1\" class=\"data row0 col1\" >1.06e+04</td>\n",
       "                        <td id=\"T_b5b43eb0_c6a0_11ed_ba71_e4434be0643crow0_col2\" class=\"data row0 col2\" >0.498</td>\n",
       "                        <td id=\"T_b5b43eb0_c6a0_11ed_ba71_e4434be0643crow0_col3\" class=\"data row0 col3\" >0.494</td>\n",
       "            </tr>\n",
       "            <tr>\n",
       "                        <th id=\"T_b5b43eb0_c6a0_11ed_ba71_e4434be0643clevel0_row1\" class=\"row_heading level0 row1\" >5</th>\n",
       "                        <td id=\"T_b5b43eb0_c6a0_11ed_ba71_e4434be0643crow1_col0\" class=\"data row1 col0\" >1.08e+04</td>\n",
       "                        <td id=\"T_b5b43eb0_c6a0_11ed_ba71_e4434be0643crow1_col1\" class=\"data row1 col1\" >1.09e+04</td>\n",
       "                        <td id=\"T_b5b43eb0_c6a0_11ed_ba71_e4434be0643crow1_col2\" class=\"data row1 col2\" >0.196</td>\n",
       "                        <td id=\"T_b5b43eb0_c6a0_11ed_ba71_e4434be0643crow1_col3\" class=\"data row1 col3\" >0.193</td>\n",
       "            </tr>\n",
       "            <tr>\n",
       "                        <th id=\"T_b5b43eb0_c6a0_11ed_ba71_e4434be0643clevel0_row2\" class=\"row_heading level0 row2\" >10</th>\n",
       "                        <td id=\"T_b5b43eb0_c6a0_11ed_ba71_e4434be0643crow2_col0\" class=\"data row2 col0\" >1.06e+04</td>\n",
       "                        <td id=\"T_b5b43eb0_c6a0_11ed_ba71_e4434be0643crow2_col1\" class=\"data row2 col1\" >1.07e+04</td>\n",
       "                        <td id=\"T_b5b43eb0_c6a0_11ed_ba71_e4434be0643crow2_col2\" class=\"data row2 col2\" >0.125</td>\n",
       "                        <td id=\"T_b5b43eb0_c6a0_11ed_ba71_e4434be0643crow2_col3\" class=\"data row2 col3\" >0.124</td>\n",
       "            </tr>\n",
       "            <tr>\n",
       "                        <th id=\"T_b5b43eb0_c6a0_11ed_ba71_e4434be0643clevel0_row3\" class=\"row_heading level0 row3\" >15</th>\n",
       "                        <td id=\"T_b5b43eb0_c6a0_11ed_ba71_e4434be0643crow3_col0\" class=\"data row3 col0\" >1.03e+04</td>\n",
       "                        <td id=\"T_b5b43eb0_c6a0_11ed_ba71_e4434be0643crow3_col1\" class=\"data row3 col1\" >1.04e+04</td>\n",
       "                        <td id=\"T_b5b43eb0_c6a0_11ed_ba71_e4434be0643crow3_col2\" class=\"data row3 col2\" >0.094</td>\n",
       "                        <td id=\"T_b5b43eb0_c6a0_11ed_ba71_e4434be0643crow3_col3\" class=\"data row3 col3\" >0.091</td>\n",
       "            </tr>\n",
       "    </tbody></table>"
      ],
      "text/plain": [
       "<pandas.io.formats.style.Styler at 0x2b08a1a15490>"
      ]
     },
     "metadata": {},
     "output_type": "display_data"
    },
    {
     "name": "stdout",
     "output_type": "stream",
     "text": [
      "[\u001b[1mtardis.simulation.base\u001b[0m][\u001b[1;37mINFO\u001b[0m   ]  \n",
      "\t\n",
      "\tCurrent t_inner = 10491.466 K\n",
      "\tExpected t_inner for next iteration = 10487.052 K\n",
      " (\u001b[1mbase.py\u001b[0m:554)\n"
     ]
    },
    {
     "name": "stderr",
     "output_type": "stream",
     "text": [
      "\u001b[1;37mINFO\u001b[0m:tardis.simulation.base:\n",
      "\tCurrent t_inner = 10491.466 K\n",
      "\tExpected t_inner for next iteration = 10487.052 K\n",
      "\n"
     ]
    },
    {
     "name": "stdout",
     "output_type": "stream",
     "text": [
      "[\u001b[1mtardis.simulation.base\u001b[0m][\u001b[1;37mINFO\u001b[0m   ]  \n",
      "\t\n",
      "\tStarting iteration 17 of 20 (\u001b[1mbase.py\u001b[0m:385)\n"
     ]
    },
    {
     "name": "stderr",
     "output_type": "stream",
     "text": [
      "\u001b[1;37mINFO\u001b[0m:tardis.simulation.base:\n",
      "\tStarting iteration 17 of 20\n"
     ]
    },
    {
     "name": "stdout",
     "output_type": "stream",
     "text": [
      "[\u001b[1mtardis.simulation.base\u001b[0m][\u001b[1;37mINFO\u001b[0m   ]  \n",
      "\t\n",
      "\tLuminosity emitted   = 1.059e+43 erg / s\n",
      "\tLuminosity absorbed  = 2.635e+42 erg / s\n",
      "\tLuminosity requested = 1.059e+43 erg / s\n",
      " (\u001b[1mbase.py\u001b[0m:559)\n"
     ]
    },
    {
     "name": "stderr",
     "output_type": "stream",
     "text": [
      "\u001b[1;37mINFO\u001b[0m:tardis.simulation.base:\n",
      "\tLuminosity emitted   = 1.059e+43 erg / s\n",
      "\tLuminosity absorbed  = 2.635e+42 erg / s\n",
      "\tLuminosity requested = 1.059e+43 erg / s\n",
      "\n"
     ]
    },
    {
     "name": "stdout",
     "output_type": "stream",
     "text": [
      "[\u001b[1mtardis.simulation.base\u001b[0m][\u001b[1;37mINFO\u001b[0m   ]  \n",
      "\tIteration converged 5/4 consecutive times. (\u001b[1mbase.py\u001b[0m:266)\n"
     ]
    },
    {
     "name": "stderr",
     "output_type": "stream",
     "text": [
      "\u001b[1;37mINFO\u001b[0m:tardis.simulation.base:Iteration converged 5/4 consecutive times.\n"
     ]
    },
    {
     "name": "stdout",
     "output_type": "stream",
     "text": [
      "[\u001b[1mtardis.simulation.base\u001b[0m][\u001b[1;37mINFO\u001b[0m   ]  \n",
      "\t\n",
      "\tPlasma stratification: (\u001b[1mbase.py\u001b[0m:527)\n"
     ]
    },
    {
     "name": "stderr",
     "output_type": "stream",
     "text": [
      "\u001b[1;37mINFO\u001b[0m:tardis.simulation.base:\n",
      "\tPlasma stratification:\n"
     ]
    },
    {
     "data": {
      "text/html": [
       "<style  type=\"text/css\" >\n",
       "</style><table id=\"T_b7706954_c6a0_11ed_ba71_e4434be0643c\" ><thead>    <tr>        <th class=\"index_name level0\" >Shell No.</th>        <th class=\"col_heading level0 col0\" >t_rad</th>        <th class=\"col_heading level0 col1\" >next_t_rad</th>        <th class=\"col_heading level0 col2\" >w</th>        <th class=\"col_heading level0 col3\" >next_w</th>    </tr></thead><tbody>\n",
       "                <tr>\n",
       "                        <th id=\"T_b7706954_c6a0_11ed_ba71_e4434be0643clevel0_row0\" class=\"row_heading level0 row0\" >0</th>\n",
       "                        <td id=\"T_b7706954_c6a0_11ed_ba71_e4434be0643crow0_col0\" class=\"data row0 col0\" >1.06e+04</td>\n",
       "                        <td id=\"T_b7706954_c6a0_11ed_ba71_e4434be0643crow0_col1\" class=\"data row0 col1\" >1.07e+04</td>\n",
       "                        <td id=\"T_b7706954_c6a0_11ed_ba71_e4434be0643crow0_col2\" class=\"data row0 col2\" >0.494</td>\n",
       "                        <td id=\"T_b7706954_c6a0_11ed_ba71_e4434be0643crow0_col3\" class=\"data row0 col3\" >0.485</td>\n",
       "            </tr>\n",
       "            <tr>\n",
       "                        <th id=\"T_b7706954_c6a0_11ed_ba71_e4434be0643clevel0_row1\" class=\"row_heading level0 row1\" >5</th>\n",
       "                        <td id=\"T_b7706954_c6a0_11ed_ba71_e4434be0643crow1_col0\" class=\"data row1 col0\" >1.09e+04</td>\n",
       "                        <td id=\"T_b7706954_c6a0_11ed_ba71_e4434be0643crow1_col1\" class=\"data row1 col1\" >1.08e+04</td>\n",
       "                        <td id=\"T_b7706954_c6a0_11ed_ba71_e4434be0643crow1_col2\" class=\"data row1 col2\" >0.193</td>\n",
       "                        <td id=\"T_b7706954_c6a0_11ed_ba71_e4434be0643crow1_col3\" class=\"data row1 col3\" >0.197</td>\n",
       "            </tr>\n",
       "            <tr>\n",
       "                        <th id=\"T_b7706954_c6a0_11ed_ba71_e4434be0643clevel0_row2\" class=\"row_heading level0 row2\" >10</th>\n",
       "                        <td id=\"T_b7706954_c6a0_11ed_ba71_e4434be0643crow2_col0\" class=\"data row2 col0\" >1.07e+04</td>\n",
       "                        <td id=\"T_b7706954_c6a0_11ed_ba71_e4434be0643crow2_col1\" class=\"data row2 col1\" >1.07e+04</td>\n",
       "                        <td id=\"T_b7706954_c6a0_11ed_ba71_e4434be0643crow2_col2\" class=\"data row2 col2\" >0.124</td>\n",
       "                        <td id=\"T_b7706954_c6a0_11ed_ba71_e4434be0643crow2_col3\" class=\"data row2 col3\" >0.122</td>\n",
       "            </tr>\n",
       "            <tr>\n",
       "                        <th id=\"T_b7706954_c6a0_11ed_ba71_e4434be0643clevel0_row3\" class=\"row_heading level0 row3\" >15</th>\n",
       "                        <td id=\"T_b7706954_c6a0_11ed_ba71_e4434be0643crow3_col0\" class=\"data row3 col0\" >1.04e+04</td>\n",
       "                        <td id=\"T_b7706954_c6a0_11ed_ba71_e4434be0643crow3_col1\" class=\"data row3 col1\" >1.04e+04</td>\n",
       "                        <td id=\"T_b7706954_c6a0_11ed_ba71_e4434be0643crow3_col2\" class=\"data row3 col2\" >0.091</td>\n",
       "                        <td id=\"T_b7706954_c6a0_11ed_ba71_e4434be0643crow3_col3\" class=\"data row3 col3\" >0.0916</td>\n",
       "            </tr>\n",
       "    </tbody></table>"
      ],
      "text/plain": [
       "<pandas.io.formats.style.Styler at 0x2b08a1a1f610>"
      ]
     },
     "metadata": {},
     "output_type": "display_data"
    },
    {
     "name": "stdout",
     "output_type": "stream",
     "text": [
      "[\u001b[1mtardis.simulation.base\u001b[0m][\u001b[1;37mINFO\u001b[0m   ]  \n",
      "\t\n",
      "\tCurrent t_inner = 10487.052 K\n",
      "\tExpected t_inner for next iteration = 10487.680 K\n",
      " (\u001b[1mbase.py\u001b[0m:554)\n"
     ]
    },
    {
     "name": "stderr",
     "output_type": "stream",
     "text": [
      "\u001b[1;37mINFO\u001b[0m:tardis.simulation.base:\n",
      "\tCurrent t_inner = 10487.052 K\n",
      "\tExpected t_inner for next iteration = 10487.680 K\n",
      "\n"
     ]
    },
    {
     "name": "stdout",
     "output_type": "stream",
     "text": [
      "[\u001b[1mtardis.simulation.base\u001b[0m][\u001b[1;37mINFO\u001b[0m   ]  \n",
      "\t\n",
      "\tStarting iteration 18 of 20 (\u001b[1mbase.py\u001b[0m:385)\n"
     ]
    },
    {
     "name": "stderr",
     "output_type": "stream",
     "text": [
      "\u001b[1;37mINFO\u001b[0m:tardis.simulation.base:\n",
      "\tStarting iteration 18 of 20\n"
     ]
    },
    {
     "name": "stdout",
     "output_type": "stream",
     "text": [
      "[\u001b[1mtardis.simulation.base\u001b[0m][\u001b[1;37mINFO\u001b[0m   ]  \n",
      "\t\n",
      "\tLuminosity emitted   = 1.063e+43 erg / s\n",
      "\tLuminosity absorbed  = 2.596e+42 erg / s\n",
      "\tLuminosity requested = 1.059e+43 erg / s\n",
      " (\u001b[1mbase.py\u001b[0m:559)\n"
     ]
    },
    {
     "name": "stderr",
     "output_type": "stream",
     "text": [
      "\u001b[1;37mINFO\u001b[0m:tardis.simulation.base:\n",
      "\tLuminosity emitted   = 1.063e+43 erg / s\n",
      "\tLuminosity absorbed  = 2.596e+42 erg / s\n",
      "\tLuminosity requested = 1.059e+43 erg / s\n",
      "\n"
     ]
    },
    {
     "name": "stdout",
     "output_type": "stream",
     "text": [
      "[\u001b[1mtardis.simulation.base\u001b[0m][\u001b[1;37mINFO\u001b[0m   ]  \n",
      "\tIteration converged 6/4 consecutive times. (\u001b[1mbase.py\u001b[0m:266)\n"
     ]
    },
    {
     "name": "stderr",
     "output_type": "stream",
     "text": [
      "\u001b[1;37mINFO\u001b[0m:tardis.simulation.base:Iteration converged 6/4 consecutive times.\n"
     ]
    },
    {
     "name": "stdout",
     "output_type": "stream",
     "text": [
      "[\u001b[1mtardis.simulation.base\u001b[0m][\u001b[1;37mINFO\u001b[0m   ]  \n",
      "\t\n",
      "\tPlasma stratification: (\u001b[1mbase.py\u001b[0m:527)\n"
     ]
    },
    {
     "name": "stderr",
     "output_type": "stream",
     "text": [
      "\u001b[1;37mINFO\u001b[0m:tardis.simulation.base:\n",
      "\tPlasma stratification:\n"
     ]
    },
    {
     "data": {
      "text/html": [
       "<style  type=\"text/css\" >\n",
       "</style><table id=\"T_b9328d58_c6a0_11ed_ba71_e4434be0643c\" ><thead>    <tr>        <th class=\"index_name level0\" >Shell No.</th>        <th class=\"col_heading level0 col0\" >t_rad</th>        <th class=\"col_heading level0 col1\" >next_t_rad</th>        <th class=\"col_heading level0 col2\" >w</th>        <th class=\"col_heading level0 col3\" >next_w</th>    </tr></thead><tbody>\n",
       "                <tr>\n",
       "                        <th id=\"T_b9328d58_c6a0_11ed_ba71_e4434be0643clevel0_row0\" class=\"row_heading level0 row0\" >0</th>\n",
       "                        <td id=\"T_b9328d58_c6a0_11ed_ba71_e4434be0643crow0_col0\" class=\"data row0 col0\" >1.07e+04</td>\n",
       "                        <td id=\"T_b9328d58_c6a0_11ed_ba71_e4434be0643crow0_col1\" class=\"data row0 col1\" >1.07e+04</td>\n",
       "                        <td id=\"T_b9328d58_c6a0_11ed_ba71_e4434be0643crow0_col2\" class=\"data row0 col2\" >0.485</td>\n",
       "                        <td id=\"T_b9328d58_c6a0_11ed_ba71_e4434be0643crow0_col3\" class=\"data row0 col3\" >0.49</td>\n",
       "            </tr>\n",
       "            <tr>\n",
       "                        <th id=\"T_b9328d58_c6a0_11ed_ba71_e4434be0643clevel0_row1\" class=\"row_heading level0 row1\" >5</th>\n",
       "                        <td id=\"T_b9328d58_c6a0_11ed_ba71_e4434be0643crow1_col0\" class=\"data row1 col0\" >1.08e+04</td>\n",
       "                        <td id=\"T_b9328d58_c6a0_11ed_ba71_e4434be0643crow1_col1\" class=\"data row1 col1\" >1.08e+04</td>\n",
       "                        <td id=\"T_b9328d58_c6a0_11ed_ba71_e4434be0643crow1_col2\" class=\"data row1 col2\" >0.197</td>\n",
       "                        <td id=\"T_b9328d58_c6a0_11ed_ba71_e4434be0643crow1_col3\" class=\"data row1 col3\" >0.2</td>\n",
       "            </tr>\n",
       "            <tr>\n",
       "                        <th id=\"T_b9328d58_c6a0_11ed_ba71_e4434be0643clevel0_row2\" class=\"row_heading level0 row2\" >10</th>\n",
       "                        <td id=\"T_b9328d58_c6a0_11ed_ba71_e4434be0643crow2_col0\" class=\"data row2 col0\" >1.07e+04</td>\n",
       "                        <td id=\"T_b9328d58_c6a0_11ed_ba71_e4434be0643crow2_col1\" class=\"data row2 col1\" >1.07e+04</td>\n",
       "                        <td id=\"T_b9328d58_c6a0_11ed_ba71_e4434be0643crow2_col2\" class=\"data row2 col2\" >0.122</td>\n",
       "                        <td id=\"T_b9328d58_c6a0_11ed_ba71_e4434be0643crow2_col3\" class=\"data row2 col3\" >0.124</td>\n",
       "            </tr>\n",
       "            <tr>\n",
       "                        <th id=\"T_b9328d58_c6a0_11ed_ba71_e4434be0643clevel0_row3\" class=\"row_heading level0 row3\" >15</th>\n",
       "                        <td id=\"T_b9328d58_c6a0_11ed_ba71_e4434be0643crow3_col0\" class=\"data row3 col0\" >1.04e+04</td>\n",
       "                        <td id=\"T_b9328d58_c6a0_11ed_ba71_e4434be0643crow3_col1\" class=\"data row3 col1\" >1.04e+04</td>\n",
       "                        <td id=\"T_b9328d58_c6a0_11ed_ba71_e4434be0643crow3_col2\" class=\"data row3 col2\" >0.0916</td>\n",
       "                        <td id=\"T_b9328d58_c6a0_11ed_ba71_e4434be0643crow3_col3\" class=\"data row3 col3\" >0.0911</td>\n",
       "            </tr>\n",
       "    </tbody></table>"
      ],
      "text/plain": [
       "<pandas.io.formats.style.Styler at 0x2b08a197b9a0>"
      ]
     },
     "metadata": {},
     "output_type": "display_data"
    },
    {
     "name": "stdout",
     "output_type": "stream",
     "text": [
      "[\u001b[1mtardis.simulation.base\u001b[0m][\u001b[1;37mINFO\u001b[0m   ]  \n",
      "\t\n",
      "\tCurrent t_inner = 10487.680 K\n",
      "\tExpected t_inner for next iteration = 10477.645 K\n",
      " (\u001b[1mbase.py\u001b[0m:554)\n"
     ]
    },
    {
     "name": "stderr",
     "output_type": "stream",
     "text": [
      "\u001b[1;37mINFO\u001b[0m:tardis.simulation.base:\n",
      "\tCurrent t_inner = 10487.680 K\n",
      "\tExpected t_inner for next iteration = 10477.645 K\n",
      "\n"
     ]
    },
    {
     "name": "stdout",
     "output_type": "stream",
     "text": [
      "[\u001b[1mtardis.simulation.base\u001b[0m][\u001b[1;37mINFO\u001b[0m   ]  \n",
      "\t\n",
      "\tStarting iteration 19 of 20 (\u001b[1mbase.py\u001b[0m:385)\n"
     ]
    },
    {
     "name": "stderr",
     "output_type": "stream",
     "text": [
      "\u001b[1;37mINFO\u001b[0m:tardis.simulation.base:\n",
      "\tStarting iteration 19 of 20\n"
     ]
    },
    {
     "name": "stdout",
     "output_type": "stream",
     "text": [
      "[\u001b[1mtardis.simulation.base\u001b[0m][\u001b[1;37mINFO\u001b[0m   ]  \n",
      "\t\n",
      "\tLuminosity emitted   = 1.058e+43 erg / s\n",
      "\tLuminosity absorbed  = 2.601e+42 erg / s\n",
      "\tLuminosity requested = 1.059e+43 erg / s\n",
      " (\u001b[1mbase.py\u001b[0m:559)\n"
     ]
    },
    {
     "name": "stderr",
     "output_type": "stream",
     "text": [
      "\u001b[1;37mINFO\u001b[0m:tardis.simulation.base:\n",
      "\tLuminosity emitted   = 1.058e+43 erg / s\n",
      "\tLuminosity absorbed  = 2.601e+42 erg / s\n",
      "\tLuminosity requested = 1.059e+43 erg / s\n",
      "\n"
     ]
    },
    {
     "name": "stdout",
     "output_type": "stream",
     "text": [
      "[\u001b[1mtardis.simulation.base\u001b[0m][\u001b[1;37mINFO\u001b[0m   ]  \n",
      "\tIteration converged 7/4 consecutive times. (\u001b[1mbase.py\u001b[0m:266)\n"
     ]
    },
    {
     "name": "stderr",
     "output_type": "stream",
     "text": [
      "\u001b[1;37mINFO\u001b[0m:tardis.simulation.base:Iteration converged 7/4 consecutive times.\n"
     ]
    },
    {
     "name": "stdout",
     "output_type": "stream",
     "text": [
      "[\u001b[1mtardis.simulation.base\u001b[0m][\u001b[1;37mINFO\u001b[0m   ]  \n",
      "\t\n",
      "\tPlasma stratification: (\u001b[1mbase.py\u001b[0m:527)\n"
     ]
    },
    {
     "name": "stderr",
     "output_type": "stream",
     "text": [
      "\u001b[1;37mINFO\u001b[0m:tardis.simulation.base:\n",
      "\tPlasma stratification:\n"
     ]
    },
    {
     "data": {
      "text/html": [
       "<style  type=\"text/css\" >\n",
       "</style><table id=\"T_baf66024_c6a0_11ed_ba71_e4434be0643c\" ><thead>    <tr>        <th class=\"index_name level0\" >Shell No.</th>        <th class=\"col_heading level0 col0\" >t_rad</th>        <th class=\"col_heading level0 col1\" >next_t_rad</th>        <th class=\"col_heading level0 col2\" >w</th>        <th class=\"col_heading level0 col3\" >next_w</th>    </tr></thead><tbody>\n",
       "                <tr>\n",
       "                        <th id=\"T_baf66024_c6a0_11ed_ba71_e4434be0643clevel0_row0\" class=\"row_heading level0 row0\" >0</th>\n",
       "                        <td id=\"T_baf66024_c6a0_11ed_ba71_e4434be0643crow0_col0\" class=\"data row0 col0\" >1.07e+04</td>\n",
       "                        <td id=\"T_baf66024_c6a0_11ed_ba71_e4434be0643crow0_col1\" class=\"data row0 col1\" >1.07e+04</td>\n",
       "                        <td id=\"T_baf66024_c6a0_11ed_ba71_e4434be0643crow0_col2\" class=\"data row0 col2\" >0.49</td>\n",
       "                        <td id=\"T_baf66024_c6a0_11ed_ba71_e4434be0643crow0_col3\" class=\"data row0 col3\" >0.487</td>\n",
       "            </tr>\n",
       "            <tr>\n",
       "                        <th id=\"T_baf66024_c6a0_11ed_ba71_e4434be0643clevel0_row1\" class=\"row_heading level0 row1\" >5</th>\n",
       "                        <td id=\"T_baf66024_c6a0_11ed_ba71_e4434be0643crow1_col0\" class=\"data row1 col0\" >1.08e+04</td>\n",
       "                        <td id=\"T_baf66024_c6a0_11ed_ba71_e4434be0643crow1_col1\" class=\"data row1 col1\" >1.08e+04</td>\n",
       "                        <td id=\"T_baf66024_c6a0_11ed_ba71_e4434be0643crow1_col2\" class=\"data row1 col2\" >0.2</td>\n",
       "                        <td id=\"T_baf66024_c6a0_11ed_ba71_e4434be0643crow1_col3\" class=\"data row1 col3\" >0.2</td>\n",
       "            </tr>\n",
       "            <tr>\n",
       "                        <th id=\"T_baf66024_c6a0_11ed_ba71_e4434be0643clevel0_row2\" class=\"row_heading level0 row2\" >10</th>\n",
       "                        <td id=\"T_baf66024_c6a0_11ed_ba71_e4434be0643crow2_col0\" class=\"data row2 col0\" >1.07e+04</td>\n",
       "                        <td id=\"T_baf66024_c6a0_11ed_ba71_e4434be0643crow2_col1\" class=\"data row2 col1\" >1.07e+04</td>\n",
       "                        <td id=\"T_baf66024_c6a0_11ed_ba71_e4434be0643crow2_col2\" class=\"data row2 col2\" >0.124</td>\n",
       "                        <td id=\"T_baf66024_c6a0_11ed_ba71_e4434be0643crow2_col3\" class=\"data row2 col3\" >0.124</td>\n",
       "            </tr>\n",
       "            <tr>\n",
       "                        <th id=\"T_baf66024_c6a0_11ed_ba71_e4434be0643clevel0_row3\" class=\"row_heading level0 row3\" >15</th>\n",
       "                        <td id=\"T_baf66024_c6a0_11ed_ba71_e4434be0643crow3_col0\" class=\"data row3 col0\" >1.04e+04</td>\n",
       "                        <td id=\"T_baf66024_c6a0_11ed_ba71_e4434be0643crow3_col1\" class=\"data row3 col1\" >1.04e+04</td>\n",
       "                        <td id=\"T_baf66024_c6a0_11ed_ba71_e4434be0643crow3_col2\" class=\"data row3 col2\" >0.0911</td>\n",
       "                        <td id=\"T_baf66024_c6a0_11ed_ba71_e4434be0643crow3_col3\" class=\"data row3 col3\" >0.0917</td>\n",
       "            </tr>\n",
       "    </tbody></table>"
      ],
      "text/plain": [
       "<pandas.io.formats.style.Styler at 0x2b08a197b9d0>"
      ]
     },
     "metadata": {},
     "output_type": "display_data"
    },
    {
     "name": "stdout",
     "output_type": "stream",
     "text": [
      "[\u001b[1mtardis.simulation.base\u001b[0m][\u001b[1;37mINFO\u001b[0m   ]  \n",
      "\t\n",
      "\tCurrent t_inner = 10477.645 K\n",
      "\tExpected t_inner for next iteration = 10481.505 K\n",
      " (\u001b[1mbase.py\u001b[0m:554)\n"
     ]
    },
    {
     "name": "stderr",
     "output_type": "stream",
     "text": [
      "\u001b[1;37mINFO\u001b[0m:tardis.simulation.base:\n",
      "\tCurrent t_inner = 10477.645 K\n",
      "\tExpected t_inner for next iteration = 10481.505 K\n",
      "\n"
     ]
    },
    {
     "name": "stdout",
     "output_type": "stream",
     "text": [
      "[\u001b[1mtardis.simulation.base\u001b[0m][\u001b[1;37mINFO\u001b[0m   ]  \n",
      "\t\n",
      "\tStarting iteration 20 of 20 (\u001b[1mbase.py\u001b[0m:385)\n"
     ]
    },
    {
     "name": "stderr",
     "output_type": "stream",
     "text": [
      "\u001b[1;37mINFO\u001b[0m:tardis.simulation.base:\n",
      "\tStarting iteration 20 of 20\n"
     ]
    },
    {
     "name": "stdout",
     "output_type": "stream",
     "text": [
      "[\u001b[1mtardis.simulation.base\u001b[0m][\u001b[1;37mINFO\u001b[0m   ]  \n",
      "\t\n",
      "\tLuminosity emitted   = 1.059e+43 erg / s\n",
      "\tLuminosity absorbed  = 2.608e+42 erg / s\n",
      "\tLuminosity requested = 1.059e+43 erg / s\n",
      " (\u001b[1mbase.py\u001b[0m:559)\n"
     ]
    },
    {
     "name": "stderr",
     "output_type": "stream",
     "text": [
      "\u001b[1;37mINFO\u001b[0m:tardis.simulation.base:\n",
      "\tLuminosity emitted   = 1.059e+43 erg / s\n",
      "\tLuminosity absorbed  = 2.608e+42 erg / s\n",
      "\tLuminosity requested = 1.059e+43 erg / s\n",
      "\n"
     ]
    },
    {
     "name": "stdout",
     "output_type": "stream",
     "text": [
      "[\u001b[1mtardis.simulation.base\u001b[0m][\u001b[1;37mINFO\u001b[0m   ]  \n",
      "\t\n",
      "\tSimulation finished in 20 iterations \n",
      "\tSimulation took 100.60 s\n",
      " (\u001b[1mbase.py\u001b[0m:480)\n"
     ]
    },
    {
     "name": "stderr",
     "output_type": "stream",
     "text": [
      "\u001b[1;37mINFO\u001b[0m:tardis.simulation.base:\n",
      "\tSimulation finished in 20 iterations \n",
      "\tSimulation took 100.60 s\n",
      "\n"
     ]
    }
   ],
   "source": [
    "sim = tardis.run_tardis(my_config, atom_data='kurucz_cd23_chianti_H_He.h5')\n"
   ]
  },
  {
   "cell_type": "code",
   "execution_count": 24,
   "metadata": {},
   "outputs": [
    {
     "data": {
      "text/plain": [
       "array([1.100e+09, 1.145e+09, 1.190e+09, 1.235e+09, 1.280e+09, 1.325e+09,\n",
       "       1.370e+09, 1.415e+09, 1.460e+09, 1.505e+09, 1.550e+09, 1.595e+09,\n",
       "       1.640e+09, 1.685e+09, 1.730e+09, 1.775e+09, 1.820e+09, 1.865e+09,\n",
       "       1.910e+09, 1.955e+09])"
      ]
     },
     "execution_count": 24,
     "metadata": {},
     "output_type": "execute_result"
    }
   ],
   "source": [
    "sim.model.v_inner.value"
   ]
  },
  {
   "cell_type": "code",
   "execution_count": 41,
   "metadata": {},
   "outputs": [
    {
     "data": {
      "text/plain": [
       "Text(0, 0.5, 'Dilution Factor')"
      ]
     },
     "execution_count": 41,
     "metadata": {},
     "output_type": "execute_result"
    },
    {
     "data": {
      "image/png": "[encoded data removed]",
      "text/plain": [
       "<Figure size 640x480 with 1 Axes>"
      ]
     },
     "metadata": {},
     "output_type": "display_data"
    },
    {
     "data": {
      "image/png": "[encoded data removed]",
      "text/plain": [
       "<Figure size 640x480 with 1 Axes>"
      ]
     },
     "metadata": {},
     "output_type": "display_data"
    }
   ],
   "source": [
    "%matplotlib inline\n",
    "import matplotlib.pyplot as plt\n",
    "\n",
    "plt.plot(sim.model.v_inner, sim.model.t_rad)\n",
    "plt.xlabel('Velocity (km/s)')\n",
    "plt.ylabel('T_rad (K)')\n",
    "plt.figure()\n",
    "plt.plot(sim.model.v_inner, sim.model.w)\n",
    "plt.xlabel('Velocity (km/s)')\n",
    "plt.ylabel('Dilution Factor')"
   ]
  },
  {
   "cell_type": "code",
   "execution_count": 42,
   "metadata": {},
   "outputs": [
    {
     "name": "stdout",
     "output_type": "stream",
     "text": [
      "[\u001b[1mpy.warnings         \u001b[0m][\u001b[1;33mWARNING\u001b[0m]  \n",
      "\t/home/grunew14/mambaforge/envs/tardis2/lib/python3.8/site-packages/tardis/montecarlo/montecarlo_numba/formal_integral.py:371: UserWarning: The number of interpolate_shells was not specified. The value was set to 80.\n",
      "  warnings.warn(\n",
      " (\u001b[1mwarnings.py\u001b[0m:109)\n"
     ]
    },
    {
     "data": {
      "image/png": "[encoded data removed]",
      "text/plain": [
       "<Figure size 640x480 with 1 Axes>"
      ]
     },
     "metadata": {},
     "output_type": "display_data"
    }
   ],
   "source": [
    "%matplotlib inline\n",
    "sim.runner.spectrum_integrated.plot()\n",
    "plt.xscale('log')"
   ]
  },
  {
   "cell_type": "code",
   "execution_count": null,
   "metadata": {},
   "outputs": [],
   "source": [
    "sim.model.t_rad.tofile\n",
    "with open('blah', 'w') as f:\n",
    "    f.write(','.join([str(i) for i in sim.model.t_rad]))"
   ]
  },
  {
   "cell_type": "code",
   "execution_count": 1,
   "metadata": {},
   "outputs": [
    {
     "data": {
      "application/vnd.jupyter.widget-view+json": {
       "model_id": "98c8c4c7d16a40b0bb818716ff2e40a2",
       "version_major": 2,
       "version_minor": 0
      },
      "text/plain": [
       "Iterations:          0/? [00:00<?, ?it/s]"
      ]
     },
     "metadata": {},
     "output_type": "display_data"
    },
    {
     "data": {
      "application/vnd.jupyter.widget-view+json": {
       "model_id": "eafc8a2db45a420cbc09b1bda47042f0",
       "version_major": 2,
       "version_minor": 0
      },
      "text/plain": [
       "Packets:             0/? [00:00<?, ?it/s]"
      ]
     },
     "metadata": {},
     "output_type": "display_data"
    }
   ],
   "source": [
    "from scripts import script\n",
    "import pandas as pd\n",
    "import os"
   ]
  },
  {
   "cell_type": "code",
   "execution_count": 2,
   "metadata": {},
   "outputs": [
    {
     "name": "stdout",
     "output_type": "stream",
     "text": [
      "[\u001b[1mtardis.io.atom_data.util\u001b[0m][\u001b[1;37mINFO\u001b[0m   ]  \n",
      "\t\n",
      "\tAtom Data kurucz_cd23_chianti_H_He.h5 not found in local path.\n",
      "\tExists in TARDIS Data repo /mnt/home/grunew14/Downloads/tardis-data/kurucz_cd23_chianti_H_He.h5 (\u001b[1mutil.py\u001b[0m:33)\n",
      "[\u001b[1mtardis.io.atom_data.base\u001b[0m][\u001b[1;37mINFO\u001b[0m   ]  \n",
      "\tReading Atom Data with: UUID = 6f7b09e887a311e7a06b246e96350010 MD5  = 864f1753714343c41f99cb065710cace  (\u001b[1mbase.py\u001b[0m:249)\n",
      "[\u001b[1mtardis.io.atom_data.base\u001b[0m][\u001b[1;37mINFO\u001b[0m   ]  \n",
      "\tNon provided Atomic Data: synpp_refs, photoionization_data, yg_data, two_photon_data (\u001b[1mbase.py\u001b[0m:253)\n",
      "[\u001b[1mpy.warnings         \u001b[0m][\u001b[1;33mWARNING\u001b[0m]  \n",
      "\t/mnt/home/grunew14/anaconda3/envs/tardis/lib/python3.8/site-packages/tardis/plasma/properties/radiative_properties.py:93: RuntimeWarning: invalid value encountered in true_divide\n",
      "  (g_lower * n_upper) / (g_upper * n_lower)\n",
      " (\u001b[1mwarnings.py\u001b[0m:109)\n",
      "[\u001b[1mpy.warnings         \u001b[0m][\u001b[1;33mWARNING\u001b[0m]  \n",
      "\t/mnt/home/grunew14/anaconda3/envs/tardis/lib/python3.8/site-packages/numba/np/ufunc/parallel.py:365: NumbaWarning: \u001b[1mThe TBB threading layer requires TBB version 2019.5 or later i.e., TBB_INTERFACE_VERSION >= 11005. Found TBB_INTERFACE_VERSION = 10003. The TBB threading layer is disabled.\u001b[0m\n",
      "  warnings.warn(problem)\n",
      " (\u001b[1mwarnings.py\u001b[0m:109)\n",
      "[\u001b[1mpy.warnings         \u001b[0m][\u001b[1;33mWARNING\u001b[0m]  \n",
      "\t/mnt/home/grunew14/anaconda3/envs/tardis/lib/python3.8/site-packages/tardis/plasma/properties/radiative_properties.py:93: RuntimeWarning: invalid value encountered in true_divide\n",
      "  (g_lower * n_upper) / (g_upper * n_lower)\n",
      " (\u001b[1mwarnings.py\u001b[0m:109)\n",
      "[\u001b[1mtardis.simulation.base\u001b[0m][\u001b[1;37mINFO\u001b[0m   ]  \n",
      "\t\n",
      "\tStarting iteration 1 of 20 (\u001b[1mbase.py\u001b[0m:385)\n"
     ]
    },
    {
     "data": {
      "application/vnd.jupyter.widget-view+json": {
       "model_id": "30884e329dbf4faba3af54b868817174",
       "version_major": 2,
       "version_minor": 0
      },
      "text/plain": [
       "TqdmHBox(children=(HTML(value='Iterations:', layout=Layout(width='6%')), FloatProgress(value=0.0, layout=Layou…"
      ]
     },
     "metadata": {},
     "output_type": "display_data"
    },
    {
     "data": {
      "application/vnd.jupyter.widget-view+json": {
       "model_id": "4b0eca80a71d4f20a390cc4178510c6b",
       "version_major": 2,
       "version_minor": 0
      },
      "text/plain": [
       "TqdmHBox(children=(HTML(value='Packets:   ', layout=Layout(width='6%')), FloatProgress(value=0.0, layout=Layou…"
      ]
     },
     "metadata": {},
     "output_type": "display_data"
    },
    {
     "name": "stdout",
     "output_type": "stream",
     "text": [
      "[\u001b[1mtardis.simulation.base\u001b[0m][\u001b[1;37mINFO\u001b[0m   ]  \n",
      "\t\n",
      "\tLuminosity emitted   = 4.646e+42 erg / s\n",
      "\tLuminosity absorbed  = 5.761e+42 erg / s\n",
      "\tLuminosity requested = 1.059e+43 erg / s\n",
      " (\u001b[1mbase.py\u001b[0m:559)\n",
      "[\u001b[1mtardis.simulation.base\u001b[0m][\u001b[1;37mINFO\u001b[0m   ]  \n",
      "\t\n",
      "\tPlasma stratification: (\u001b[1mbase.py\u001b[0m:527)\n"
     ]
    },
    {
     "data": {
      "text/html": [
       "<style  type=\"text/css\" >\n",
       "</style><table id=\"T_101b645c_c6ae_11ed_929e_e4434be0643c\" ><thead>    <tr>        <th class=\"index_name level0\" >Shell No.</th>        <th class=\"col_heading level0 col0\" >t_rad</th>        <th class=\"col_heading level0 col1\" >next_t_rad</th>        <th class=\"col_heading level0 col2\" >w</th>        <th class=\"col_heading level0 col3\" >next_w</th>    </tr></thead><tbody>\n",
       "                <tr>\n",
       "                        <th id=\"T_101b645c_c6ae_11ed_929e_e4434be0643clevel0_row0\" class=\"row_heading level0 row0\" >0</th>\n",
       "                        <td id=\"T_101b645c_c6ae_11ed_929e_e4434be0643crow0_col0\" class=\"data row0 col0\" >9.93e+03</td>\n",
       "                        <td id=\"T_101b645c_c6ae_11ed_929e_e4434be0643crow0_col1\" class=\"data row0 col1\" >1.05e+04</td>\n",
       "                        <td id=\"T_101b645c_c6ae_11ed_929e_e4434be0643crow0_col2\" class=\"data row0 col2\" >0.4</td>\n",
       "                        <td id=\"T_101b645c_c6ae_11ed_929e_e4434be0643crow0_col3\" class=\"data row0 col3\" >0.514</td>\n",
       "            </tr>\n",
       "            <tr>\n",
       "                        <th id=\"T_101b645c_c6ae_11ed_929e_e4434be0643clevel0_row1\" class=\"row_heading level0 row1\" >5</th>\n",
       "                        <td id=\"T_101b645c_c6ae_11ed_929e_e4434be0643crow1_col0\" class=\"data row1 col0\" >9.85e+03</td>\n",
       "                        <td id=\"T_101b645c_c6ae_11ed_929e_e4434be0643crow1_col1\" class=\"data row1 col1\" >9.33e+03</td>\n",
       "                        <td id=\"T_101b645c_c6ae_11ed_929e_e4434be0643crow1_col2\" class=\"data row1 col2\" >0.211</td>\n",
       "                        <td id=\"T_101b645c_c6ae_11ed_929e_e4434be0643crow1_col3\" class=\"data row1 col3\" >0.237</td>\n",
       "            </tr>\n",
       "            <tr>\n",
       "                        <th id=\"T_101b645c_c6ae_11ed_929e_e4434be0643clevel0_row2\" class=\"row_heading level0 row2\" >10</th>\n",
       "                        <td id=\"T_101b645c_c6ae_11ed_929e_e4434be0643crow2_col0\" class=\"data row2 col0\" >9.78e+03</td>\n",
       "                        <td id=\"T_101b645c_c6ae_11ed_929e_e4434be0643crow2_col1\" class=\"data row2 col1\" >8.24e+03</td>\n",
       "                        <td id=\"T_101b645c_c6ae_11ed_929e_e4434be0643crow2_col2\" class=\"data row2 col2\" >0.143</td>\n",
       "                        <td id=\"T_101b645c_c6ae_11ed_929e_e4434be0643crow2_col3\" class=\"data row2 col3\" >0.188</td>\n",
       "            </tr>\n",
       "            <tr>\n",
       "                        <th id=\"T_101b645c_c6ae_11ed_929e_e4434be0643clevel0_row3\" class=\"row_heading level0 row3\" >15</th>\n",
       "                        <td id=\"T_101b645c_c6ae_11ed_929e_e4434be0643crow3_col0\" class=\"data row3 col0\" >9.71e+03</td>\n",
       "                        <td id=\"T_101b645c_c6ae_11ed_929e_e4434be0643crow3_col1\" class=\"data row3 col1\" >7.33e+03</td>\n",
       "                        <td id=\"T_101b645c_c6ae_11ed_929e_e4434be0643crow3_col2\" class=\"data row3 col2\" >0.105</td>\n",
       "                        <td id=\"T_101b645c_c6ae_11ed_929e_e4434be0643crow3_col3\" class=\"data row3 col3\" >0.179</td>\n",
       "            </tr>\n",
       "    </tbody></table>"
      ],
      "text/plain": [
       "<pandas.io.formats.style.Styler at 0x2b542619b460>"
      ]
     },
     "metadata": {},
     "output_type": "display_data"
    },
    {
     "name": "stdout",
     "output_type": "stream",
     "text": [
      "[\u001b[1mtardis.simulation.base\u001b[0m][\u001b[1;37mINFO\u001b[0m   ]  \n",
      "\t\n",
      "\tCurrent t_inner = 9933.952 K\n",
      "\tExpected t_inner for next iteration = 12466.521 K\n",
      " (\u001b[1mbase.py\u001b[0m:554)\n",
      "[\u001b[1mpy.warnings         \u001b[0m][\u001b[1;33mWARNING\u001b[0m]  \n",
      "\t/mnt/home/grunew14/anaconda3/envs/tardis/lib/python3.8/site-packages/tardis/plasma/properties/radiative_properties.py:93: RuntimeWarning: invalid value encountered in true_divide\n",
      "  (g_lower * n_upper) / (g_upper * n_lower)\n",
      " (\u001b[1mwarnings.py\u001b[0m:109)\n",
      "[\u001b[1mtardis.simulation.base\u001b[0m][\u001b[1;37mINFO\u001b[0m   ]  \n",
      "\t\n",
      "\tStarting iteration 2 of 20 (\u001b[1mbase.py\u001b[0m:385)\n",
      "[\u001b[1mtardis.simulation.base\u001b[0m][\u001b[1;37mINFO\u001b[0m   ]  \n",
      "\t\n",
      "\tLuminosity emitted   = 8.092e+42 erg / s\n",
      "\tLuminosity absorbed  = 1.734e+43 erg / s\n",
      "\tLuminosity requested = 1.059e+43 erg / s\n",
      " (\u001b[1mbase.py\u001b[0m:559)\n",
      "[\u001b[1mtardis.simulation.base\u001b[0m][\u001b[1;37mINFO\u001b[0m   ]  \n",
      "\t\n",
      "\tPlasma stratification: (\u001b[1mbase.py\u001b[0m:527)\n"
     ]
    },
    {
     "data": {
      "text/html": [
       "<style  type=\"text/css\" >\n",
       "</style><table id=\"T_12d18956_c6ae_11ed_929e_e4434be0643c\" ><thead>    <tr>        <th class=\"index_name level0\" >Shell No.</th>        <th class=\"col_heading level0 col0\" >t_rad</th>        <th class=\"col_heading level0 col1\" >next_t_rad</th>        <th class=\"col_heading level0 col2\" >w</th>        <th class=\"col_heading level0 col3\" >next_w</th>    </tr></thead><tbody>\n",
       "                <tr>\n",
       "                        <th id=\"T_12d18956_c6ae_11ed_929e_e4434be0643clevel0_row0\" class=\"row_heading level0 row0\" >0</th>\n",
       "                        <td id=\"T_12d18956_c6ae_11ed_929e_e4434be0643crow0_col0\" class=\"data row0 col0\" >1.05e+04</td>\n",
       "                        <td id=\"T_12d18956_c6ae_11ed_929e_e4434be0643crow0_col1\" class=\"data row0 col1\" >1.2e+04</td>\n",
       "                        <td id=\"T_12d18956_c6ae_11ed_929e_e4434be0643crow0_col2\" class=\"data row0 col2\" >0.514</td>\n",
       "                        <td id=\"T_12d18956_c6ae_11ed_929e_e4434be0643crow0_col3\" class=\"data row0 col3\" >0.776</td>\n",
       "            </tr>\n",
       "            <tr>\n",
       "                        <th id=\"T_12d18956_c6ae_11ed_929e_e4434be0643clevel0_row1\" class=\"row_heading level0 row1\" >5</th>\n",
       "                        <td id=\"T_12d18956_c6ae_11ed_929e_e4434be0643crow1_col0\" class=\"data row1 col0\" >9.33e+03</td>\n",
       "                        <td id=\"T_12d18956_c6ae_11ed_929e_e4434be0643crow1_col1\" class=\"data row1 col1\" >1.04e+04</td>\n",
       "                        <td id=\"T_12d18956_c6ae_11ed_929e_e4434be0643crow1_col2\" class=\"data row1 col2\" >0.237</td>\n",
       "                        <td id=\"T_12d18956_c6ae_11ed_929e_e4434be0643crow1_col3\" class=\"data row1 col3\" >0.44</td>\n",
       "            </tr>\n",
       "            <tr>\n",
       "                        <th id=\"T_12d18956_c6ae_11ed_929e_e4434be0643clevel0_row2\" class=\"row_heading level0 row2\" >10</th>\n",
       "                        <td id=\"T_12d18956_c6ae_11ed_929e_e4434be0643crow2_col0\" class=\"data row2 col0\" >8.24e+03</td>\n",
       "                        <td id=\"T_12d18956_c6ae_11ed_929e_e4434be0643crow2_col1\" class=\"data row2 col1\" >9.38e+03</td>\n",
       "                        <td id=\"T_12d18956_c6ae_11ed_929e_e4434be0643crow2_col2\" class=\"data row2 col2\" >0.188</td>\n",
       "                        <td id=\"T_12d18956_c6ae_11ed_929e_e4434be0643crow2_col3\" class=\"data row2 col3\" >0.336</td>\n",
       "            </tr>\n",
       "            <tr>\n",
       "                        <th id=\"T_12d18956_c6ae_11ed_929e_e4434be0643clevel0_row3\" class=\"row_heading level0 row3\" >15</th>\n",
       "                        <td id=\"T_12d18956_c6ae_11ed_929e_e4434be0643crow3_col0\" class=\"data row3 col0\" >7.33e+03</td>\n",
       "                        <td id=\"T_12d18956_c6ae_11ed_929e_e4434be0643crow3_col1\" class=\"data row3 col1\" >8.59e+03</td>\n",
       "                        <td id=\"T_12d18956_c6ae_11ed_929e_e4434be0643crow3_col2\" class=\"data row3 col2\" >0.179</td>\n",
       "                        <td id=\"T_12d18956_c6ae_11ed_929e_e4434be0643crow3_col3\" class=\"data row3 col3\" >0.28</td>\n",
       "            </tr>\n",
       "    </tbody></table>"
      ],
      "text/plain": [
       "<pandas.io.formats.style.Styler at 0x2b54261b6d00>"
      ]
     },
     "metadata": {},
     "output_type": "display_data"
    },
    {
     "name": "stdout",
     "output_type": "stream",
     "text": [
      "[\u001b[1mtardis.simulation.base\u001b[0m][\u001b[1;37mINFO\u001b[0m   ]  \n",
      "\t\n",
      "\tCurrent t_inner = 12466.521 K\n",
      "\tExpected t_inner for next iteration = 13365.011 K\n",
      " (\u001b[1mbase.py\u001b[0m:554)\n",
      "[\u001b[1mtardis.simulation.base\u001b[0m][\u001b[1;37mINFO\u001b[0m   ]  \n",
      "\t\n",
      "\tStarting iteration 3 of 20 (\u001b[1mbase.py\u001b[0m:385)\n",
      "[\u001b[1mtardis.simulation.base\u001b[0m][\u001b[1;37mINFO\u001b[0m   ]  \n",
      "\t\n",
      "\tLuminosity emitted   = 1.106e+43 erg / s\n",
      "\tLuminosity absorbed  = 2.271e+43 erg / s\n",
      "\tLuminosity requested = 1.059e+43 erg / s\n",
      " (\u001b[1mbase.py\u001b[0m:559)\n",
      "[\u001b[1mtardis.simulation.base\u001b[0m][\u001b[1;37mINFO\u001b[0m   ]  \n",
      "\t\n",
      "\tPlasma stratification: (\u001b[1mbase.py\u001b[0m:527)\n"
     ]
    },
    {
     "data": {
      "text/html": [
       "<style  type=\"text/css\" >\n",
       "</style><table id=\"T_15492950_c6ae_11ed_929e_e4434be0643c\" ><thead>    <tr>        <th class=\"index_name level0\" >Shell No.</th>        <th class=\"col_heading level0 col0\" >t_rad</th>        <th class=\"col_heading level0 col1\" >next_t_rad</th>        <th class=\"col_heading level0 col2\" >w</th>        <th class=\"col_heading level0 col3\" >next_w</th>    </tr></thead><tbody>\n",
       "                <tr>\n",
       "                        <th id=\"T_15492950_c6ae_11ed_929e_e4434be0643clevel0_row0\" class=\"row_heading level0 row0\" >0</th>\n",
       "                        <td id=\"T_15492950_c6ae_11ed_929e_e4434be0643crow0_col0\" class=\"data row0 col0\" >1.2e+04</td>\n",
       "                        <td id=\"T_15492950_c6ae_11ed_929e_e4434be0643crow0_col1\" class=\"data row0 col1\" >1.32e+04</td>\n",
       "                        <td id=\"T_15492950_c6ae_11ed_929e_e4434be0643crow0_col2\" class=\"data row0 col2\" >0.776</td>\n",
       "                        <td id=\"T_15492950_c6ae_11ed_929e_e4434be0643crow0_col3\" class=\"data row0 col3\" >0.72</td>\n",
       "            </tr>\n",
       "            <tr>\n",
       "                        <th id=\"T_15492950_c6ae_11ed_929e_e4434be0643clevel0_row1\" class=\"row_heading level0 row1\" >5</th>\n",
       "                        <td id=\"T_15492950_c6ae_11ed_929e_e4434be0643crow1_col0\" class=\"data row1 col0\" >1.04e+04</td>\n",
       "                        <td id=\"T_15492950_c6ae_11ed_929e_e4434be0643crow1_col1\" class=\"data row1 col1\" >1.11e+04</td>\n",
       "                        <td id=\"T_15492950_c6ae_11ed_929e_e4434be0643crow1_col2\" class=\"data row1 col2\" >0.44</td>\n",
       "                        <td id=\"T_15492950_c6ae_11ed_929e_e4434be0643crow1_col3\" class=\"data row1 col3\" >0.386</td>\n",
       "            </tr>\n",
       "            <tr>\n",
       "                        <th id=\"T_15492950_c6ae_11ed_929e_e4434be0643clevel0_row2\" class=\"row_heading level0 row2\" >10</th>\n",
       "                        <td id=\"T_15492950_c6ae_11ed_929e_e4434be0643crow2_col0\" class=\"data row2 col0\" >9.38e+03</td>\n",
       "                        <td id=\"T_15492950_c6ae_11ed_929e_e4434be0643crow2_col1\" class=\"data row2 col1\" >9.93e+03</td>\n",
       "                        <td id=\"T_15492950_c6ae_11ed_929e_e4434be0643crow2_col2\" class=\"data row2 col2\" >0.336</td>\n",
       "                        <td id=\"T_15492950_c6ae_11ed_929e_e4434be0643crow2_col3\" class=\"data row2 col3\" >0.281</td>\n",
       "            </tr>\n",
       "            <tr>\n",
       "                        <th id=\"T_15492950_c6ae_11ed_929e_e4434be0643clevel0_row3\" class=\"row_heading level0 row3\" >15</th>\n",
       "                        <td id=\"T_15492950_c6ae_11ed_929e_e4434be0643crow3_col0\" class=\"data row3 col0\" >8.59e+03</td>\n",
       "                        <td id=\"T_15492950_c6ae_11ed_929e_e4434be0643crow3_col1\" class=\"data row3 col1\" >9.04e+03</td>\n",
       "                        <td id=\"T_15492950_c6ae_11ed_929e_e4434be0643crow3_col2\" class=\"data row3 col2\" >0.28</td>\n",
       "                        <td id=\"T_15492950_c6ae_11ed_929e_e4434be0643crow3_col3\" class=\"data row3 col3\" >0.243</td>\n",
       "            </tr>\n",
       "    </tbody></table>"
      ],
      "text/plain": [
       "<pandas.io.formats.style.Styler at 0x2b542f92d100>"
      ]
     },
     "metadata": {},
     "output_type": "display_data"
    },
    {
     "name": "stdout",
     "output_type": "stream",
     "text": [
      "[\u001b[1mtardis.simulation.base\u001b[0m][\u001b[1;37mINFO\u001b[0m   ]  \n",
      "\t\n",
      "\tCurrent t_inner = 13365.011 K\n",
      "\tExpected t_inner for next iteration = 13222.916 K\n",
      " (\u001b[1mbase.py\u001b[0m:554)\n",
      "[\u001b[1mtardis.simulation.base\u001b[0m][\u001b[1;37mINFO\u001b[0m   ]  \n",
      "\t\n",
      "\tStarting iteration 4 of 20 (\u001b[1mbase.py\u001b[0m:385)\n",
      "[\u001b[1mtardis.simulation.base\u001b[0m][\u001b[1;37mINFO\u001b[0m   ]  \n",
      "\t\n",
      "\tLuminosity emitted   = 1.081e+43 erg / s\n",
      "\tLuminosity absorbed  = 2.155e+43 erg / s\n",
      "\tLuminosity requested = 1.059e+43 erg / s\n",
      " (\u001b[1mbase.py\u001b[0m:559)\n",
      "[\u001b[1mtardis.simulation.base\u001b[0m][\u001b[1;37mINFO\u001b[0m   ]  \n",
      "\t\n",
      "\tPlasma stratification: (\u001b[1mbase.py\u001b[0m:527)\n"
     ]
    },
    {
     "data": {
      "text/html": [
       "<style  type=\"text/css\" >\n",
       "</style><table id=\"T_1802c2f0_c6ae_11ed_929e_e4434be0643c\" ><thead>    <tr>        <th class=\"index_name level0\" >Shell No.</th>        <th class=\"col_heading level0 col0\" >t_rad</th>        <th class=\"col_heading level0 col1\" >next_t_rad</th>        <th class=\"col_heading level0 col2\" >w</th>        <th class=\"col_heading level0 col3\" >next_w</th>    </tr></thead><tbody>\n",
       "                <tr>\n",
       "                        <th id=\"T_1802c2f0_c6ae_11ed_929e_e4434be0643clevel0_row0\" class=\"row_heading level0 row0\" >0</th>\n",
       "                        <td id=\"T_1802c2f0_c6ae_11ed_929e_e4434be0643crow0_col0\" class=\"data row0 col0\" >1.32e+04</td>\n",
       "                        <td id=\"T_1802c2f0_c6ae_11ed_929e_e4434be0643crow0_col1\" class=\"data row0 col1\" >1.38e+04</td>\n",
       "                        <td id=\"T_1802c2f0_c6ae_11ed_929e_e4434be0643crow0_col2\" class=\"data row0 col2\" >0.72</td>\n",
       "                        <td id=\"T_1802c2f0_c6ae_11ed_929e_e4434be0643crow0_col3\" class=\"data row0 col3\" >0.581</td>\n",
       "            </tr>\n",
       "            <tr>\n",
       "                        <th id=\"T_1802c2f0_c6ae_11ed_929e_e4434be0643clevel0_row1\" class=\"row_heading level0 row1\" >5</th>\n",
       "                        <td id=\"T_1802c2f0_c6ae_11ed_929e_e4434be0643crow1_col0\" class=\"data row1 col0\" >1.11e+04</td>\n",
       "                        <td id=\"T_1802c2f0_c6ae_11ed_929e_e4434be0643crow1_col1\" class=\"data row1 col1\" >1.17e+04</td>\n",
       "                        <td id=\"T_1802c2f0_c6ae_11ed_929e_e4434be0643crow1_col2\" class=\"data row1 col2\" >0.386</td>\n",
       "                        <td id=\"T_1802c2f0_c6ae_11ed_929e_e4434be0643crow1_col3\" class=\"data row1 col3\" >0.307</td>\n",
       "            </tr>\n",
       "            <tr>\n",
       "                        <th id=\"T_1802c2f0_c6ae_11ed_929e_e4434be0643clevel0_row2\" class=\"row_heading level0 row2\" >10</th>\n",
       "                        <td id=\"T_1802c2f0_c6ae_11ed_929e_e4434be0643crow2_col0\" class=\"data row2 col0\" >9.93e+03</td>\n",
       "                        <td id=\"T_1802c2f0_c6ae_11ed_929e_e4434be0643crow2_col1\" class=\"data row2 col1\" >1.01e+04</td>\n",
       "                        <td id=\"T_1802c2f0_c6ae_11ed_929e_e4434be0643crow2_col2\" class=\"data row2 col2\" >0.281</td>\n",
       "                        <td id=\"T_1802c2f0_c6ae_11ed_929e_e4434be0643crow2_col3\" class=\"data row2 col3\" >0.243</td>\n",
       "            </tr>\n",
       "            <tr>\n",
       "                        <th id=\"T_1802c2f0_c6ae_11ed_929e_e4434be0643clevel0_row3\" class=\"row_heading level0 row3\" >15</th>\n",
       "                        <td id=\"T_1802c2f0_c6ae_11ed_929e_e4434be0643crow3_col0\" class=\"data row3 col0\" >9.04e+03</td>\n",
       "                        <td id=\"T_1802c2f0_c6ae_11ed_929e_e4434be0643crow3_col1\" class=\"data row3 col1\" >8.85e+03</td>\n",
       "                        <td id=\"T_1802c2f0_c6ae_11ed_929e_e4434be0643crow3_col2\" class=\"data row3 col2\" >0.243</td>\n",
       "                        <td id=\"T_1802c2f0_c6ae_11ed_929e_e4434be0643crow3_col3\" class=\"data row3 col3\" >0.232</td>\n",
       "            </tr>\n",
       "    </tbody></table>"
      ],
      "text/plain": [
       "<pandas.io.formats.style.Styler at 0x2b5425e5b940>"
      ]
     },
     "metadata": {},
     "output_type": "display_data"
    },
    {
     "name": "stdout",
     "output_type": "stream",
     "text": [
      "[\u001b[1mtardis.simulation.base\u001b[0m][\u001b[1;37mINFO\u001b[0m   ]  \n",
      "\t\n",
      "\tCurrent t_inner = 13222.916 K\n",
      "\tExpected t_inner for next iteration = 13155.958 K\n",
      " (\u001b[1mbase.py\u001b[0m:554)\n",
      "[\u001b[1mtardis.simulation.base\u001b[0m][\u001b[1;37mINFO\u001b[0m   ]  \n",
      "\t\n",
      "\tStarting iteration 5 of 20 (\u001b[1mbase.py\u001b[0m:385)\n",
      "[\u001b[1mtardis.simulation.base\u001b[0m][\u001b[1;37mINFO\u001b[0m   ]  \n",
      "\t\n",
      "\tLuminosity emitted   = 1.056e+43 erg / s\n",
      "\tLuminosity absorbed  = 2.107e+43 erg / s\n",
      "\tLuminosity requested = 1.059e+43 erg / s\n",
      " (\u001b[1mbase.py\u001b[0m:559)\n",
      "[\u001b[1mtardis.simulation.base\u001b[0m][\u001b[1;37mINFO\u001b[0m   ]  \n",
      "\t\n",
      "\tPlasma stratification: (\u001b[1mbase.py\u001b[0m:527)\n"
     ]
    },
    {
     "data": {
      "text/html": [
       "<style  type=\"text/css\" >\n",
       "</style><table id=\"T_1b0e935c_c6ae_11ed_929e_e4434be0643c\" ><thead>    <tr>        <th class=\"index_name level0\" >Shell No.</th>        <th class=\"col_heading level0 col0\" >t_rad</th>        <th class=\"col_heading level0 col1\" >next_t_rad</th>        <th class=\"col_heading level0 col2\" >w</th>        <th class=\"col_heading level0 col3\" >next_w</th>    </tr></thead><tbody>\n",
       "                <tr>\n",
       "                        <th id=\"T_1b0e935c_c6ae_11ed_929e_e4434be0643clevel0_row0\" class=\"row_heading level0 row0\" >0</th>\n",
       "                        <td id=\"T_1b0e935c_c6ae_11ed_929e_e4434be0643crow0_col0\" class=\"data row0 col0\" >1.38e+04</td>\n",
       "                        <td id=\"T_1b0e935c_c6ae_11ed_929e_e4434be0643crow0_col1\" class=\"data row0 col1\" >1.42e+04</td>\n",
       "                        <td id=\"T_1b0e935c_c6ae_11ed_929e_e4434be0643crow0_col2\" class=\"data row0 col2\" >0.581</td>\n",
       "                        <td id=\"T_1b0e935c_c6ae_11ed_929e_e4434be0643crow0_col3\" class=\"data row0 col3\" >0.528</td>\n",
       "            </tr>\n",
       "            <tr>\n",
       "                        <th id=\"T_1b0e935c_c6ae_11ed_929e_e4434be0643clevel0_row1\" class=\"row_heading level0 row1\" >5</th>\n",
       "                        <td id=\"T_1b0e935c_c6ae_11ed_929e_e4434be0643crow1_col0\" class=\"data row1 col0\" >1.17e+04</td>\n",
       "                        <td id=\"T_1b0e935c_c6ae_11ed_929e_e4434be0643crow1_col1\" class=\"data row1 col1\" >1.23e+04</td>\n",
       "                        <td id=\"T_1b0e935c_c6ae_11ed_929e_e4434be0643crow1_col2\" class=\"data row1 col2\" >0.307</td>\n",
       "                        <td id=\"T_1b0e935c_c6ae_11ed_929e_e4434be0643crow1_col3\" class=\"data row1 col3\" >0.276</td>\n",
       "            </tr>\n",
       "            <tr>\n",
       "                        <th id=\"T_1b0e935c_c6ae_11ed_929e_e4434be0643clevel0_row2\" class=\"row_heading level0 row2\" >10</th>\n",
       "                        <td id=\"T_1b0e935c_c6ae_11ed_929e_e4434be0643crow2_col0\" class=\"data row2 col0\" >1.01e+04</td>\n",
       "                        <td id=\"T_1b0e935c_c6ae_11ed_929e_e4434be0643crow2_col1\" class=\"data row2 col1\" >1.06e+04</td>\n",
       "                        <td id=\"T_1b0e935c_c6ae_11ed_929e_e4434be0643crow2_col2\" class=\"data row2 col2\" >0.243</td>\n",
       "                        <td id=\"T_1b0e935c_c6ae_11ed_929e_e4434be0643crow2_col3\" class=\"data row2 col3\" >0.216</td>\n",
       "            </tr>\n",
       "            <tr>\n",
       "                        <th id=\"T_1b0e935c_c6ae_11ed_929e_e4434be0643clevel0_row3\" class=\"row_heading level0 row3\" >15</th>\n",
       "                        <td id=\"T_1b0e935c_c6ae_11ed_929e_e4434be0643crow3_col0\" class=\"data row3 col0\" >8.85e+03</td>\n",
       "                        <td id=\"T_1b0e935c_c6ae_11ed_929e_e4434be0643crow3_col1\" class=\"data row3 col1\" >9.33e+03</td>\n",
       "                        <td id=\"T_1b0e935c_c6ae_11ed_929e_e4434be0643crow3_col2\" class=\"data row3 col2\" >0.232</td>\n",
       "                        <td id=\"T_1b0e935c_c6ae_11ed_929e_e4434be0643crow3_col3\" class=\"data row3 col3\" >0.2</td>\n",
       "            </tr>\n",
       "    </tbody></table>"
      ],
      "text/plain": [
       "<pandas.io.formats.style.Styler at 0x2b54261b6d00>"
      ]
     },
     "metadata": {},
     "output_type": "display_data"
    },
    {
     "name": "stdout",
     "output_type": "stream",
     "text": [
      "[\u001b[1mtardis.simulation.base\u001b[0m][\u001b[1;37mINFO\u001b[0m   ]  \n",
      "\t\n",
      "\tCurrent t_inner = 13155.958 K\n",
      "\tExpected t_inner for next iteration = 13166.895 K\n",
      " (\u001b[1mbase.py\u001b[0m:554)\n",
      "[\u001b[1mtardis.simulation.base\u001b[0m][\u001b[1;37mINFO\u001b[0m   ]  \n",
      "\t\n",
      "\tStarting iteration 6 of 20 (\u001b[1mbase.py\u001b[0m:385)\n",
      "[\u001b[1mtardis.simulation.base\u001b[0m][\u001b[1;37mINFO\u001b[0m   ]  \n",
      "\t\n",
      "\tLuminosity emitted   = 1.088e+43 erg / s\n",
      "\tLuminosity absorbed  = 2.084e+43 erg / s\n",
      "\tLuminosity requested = 1.059e+43 erg / s\n",
      " (\u001b[1mbase.py\u001b[0m:559)\n",
      "[\u001b[1mtardis.simulation.base\u001b[0m][\u001b[1;37mINFO\u001b[0m   ]  \n",
      "\t\n",
      "\tPlasma stratification: (\u001b[1mbase.py\u001b[0m:527)\n"
     ]
    },
    {
     "data": {
      "text/html": [
       "<style  type=\"text/css\" >\n",
       "</style><table id=\"T_1e13b7a8_c6ae_11ed_929e_e4434be0643c\" ><thead>    <tr>        <th class=\"index_name level0\" >Shell No.</th>        <th class=\"col_heading level0 col0\" >t_rad</th>        <th class=\"col_heading level0 col1\" >next_t_rad</th>        <th class=\"col_heading level0 col2\" >w</th>        <th class=\"col_heading level0 col3\" >next_w</th>    </tr></thead><tbody>\n",
       "                <tr>\n",
       "                        <th id=\"T_1e13b7a8_c6ae_11ed_929e_e4434be0643clevel0_row0\" class=\"row_heading level0 row0\" >0</th>\n",
       "                        <td id=\"T_1e13b7a8_c6ae_11ed_929e_e4434be0643crow0_col0\" class=\"data row0 col0\" >1.42e+04</td>\n",
       "                        <td id=\"T_1e13b7a8_c6ae_11ed_929e_e4434be0643crow0_col1\" class=\"data row0 col1\" >1.45e+04</td>\n",
       "                        <td id=\"T_1e13b7a8_c6ae_11ed_929e_e4434be0643crow0_col2\" class=\"data row0 col2\" >0.528</td>\n",
       "                        <td id=\"T_1e13b7a8_c6ae_11ed_929e_e4434be0643crow0_col3\" class=\"data row0 col3\" >0.505</td>\n",
       "            </tr>\n",
       "            <tr>\n",
       "                        <th id=\"T_1e13b7a8_c6ae_11ed_929e_e4434be0643clevel0_row1\" class=\"row_heading level0 row1\" >5</th>\n",
       "                        <td id=\"T_1e13b7a8_c6ae_11ed_929e_e4434be0643crow1_col0\" class=\"data row1 col0\" >1.23e+04</td>\n",
       "                        <td id=\"T_1e13b7a8_c6ae_11ed_929e_e4434be0643crow1_col1\" class=\"data row1 col1\" >1.26e+04</td>\n",
       "                        <td id=\"T_1e13b7a8_c6ae_11ed_929e_e4434be0643crow1_col2\" class=\"data row1 col2\" >0.276</td>\n",
       "                        <td id=\"T_1e13b7a8_c6ae_11ed_929e_e4434be0643crow1_col3\" class=\"data row1 col3\" >0.261</td>\n",
       "            </tr>\n",
       "            <tr>\n",
       "                        <th id=\"T_1e13b7a8_c6ae_11ed_929e_e4434be0643clevel0_row2\" class=\"row_heading level0 row2\" >10</th>\n",
       "                        <td id=\"T_1e13b7a8_c6ae_11ed_929e_e4434be0643crow2_col0\" class=\"data row2 col0\" >1.06e+04</td>\n",
       "                        <td id=\"T_1e13b7a8_c6ae_11ed_929e_e4434be0643crow2_col1\" class=\"data row2 col1\" >1.08e+04</td>\n",
       "                        <td id=\"T_1e13b7a8_c6ae_11ed_929e_e4434be0643crow2_col2\" class=\"data row2 col2\" >0.216</td>\n",
       "                        <td id=\"T_1e13b7a8_c6ae_11ed_929e_e4434be0643crow2_col3\" class=\"data row2 col3\" >0.202</td>\n",
       "            </tr>\n",
       "            <tr>\n",
       "                        <th id=\"T_1e13b7a8_c6ae_11ed_929e_e4434be0643clevel0_row3\" class=\"row_heading level0 row3\" >15</th>\n",
       "                        <td id=\"T_1e13b7a8_c6ae_11ed_929e_e4434be0643crow3_col0\" class=\"data row3 col0\" >9.33e+03</td>\n",
       "                        <td id=\"T_1e13b7a8_c6ae_11ed_929e_e4434be0643crow3_col1\" class=\"data row3 col1\" >9.46e+03</td>\n",
       "                        <td id=\"T_1e13b7a8_c6ae_11ed_929e_e4434be0643crow3_col2\" class=\"data row3 col2\" >0.2</td>\n",
       "                        <td id=\"T_1e13b7a8_c6ae_11ed_929e_e4434be0643crow3_col3\" class=\"data row3 col3\" >0.189</td>\n",
       "            </tr>\n",
       "    </tbody></table>"
      ],
      "text/plain": [
       "<pandas.io.formats.style.Styler at 0x2b5427125400>"
      ]
     },
     "metadata": {},
     "output_type": "display_data"
    },
    {
     "name": "stdout",
     "output_type": "stream",
     "text": [
      "[\u001b[1mtardis.simulation.base\u001b[0m][\u001b[1;37mINFO\u001b[0m   ]  \n",
      "\t\n",
      "\tCurrent t_inner = 13166.895 K\n",
      "\tExpected t_inner for next iteration = 13078.378 K\n",
      " (\u001b[1mbase.py\u001b[0m:554)\n",
      "[\u001b[1mtardis.simulation.base\u001b[0m][\u001b[1;37mINFO\u001b[0m   ]  \n",
      "\t\n",
      "\tStarting iteration 7 of 20 (\u001b[1mbase.py\u001b[0m:385)\n",
      "[\u001b[1mtardis.simulation.base\u001b[0m][\u001b[1;37mINFO\u001b[0m   ]  \n",
      "\t\n",
      "\tLuminosity emitted   = 1.083e+43 erg / s\n",
      "\tLuminosity absorbed  = 2.005e+43 erg / s\n",
      "\tLuminosity requested = 1.059e+43 erg / s\n",
      " (\u001b[1mbase.py\u001b[0m:559)\n",
      "[\u001b[1mtardis.simulation.base\u001b[0m][\u001b[1;37mINFO\u001b[0m   ]  \n",
      "\t\n",
      "\tPlasma stratification: (\u001b[1mbase.py\u001b[0m:527)\n"
     ]
    },
    {
     "data": {
      "text/html": [
       "<style  type=\"text/css\" >\n",
       "</style><table id=\"T_2142561e_c6ae_11ed_929e_e4434be0643c\" ><thead>    <tr>        <th class=\"index_name level0\" >Shell No.</th>        <th class=\"col_heading level0 col0\" >t_rad</th>        <th class=\"col_heading level0 col1\" >next_t_rad</th>        <th class=\"col_heading level0 col2\" >w</th>        <th class=\"col_heading level0 col3\" >next_w</th>    </tr></thead><tbody>\n",
       "                <tr>\n",
       "                        <th id=\"T_2142561e_c6ae_11ed_929e_e4434be0643clevel0_row0\" class=\"row_heading level0 row0\" >0</th>\n",
       "                        <td id=\"T_2142561e_c6ae_11ed_929e_e4434be0643crow0_col0\" class=\"data row0 col0\" >1.45e+04</td>\n",
       "                        <td id=\"T_2142561e_c6ae_11ed_929e_e4434be0643crow0_col1\" class=\"data row0 col1\" >1.46e+04</td>\n",
       "                        <td id=\"T_2142561e_c6ae_11ed_929e_e4434be0643crow0_col2\" class=\"data row0 col2\" >0.505</td>\n",
       "                        <td id=\"T_2142561e_c6ae_11ed_929e_e4434be0643crow0_col3\" class=\"data row0 col3\" >0.466</td>\n",
       "            </tr>\n",
       "            <tr>\n",
       "                        <th id=\"T_2142561e_c6ae_11ed_929e_e4434be0643clevel0_row1\" class=\"row_heading level0 row1\" >5</th>\n",
       "                        <td id=\"T_2142561e_c6ae_11ed_929e_e4434be0643crow1_col0\" class=\"data row1 col0\" >1.26e+04</td>\n",
       "                        <td id=\"T_2142561e_c6ae_11ed_929e_e4434be0643crow1_col1\" class=\"data row1 col1\" >1.3e+04</td>\n",
       "                        <td id=\"T_2142561e_c6ae_11ed_929e_e4434be0643crow1_col2\" class=\"data row1 col2\" >0.261</td>\n",
       "                        <td id=\"T_2142561e_c6ae_11ed_929e_e4434be0643crow1_col3\" class=\"data row1 col3\" >0.239</td>\n",
       "            </tr>\n",
       "            <tr>\n",
       "                        <th id=\"T_2142561e_c6ae_11ed_929e_e4434be0643clevel0_row2\" class=\"row_heading level0 row2\" >10</th>\n",
       "                        <td id=\"T_2142561e_c6ae_11ed_929e_e4434be0643crow2_col0\" class=\"data row2 col0\" >1.08e+04</td>\n",
       "                        <td id=\"T_2142561e_c6ae_11ed_929e_e4434be0643crow2_col1\" class=\"data row2 col1\" >1.09e+04</td>\n",
       "                        <td id=\"T_2142561e_c6ae_11ed_929e_e4434be0643crow2_col2\" class=\"data row2 col2\" >0.202</td>\n",
       "                        <td id=\"T_2142561e_c6ae_11ed_929e_e4434be0643crow2_col3\" class=\"data row2 col3\" >0.194</td>\n",
       "            </tr>\n",
       "            <tr>\n",
       "                        <th id=\"T_2142561e_c6ae_11ed_929e_e4434be0643clevel0_row3\" class=\"row_heading level0 row3\" >15</th>\n",
       "                        <td id=\"T_2142561e_c6ae_11ed_929e_e4434be0643crow3_col0\" class=\"data row3 col0\" >9.46e+03</td>\n",
       "                        <td id=\"T_2142561e_c6ae_11ed_929e_e4434be0643crow3_col1\" class=\"data row3 col1\" >9.34e+03</td>\n",
       "                        <td id=\"T_2142561e_c6ae_11ed_929e_e4434be0643crow3_col2\" class=\"data row3 col2\" >0.189</td>\n",
       "                        <td id=\"T_2142561e_c6ae_11ed_929e_e4434be0643crow3_col3\" class=\"data row3 col3\" >0.192</td>\n",
       "            </tr>\n",
       "    </tbody></table>"
      ],
      "text/plain": [
       "<pandas.io.formats.style.Styler at 0x2b542bb390a0>"
      ]
     },
     "metadata": {},
     "output_type": "display_data"
    },
    {
     "name": "stdout",
     "output_type": "stream",
     "text": [
      "[\u001b[1mtardis.simulation.base\u001b[0m][\u001b[1;37mINFO\u001b[0m   ]  \n",
      "\t\n",
      "\tCurrent t_inner = 13078.378 K\n",
      "\tExpected t_inner for next iteration = 13007.812 K\n",
      " (\u001b[1mbase.py\u001b[0m:554)\n",
      "[\u001b[1mtardis.simulation.base\u001b[0m][\u001b[1;37mINFO\u001b[0m   ]  \n",
      "\t\n",
      "\tStarting iteration 8 of 20 (\u001b[1mbase.py\u001b[0m:385)\n",
      "[\u001b[1mtardis.simulation.base\u001b[0m][\u001b[1;37mINFO\u001b[0m   ]  \n",
      "\t\n",
      "\tLuminosity emitted   = 1.080e+43 erg / s\n",
      "\tLuminosity absorbed  = 1.938e+43 erg / s\n",
      "\tLuminosity requested = 1.059e+43 erg / s\n",
      " (\u001b[1mbase.py\u001b[0m:559)\n",
      "[\u001b[1mtardis.simulation.base\u001b[0m][\u001b[1;37mINFO\u001b[0m   ]  \n",
      "\t\n",
      "\tPlasma stratification: (\u001b[1mbase.py\u001b[0m:527)\n"
     ]
    },
    {
     "data": {
      "text/html": [
       "<style  type=\"text/css\" >\n",
       "</style><table id=\"T_246ef3b0_c6ae_11ed_929e_e4434be0643c\" ><thead>    <tr>        <th class=\"index_name level0\" >Shell No.</th>        <th class=\"col_heading level0 col0\" >t_rad</th>        <th class=\"col_heading level0 col1\" >next_t_rad</th>        <th class=\"col_heading level0 col2\" >w</th>        <th class=\"col_heading level0 col3\" >next_w</th>    </tr></thead><tbody>\n",
       "                <tr>\n",
       "                        <th id=\"T_246ef3b0_c6ae_11ed_929e_e4434be0643clevel0_row0\" class=\"row_heading level0 row0\" >0</th>\n",
       "                        <td id=\"T_246ef3b0_c6ae_11ed_929e_e4434be0643crow0_col0\" class=\"data row0 col0\" >1.46e+04</td>\n",
       "                        <td id=\"T_246ef3b0_c6ae_11ed_929e_e4434be0643crow0_col1\" class=\"data row0 col1\" >1.47e+04</td>\n",
       "                        <td id=\"T_246ef3b0_c6ae_11ed_929e_e4434be0643crow0_col2\" class=\"data row0 col2\" >0.466</td>\n",
       "                        <td id=\"T_246ef3b0_c6ae_11ed_929e_e4434be0643crow0_col3\" class=\"data row0 col3\" >0.452</td>\n",
       "            </tr>\n",
       "            <tr>\n",
       "                        <th id=\"T_246ef3b0_c6ae_11ed_929e_e4434be0643clevel0_row1\" class=\"row_heading level0 row1\" >5</th>\n",
       "                        <td id=\"T_246ef3b0_c6ae_11ed_929e_e4434be0643crow1_col0\" class=\"data row1 col0\" >1.3e+04</td>\n",
       "                        <td id=\"T_246ef3b0_c6ae_11ed_929e_e4434be0643crow1_col1\" class=\"data row1 col1\" >1.33e+04</td>\n",
       "                        <td id=\"T_246ef3b0_c6ae_11ed_929e_e4434be0643crow1_col2\" class=\"data row1 col2\" >0.239</td>\n",
       "                        <td id=\"T_246ef3b0_c6ae_11ed_929e_e4434be0643crow1_col3\" class=\"data row1 col3\" >0.225</td>\n",
       "            </tr>\n",
       "            <tr>\n",
       "                        <th id=\"T_246ef3b0_c6ae_11ed_929e_e4434be0643clevel0_row2\" class=\"row_heading level0 row2\" >10</th>\n",
       "                        <td id=\"T_246ef3b0_c6ae_11ed_929e_e4434be0643crow2_col0\" class=\"data row2 col0\" >1.09e+04</td>\n",
       "                        <td id=\"T_246ef3b0_c6ae_11ed_929e_e4434be0643crow2_col1\" class=\"data row2 col1\" >1.11e+04</td>\n",
       "                        <td id=\"T_246ef3b0_c6ae_11ed_929e_e4434be0643crow2_col2\" class=\"data row2 col2\" >0.194</td>\n",
       "                        <td id=\"T_246ef3b0_c6ae_11ed_929e_e4434be0643crow2_col3\" class=\"data row2 col3\" >0.186</td>\n",
       "            </tr>\n",
       "            <tr>\n",
       "                        <th id=\"T_246ef3b0_c6ae_11ed_929e_e4434be0643clevel0_row3\" class=\"row_heading level0 row3\" >15</th>\n",
       "                        <td id=\"T_246ef3b0_c6ae_11ed_929e_e4434be0643crow3_col0\" class=\"data row3 col0\" >9.34e+03</td>\n",
       "                        <td id=\"T_246ef3b0_c6ae_11ed_929e_e4434be0643crow3_col1\" class=\"data row3 col1\" >9.59e+03</td>\n",
       "                        <td id=\"T_246ef3b0_c6ae_11ed_929e_e4434be0643crow3_col2\" class=\"data row3 col2\" >0.192</td>\n",
       "                        <td id=\"T_246ef3b0_c6ae_11ed_929e_e4434be0643crow3_col3\" class=\"data row3 col3\" >0.181</td>\n",
       "            </tr>\n",
       "    </tbody></table>"
      ],
      "text/plain": [
       "<pandas.io.formats.style.Styler at 0x2b5426e76070>"
      ]
     },
     "metadata": {},
     "output_type": "display_data"
    },
    {
     "name": "stdout",
     "output_type": "stream",
     "text": [
      "[\u001b[1mtardis.simulation.base\u001b[0m][\u001b[1;37mINFO\u001b[0m   ]  \n",
      "\t\n",
      "\tCurrent t_inner = 13007.812 K\n",
      "\tExpected t_inner for next iteration = 12943.703 K\n",
      " (\u001b[1mbase.py\u001b[0m:554)\n",
      "[\u001b[1mtardis.simulation.base\u001b[0m][\u001b[1;37mINFO\u001b[0m   ]  \n",
      "\t\n",
      "\tStarting iteration 9 of 20 (\u001b[1mbase.py\u001b[0m:385)\n",
      "[\u001b[1mtardis.simulation.base\u001b[0m][\u001b[1;37mINFO\u001b[0m   ]  \n",
      "\t\n",
      "\tLuminosity emitted   = 1.082e+43 erg / s\n",
      "\tLuminosity absorbed  = 1.878e+43 erg / s\n",
      "\tLuminosity requested = 1.059e+43 erg / s\n",
      " (\u001b[1mbase.py\u001b[0m:559)\n",
      "[\u001b[1mtardis.simulation.base\u001b[0m][\u001b[1;37mINFO\u001b[0m   ]  \n",
      "\t\n",
      "\tPlasma stratification: (\u001b[1mbase.py\u001b[0m:527)\n"
     ]
    },
    {
     "data": {
      "text/html": [
       "<style  type=\"text/css\" >\n",
       "</style><table id=\"T_2792b806_c6ae_11ed_929e_e4434be0643c\" ><thead>    <tr>        <th class=\"index_name level0\" >Shell No.</th>        <th class=\"col_heading level0 col0\" >t_rad</th>        <th class=\"col_heading level0 col1\" >next_t_rad</th>        <th class=\"col_heading level0 col2\" >w</th>        <th class=\"col_heading level0 col3\" >next_w</th>    </tr></thead><tbody>\n",
       "                <tr>\n",
       "                        <th id=\"T_2792b806_c6ae_11ed_929e_e4434be0643clevel0_row0\" class=\"row_heading level0 row0\" >0</th>\n",
       "                        <td id=\"T_2792b806_c6ae_11ed_929e_e4434be0643crow0_col0\" class=\"data row0 col0\" >1.47e+04</td>\n",
       "                        <td id=\"T_2792b806_c6ae_11ed_929e_e4434be0643crow0_col1\" class=\"data row0 col1\" >1.47e+04</td>\n",
       "                        <td id=\"T_2792b806_c6ae_11ed_929e_e4434be0643crow0_col2\" class=\"data row0 col2\" >0.452</td>\n",
       "                        <td id=\"T_2792b806_c6ae_11ed_929e_e4434be0643crow0_col3\" class=\"data row0 col3\" >0.43</td>\n",
       "            </tr>\n",
       "            <tr>\n",
       "                        <th id=\"T_2792b806_c6ae_11ed_929e_e4434be0643clevel0_row1\" class=\"row_heading level0 row1\" >5</th>\n",
       "                        <td id=\"T_2792b806_c6ae_11ed_929e_e4434be0643crow1_col0\" class=\"data row1 col0\" >1.33e+04</td>\n",
       "                        <td id=\"T_2792b806_c6ae_11ed_929e_e4434be0643crow1_col1\" class=\"data row1 col1\" >1.36e+04</td>\n",
       "                        <td id=\"T_2792b806_c6ae_11ed_929e_e4434be0643crow1_col2\" class=\"data row1 col2\" >0.225</td>\n",
       "                        <td id=\"T_2792b806_c6ae_11ed_929e_e4434be0643crow1_col3\" class=\"data row1 col3\" >0.209</td>\n",
       "            </tr>\n",
       "            <tr>\n",
       "                        <th id=\"T_2792b806_c6ae_11ed_929e_e4434be0643clevel0_row2\" class=\"row_heading level0 row2\" >10</th>\n",
       "                        <td id=\"T_2792b806_c6ae_11ed_929e_e4434be0643crow2_col0\" class=\"data row2 col0\" >1.11e+04</td>\n",
       "                        <td id=\"T_2792b806_c6ae_11ed_929e_e4434be0643crow2_col1\" class=\"data row2 col1\" >1.13e+04</td>\n",
       "                        <td id=\"T_2792b806_c6ae_11ed_929e_e4434be0643crow2_col2\" class=\"data row2 col2\" >0.186</td>\n",
       "                        <td id=\"T_2792b806_c6ae_11ed_929e_e4434be0643crow2_col3\" class=\"data row2 col3\" >0.178</td>\n",
       "            </tr>\n",
       "            <tr>\n",
       "                        <th id=\"T_2792b806_c6ae_11ed_929e_e4434be0643clevel0_row3\" class=\"row_heading level0 row3\" >15</th>\n",
       "                        <td id=\"T_2792b806_c6ae_11ed_929e_e4434be0643crow3_col0\" class=\"data row3 col0\" >9.59e+03</td>\n",
       "                        <td id=\"T_2792b806_c6ae_11ed_929e_e4434be0643crow3_col1\" class=\"data row3 col1\" >9.79e+03</td>\n",
       "                        <td id=\"T_2792b806_c6ae_11ed_929e_e4434be0643crow3_col2\" class=\"data row3 col2\" >0.181</td>\n",
       "                        <td id=\"T_2792b806_c6ae_11ed_929e_e4434be0643crow3_col3\" class=\"data row3 col3\" >0.166</td>\n",
       "            </tr>\n",
       "    </tbody></table>"
      ],
      "text/plain": [
       "<pandas.io.formats.style.Styler at 0x2b5426e76a30>"
      ]
     },
     "metadata": {},
     "output_type": "display_data"
    },
    {
     "name": "stdout",
     "output_type": "stream",
     "text": [
      "[\u001b[1mtardis.simulation.base\u001b[0m][\u001b[1;37mINFO\u001b[0m   ]  \n",
      "\t\n",
      "\tCurrent t_inner = 12943.703 K\n",
      "\tExpected t_inner for next iteration = 12874.383 K\n",
      " (\u001b[1mbase.py\u001b[0m:554)\n",
      "[\u001b[1mtardis.simulation.base\u001b[0m][\u001b[1;37mINFO\u001b[0m   ]  \n",
      "\t\n",
      "\tStarting iteration 10 of 20 (\u001b[1mbase.py\u001b[0m:385)\n",
      "[\u001b[1mtardis.simulation.base\u001b[0m][\u001b[1;37mINFO\u001b[0m   ]  \n",
      "\t\n",
      "\tLuminosity emitted   = 1.096e+43 erg / s\n",
      "\tLuminosity absorbed  = 1.801e+43 erg / s\n",
      "\tLuminosity requested = 1.059e+43 erg / s\n",
      " (\u001b[1mbase.py\u001b[0m:559)\n",
      "[\u001b[1mtardis.simulation.base\u001b[0m][\u001b[1;37mINFO\u001b[0m   ]  \n",
      "\t\n",
      "\tPlasma stratification: (\u001b[1mbase.py\u001b[0m:527)\n"
     ]
    },
    {
     "data": {
      "text/html": [
       "<style  type=\"text/css\" >\n",
       "</style><table id=\"T_2ae0d222_c6ae_11ed_929e_e4434be0643c\" ><thead>    <tr>        <th class=\"index_name level0\" >Shell No.</th>        <th class=\"col_heading level0 col0\" >t_rad</th>        <th class=\"col_heading level0 col1\" >next_t_rad</th>        <th class=\"col_heading level0 col2\" >w</th>        <th class=\"col_heading level0 col3\" >next_w</th>    </tr></thead><tbody>\n",
       "                <tr>\n",
       "                        <th id=\"T_2ae0d222_c6ae_11ed_929e_e4434be0643clevel0_row0\" class=\"row_heading level0 row0\" >0</th>\n",
       "                        <td id=\"T_2ae0d222_c6ae_11ed_929e_e4434be0643crow0_col0\" class=\"data row0 col0\" >1.47e+04</td>\n",
       "                        <td id=\"T_2ae0d222_c6ae_11ed_929e_e4434be0643crow0_col1\" class=\"data row0 col1\" >1.47e+04</td>\n",
       "                        <td id=\"T_2ae0d222_c6ae_11ed_929e_e4434be0643crow0_col2\" class=\"data row0 col2\" >0.43</td>\n",
       "                        <td id=\"T_2ae0d222_c6ae_11ed_929e_e4434be0643crow0_col3\" class=\"data row0 col3\" >0.432</td>\n",
       "            </tr>\n",
       "            <tr>\n",
       "                        <th id=\"T_2ae0d222_c6ae_11ed_929e_e4434be0643clevel0_row1\" class=\"row_heading level0 row1\" >5</th>\n",
       "                        <td id=\"T_2ae0d222_c6ae_11ed_929e_e4434be0643crow1_col0\" class=\"data row1 col0\" >1.36e+04</td>\n",
       "                        <td id=\"T_2ae0d222_c6ae_11ed_929e_e4434be0643crow1_col1\" class=\"data row1 col1\" >1.38e+04</td>\n",
       "                        <td id=\"T_2ae0d222_c6ae_11ed_929e_e4434be0643crow1_col2\" class=\"data row1 col2\" >0.209</td>\n",
       "                        <td id=\"T_2ae0d222_c6ae_11ed_929e_e4434be0643crow1_col3\" class=\"data row1 col3\" >0.202</td>\n",
       "            </tr>\n",
       "            <tr>\n",
       "                        <th id=\"T_2ae0d222_c6ae_11ed_929e_e4434be0643clevel0_row2\" class=\"row_heading level0 row2\" >10</th>\n",
       "                        <td id=\"T_2ae0d222_c6ae_11ed_929e_e4434be0643crow2_col0\" class=\"data row2 col0\" >1.13e+04</td>\n",
       "                        <td id=\"T_2ae0d222_c6ae_11ed_929e_e4434be0643crow2_col1\" class=\"data row2 col1\" >1.16e+04</td>\n",
       "                        <td id=\"T_2ae0d222_c6ae_11ed_929e_e4434be0643crow2_col2\" class=\"data row2 col2\" >0.178</td>\n",
       "                        <td id=\"T_2ae0d222_c6ae_11ed_929e_e4434be0643crow2_col3\" class=\"data row2 col3\" >0.166</td>\n",
       "            </tr>\n",
       "            <tr>\n",
       "                        <th id=\"T_2ae0d222_c6ae_11ed_929e_e4434be0643clevel0_row3\" class=\"row_heading level0 row3\" >15</th>\n",
       "                        <td id=\"T_2ae0d222_c6ae_11ed_929e_e4434be0643crow3_col0\" class=\"data row3 col0\" >9.79e+03</td>\n",
       "                        <td id=\"T_2ae0d222_c6ae_11ed_929e_e4434be0643crow3_col1\" class=\"data row3 col1\" >9.82e+03</td>\n",
       "                        <td id=\"T_2ae0d222_c6ae_11ed_929e_e4434be0643crow3_col2\" class=\"data row3 col2\" >0.166</td>\n",
       "                        <td id=\"T_2ae0d222_c6ae_11ed_929e_e4434be0643crow3_col3\" class=\"data row3 col3\" >0.164</td>\n",
       "            </tr>\n",
       "    </tbody></table>"
      ],
      "text/plain": [
       "<pandas.io.formats.style.Styler at 0x2b54263c9400>"
      ]
     },
     "metadata": {},
     "output_type": "display_data"
    },
    {
     "name": "stdout",
     "output_type": "stream",
     "text": [
      "[\u001b[1mtardis.simulation.base\u001b[0m][\u001b[1;37mINFO\u001b[0m   ]  \n",
      "\t\n",
      "\tCurrent t_inner = 12874.383 K\n",
      "\tExpected t_inner for next iteration = 12766.964 K\n",
      " (\u001b[1mbase.py\u001b[0m:554)\n",
      "[\u001b[1mtardis.simulation.base\u001b[0m][\u001b[1;37mINFO\u001b[0m   ]  \n",
      "\t\n",
      "\tStarting iteration 11 of 20 (\u001b[1mbase.py\u001b[0m:385)\n",
      "[\u001b[1mtardis.simulation.base\u001b[0m][\u001b[1;37mINFO\u001b[0m   ]  \n",
      "\t\n",
      "\tLuminosity emitted   = 1.068e+43 erg / s\n",
      "\tLuminosity absorbed  = 1.734e+43 erg / s\n",
      "\tLuminosity requested = 1.059e+43 erg / s\n",
      " (\u001b[1mbase.py\u001b[0m:559)\n",
      "[\u001b[1mtardis.simulation.base\u001b[0m][\u001b[1;37mINFO\u001b[0m   ]  \n",
      "\t\n",
      "\tPlasma stratification: (\u001b[1mbase.py\u001b[0m:527)\n"
     ]
    },
    {
     "data": {
      "text/html": [
       "<style  type=\"text/css\" >\n",
       "</style><table id=\"T_2e0e562c_c6ae_11ed_929e_e4434be0643c\" ><thead>    <tr>        <th class=\"index_name level0\" >Shell No.</th>        <th class=\"col_heading level0 col0\" >t_rad</th>        <th class=\"col_heading level0 col1\" >next_t_rad</th>        <th class=\"col_heading level0 col2\" >w</th>        <th class=\"col_heading level0 col3\" >next_w</th>    </tr></thead><tbody>\n",
       "                <tr>\n",
       "                        <th id=\"T_2e0e562c_c6ae_11ed_929e_e4434be0643clevel0_row0\" class=\"row_heading level0 row0\" >0</th>\n",
       "                        <td id=\"T_2e0e562c_c6ae_11ed_929e_e4434be0643crow0_col0\" class=\"data row0 col0\" >1.47e+04</td>\n",
       "                        <td id=\"T_2e0e562c_c6ae_11ed_929e_e4434be0643crow0_col1\" class=\"data row0 col1\" >1.46e+04</td>\n",
       "                        <td id=\"T_2e0e562c_c6ae_11ed_929e_e4434be0643crow0_col2\" class=\"data row0 col2\" >0.432</td>\n",
       "                        <td id=\"T_2e0e562c_c6ae_11ed_929e_e4434be0643crow0_col3\" class=\"data row0 col3\" >0.425</td>\n",
       "            </tr>\n",
       "            <tr>\n",
       "                        <th id=\"T_2e0e562c_c6ae_11ed_929e_e4434be0643clevel0_row1\" class=\"row_heading level0 row1\" >5</th>\n",
       "                        <td id=\"T_2e0e562c_c6ae_11ed_929e_e4434be0643crow1_col0\" class=\"data row1 col0\" >1.38e+04</td>\n",
       "                        <td id=\"T_2e0e562c_c6ae_11ed_929e_e4434be0643crow1_col1\" class=\"data row1 col1\" >1.38e+04</td>\n",
       "                        <td id=\"T_2e0e562c_c6ae_11ed_929e_e4434be0643crow1_col2\" class=\"data row1 col2\" >0.202</td>\n",
       "                        <td id=\"T_2e0e562c_c6ae_11ed_929e_e4434be0643crow1_col3\" class=\"data row1 col3\" >0.193</td>\n",
       "            </tr>\n",
       "            <tr>\n",
       "                        <th id=\"T_2e0e562c_c6ae_11ed_929e_e4434be0643clevel0_row2\" class=\"row_heading level0 row2\" >10</th>\n",
       "                        <td id=\"T_2e0e562c_c6ae_11ed_929e_e4434be0643crow2_col0\" class=\"data row2 col0\" >1.16e+04</td>\n",
       "                        <td id=\"T_2e0e562c_c6ae_11ed_929e_e4434be0643crow2_col1\" class=\"data row2 col1\" >1.18e+04</td>\n",
       "                        <td id=\"T_2e0e562c_c6ae_11ed_929e_e4434be0643crow2_col2\" class=\"data row2 col2\" >0.166</td>\n",
       "                        <td id=\"T_2e0e562c_c6ae_11ed_929e_e4434be0643crow2_col3\" class=\"data row2 col3\" >0.156</td>\n",
       "            </tr>\n",
       "            <tr>\n",
       "                        <th id=\"T_2e0e562c_c6ae_11ed_929e_e4434be0643clevel0_row3\" class=\"row_heading level0 row3\" >15</th>\n",
       "                        <td id=\"T_2e0e562c_c6ae_11ed_929e_e4434be0643crow3_col0\" class=\"data row3 col0\" >9.82e+03</td>\n",
       "                        <td id=\"T_2e0e562c_c6ae_11ed_929e_e4434be0643crow3_col1\" class=\"data row3 col1\" >9.84e+03</td>\n",
       "                        <td id=\"T_2e0e562c_c6ae_11ed_929e_e4434be0643crow3_col2\" class=\"data row3 col2\" >0.164</td>\n",
       "                        <td id=\"T_2e0e562c_c6ae_11ed_929e_e4434be0643crow3_col3\" class=\"data row3 col3\" >0.161</td>\n",
       "            </tr>\n",
       "    </tbody></table>"
      ],
      "text/plain": [
       "<pandas.io.formats.style.Styler at 0x2b5427125b20>"
      ]
     },
     "metadata": {},
     "output_type": "display_data"
    },
    {
     "name": "stdout",
     "output_type": "stream",
     "text": [
      "[\u001b[1mtardis.simulation.base\u001b[0m][\u001b[1;37mINFO\u001b[0m   ]  \n",
      "\t\n",
      "\tCurrent t_inner = 12766.964 K\n",
      "\tExpected t_inner for next iteration = 12740.787 K\n",
      " (\u001b[1mbase.py\u001b[0m:554)\n",
      "[\u001b[1mtardis.simulation.base\u001b[0m][\u001b[1;37mINFO\u001b[0m   ]  \n",
      "\t\n",
      "\tStarting iteration 12 of 20 (\u001b[1mbase.py\u001b[0m:385)\n",
      "[\u001b[1mtardis.simulation.base\u001b[0m][\u001b[1;37mINFO\u001b[0m   ]  \n",
      "\t\n",
      "\tLuminosity emitted   = 1.050e+43 erg / s\n",
      "\tLuminosity absorbed  = 1.728e+43 erg / s\n",
      "\tLuminosity requested = 1.059e+43 erg / s\n",
      " (\u001b[1mbase.py\u001b[0m:559)\n",
      "[\u001b[1mtardis.simulation.base\u001b[0m][\u001b[1;37mINFO\u001b[0m   ]  \n",
      "\t\n",
      "\tPlasma stratification: (\u001b[1mbase.py\u001b[0m:527)\n"
     ]
    },
    {
     "data": {
      "text/html": [
       "<style  type=\"text/css\" >\n",
       "</style><table id=\"T_314fd69e_c6ae_11ed_929e_e4434be0643c\" ><thead>    <tr>        <th class=\"index_name level0\" >Shell No.</th>        <th class=\"col_heading level0 col0\" >t_rad</th>        <th class=\"col_heading level0 col1\" >next_t_rad</th>        <th class=\"col_heading level0 col2\" >w</th>        <th class=\"col_heading level0 col3\" >next_w</th>    </tr></thead><tbody>\n",
       "                <tr>\n",
       "                        <th id=\"T_314fd69e_c6ae_11ed_929e_e4434be0643clevel0_row0\" class=\"row_heading level0 row0\" >0</th>\n",
       "                        <td id=\"T_314fd69e_c6ae_11ed_929e_e4434be0643crow0_col0\" class=\"data row0 col0\" >1.46e+04</td>\n",
       "                        <td id=\"T_314fd69e_c6ae_11ed_929e_e4434be0643crow0_col1\" class=\"data row0 col1\" >1.46e+04</td>\n",
       "                        <td id=\"T_314fd69e_c6ae_11ed_929e_e4434be0643crow0_col2\" class=\"data row0 col2\" >0.425</td>\n",
       "                        <td id=\"T_314fd69e_c6ae_11ed_929e_e4434be0643crow0_col3\" class=\"data row0 col3\" >0.416</td>\n",
       "            </tr>\n",
       "            <tr>\n",
       "                        <th id=\"T_314fd69e_c6ae_11ed_929e_e4434be0643clevel0_row1\" class=\"row_heading level0 row1\" >5</th>\n",
       "                        <td id=\"T_314fd69e_c6ae_11ed_929e_e4434be0643crow1_col0\" class=\"data row1 col0\" >1.38e+04</td>\n",
       "                        <td id=\"T_314fd69e_c6ae_11ed_929e_e4434be0643crow1_col1\" class=\"data row1 col1\" >1.39e+04</td>\n",
       "                        <td id=\"T_314fd69e_c6ae_11ed_929e_e4434be0643crow1_col2\" class=\"data row1 col2\" >0.193</td>\n",
       "                        <td id=\"T_314fd69e_c6ae_11ed_929e_e4434be0643crow1_col3\" class=\"data row1 col3\" >0.186</td>\n",
       "            </tr>\n",
       "            <tr>\n",
       "                        <th id=\"T_314fd69e_c6ae_11ed_929e_e4434be0643clevel0_row2\" class=\"row_heading level0 row2\" >10</th>\n",
       "                        <td id=\"T_314fd69e_c6ae_11ed_929e_e4434be0643crow2_col0\" class=\"data row2 col0\" >1.18e+04</td>\n",
       "                        <td id=\"T_314fd69e_c6ae_11ed_929e_e4434be0643crow2_col1\" class=\"data row2 col1\" >1.18e+04</td>\n",
       "                        <td id=\"T_314fd69e_c6ae_11ed_929e_e4434be0643crow2_col2\" class=\"data row2 col2\" >0.156</td>\n",
       "                        <td id=\"T_314fd69e_c6ae_11ed_929e_e4434be0643crow2_col3\" class=\"data row2 col3\" >0.151</td>\n",
       "            </tr>\n",
       "            <tr>\n",
       "                        <th id=\"T_314fd69e_c6ae_11ed_929e_e4434be0643clevel0_row3\" class=\"row_heading level0 row3\" >15</th>\n",
       "                        <td id=\"T_314fd69e_c6ae_11ed_929e_e4434be0643crow3_col0\" class=\"data row3 col0\" >9.84e+03</td>\n",
       "                        <td id=\"T_314fd69e_c6ae_11ed_929e_e4434be0643crow3_col1\" class=\"data row3 col1\" >9.89e+03</td>\n",
       "                        <td id=\"T_314fd69e_c6ae_11ed_929e_e4434be0643crow3_col2\" class=\"data row3 col2\" >0.161</td>\n",
       "                        <td id=\"T_314fd69e_c6ae_11ed_929e_e4434be0643crow3_col3\" class=\"data row3 col3\" >0.156</td>\n",
       "            </tr>\n",
       "    </tbody></table>"
      ],
      "text/plain": [
       "<pandas.io.formats.style.Styler at 0x2b5425d12700>"
      ]
     },
     "metadata": {},
     "output_type": "display_data"
    },
    {
     "name": "stdout",
     "output_type": "stream",
     "text": [
      "[\u001b[1mtardis.simulation.base\u001b[0m][\u001b[1;37mINFO\u001b[0m   ]  \n",
      "\t\n",
      "\tCurrent t_inner = 12740.787 K\n",
      "\tExpected t_inner for next iteration = 12769.315 K\n",
      " (\u001b[1mbase.py\u001b[0m:554)\n",
      "[\u001b[1mtardis.simulation.base\u001b[0m][\u001b[1;37mINFO\u001b[0m   ]  \n",
      "\t\n",
      "\tStarting iteration 13 of 20 (\u001b[1mbase.py\u001b[0m:385)\n",
      "[\u001b[1mtardis.simulation.base\u001b[0m][\u001b[1;37mINFO\u001b[0m   ]  \n",
      "\t\n",
      "\tLuminosity emitted   = 1.083e+43 erg / s\n",
      "\tLuminosity absorbed  = 1.722e+43 erg / s\n",
      "\tLuminosity requested = 1.059e+43 erg / s\n",
      " (\u001b[1mbase.py\u001b[0m:559)\n",
      "[\u001b[1mtardis.simulation.base\u001b[0m][\u001b[1;37mINFO\u001b[0m   ]  \n",
      "\tIteration converged 1/4 consecutive times. (\u001b[1mbase.py\u001b[0m:266)\n",
      "[\u001b[1mtardis.simulation.base\u001b[0m][\u001b[1;37mINFO\u001b[0m   ]  \n",
      "\t\n",
      "\tPlasma stratification: (\u001b[1mbase.py\u001b[0m:527)\n"
     ]
    },
    {
     "data": {
      "text/html": [
       "<style  type=\"text/css\" >\n",
       "</style><table id=\"T_348a251c_c6ae_11ed_929e_e4434be0643c\" ><thead>    <tr>        <th class=\"index_name level0\" >Shell No.</th>        <th class=\"col_heading level0 col0\" >t_rad</th>        <th class=\"col_heading level0 col1\" >next_t_rad</th>        <th class=\"col_heading level0 col2\" >w</th>        <th class=\"col_heading level0 col3\" >next_w</th>    </tr></thead><tbody>\n",
       "                <tr>\n",
       "                        <th id=\"T_348a251c_c6ae_11ed_929e_e4434be0643clevel0_row0\" class=\"row_heading level0 row0\" >0</th>\n",
       "                        <td id=\"T_348a251c_c6ae_11ed_929e_e4434be0643crow0_col0\" class=\"data row0 col0\" >1.46e+04</td>\n",
       "                        <td id=\"T_348a251c_c6ae_11ed_929e_e4434be0643crow0_col1\" class=\"data row0 col1\" >1.45e+04</td>\n",
       "                        <td id=\"T_348a251c_c6ae_11ed_929e_e4434be0643crow0_col2\" class=\"data row0 col2\" >0.416</td>\n",
       "                        <td id=\"T_348a251c_c6ae_11ed_929e_e4434be0643crow0_col3\" class=\"data row0 col3\" >0.424</td>\n",
       "            </tr>\n",
       "            <tr>\n",
       "                        <th id=\"T_348a251c_c6ae_11ed_929e_e4434be0643clevel0_row1\" class=\"row_heading level0 row1\" >5</th>\n",
       "                        <td id=\"T_348a251c_c6ae_11ed_929e_e4434be0643crow1_col0\" class=\"data row1 col0\" >1.39e+04</td>\n",
       "                        <td id=\"T_348a251c_c6ae_11ed_929e_e4434be0643crow1_col1\" class=\"data row1 col1\" >1.39e+04</td>\n",
       "                        <td id=\"T_348a251c_c6ae_11ed_929e_e4434be0643crow1_col2\" class=\"data row1 col2\" >0.186</td>\n",
       "                        <td id=\"T_348a251c_c6ae_11ed_929e_e4434be0643crow1_col3\" class=\"data row1 col3\" >0.187</td>\n",
       "            </tr>\n",
       "            <tr>\n",
       "                        <th id=\"T_348a251c_c6ae_11ed_929e_e4434be0643clevel0_row2\" class=\"row_heading level0 row2\" >10</th>\n",
       "                        <td id=\"T_348a251c_c6ae_11ed_929e_e4434be0643crow2_col0\" class=\"data row2 col0\" >1.18e+04</td>\n",
       "                        <td id=\"T_348a251c_c6ae_11ed_929e_e4434be0643crow2_col1\" class=\"data row2 col1\" >1.2e+04</td>\n",
       "                        <td id=\"T_348a251c_c6ae_11ed_929e_e4434be0643crow2_col2\" class=\"data row2 col2\" >0.151</td>\n",
       "                        <td id=\"T_348a251c_c6ae_11ed_929e_e4434be0643crow2_col3\" class=\"data row2 col3\" >0.15</td>\n",
       "            </tr>\n",
       "            <tr>\n",
       "                        <th id=\"T_348a251c_c6ae_11ed_929e_e4434be0643clevel0_row3\" class=\"row_heading level0 row3\" >15</th>\n",
       "                        <td id=\"T_348a251c_c6ae_11ed_929e_e4434be0643crow3_col0\" class=\"data row3 col0\" >9.89e+03</td>\n",
       "                        <td id=\"T_348a251c_c6ae_11ed_929e_e4434be0643crow3_col1\" class=\"data row3 col1\" >9.86e+03</td>\n",
       "                        <td id=\"T_348a251c_c6ae_11ed_929e_e4434be0643crow3_col2\" class=\"data row3 col2\" >0.156</td>\n",
       "                        <td id=\"T_348a251c_c6ae_11ed_929e_e4434be0643crow3_col3\" class=\"data row3 col3\" >0.16</td>\n",
       "            </tr>\n",
       "    </tbody></table>"
      ],
      "text/plain": [
       "<pandas.io.formats.style.Styler at 0x2b5426e76520>"
      ]
     },
     "metadata": {},
     "output_type": "display_data"
    },
    {
     "name": "stdout",
     "output_type": "stream",
     "text": [
      "[\u001b[1mtardis.simulation.base\u001b[0m][\u001b[1;37mINFO\u001b[0m   ]  \n",
      "\t\n",
      "\tCurrent t_inner = 12769.315 K\n",
      "\tExpected t_inner for next iteration = 12699.116 K\n",
      " (\u001b[1mbase.py\u001b[0m:554)\n",
      "[\u001b[1mtardis.simulation.base\u001b[0m][\u001b[1;37mINFO\u001b[0m   ]  \n",
      "\t\n",
      "\tStarting iteration 14 of 20 (\u001b[1mbase.py\u001b[0m:385)\n",
      "[\u001b[1mtardis.simulation.base\u001b[0m][\u001b[1;37mINFO\u001b[0m   ]  \n",
      "\t\n",
      "\tLuminosity emitted   = 1.050e+43 erg / s\n",
      "\tLuminosity absorbed  = 1.694e+43 erg / s\n",
      "\tLuminosity requested = 1.059e+43 erg / s\n",
      " (\u001b[1mbase.py\u001b[0m:559)\n",
      "[\u001b[1mtardis.simulation.base\u001b[0m][\u001b[1;37mINFO\u001b[0m   ]  \n",
      "\tIteration converged 2/4 consecutive times. (\u001b[1mbase.py\u001b[0m:266)\n",
      "[\u001b[1mtardis.simulation.base\u001b[0m][\u001b[1;37mINFO\u001b[0m   ]  \n",
      "\t\n",
      "\tPlasma stratification: (\u001b[1mbase.py\u001b[0m:527)\n"
     ]
    },
    {
     "data": {
      "text/html": [
       "<style  type=\"text/css\" >\n",
       "</style><table id=\"T_37b5667a_c6ae_11ed_929e_e4434be0643c\" ><thead>    <tr>        <th class=\"index_name level0\" >Shell No.</th>        <th class=\"col_heading level0 col0\" >t_rad</th>        <th class=\"col_heading level0 col1\" >next_t_rad</th>        <th class=\"col_heading level0 col2\" >w</th>        <th class=\"col_heading level0 col3\" >next_w</th>    </tr></thead><tbody>\n",
       "                <tr>\n",
       "                        <th id=\"T_37b5667a_c6ae_11ed_929e_e4434be0643clevel0_row0\" class=\"row_heading level0 row0\" >0</th>\n",
       "                        <td id=\"T_37b5667a_c6ae_11ed_929e_e4434be0643crow0_col0\" class=\"data row0 col0\" >1.45e+04</td>\n",
       "                        <td id=\"T_37b5667a_c6ae_11ed_929e_e4434be0643crow0_col1\" class=\"data row0 col1\" >1.45e+04</td>\n",
       "                        <td id=\"T_37b5667a_c6ae_11ed_929e_e4434be0643crow0_col2\" class=\"data row0 col2\" >0.424</td>\n",
       "                        <td id=\"T_37b5667a_c6ae_11ed_929e_e4434be0643crow0_col3\" class=\"data row0 col3\" >0.422</td>\n",
       "            </tr>\n",
       "            <tr>\n",
       "                        <th id=\"T_37b5667a_c6ae_11ed_929e_e4434be0643clevel0_row1\" class=\"row_heading level0 row1\" >5</th>\n",
       "                        <td id=\"T_37b5667a_c6ae_11ed_929e_e4434be0643crow1_col0\" class=\"data row1 col0\" >1.39e+04</td>\n",
       "                        <td id=\"T_37b5667a_c6ae_11ed_929e_e4434be0643crow1_col1\" class=\"data row1 col1\" >1.39e+04</td>\n",
       "                        <td id=\"T_37b5667a_c6ae_11ed_929e_e4434be0643crow1_col2\" class=\"data row1 col2\" >0.187</td>\n",
       "                        <td id=\"T_37b5667a_c6ae_11ed_929e_e4434be0643crow1_col3\" class=\"data row1 col3\" >0.182</td>\n",
       "            </tr>\n",
       "            <tr>\n",
       "                        <th id=\"T_37b5667a_c6ae_11ed_929e_e4434be0643clevel0_row2\" class=\"row_heading level0 row2\" >10</th>\n",
       "                        <td id=\"T_37b5667a_c6ae_11ed_929e_e4434be0643crow2_col0\" class=\"data row2 col0\" >1.2e+04</td>\n",
       "                        <td id=\"T_37b5667a_c6ae_11ed_929e_e4434be0643crow2_col1\" class=\"data row2 col1\" >1.2e+04</td>\n",
       "                        <td id=\"T_37b5667a_c6ae_11ed_929e_e4434be0643crow2_col2\" class=\"data row2 col2\" >0.15</td>\n",
       "                        <td id=\"T_37b5667a_c6ae_11ed_929e_e4434be0643crow2_col3\" class=\"data row2 col3\" >0.144</td>\n",
       "            </tr>\n",
       "            <tr>\n",
       "                        <th id=\"T_37b5667a_c6ae_11ed_929e_e4434be0643clevel0_row3\" class=\"row_heading level0 row3\" >15</th>\n",
       "                        <td id=\"T_37b5667a_c6ae_11ed_929e_e4434be0643crow3_col0\" class=\"data row3 col0\" >9.86e+03</td>\n",
       "                        <td id=\"T_37b5667a_c6ae_11ed_929e_e4434be0643crow3_col1\" class=\"data row3 col1\" >9.89e+03</td>\n",
       "                        <td id=\"T_37b5667a_c6ae_11ed_929e_e4434be0643crow3_col2\" class=\"data row3 col2\" >0.16</td>\n",
       "                        <td id=\"T_37b5667a_c6ae_11ed_929e_e4434be0643crow3_col3\" class=\"data row3 col3\" >0.155</td>\n",
       "            </tr>\n",
       "    </tbody></table>"
      ],
      "text/plain": [
       "<pandas.io.formats.style.Styler at 0x2b5427125f40>"
      ]
     },
     "metadata": {},
     "output_type": "display_data"
    },
    {
     "name": "stdout",
     "output_type": "stream",
     "text": [
      "[\u001b[1mtardis.simulation.base\u001b[0m][\u001b[1;37mINFO\u001b[0m   ]  \n",
      "\t\n",
      "\tCurrent t_inner = 12699.116 K\n",
      "\tExpected t_inner for next iteration = 12727.843 K\n",
      " (\u001b[1mbase.py\u001b[0m:554)\n",
      "[\u001b[1mtardis.simulation.base\u001b[0m][\u001b[1;37mINFO\u001b[0m   ]  \n",
      "\t\n",
      "\tStarting iteration 15 of 20 (\u001b[1mbase.py\u001b[0m:385)\n",
      "[\u001b[1mtardis.simulation.base\u001b[0m][\u001b[1;37mINFO\u001b[0m   ]  \n",
      "\t\n",
      "\tLuminosity emitted   = 1.047e+43 erg / s\n",
      "\tLuminosity absorbed  = 1.720e+43 erg / s\n",
      "\tLuminosity requested = 1.059e+43 erg / s\n",
      " (\u001b[1mbase.py\u001b[0m:559)\n",
      "[\u001b[1mtardis.simulation.base\u001b[0m][\u001b[1;37mINFO\u001b[0m   ]  \n",
      "\tIteration converged 3/4 consecutive times. (\u001b[1mbase.py\u001b[0m:266)\n",
      "[\u001b[1mtardis.simulation.base\u001b[0m][\u001b[1;37mINFO\u001b[0m   ]  \n",
      "\t\n",
      "\tPlasma stratification: (\u001b[1mbase.py\u001b[0m:527)\n"
     ]
    },
    {
     "data": {
      "text/html": [
       "<style  type=\"text/css\" >\n",
       "</style><table id=\"T_3ae179ce_c6ae_11ed_929e_e4434be0643c\" ><thead>    <tr>        <th class=\"index_name level0\" >Shell No.</th>        <th class=\"col_heading level0 col0\" >t_rad</th>        <th class=\"col_heading level0 col1\" >next_t_rad</th>        <th class=\"col_heading level0 col2\" >w</th>        <th class=\"col_heading level0 col3\" >next_w</th>    </tr></thead><tbody>\n",
       "                <tr>\n",
       "                        <th id=\"T_3ae179ce_c6ae_11ed_929e_e4434be0643clevel0_row0\" class=\"row_heading level0 row0\" >0</th>\n",
       "                        <td id=\"T_3ae179ce_c6ae_11ed_929e_e4434be0643crow0_col0\" class=\"data row0 col0\" >1.45e+04</td>\n",
       "                        <td id=\"T_3ae179ce_c6ae_11ed_929e_e4434be0643crow0_col1\" class=\"data row0 col1\" >1.45e+04</td>\n",
       "                        <td id=\"T_3ae179ce_c6ae_11ed_929e_e4434be0643crow0_col2\" class=\"data row0 col2\" >0.422</td>\n",
       "                        <td id=\"T_3ae179ce_c6ae_11ed_929e_e4434be0643crow0_col3\" class=\"data row0 col3\" >0.431</td>\n",
       "            </tr>\n",
       "            <tr>\n",
       "                        <th id=\"T_3ae179ce_c6ae_11ed_929e_e4434be0643clevel0_row1\" class=\"row_heading level0 row1\" >5</th>\n",
       "                        <td id=\"T_3ae179ce_c6ae_11ed_929e_e4434be0643crow1_col0\" class=\"data row1 col0\" >1.39e+04</td>\n",
       "                        <td id=\"T_3ae179ce_c6ae_11ed_929e_e4434be0643crow1_col1\" class=\"data row1 col1\" >1.39e+04</td>\n",
       "                        <td id=\"T_3ae179ce_c6ae_11ed_929e_e4434be0643crow1_col2\" class=\"data row1 col2\" >0.182</td>\n",
       "                        <td id=\"T_3ae179ce_c6ae_11ed_929e_e4434be0643crow1_col3\" class=\"data row1 col3\" >0.183</td>\n",
       "            </tr>\n",
       "            <tr>\n",
       "                        <th id=\"T_3ae179ce_c6ae_11ed_929e_e4434be0643clevel0_row2\" class=\"row_heading level0 row2\" >10</th>\n",
       "                        <td id=\"T_3ae179ce_c6ae_11ed_929e_e4434be0643crow2_col0\" class=\"data row2 col0\" >1.2e+04</td>\n",
       "                        <td id=\"T_3ae179ce_c6ae_11ed_929e_e4434be0643crow2_col1\" class=\"data row2 col1\" >1.21e+04</td>\n",
       "                        <td id=\"T_3ae179ce_c6ae_11ed_929e_e4434be0643crow2_col2\" class=\"data row2 col2\" >0.144</td>\n",
       "                        <td id=\"T_3ae179ce_c6ae_11ed_929e_e4434be0643crow2_col3\" class=\"data row2 col3\" >0.142</td>\n",
       "            </tr>\n",
       "            <tr>\n",
       "                        <th id=\"T_3ae179ce_c6ae_11ed_929e_e4434be0643clevel0_row3\" class=\"row_heading level0 row3\" >15</th>\n",
       "                        <td id=\"T_3ae179ce_c6ae_11ed_929e_e4434be0643crow3_col0\" class=\"data row3 col0\" >9.89e+03</td>\n",
       "                        <td id=\"T_3ae179ce_c6ae_11ed_929e_e4434be0643crow3_col1\" class=\"data row3 col1\" >9.96e+03</td>\n",
       "                        <td id=\"T_3ae179ce_c6ae_11ed_929e_e4434be0643crow3_col2\" class=\"data row3 col2\" >0.155</td>\n",
       "                        <td id=\"T_3ae179ce_c6ae_11ed_929e_e4434be0643crow3_col3\" class=\"data row3 col3\" >0.152</td>\n",
       "            </tr>\n",
       "    </tbody></table>"
      ],
      "text/plain": [
       "<pandas.io.formats.style.Styler at 0x2b5427125580>"
      ]
     },
     "metadata": {},
     "output_type": "display_data"
    },
    {
     "name": "stdout",
     "output_type": "stream",
     "text": [
      "[\u001b[1mtardis.simulation.base\u001b[0m][\u001b[1;37mINFO\u001b[0m   ]  \n",
      "\t\n",
      "\tCurrent t_inner = 12727.843 K\n",
      "\tExpected t_inner for next iteration = 12765.113 K\n",
      " (\u001b[1mbase.py\u001b[0m:554)\n",
      "[\u001b[1mtardis.simulation.base\u001b[0m][\u001b[1;37mINFO\u001b[0m   ]  \n",
      "\t\n",
      "\tStarting iteration 16 of 20 (\u001b[1mbase.py\u001b[0m:385)\n",
      "[\u001b[1mtardis.simulation.base\u001b[0m][\u001b[1;37mINFO\u001b[0m   ]  \n",
      "\t\n",
      "\tLuminosity emitted   = 1.050e+43 erg / s\n",
      "\tLuminosity absorbed  = 1.749e+43 erg / s\n",
      "\tLuminosity requested = 1.059e+43 erg / s\n",
      " (\u001b[1mbase.py\u001b[0m:559)\n",
      "[\u001b[1mtardis.simulation.base\u001b[0m][\u001b[1;37mINFO\u001b[0m   ]  \n",
      "\tIteration converged 4/4 consecutive times. (\u001b[1mbase.py\u001b[0m:266)\n",
      "[\u001b[1mtardis.simulation.base\u001b[0m][\u001b[1;37mINFO\u001b[0m   ]  \n",
      "\t\n",
      "\tPlasma stratification: (\u001b[1mbase.py\u001b[0m:527)\n"
     ]
    },
    {
     "data": {
      "text/html": [
       "<style  type=\"text/css\" >\n",
       "</style><table id=\"T_3e205dd0_c6ae_11ed_929e_e4434be0643c\" ><thead>    <tr>        <th class=\"index_name level0\" >Shell No.</th>        <th class=\"col_heading level0 col0\" >t_rad</th>        <th class=\"col_heading level0 col1\" >next_t_rad</th>        <th class=\"col_heading level0 col2\" >w</th>        <th class=\"col_heading level0 col3\" >next_w</th>    </tr></thead><tbody>\n",
       "                <tr>\n",
       "                        <th id=\"T_3e205dd0_c6ae_11ed_929e_e4434be0643clevel0_row0\" class=\"row_heading level0 row0\" >0</th>\n",
       "                        <td id=\"T_3e205dd0_c6ae_11ed_929e_e4434be0643crow0_col0\" class=\"data row0 col0\" >1.45e+04</td>\n",
       "                        <td id=\"T_3e205dd0_c6ae_11ed_929e_e4434be0643crow0_col1\" class=\"data row0 col1\" >1.45e+04</td>\n",
       "                        <td id=\"T_3e205dd0_c6ae_11ed_929e_e4434be0643crow0_col2\" class=\"data row0 col2\" >0.431</td>\n",
       "                        <td id=\"T_3e205dd0_c6ae_11ed_929e_e4434be0643crow0_col3\" class=\"data row0 col3\" >0.426</td>\n",
       "            </tr>\n",
       "            <tr>\n",
       "                        <th id=\"T_3e205dd0_c6ae_11ed_929e_e4434be0643clevel0_row1\" class=\"row_heading level0 row1\" >5</th>\n",
       "                        <td id=\"T_3e205dd0_c6ae_11ed_929e_e4434be0643crow1_col0\" class=\"data row1 col0\" >1.39e+04</td>\n",
       "                        <td id=\"T_3e205dd0_c6ae_11ed_929e_e4434be0643crow1_col1\" class=\"data row1 col1\" >1.39e+04</td>\n",
       "                        <td id=\"T_3e205dd0_c6ae_11ed_929e_e4434be0643crow1_col2\" class=\"data row1 col2\" >0.183</td>\n",
       "                        <td id=\"T_3e205dd0_c6ae_11ed_929e_e4434be0643crow1_col3\" class=\"data row1 col3\" >0.181</td>\n",
       "            </tr>\n",
       "            <tr>\n",
       "                        <th id=\"T_3e205dd0_c6ae_11ed_929e_e4434be0643clevel0_row2\" class=\"row_heading level0 row2\" >10</th>\n",
       "                        <td id=\"T_3e205dd0_c6ae_11ed_929e_e4434be0643crow2_col0\" class=\"data row2 col0\" >1.21e+04</td>\n",
       "                        <td id=\"T_3e205dd0_c6ae_11ed_929e_e4434be0643crow2_col1\" class=\"data row2 col1\" >1.22e+04</td>\n",
       "                        <td id=\"T_3e205dd0_c6ae_11ed_929e_e4434be0643crow2_col2\" class=\"data row2 col2\" >0.142</td>\n",
       "                        <td id=\"T_3e205dd0_c6ae_11ed_929e_e4434be0643crow2_col3\" class=\"data row2 col3\" >0.139</td>\n",
       "            </tr>\n",
       "            <tr>\n",
       "                        <th id=\"T_3e205dd0_c6ae_11ed_929e_e4434be0643clevel0_row3\" class=\"row_heading level0 row3\" >15</th>\n",
       "                        <td id=\"T_3e205dd0_c6ae_11ed_929e_e4434be0643crow3_col0\" class=\"data row3 col0\" >9.96e+03</td>\n",
       "                        <td id=\"T_3e205dd0_c6ae_11ed_929e_e4434be0643crow3_col1\" class=\"data row3 col1\" >1.01e+04</td>\n",
       "                        <td id=\"T_3e205dd0_c6ae_11ed_929e_e4434be0643crow3_col2\" class=\"data row3 col2\" >0.152</td>\n",
       "                        <td id=\"T_3e205dd0_c6ae_11ed_929e_e4434be0643crow3_col3\" class=\"data row3 col3\" >0.149</td>\n",
       "            </tr>\n",
       "    </tbody></table>"
      ],
      "text/plain": [
       "<pandas.io.formats.style.Styler at 0x2b5426e761f0>"
      ]
     },
     "metadata": {},
     "output_type": "display_data"
    },
    {
     "name": "stdout",
     "output_type": "stream",
     "text": [
      "[\u001b[1mtardis.simulation.base\u001b[0m][\u001b[1;37mINFO\u001b[0m   ]  \n",
      "\t\n",
      "\tCurrent t_inner = 12765.113 K\n",
      "\tExpected t_inner for next iteration = 12792.599 K\n",
      " (\u001b[1mbase.py\u001b[0m:554)\n",
      "[\u001b[1mtardis.simulation.base\u001b[0m][\u001b[1;37mINFO\u001b[0m   ]  \n",
      "\t\n",
      "\tStarting iteration 17 of 20 (\u001b[1mbase.py\u001b[0m:385)\n",
      "[\u001b[1mtardis.simulation.base\u001b[0m][\u001b[1;37mINFO\u001b[0m   ]  \n",
      "\t\n",
      "\tLuminosity emitted   = 1.068e+43 erg / s\n",
      "\tLuminosity absorbed  = 1.755e+43 erg / s\n",
      "\tLuminosity requested = 1.059e+43 erg / s\n",
      " (\u001b[1mbase.py\u001b[0m:559)\n",
      "[\u001b[1mtardis.simulation.base\u001b[0m][\u001b[1;37mINFO\u001b[0m   ]  \n",
      "\tIteration converged 5/4 consecutive times. (\u001b[1mbase.py\u001b[0m:266)\n",
      "[\u001b[1mtardis.simulation.base\u001b[0m][\u001b[1;37mINFO\u001b[0m   ]  \n",
      "\t\n",
      "\tPlasma stratification: (\u001b[1mbase.py\u001b[0m:527)\n"
     ]
    },
    {
     "data": {
      "text/html": [
       "<style  type=\"text/css\" >\n",
       "</style><table id=\"T_4162c76c_c6ae_11ed_929e_e4434be0643c\" ><thead>    <tr>        <th class=\"index_name level0\" >Shell No.</th>        <th class=\"col_heading level0 col0\" >t_rad</th>        <th class=\"col_heading level0 col1\" >next_t_rad</th>        <th class=\"col_heading level0 col2\" >w</th>        <th class=\"col_heading level0 col3\" >next_w</th>    </tr></thead><tbody>\n",
       "                <tr>\n",
       "                        <th id=\"T_4162c76c_c6ae_11ed_929e_e4434be0643clevel0_row0\" class=\"row_heading level0 row0\" >0</th>\n",
       "                        <td id=\"T_4162c76c_c6ae_11ed_929e_e4434be0643crow0_col0\" class=\"data row0 col0\" >1.45e+04</td>\n",
       "                        <td id=\"T_4162c76c_c6ae_11ed_929e_e4434be0643crow0_col1\" class=\"data row0 col1\" >1.46e+04</td>\n",
       "                        <td id=\"T_4162c76c_c6ae_11ed_929e_e4434be0643crow0_col2\" class=\"data row0 col2\" >0.426</td>\n",
       "                        <td id=\"T_4162c76c_c6ae_11ed_929e_e4434be0643crow0_col3\" class=\"data row0 col3\" >0.422</td>\n",
       "            </tr>\n",
       "            <tr>\n",
       "                        <th id=\"T_4162c76c_c6ae_11ed_929e_e4434be0643clevel0_row1\" class=\"row_heading level0 row1\" >5</th>\n",
       "                        <td id=\"T_4162c76c_c6ae_11ed_929e_e4434be0643crow1_col0\" class=\"data row1 col0\" >1.39e+04</td>\n",
       "                        <td id=\"T_4162c76c_c6ae_11ed_929e_e4434be0643crow1_col1\" class=\"data row1 col1\" >1.4e+04</td>\n",
       "                        <td id=\"T_4162c76c_c6ae_11ed_929e_e4434be0643crow1_col2\" class=\"data row1 col2\" >0.181</td>\n",
       "                        <td id=\"T_4162c76c_c6ae_11ed_929e_e4434be0643crow1_col3\" class=\"data row1 col3\" >0.183</td>\n",
       "            </tr>\n",
       "            <tr>\n",
       "                        <th id=\"T_4162c76c_c6ae_11ed_929e_e4434be0643clevel0_row2\" class=\"row_heading level0 row2\" >10</th>\n",
       "                        <td id=\"T_4162c76c_c6ae_11ed_929e_e4434be0643crow2_col0\" class=\"data row2 col0\" >1.22e+04</td>\n",
       "                        <td id=\"T_4162c76c_c6ae_11ed_929e_e4434be0643crow2_col1\" class=\"data row2 col1\" >1.24e+04</td>\n",
       "                        <td id=\"T_4162c76c_c6ae_11ed_929e_e4434be0643crow2_col2\" class=\"data row2 col2\" >0.139</td>\n",
       "                        <td id=\"T_4162c76c_c6ae_11ed_929e_e4434be0643crow2_col3\" class=\"data row2 col3\" >0.135</td>\n",
       "            </tr>\n",
       "            <tr>\n",
       "                        <th id=\"T_4162c76c_c6ae_11ed_929e_e4434be0643clevel0_row3\" class=\"row_heading level0 row3\" >15</th>\n",
       "                        <td id=\"T_4162c76c_c6ae_11ed_929e_e4434be0643crow3_col0\" class=\"data row3 col0\" >1.01e+04</td>\n",
       "                        <td id=\"T_4162c76c_c6ae_11ed_929e_e4434be0643crow3_col1\" class=\"data row3 col1\" >1.01e+04</td>\n",
       "                        <td id=\"T_4162c76c_c6ae_11ed_929e_e4434be0643crow3_col2\" class=\"data row3 col2\" >0.149</td>\n",
       "                        <td id=\"T_4162c76c_c6ae_11ed_929e_e4434be0643crow3_col3\" class=\"data row3 col3\" >0.147</td>\n",
       "            </tr>\n",
       "    </tbody></table>"
      ],
      "text/plain": [
       "<pandas.io.formats.style.Styler at 0x2b5425d12f40>"
      ]
     },
     "metadata": {},
     "output_type": "display_data"
    },
    {
     "name": "stdout",
     "output_type": "stream",
     "text": [
      "[\u001b[1mtardis.simulation.base\u001b[0m][\u001b[1;37mINFO\u001b[0m   ]  \n",
      "\t\n",
      "\tCurrent t_inner = 12792.599 K\n",
      "\tExpected t_inner for next iteration = 12765.358 K\n",
      " (\u001b[1mbase.py\u001b[0m:554)\n",
      "[\u001b[1mtardis.simulation.base\u001b[0m][\u001b[1;37mINFO\u001b[0m   ]  \n",
      "\t\n",
      "\tStarting iteration 18 of 20 (\u001b[1mbase.py\u001b[0m:385)\n",
      "[\u001b[1mtardis.simulation.base\u001b[0m][\u001b[1;37mINFO\u001b[0m   ]  \n",
      "\t\n",
      "\tLuminosity emitted   = 1.067e+43 erg / s\n",
      "\tLuminosity absorbed  = 1.733e+43 erg / s\n",
      "\tLuminosity requested = 1.059e+43 erg / s\n",
      " (\u001b[1mbase.py\u001b[0m:559)\n",
      "[\u001b[1mtardis.simulation.base\u001b[0m][\u001b[1;37mINFO\u001b[0m   ]  \n",
      "\tIteration converged 6/4 consecutive times. (\u001b[1mbase.py\u001b[0m:266)\n",
      "[\u001b[1mtardis.simulation.base\u001b[0m][\u001b[1;37mINFO\u001b[0m   ]  \n",
      "\t\n",
      "\tPlasma stratification: (\u001b[1mbase.py\u001b[0m:527)\n"
     ]
    },
    {
     "data": {
      "text/html": [
       "<style  type=\"text/css\" >\n",
       "</style><table id=\"T_44863898_c6ae_11ed_929e_e4434be0643c\" ><thead>    <tr>        <th class=\"index_name level0\" >Shell No.</th>        <th class=\"col_heading level0 col0\" >t_rad</th>        <th class=\"col_heading level0 col1\" >next_t_rad</th>        <th class=\"col_heading level0 col2\" >w</th>        <th class=\"col_heading level0 col3\" >next_w</th>    </tr></thead><tbody>\n",
       "                <tr>\n",
       "                        <th id=\"T_44863898_c6ae_11ed_929e_e4434be0643clevel0_row0\" class=\"row_heading level0 row0\" >0</th>\n",
       "                        <td id=\"T_44863898_c6ae_11ed_929e_e4434be0643crow0_col0\" class=\"data row0 col0\" >1.46e+04</td>\n",
       "                        <td id=\"T_44863898_c6ae_11ed_929e_e4434be0643crow0_col1\" class=\"data row0 col1\" >1.45e+04</td>\n",
       "                        <td id=\"T_44863898_c6ae_11ed_929e_e4434be0643crow0_col2\" class=\"data row0 col2\" >0.422</td>\n",
       "                        <td id=\"T_44863898_c6ae_11ed_929e_e4434be0643crow0_col3\" class=\"data row0 col3\" >0.427</td>\n",
       "            </tr>\n",
       "            <tr>\n",
       "                        <th id=\"T_44863898_c6ae_11ed_929e_e4434be0643clevel0_row1\" class=\"row_heading level0 row1\" >5</th>\n",
       "                        <td id=\"T_44863898_c6ae_11ed_929e_e4434be0643crow1_col0\" class=\"data row1 col0\" >1.4e+04</td>\n",
       "                        <td id=\"T_44863898_c6ae_11ed_929e_e4434be0643crow1_col1\" class=\"data row1 col1\" >1.39e+04</td>\n",
       "                        <td id=\"T_44863898_c6ae_11ed_929e_e4434be0643crow1_col2\" class=\"data row1 col2\" >0.183</td>\n",
       "                        <td id=\"T_44863898_c6ae_11ed_929e_e4434be0643crow1_col3\" class=\"data row1 col3\" >0.179</td>\n",
       "            </tr>\n",
       "            <tr>\n",
       "                        <th id=\"T_44863898_c6ae_11ed_929e_e4434be0643clevel0_row2\" class=\"row_heading level0 row2\" >10</th>\n",
       "                        <td id=\"T_44863898_c6ae_11ed_929e_e4434be0643crow2_col0\" class=\"data row2 col0\" >1.24e+04</td>\n",
       "                        <td id=\"T_44863898_c6ae_11ed_929e_e4434be0643crow2_col1\" class=\"data row2 col1\" >1.25e+04</td>\n",
       "                        <td id=\"T_44863898_c6ae_11ed_929e_e4434be0643crow2_col2\" class=\"data row2 col2\" >0.135</td>\n",
       "                        <td id=\"T_44863898_c6ae_11ed_929e_e4434be0643crow2_col3\" class=\"data row2 col3\" >0.132</td>\n",
       "            </tr>\n",
       "            <tr>\n",
       "                        <th id=\"T_44863898_c6ae_11ed_929e_e4434be0643clevel0_row3\" class=\"row_heading level0 row3\" >15</th>\n",
       "                        <td id=\"T_44863898_c6ae_11ed_929e_e4434be0643crow3_col0\" class=\"data row3 col0\" >1.01e+04</td>\n",
       "                        <td id=\"T_44863898_c6ae_11ed_929e_e4434be0643crow3_col1\" class=\"data row3 col1\" >1.01e+04</td>\n",
       "                        <td id=\"T_44863898_c6ae_11ed_929e_e4434be0643crow3_col2\" class=\"data row3 col2\" >0.147</td>\n",
       "                        <td id=\"T_44863898_c6ae_11ed_929e_e4434be0643crow3_col3\" class=\"data row3 col3\" >0.147</td>\n",
       "            </tr>\n",
       "    </tbody></table>"
      ],
      "text/plain": [
       "<pandas.io.formats.style.Styler at 0x2b5427125c70>"
      ]
     },
     "metadata": {},
     "output_type": "display_data"
    },
    {
     "name": "stdout",
     "output_type": "stream",
     "text": [
      "[\u001b[1mtardis.simulation.base\u001b[0m][\u001b[1;37mINFO\u001b[0m   ]  \n",
      "\t\n",
      "\tCurrent t_inner = 12765.358 K\n",
      "\tExpected t_inner for next iteration = 12740.966 K\n",
      " (\u001b[1mbase.py\u001b[0m:554)\n",
      "[\u001b[1mtardis.simulation.base\u001b[0m][\u001b[1;37mINFO\u001b[0m   ]  \n",
      "\t\n",
      "\tStarting iteration 19 of 20 (\u001b[1mbase.py\u001b[0m:385)\n",
      "[\u001b[1mtardis.simulation.base\u001b[0m][\u001b[1;37mINFO\u001b[0m   ]  \n",
      "\t\n",
      "\tLuminosity emitted   = 1.065e+43 erg / s\n",
      "\tLuminosity absorbed  = 1.715e+43 erg / s\n",
      "\tLuminosity requested = 1.059e+43 erg / s\n",
      " (\u001b[1mbase.py\u001b[0m:559)\n",
      "[\u001b[1mtardis.simulation.base\u001b[0m][\u001b[1;37mINFO\u001b[0m   ]  \n",
      "\tIteration converged 7/4 consecutive times. (\u001b[1mbase.py\u001b[0m:266)\n",
      "[\u001b[1mtardis.simulation.base\u001b[0m][\u001b[1;37mINFO\u001b[0m   ]  \n",
      "\t\n",
      "\tPlasma stratification: (\u001b[1mbase.py\u001b[0m:527)\n"
     ]
    },
    {
     "data": {
      "text/html": [
       "<style  type=\"text/css\" >\n",
       "</style><table id=\"T_47bf6aca_c6ae_11ed_929e_e4434be0643c\" ><thead>    <tr>        <th class=\"index_name level0\" >Shell No.</th>        <th class=\"col_heading level0 col0\" >t_rad</th>        <th class=\"col_heading level0 col1\" >next_t_rad</th>        <th class=\"col_heading level0 col2\" >w</th>        <th class=\"col_heading level0 col3\" >next_w</th>    </tr></thead><tbody>\n",
       "                <tr>\n",
       "                        <th id=\"T_47bf6aca_c6ae_11ed_929e_e4434be0643clevel0_row0\" class=\"row_heading level0 row0\" >0</th>\n",
       "                        <td id=\"T_47bf6aca_c6ae_11ed_929e_e4434be0643crow0_col0\" class=\"data row0 col0\" >1.45e+04</td>\n",
       "                        <td id=\"T_47bf6aca_c6ae_11ed_929e_e4434be0643crow0_col1\" class=\"data row0 col1\" >1.45e+04</td>\n",
       "                        <td id=\"T_47bf6aca_c6ae_11ed_929e_e4434be0643crow0_col2\" class=\"data row0 col2\" >0.427</td>\n",
       "                        <td id=\"T_47bf6aca_c6ae_11ed_929e_e4434be0643crow0_col3\" class=\"data row0 col3\" >0.424</td>\n",
       "            </tr>\n",
       "            <tr>\n",
       "                        <th id=\"T_47bf6aca_c6ae_11ed_929e_e4434be0643clevel0_row1\" class=\"row_heading level0 row1\" >5</th>\n",
       "                        <td id=\"T_47bf6aca_c6ae_11ed_929e_e4434be0643crow1_col0\" class=\"data row1 col0\" >1.39e+04</td>\n",
       "                        <td id=\"T_47bf6aca_c6ae_11ed_929e_e4434be0643crow1_col1\" class=\"data row1 col1\" >1.38e+04</td>\n",
       "                        <td id=\"T_47bf6aca_c6ae_11ed_929e_e4434be0643crow1_col2\" class=\"data row1 col2\" >0.179</td>\n",
       "                        <td id=\"T_47bf6aca_c6ae_11ed_929e_e4434be0643crow1_col3\" class=\"data row1 col3\" >0.183</td>\n",
       "            </tr>\n",
       "            <tr>\n",
       "                        <th id=\"T_47bf6aca_c6ae_11ed_929e_e4434be0643clevel0_row2\" class=\"row_heading level0 row2\" >10</th>\n",
       "                        <td id=\"T_47bf6aca_c6ae_11ed_929e_e4434be0643crow2_col0\" class=\"data row2 col0\" >1.25e+04</td>\n",
       "                        <td id=\"T_47bf6aca_c6ae_11ed_929e_e4434be0643crow2_col1\" class=\"data row2 col1\" >1.24e+04</td>\n",
       "                        <td id=\"T_47bf6aca_c6ae_11ed_929e_e4434be0643crow2_col2\" class=\"data row2 col2\" >0.132</td>\n",
       "                        <td id=\"T_47bf6aca_c6ae_11ed_929e_e4434be0643crow2_col3\" class=\"data row2 col3\" >0.133</td>\n",
       "            </tr>\n",
       "            <tr>\n",
       "                        <th id=\"T_47bf6aca_c6ae_11ed_929e_e4434be0643clevel0_row3\" class=\"row_heading level0 row3\" >15</th>\n",
       "                        <td id=\"T_47bf6aca_c6ae_11ed_929e_e4434be0643crow3_col0\" class=\"data row3 col0\" >1.01e+04</td>\n",
       "                        <td id=\"T_47bf6aca_c6ae_11ed_929e_e4434be0643crow3_col1\" class=\"data row3 col1\" >1.01e+04</td>\n",
       "                        <td id=\"T_47bf6aca_c6ae_11ed_929e_e4434be0643crow3_col2\" class=\"data row3 col2\" >0.147</td>\n",
       "                        <td id=\"T_47bf6aca_c6ae_11ed_929e_e4434be0643crow3_col3\" class=\"data row3 col3\" >0.148</td>\n",
       "            </tr>\n",
       "    </tbody></table>"
      ],
      "text/plain": [
       "<pandas.io.formats.style.Styler at 0x2b5427125eb0>"
      ]
     },
     "metadata": {},
     "output_type": "display_data"
    },
    {
     "name": "stdout",
     "output_type": "stream",
     "text": [
      "[\u001b[1mtardis.simulation.base\u001b[0m][\u001b[1;37mINFO\u001b[0m   ]  \n",
      "\t\n",
      "\tCurrent t_inner = 12740.966 K\n",
      "\tExpected t_inner for next iteration = 12725.109 K\n",
      " (\u001b[1mbase.py\u001b[0m:554)\n",
      "[\u001b[1mtardis.simulation.base\u001b[0m][\u001b[1;37mINFO\u001b[0m   ]  \n",
      "\t\n",
      "\tStarting iteration 20 of 20 (\u001b[1mbase.py\u001b[0m:385)\n",
      "[\u001b[1mtardis.simulation.base\u001b[0m][\u001b[1;37mINFO\u001b[0m   ]  \n",
      "\t\n",
      "\tLuminosity emitted   = 1.050e+43 erg / s\n",
      "\tLuminosity absorbed  = 1.715e+43 erg / s\n",
      "\tLuminosity requested = 1.059e+43 erg / s\n",
      " (\u001b[1mbase.py\u001b[0m:559)\n",
      "[\u001b[1mtardis.simulation.base\u001b[0m][\u001b[1;37mINFO\u001b[0m   ]  \n",
      "\t\n",
      "\tSimulation finished in 20 iterations \n",
      "\tSimulation took 215.81 s\n",
      " (\u001b[1mbase.py\u001b[0m:480)\n"
     ]
    }
   ],
   "source": [
    "script.main(1)"
   ]
  },
  {
   "cell_type": "code",
   "execution_count": 3,
   "metadata": {},
   "outputs": [],
   "source": [
    "import numpy as np\n",
    "names = ['O', 'Si', 'S', 'Mg', 'Ca', 'Ti+Cr', 'Fe', 'Ni56']\n",
    "script.generate_distribution(2, np.ones(8), names)"
   ]
  },
  {
   "cell_type": "code",
   "execution_count": 9,
   "metadata": {},
   "outputs": [],
   "source": [
    "abundances = pd.read_csv('data_predictor/abundances.csv')\n",
    "if not os.path.exists('data_target'):\n",
    "    os.makedirs('data_target')"
   ]
  },
  {
   "cell_type": "code",
   "execution_count": 10,
   "metadata": {},
   "outputs": [
    {
     "name": "stdout",
     "output_type": "stream",
     "text": [
      "[\u001b[1mtardis.io.atom_data.util\u001b[0m][\u001b[1;37mINFO\u001b[0m   ]  \n",
      "\t\n",
      "\tAtom Data kurucz_cd23_chianti_H_He.h5 not found in local path.\n",
      "\tExists in TARDIS Data repo /mnt/home/grunew14/Downloads/tardis-data/kurucz_cd23_chianti_H_He.h5 (\u001b[1mutil.py\u001b[0m:33)\n",
      "[\u001b[1mtardis.io.atom_data.base\u001b[0m][\u001b[1;37mINFO\u001b[0m   ]  \n",
      "\tReading Atom Data with: UUID = 6f7b09e887a311e7a06b246e96350010 MD5  = 864f1753714343c41f99cb065710cace  (\u001b[1mbase.py\u001b[0m:249)\n",
      "[\u001b[1mtardis.io.atom_data.base\u001b[0m][\u001b[1;37mINFO\u001b[0m   ]  \n",
      "\tNon provided Atomic Data: synpp_refs, photoionization_data, yg_data, two_photon_data (\u001b[1mbase.py\u001b[0m:253)\n",
      "[\u001b[1mpy.warnings         \u001b[0m][\u001b[1;33mWARNING\u001b[0m]  \n",
      "\t/mnt/home/grunew14/anaconda3/envs/tardis/lib/python3.8/site-packages/tardis/plasma/properties/radiative_properties.py:93: RuntimeWarning: invalid value encountered in true_divide\n",
      "  (g_lower * n_upper) / (g_upper * n_lower)\n",
      " (\u001b[1mwarnings.py\u001b[0m:109)\n",
      "[\u001b[1mpy.warnings         \u001b[0m][\u001b[1;33mWARNING\u001b[0m]  \n",
      "\t/mnt/home/grunew14/anaconda3/envs/tardis/lib/python3.8/site-packages/numba/np/ufunc/parallel.py:365: NumbaWarning: \u001b[1mThe TBB threading layer requires TBB version 2019.5 or later i.e., TBB_INTERFACE_VERSION >= 11005. Found TBB_INTERFACE_VERSION = 10003. The TBB threading layer is disabled.\u001b[0m\n",
      "  warnings.warn(problem)\n",
      " (\u001b[1mwarnings.py\u001b[0m:109)\n",
      "[\u001b[1mpy.warnings         \u001b[0m][\u001b[1;33mWARNING\u001b[0m]  \n",
      "\t/mnt/home/grunew14/anaconda3/envs/tardis/lib/python3.8/site-packages/tardis/plasma/properties/radiative_properties.py:93: RuntimeWarning: invalid value encountered in true_divide\n",
      "  (g_lower * n_upper) / (g_upper * n_lower)\n",
      " (\u001b[1mwarnings.py\u001b[0m:109)\n",
      "[\u001b[1mtardis.simulation.base\u001b[0m][\u001b[1;37mINFO\u001b[0m   ]  \n",
      "\t\n",
      "\tStarting iteration 1 of 20 (\u001b[1mbase.py\u001b[0m:385)\n"
     ]
    },
    {
     "data": {
      "application/vnd.jupyter.widget-view+json": {
       "model_id": "f840c551b02d4f8c8e51dc8cee7c0fc4",
       "version_major": 2,
       "version_minor": 0
      },
      "text/plain": [
       "TqdmHBox(children=(HTML(value='Iterations:', layout=Layout(width='6%')), FloatProgress(value=0.0, layout=Layou…"
      ]
     },
     "metadata": {},
     "output_type": "display_data"
    },
    {
     "data": {
      "application/vnd.jupyter.widget-view+json": {
       "model_id": "3536ebda019c42fa852ade38bef03c66",
       "version_major": 2,
       "version_minor": 0
      },
      "text/plain": [
       "TqdmHBox(children=(HTML(value='Packets:   ', layout=Layout(width='6%')), FloatProgress(value=0.0, layout=Layou…"
      ]
     },
     "metadata": {},
     "output_type": "display_data"
    },
    {
     "name": "stdout",
     "output_type": "stream",
     "text": [
      "[\u001b[1mtardis.simulation.base\u001b[0m][\u001b[1;37mINFO\u001b[0m   ]  \n",
      "\t\n",
      "\tLuminosity emitted   = 4.637e+42 erg / s\n",
      "\tLuminosity absorbed  = 5.770e+42 erg / s\n",
      "\tLuminosity requested = 1.059e+43 erg / s\n",
      " (\u001b[1mbase.py\u001b[0m:559)\n",
      "[\u001b[1mtardis.simulation.base\u001b[0m][\u001b[1;37mINFO\u001b[0m   ]  \n",
      "\t\n",
      "\tPlasma stratification: (\u001b[1mbase.py\u001b[0m:527)\n"
     ]
    },
    {
     "data": {
      "text/html": [
       "<style  type=\"text/css\" >\n",
       "</style><table id=\"T_fd4f384c_c6a5_11ed_8177_e4434be0643c\" ><thead>    <tr>        <th class=\"index_name level0\" >Shell No.</th>        <th class=\"col_heading level0 col0\" >t_rad</th>        <th class=\"col_heading level0 col1\" >next_t_rad</th>        <th class=\"col_heading level0 col2\" >w</th>        <th class=\"col_heading level0 col3\" >next_w</th>    </tr></thead><tbody>\n",
       "                <tr>\n",
       "                        <th id=\"T_fd4f384c_c6a5_11ed_8177_e4434be0643clevel0_row0\" class=\"row_heading level0 row0\" >0</th>\n",
       "                        <td id=\"T_fd4f384c_c6a5_11ed_8177_e4434be0643crow0_col0\" class=\"data row0 col0\" >9.93e+03</td>\n",
       "                        <td id=\"T_fd4f384c_c6a5_11ed_8177_e4434be0643crow0_col1\" class=\"data row0 col1\" >1.05e+04</td>\n",
       "                        <td id=\"T_fd4f384c_c6a5_11ed_8177_e4434be0643crow0_col2\" class=\"data row0 col2\" >0.4</td>\n",
       "                        <td id=\"T_fd4f384c_c6a5_11ed_8177_e4434be0643crow0_col3\" class=\"data row0 col3\" >0.51</td>\n",
       "            </tr>\n",
       "            <tr>\n",
       "                        <th id=\"T_fd4f384c_c6a5_11ed_8177_e4434be0643clevel0_row1\" class=\"row_heading level0 row1\" >5</th>\n",
       "                        <td id=\"T_fd4f384c_c6a5_11ed_8177_e4434be0643crow1_col0\" class=\"data row1 col0\" >9.85e+03</td>\n",
       "                        <td id=\"T_fd4f384c_c6a5_11ed_8177_e4434be0643crow1_col1\" class=\"data row1 col1\" >9.4e+03</td>\n",
       "                        <td id=\"T_fd4f384c_c6a5_11ed_8177_e4434be0643crow1_col2\" class=\"data row1 col2\" >0.211</td>\n",
       "                        <td id=\"T_fd4f384c_c6a5_11ed_8177_e4434be0643crow1_col3\" class=\"data row1 col3\" >0.234</td>\n",
       "            </tr>\n",
       "            <tr>\n",
       "                        <th id=\"T_fd4f384c_c6a5_11ed_8177_e4434be0643clevel0_row2\" class=\"row_heading level0 row2\" >10</th>\n",
       "                        <td id=\"T_fd4f384c_c6a5_11ed_8177_e4434be0643crow2_col0\" class=\"data row2 col0\" >9.78e+03</td>\n",
       "                        <td id=\"T_fd4f384c_c6a5_11ed_8177_e4434be0643crow2_col1\" class=\"data row2 col1\" >8.26e+03</td>\n",
       "                        <td id=\"T_fd4f384c_c6a5_11ed_8177_e4434be0643crow2_col2\" class=\"data row2 col2\" >0.143</td>\n",
       "                        <td id=\"T_fd4f384c_c6a5_11ed_8177_e4434be0643crow2_col3\" class=\"data row2 col3\" >0.187</td>\n",
       "            </tr>\n",
       "            <tr>\n",
       "                        <th id=\"T_fd4f384c_c6a5_11ed_8177_e4434be0643clevel0_row3\" class=\"row_heading level0 row3\" >15</th>\n",
       "                        <td id=\"T_fd4f384c_c6a5_11ed_8177_e4434be0643crow3_col0\" class=\"data row3 col0\" >9.71e+03</td>\n",
       "                        <td id=\"T_fd4f384c_c6a5_11ed_8177_e4434be0643crow3_col1\" class=\"data row3 col1\" >7.34e+03</td>\n",
       "                        <td id=\"T_fd4f384c_c6a5_11ed_8177_e4434be0643crow3_col2\" class=\"data row3 col2\" >0.105</td>\n",
       "                        <td id=\"T_fd4f384c_c6a5_11ed_8177_e4434be0643crow3_col3\" class=\"data row3 col3\" >0.179</td>\n",
       "            </tr>\n",
       "    </tbody></table>"
      ],
      "text/plain": [
       "<pandas.io.formats.style.Styler at 0x2b2a20d91070>"
      ]
     },
     "metadata": {},
     "output_type": "display_data"
    },
    {
     "name": "stdout",
     "output_type": "stream",
     "text": [
      "[\u001b[1mtardis.simulation.base\u001b[0m][\u001b[1;37mINFO\u001b[0m   ]  \n",
      "\t\n",
      "\tCurrent t_inner = 9933.952 K\n",
      "\tExpected t_inner for next iteration = 12474.059 K\n",
      " (\u001b[1mbase.py\u001b[0m:554)\n",
      "[\u001b[1mpy.warnings         \u001b[0m][\u001b[1;33mWARNING\u001b[0m]  \n",
      "\t/mnt/home/grunew14/anaconda3/envs/tardis/lib/python3.8/site-packages/tardis/plasma/properties/radiative_properties.py:93: RuntimeWarning: invalid value encountered in true_divide\n",
      "  (g_lower * n_upper) / (g_upper * n_lower)\n",
      " (\u001b[1mwarnings.py\u001b[0m:109)\n",
      "[\u001b[1mtardis.simulation.base\u001b[0m][\u001b[1;37mINFO\u001b[0m   ]  \n",
      "\t\n",
      "\tStarting iteration 2 of 20 (\u001b[1mbase.py\u001b[0m:385)\n",
      "[\u001b[1mtardis.simulation.base\u001b[0m][\u001b[1;37mINFO\u001b[0m   ]  \n",
      "\t\n",
      "\tLuminosity emitted   = 8.079e+42 erg / s\n",
      "\tLuminosity absorbed  = 1.739e+43 erg / s\n",
      "\tLuminosity requested = 1.059e+43 erg / s\n",
      " (\u001b[1mbase.py\u001b[0m:559)\n",
      "[\u001b[1mtardis.simulation.base\u001b[0m][\u001b[1;37mINFO\u001b[0m   ]  \n",
      "\t\n",
      "\tPlasma stratification: (\u001b[1mbase.py\u001b[0m:527)\n"
     ]
    },
    {
     "data": {
      "text/html": [
       "<style  type=\"text/css\" >\n",
       "</style><table id=\"T_008265ca_c6a6_11ed_8177_e4434be0643c\" ><thead>    <tr>        <th class=\"index_name level0\" >Shell No.</th>        <th class=\"col_heading level0 col0\" >t_rad</th>        <th class=\"col_heading level0 col1\" >next_t_rad</th>        <th class=\"col_heading level0 col2\" >w</th>        <th class=\"col_heading level0 col3\" >next_w</th>    </tr></thead><tbody>\n",
       "                <tr>\n",
       "                        <th id=\"T_008265ca_c6a6_11ed_8177_e4434be0643clevel0_row0\" class=\"row_heading level0 row0\" >0</th>\n",
       "                        <td id=\"T_008265ca_c6a6_11ed_8177_e4434be0643crow0_col0\" class=\"data row0 col0\" >1.05e+04</td>\n",
       "                        <td id=\"T_008265ca_c6a6_11ed_8177_e4434be0643crow0_col1\" class=\"data row0 col1\" >1.2e+04</td>\n",
       "                        <td id=\"T_008265ca_c6a6_11ed_8177_e4434be0643crow0_col2\" class=\"data row0 col2\" >0.51</td>\n",
       "                        <td id=\"T_008265ca_c6a6_11ed_8177_e4434be0643crow0_col3\" class=\"data row0 col3\" >0.785</td>\n",
       "            </tr>\n",
       "            <tr>\n",
       "                        <th id=\"T_008265ca_c6a6_11ed_8177_e4434be0643clevel0_row1\" class=\"row_heading level0 row1\" >5</th>\n",
       "                        <td id=\"T_008265ca_c6a6_11ed_8177_e4434be0643crow1_col0\" class=\"data row1 col0\" >9.4e+03</td>\n",
       "                        <td id=\"T_008265ca_c6a6_11ed_8177_e4434be0643crow1_col1\" class=\"data row1 col1\" >1.04e+04</td>\n",
       "                        <td id=\"T_008265ca_c6a6_11ed_8177_e4434be0643crow1_col2\" class=\"data row1 col2\" >0.234</td>\n",
       "                        <td id=\"T_008265ca_c6a6_11ed_8177_e4434be0643crow1_col3\" class=\"data row1 col3\" >0.452</td>\n",
       "            </tr>\n",
       "            <tr>\n",
       "                        <th id=\"T_008265ca_c6a6_11ed_8177_e4434be0643clevel0_row2\" class=\"row_heading level0 row2\" >10</th>\n",
       "                        <td id=\"T_008265ca_c6a6_11ed_8177_e4434be0643crow2_col0\" class=\"data row2 col0\" >8.26e+03</td>\n",
       "                        <td id=\"T_008265ca_c6a6_11ed_8177_e4434be0643crow2_col1\" class=\"data row2 col1\" >9.42e+03</td>\n",
       "                        <td id=\"T_008265ca_c6a6_11ed_8177_e4434be0643crow2_col2\" class=\"data row2 col2\" >0.187</td>\n",
       "                        <td id=\"T_008265ca_c6a6_11ed_8177_e4434be0643crow2_col3\" class=\"data row2 col3\" >0.354</td>\n",
       "            </tr>\n",
       "            <tr>\n",
       "                        <th id=\"T_008265ca_c6a6_11ed_8177_e4434be0643clevel0_row3\" class=\"row_heading level0 row3\" >15</th>\n",
       "                        <td id=\"T_008265ca_c6a6_11ed_8177_e4434be0643crow3_col0\" class=\"data row3 col0\" >7.34e+03</td>\n",
       "                        <td id=\"T_008265ca_c6a6_11ed_8177_e4434be0643crow3_col1\" class=\"data row3 col1\" >8.44e+03</td>\n",
       "                        <td id=\"T_008265ca_c6a6_11ed_8177_e4434be0643crow3_col2\" class=\"data row3 col2\" >0.179</td>\n",
       "                        <td id=\"T_008265ca_c6a6_11ed_8177_e4434be0643crow3_col3\" class=\"data row3 col3\" >0.306</td>\n",
       "            </tr>\n",
       "    </tbody></table>"
      ],
      "text/plain": [
       "<pandas.io.formats.style.Styler at 0x2b2a1c666c40>"
      ]
     },
     "metadata": {},
     "output_type": "display_data"
    },
    {
     "name": "stdout",
     "output_type": "stream",
     "text": [
      "[\u001b[1mtardis.simulation.base\u001b[0m][\u001b[1;37mINFO\u001b[0m   ]  \n",
      "\t\n",
      "\tCurrent t_inner = 12474.059 K\n",
      "\tExpected t_inner for next iteration = 13378.594 K\n",
      " (\u001b[1mbase.py\u001b[0m:554)\n",
      "[\u001b[1mtardis.simulation.base\u001b[0m][\u001b[1;37mINFO\u001b[0m   ]  \n",
      "\t\n",
      "\tStarting iteration 3 of 20 (\u001b[1mbase.py\u001b[0m:385)\n",
      "[\u001b[1mtardis.simulation.base\u001b[0m][\u001b[1;37mINFO\u001b[0m   ]  \n",
      "\t\n",
      "\tLuminosity emitted   = 1.098e+43 erg / s\n",
      "\tLuminosity absorbed  = 2.292e+43 erg / s\n",
      "\tLuminosity requested = 1.059e+43 erg / s\n",
      " (\u001b[1mbase.py\u001b[0m:559)\n",
      "[\u001b[1mtardis.simulation.base\u001b[0m][\u001b[1;37mINFO\u001b[0m   ]  \n",
      "\t\n",
      "\tPlasma stratification: (\u001b[1mbase.py\u001b[0m:527)\n"
     ]
    },
    {
     "data": {
      "text/html": [
       "<style  type=\"text/css\" >\n",
       "</style><table id=\"T_03564c62_c6a6_11ed_8177_e4434be0643c\" ><thead>    <tr>        <th class=\"index_name level0\" >Shell No.</th>        <th class=\"col_heading level0 col0\" >t_rad</th>        <th class=\"col_heading level0 col1\" >next_t_rad</th>        <th class=\"col_heading level0 col2\" >w</th>        <th class=\"col_heading level0 col3\" >next_w</th>    </tr></thead><tbody>\n",
       "                <tr>\n",
       "                        <th id=\"T_03564c62_c6a6_11ed_8177_e4434be0643clevel0_row0\" class=\"row_heading level0 row0\" >0</th>\n",
       "                        <td id=\"T_03564c62_c6a6_11ed_8177_e4434be0643crow0_col0\" class=\"data row0 col0\" >1.2e+04</td>\n",
       "                        <td id=\"T_03564c62_c6a6_11ed_8177_e4434be0643crow0_col1\" class=\"data row0 col1\" >1.32e+04</td>\n",
       "                        <td id=\"T_03564c62_c6a6_11ed_8177_e4434be0643crow0_col2\" class=\"data row0 col2\" >0.785</td>\n",
       "                        <td id=\"T_03564c62_c6a6_11ed_8177_e4434be0643crow0_col3\" class=\"data row0 col3\" >0.714</td>\n",
       "            </tr>\n",
       "            <tr>\n",
       "                        <th id=\"T_03564c62_c6a6_11ed_8177_e4434be0643clevel0_row1\" class=\"row_heading level0 row1\" >5</th>\n",
       "                        <td id=\"T_03564c62_c6a6_11ed_8177_e4434be0643crow1_col0\" class=\"data row1 col0\" >1.04e+04</td>\n",
       "                        <td id=\"T_03564c62_c6a6_11ed_8177_e4434be0643crow1_col1\" class=\"data row1 col1\" >1.12e+04</td>\n",
       "                        <td id=\"T_03564c62_c6a6_11ed_8177_e4434be0643crow1_col2\" class=\"data row1 col2\" >0.452</td>\n",
       "                        <td id=\"T_03564c62_c6a6_11ed_8177_e4434be0643crow1_col3\" class=\"data row1 col3\" >0.383</td>\n",
       "            </tr>\n",
       "            <tr>\n",
       "                        <th id=\"T_03564c62_c6a6_11ed_8177_e4434be0643clevel0_row2\" class=\"row_heading level0 row2\" >10</th>\n",
       "                        <td id=\"T_03564c62_c6a6_11ed_8177_e4434be0643crow2_col0\" class=\"data row2 col0\" >9.42e+03</td>\n",
       "                        <td id=\"T_03564c62_c6a6_11ed_8177_e4434be0643crow2_col1\" class=\"data row2 col1\" >9.74e+03</td>\n",
       "                        <td id=\"T_03564c62_c6a6_11ed_8177_e4434be0643crow2_col2\" class=\"data row2 col2\" >0.354</td>\n",
       "                        <td id=\"T_03564c62_c6a6_11ed_8177_e4434be0643crow2_col3\" class=\"data row2 col3\" >0.302</td>\n",
       "            </tr>\n",
       "            <tr>\n",
       "                        <th id=\"T_03564c62_c6a6_11ed_8177_e4434be0643clevel0_row3\" class=\"row_heading level0 row3\" >15</th>\n",
       "                        <td id=\"T_03564c62_c6a6_11ed_8177_e4434be0643crow3_col0\" class=\"data row3 col0\" >8.44e+03</td>\n",
       "                        <td id=\"T_03564c62_c6a6_11ed_8177_e4434be0643crow3_col1\" class=\"data row3 col1\" >8.79e+03</td>\n",
       "                        <td id=\"T_03564c62_c6a6_11ed_8177_e4434be0643crow3_col2\" class=\"data row3 col2\" >0.306</td>\n",
       "                        <td id=\"T_03564c62_c6a6_11ed_8177_e4434be0643crow3_col3\" class=\"data row3 col3\" >0.266</td>\n",
       "            </tr>\n",
       "    </tbody></table>"
      ],
      "text/plain": [
       "<pandas.io.formats.style.Styler at 0x2b2a1c6669d0>"
      ]
     },
     "metadata": {},
     "output_type": "display_data"
    },
    {
     "name": "stdout",
     "output_type": "stream",
     "text": [
      "[\u001b[1mtardis.simulation.base\u001b[0m][\u001b[1;37mINFO\u001b[0m   ]  \n",
      "\t\n",
      "\tCurrent t_inner = 13378.594 K\n",
      "\tExpected t_inner for next iteration = 13259.277 K\n",
      " (\u001b[1mbase.py\u001b[0m:554)\n",
      "[\u001b[1mtardis.simulation.base\u001b[0m][\u001b[1;37mINFO\u001b[0m   ]  \n",
      "\t\n",
      "\tStarting iteration 4 of 20 (\u001b[1mbase.py\u001b[0m:385)\n",
      "[\u001b[1mtardis.simulation.base\u001b[0m][\u001b[1;37mINFO\u001b[0m   ]  \n",
      "\t\n",
      "\tLuminosity emitted   = 1.091e+43 erg / s\n",
      "\tLuminosity absorbed  = 2.175e+43 erg / s\n",
      "\tLuminosity requested = 1.059e+43 erg / s\n",
      " (\u001b[1mbase.py\u001b[0m:559)\n",
      "[\u001b[1mtardis.simulation.base\u001b[0m][\u001b[1;37mINFO\u001b[0m   ]  \n",
      "\t\n",
      "\tPlasma stratification: (\u001b[1mbase.py\u001b[0m:527)\n"
     ]
    },
    {
     "data": {
      "text/html": [
       "<style  type=\"text/css\" >\n",
       "</style><table id=\"T_06504a9e_c6a6_11ed_8177_e4434be0643c\" ><thead>    <tr>        <th class=\"index_name level0\" >Shell No.</th>        <th class=\"col_heading level0 col0\" >t_rad</th>        <th class=\"col_heading level0 col1\" >next_t_rad</th>        <th class=\"col_heading level0 col2\" >w</th>        <th class=\"col_heading level0 col3\" >next_w</th>    </tr></thead><tbody>\n",
       "                <tr>\n",
       "                        <th id=\"T_06504a9e_c6a6_11ed_8177_e4434be0643clevel0_row0\" class=\"row_heading level0 row0\" >0</th>\n",
       "                        <td id=\"T_06504a9e_c6a6_11ed_8177_e4434be0643crow0_col0\" class=\"data row0 col0\" >1.32e+04</td>\n",
       "                        <td id=\"T_06504a9e_c6a6_11ed_8177_e4434be0643crow0_col1\" class=\"data row0 col1\" >1.39e+04</td>\n",
       "                        <td id=\"T_06504a9e_c6a6_11ed_8177_e4434be0643crow0_col2\" class=\"data row0 col2\" >0.714</td>\n",
       "                        <td id=\"T_06504a9e_c6a6_11ed_8177_e4434be0643crow0_col3\" class=\"data row0 col3\" >0.583</td>\n",
       "            </tr>\n",
       "            <tr>\n",
       "                        <th id=\"T_06504a9e_c6a6_11ed_8177_e4434be0643clevel0_row1\" class=\"row_heading level0 row1\" >5</th>\n",
       "                        <td id=\"T_06504a9e_c6a6_11ed_8177_e4434be0643crow1_col0\" class=\"data row1 col0\" >1.12e+04</td>\n",
       "                        <td id=\"T_06504a9e_c6a6_11ed_8177_e4434be0643crow1_col1\" class=\"data row1 col1\" >1.19e+04</td>\n",
       "                        <td id=\"T_06504a9e_c6a6_11ed_8177_e4434be0643crow1_col2\" class=\"data row1 col2\" >0.383</td>\n",
       "                        <td id=\"T_06504a9e_c6a6_11ed_8177_e4434be0643crow1_col3\" class=\"data row1 col3\" >0.312</td>\n",
       "            </tr>\n",
       "            <tr>\n",
       "                        <th id=\"T_06504a9e_c6a6_11ed_8177_e4434be0643clevel0_row2\" class=\"row_heading level0 row2\" >10</th>\n",
       "                        <td id=\"T_06504a9e_c6a6_11ed_8177_e4434be0643crow2_col0\" class=\"data row2 col0\" >9.74e+03</td>\n",
       "                        <td id=\"T_06504a9e_c6a6_11ed_8177_e4434be0643crow2_col1\" class=\"data row2 col1\" >1.02e+04</td>\n",
       "                        <td id=\"T_06504a9e_c6a6_11ed_8177_e4434be0643crow2_col2\" class=\"data row2 col2\" >0.302</td>\n",
       "                        <td id=\"T_06504a9e_c6a6_11ed_8177_e4434be0643crow2_col3\" class=\"data row2 col3\" >0.254</td>\n",
       "            </tr>\n",
       "            <tr>\n",
       "                        <th id=\"T_06504a9e_c6a6_11ed_8177_e4434be0643clevel0_row3\" class=\"row_heading level0 row3\" >15</th>\n",
       "                        <td id=\"T_06504a9e_c6a6_11ed_8177_e4434be0643crow3_col0\" class=\"data row3 col0\" >8.79e+03</td>\n",
       "                        <td id=\"T_06504a9e_c6a6_11ed_8177_e4434be0643crow3_col1\" class=\"data row3 col1\" >9.22e+03</td>\n",
       "                        <td id=\"T_06504a9e_c6a6_11ed_8177_e4434be0643crow3_col2\" class=\"data row3 col2\" >0.266</td>\n",
       "                        <td id=\"T_06504a9e_c6a6_11ed_8177_e4434be0643crow3_col3\" class=\"data row3 col3\" >0.222</td>\n",
       "            </tr>\n",
       "    </tbody></table>"
      ],
      "text/plain": [
       "<pandas.io.formats.style.Styler at 0x2b2a1c666970>"
      ]
     },
     "metadata": {},
     "output_type": "display_data"
    },
    {
     "name": "stdout",
     "output_type": "stream",
     "text": [
      "[\u001b[1mtardis.simulation.base\u001b[0m][\u001b[1;37mINFO\u001b[0m   ]  \n",
      "\t\n",
      "\tCurrent t_inner = 13259.277 K\n",
      "\tExpected t_inner for next iteration = 13163.406 K\n",
      " (\u001b[1mbase.py\u001b[0m:554)\n",
      "[\u001b[1mtardis.simulation.base\u001b[0m][\u001b[1;37mINFO\u001b[0m   ]  \n",
      "\t\n",
      "\tStarting iteration 5 of 20 (\u001b[1mbase.py\u001b[0m:385)\n",
      "[\u001b[1mtardis.simulation.base\u001b[0m][\u001b[1;37mINFO\u001b[0m   ]  \n",
      "\t\n",
      "\tLuminosity emitted   = 1.080e+43 erg / s\n",
      "\tLuminosity absorbed  = 2.091e+43 erg / s\n",
      "\tLuminosity requested = 1.059e+43 erg / s\n",
      " (\u001b[1mbase.py\u001b[0m:559)\n",
      "[\u001b[1mtardis.simulation.base\u001b[0m][\u001b[1;37mINFO\u001b[0m   ]  \n",
      "\t\n",
      "\tPlasma stratification: (\u001b[1mbase.py\u001b[0m:527)\n"
     ]
    },
    {
     "data": {
      "text/html": [
       "<style  type=\"text/css\" >\n",
       "</style><table id=\"T_0955c9da_c6a6_11ed_8177_e4434be0643c\" ><thead>    <tr>        <th class=\"index_name level0\" >Shell No.</th>        <th class=\"col_heading level0 col0\" >t_rad</th>        <th class=\"col_heading level0 col1\" >next_t_rad</th>        <th class=\"col_heading level0 col2\" >w</th>        <th class=\"col_heading level0 col3\" >next_w</th>    </tr></thead><tbody>\n",
       "                <tr>\n",
       "                        <th id=\"T_0955c9da_c6a6_11ed_8177_e4434be0643clevel0_row0\" class=\"row_heading level0 row0\" >0</th>\n",
       "                        <td id=\"T_0955c9da_c6a6_11ed_8177_e4434be0643crow0_col0\" class=\"data row0 col0\" >1.39e+04</td>\n",
       "                        <td id=\"T_0955c9da_c6a6_11ed_8177_e4434be0643crow0_col1\" class=\"data row0 col1\" >1.43e+04</td>\n",
       "                        <td id=\"T_0955c9da_c6a6_11ed_8177_e4434be0643crow0_col2\" class=\"data row0 col2\" >0.583</td>\n",
       "                        <td id=\"T_0955c9da_c6a6_11ed_8177_e4434be0643crow0_col3\" class=\"data row0 col3\" >0.517</td>\n",
       "            </tr>\n",
       "            <tr>\n",
       "                        <th id=\"T_0955c9da_c6a6_11ed_8177_e4434be0643clevel0_row1\" class=\"row_heading level0 row1\" >5</th>\n",
       "                        <td id=\"T_0955c9da_c6a6_11ed_8177_e4434be0643crow1_col0\" class=\"data row1 col0\" >1.19e+04</td>\n",
       "                        <td id=\"T_0955c9da_c6a6_11ed_8177_e4434be0643crow1_col1\" class=\"data row1 col1\" >1.23e+04</td>\n",
       "                        <td id=\"T_0955c9da_c6a6_11ed_8177_e4434be0643crow1_col2\" class=\"data row1 col2\" >0.312</td>\n",
       "                        <td id=\"T_0955c9da_c6a6_11ed_8177_e4434be0643crow1_col3\" class=\"data row1 col3\" >0.276</td>\n",
       "            </tr>\n",
       "            <tr>\n",
       "                        <th id=\"T_0955c9da_c6a6_11ed_8177_e4434be0643clevel0_row2\" class=\"row_heading level0 row2\" >10</th>\n",
       "                        <td id=\"T_0955c9da_c6a6_11ed_8177_e4434be0643crow2_col0\" class=\"data row2 col0\" >1.02e+04</td>\n",
       "                        <td id=\"T_0955c9da_c6a6_11ed_8177_e4434be0643crow2_col1\" class=\"data row2 col1\" >1.06e+04</td>\n",
       "                        <td id=\"T_0955c9da_c6a6_11ed_8177_e4434be0643crow2_col2\" class=\"data row2 col2\" >0.254</td>\n",
       "                        <td id=\"T_0955c9da_c6a6_11ed_8177_e4434be0643crow2_col3\" class=\"data row2 col3\" >0.214</td>\n",
       "            </tr>\n",
       "            <tr>\n",
       "                        <th id=\"T_0955c9da_c6a6_11ed_8177_e4434be0643clevel0_row3\" class=\"row_heading level0 row3\" >15</th>\n",
       "                        <td id=\"T_0955c9da_c6a6_11ed_8177_e4434be0643crow3_col0\" class=\"data row3 col0\" >9.22e+03</td>\n",
       "                        <td id=\"T_0955c9da_c6a6_11ed_8177_e4434be0643crow3_col1\" class=\"data row3 col1\" >9.31e+03</td>\n",
       "                        <td id=\"T_0955c9da_c6a6_11ed_8177_e4434be0643crow3_col2\" class=\"data row3 col2\" >0.222</td>\n",
       "                        <td id=\"T_0955c9da_c6a6_11ed_8177_e4434be0643crow3_col3\" class=\"data row3 col3\" >0.204</td>\n",
       "            </tr>\n",
       "    </tbody></table>"
      ],
      "text/plain": [
       "<pandas.io.formats.style.Styler at 0x2b2a1c666850>"
      ]
     },
     "metadata": {},
     "output_type": "display_data"
    },
    {
     "name": "stdout",
     "output_type": "stream",
     "text": [
      "[\u001b[1mtardis.simulation.base\u001b[0m][\u001b[1;37mINFO\u001b[0m   ]  \n",
      "\t\n",
      "\tCurrent t_inner = 13163.406 K\n",
      "\tExpected t_inner for next iteration = 13101.048 K\n",
      " (\u001b[1mbase.py\u001b[0m:554)\n",
      "[\u001b[1mtardis.simulation.base\u001b[0m][\u001b[1;37mINFO\u001b[0m   ]  \n",
      "\t\n",
      "\tStarting iteration 6 of 20 (\u001b[1mbase.py\u001b[0m:385)\n",
      "[\u001b[1mtardis.simulation.base\u001b[0m][\u001b[1;37mINFO\u001b[0m   ]  \n",
      "\t\n",
      "\tLuminosity emitted   = 1.093e+43 erg / s\n",
      "\tLuminosity absorbed  = 2.015e+43 erg / s\n",
      "\tLuminosity requested = 1.059e+43 erg / s\n",
      " (\u001b[1mbase.py\u001b[0m:559)\n",
      "[\u001b[1mtardis.simulation.base\u001b[0m][\u001b[1;37mINFO\u001b[0m   ]  \n",
      "\t\n",
      "\tPlasma stratification: (\u001b[1mbase.py\u001b[0m:527)\n"
     ]
    },
    {
     "data": {
      "text/html": [
       "<style  type=\"text/css\" >\n",
       "</style><table id=\"T_0c77a1b0_c6a6_11ed_8177_e4434be0643c\" ><thead>    <tr>        <th class=\"index_name level0\" >Shell No.</th>        <th class=\"col_heading level0 col0\" >t_rad</th>        <th class=\"col_heading level0 col1\" >next_t_rad</th>        <th class=\"col_heading level0 col2\" >w</th>        <th class=\"col_heading level0 col3\" >next_w</th>    </tr></thead><tbody>\n",
       "                <tr>\n",
       "                        <th id=\"T_0c77a1b0_c6a6_11ed_8177_e4434be0643clevel0_row0\" class=\"row_heading level0 row0\" >0</th>\n",
       "                        <td id=\"T_0c77a1b0_c6a6_11ed_8177_e4434be0643crow0_col0\" class=\"data row0 col0\" >1.43e+04</td>\n",
       "                        <td id=\"T_0c77a1b0_c6a6_11ed_8177_e4434be0643crow0_col1\" class=\"data row0 col1\" >1.45e+04</td>\n",
       "                        <td id=\"T_0c77a1b0_c6a6_11ed_8177_e4434be0643crow0_col2\" class=\"data row0 col2\" >0.517</td>\n",
       "                        <td id=\"T_0c77a1b0_c6a6_11ed_8177_e4434be0643crow0_col3\" class=\"data row0 col3\" >0.481</td>\n",
       "            </tr>\n",
       "            <tr>\n",
       "                        <th id=\"T_0c77a1b0_c6a6_11ed_8177_e4434be0643clevel0_row1\" class=\"row_heading level0 row1\" >5</th>\n",
       "                        <td id=\"T_0c77a1b0_c6a6_11ed_8177_e4434be0643crow1_col0\" class=\"data row1 col0\" >1.23e+04</td>\n",
       "                        <td id=\"T_0c77a1b0_c6a6_11ed_8177_e4434be0643crow1_col1\" class=\"data row1 col1\" >1.28e+04</td>\n",
       "                        <td id=\"T_0c77a1b0_c6a6_11ed_8177_e4434be0643crow1_col2\" class=\"data row1 col2\" >0.276</td>\n",
       "                        <td id=\"T_0c77a1b0_c6a6_11ed_8177_e4434be0643crow1_col3\" class=\"data row1 col3\" >0.259</td>\n",
       "            </tr>\n",
       "            <tr>\n",
       "                        <th id=\"T_0c77a1b0_c6a6_11ed_8177_e4434be0643clevel0_row2\" class=\"row_heading level0 row2\" >10</th>\n",
       "                        <td id=\"T_0c77a1b0_c6a6_11ed_8177_e4434be0643crow2_col0\" class=\"data row2 col0\" >1.06e+04</td>\n",
       "                        <td id=\"T_0c77a1b0_c6a6_11ed_8177_e4434be0643crow2_col1\" class=\"data row2 col1\" >1.1e+04</td>\n",
       "                        <td id=\"T_0c77a1b0_c6a6_11ed_8177_e4434be0643crow2_col2\" class=\"data row2 col2\" >0.214</td>\n",
       "                        <td id=\"T_0c77a1b0_c6a6_11ed_8177_e4434be0643crow2_col3\" class=\"data row2 col3\" >0.199</td>\n",
       "            </tr>\n",
       "            <tr>\n",
       "                        <th id=\"T_0c77a1b0_c6a6_11ed_8177_e4434be0643clevel0_row3\" class=\"row_heading level0 row3\" >15</th>\n",
       "                        <td id=\"T_0c77a1b0_c6a6_11ed_8177_e4434be0643crow3_col0\" class=\"data row3 col0\" >9.31e+03</td>\n",
       "                        <td id=\"T_0c77a1b0_c6a6_11ed_8177_e4434be0643crow3_col1\" class=\"data row3 col1\" >9.48e+03</td>\n",
       "                        <td id=\"T_0c77a1b0_c6a6_11ed_8177_e4434be0643crow3_col2\" class=\"data row3 col2\" >0.204</td>\n",
       "                        <td id=\"T_0c77a1b0_c6a6_11ed_8177_e4434be0643crow3_col3\" class=\"data row3 col3\" >0.194</td>\n",
       "            </tr>\n",
       "    </tbody></table>"
      ],
      "text/plain": [
       "<pandas.io.formats.style.Styler at 0x2b2a27154d60>"
      ]
     },
     "metadata": {},
     "output_type": "display_data"
    },
    {
     "name": "stdout",
     "output_type": "stream",
     "text": [
      "[\u001b[1mtardis.simulation.base\u001b[0m][\u001b[1;37mINFO\u001b[0m   ]  \n",
      "\t\n",
      "\tCurrent t_inner = 13101.048 K\n",
      "\tExpected t_inner for next iteration = 12999.235 K\n",
      " (\u001b[1mbase.py\u001b[0m:554)\n",
      "[\u001b[1mtardis.simulation.base\u001b[0m][\u001b[1;37mINFO\u001b[0m   ]  \n",
      "\t\n",
      "\tStarting iteration 7 of 20 (\u001b[1mbase.py\u001b[0m:385)\n",
      "[\u001b[1mtardis.simulation.base\u001b[0m][\u001b[1;37mINFO\u001b[0m   ]  \n",
      "\t\n",
      "\tLuminosity emitted   = 1.101e+43 erg / s\n",
      "\tLuminosity absorbed  = 1.911e+43 erg / s\n",
      "\tLuminosity requested = 1.059e+43 erg / s\n",
      " (\u001b[1mbase.py\u001b[0m:559)\n",
      "[\u001b[1mtardis.simulation.base\u001b[0m][\u001b[1;37mINFO\u001b[0m   ]  \n",
      "\t\n",
      "\tPlasma stratification: (\u001b[1mbase.py\u001b[0m:527)\n"
     ]
    },
    {
     "data": {
      "text/html": [
       "<style  type=\"text/css\" >\n",
       "</style><table id=\"T_0fa29cc8_c6a6_11ed_8177_e4434be0643c\" ><thead>    <tr>        <th class=\"index_name level0\" >Shell No.</th>        <th class=\"col_heading level0 col0\" >t_rad</th>        <th class=\"col_heading level0 col1\" >next_t_rad</th>        <th class=\"col_heading level0 col2\" >w</th>        <th class=\"col_heading level0 col3\" >next_w</th>    </tr></thead><tbody>\n",
       "                <tr>\n",
       "                        <th id=\"T_0fa29cc8_c6a6_11ed_8177_e4434be0643clevel0_row0\" class=\"row_heading level0 row0\" >0</th>\n",
       "                        <td id=\"T_0fa29cc8_c6a6_11ed_8177_e4434be0643crow0_col0\" class=\"data row0 col0\" >1.45e+04</td>\n",
       "                        <td id=\"T_0fa29cc8_c6a6_11ed_8177_e4434be0643crow0_col1\" class=\"data row0 col1\" >1.46e+04</td>\n",
       "                        <td id=\"T_0fa29cc8_c6a6_11ed_8177_e4434be0643crow0_col2\" class=\"data row0 col2\" >0.481</td>\n",
       "                        <td id=\"T_0fa29cc8_c6a6_11ed_8177_e4434be0643crow0_col3\" class=\"data row0 col3\" >0.451</td>\n",
       "            </tr>\n",
       "            <tr>\n",
       "                        <th id=\"T_0fa29cc8_c6a6_11ed_8177_e4434be0643clevel0_row1\" class=\"row_heading level0 row1\" >5</th>\n",
       "                        <td id=\"T_0fa29cc8_c6a6_11ed_8177_e4434be0643crow1_col0\" class=\"data row1 col0\" >1.28e+04</td>\n",
       "                        <td id=\"T_0fa29cc8_c6a6_11ed_8177_e4434be0643crow1_col1\" class=\"data row1 col1\" >1.31e+04</td>\n",
       "                        <td id=\"T_0fa29cc8_c6a6_11ed_8177_e4434be0643crow1_col2\" class=\"data row1 col2\" >0.259</td>\n",
       "                        <td id=\"T_0fa29cc8_c6a6_11ed_8177_e4434be0643crow1_col3\" class=\"data row1 col3\" >0.238</td>\n",
       "            </tr>\n",
       "            <tr>\n",
       "                        <th id=\"T_0fa29cc8_c6a6_11ed_8177_e4434be0643clevel0_row2\" class=\"row_heading level0 row2\" >10</th>\n",
       "                        <td id=\"T_0fa29cc8_c6a6_11ed_8177_e4434be0643crow2_col0\" class=\"data row2 col0\" >1.1e+04</td>\n",
       "                        <td id=\"T_0fa29cc8_c6a6_11ed_8177_e4434be0643crow2_col1\" class=\"data row2 col1\" >1.11e+04</td>\n",
       "                        <td id=\"T_0fa29cc8_c6a6_11ed_8177_e4434be0643crow2_col2\" class=\"data row2 col2\" >0.199</td>\n",
       "                        <td id=\"T_0fa29cc8_c6a6_11ed_8177_e4434be0643crow2_col3\" class=\"data row2 col3\" >0.191</td>\n",
       "            </tr>\n",
       "            <tr>\n",
       "                        <th id=\"T_0fa29cc8_c6a6_11ed_8177_e4434be0643clevel0_row3\" class=\"row_heading level0 row3\" >15</th>\n",
       "                        <td id=\"T_0fa29cc8_c6a6_11ed_8177_e4434be0643crow3_col0\" class=\"data row3 col0\" >9.48e+03</td>\n",
       "                        <td id=\"T_0fa29cc8_c6a6_11ed_8177_e4434be0643crow3_col1\" class=\"data row3 col1\" >9.46e+03</td>\n",
       "                        <td id=\"T_0fa29cc8_c6a6_11ed_8177_e4434be0643crow3_col2\" class=\"data row3 col2\" >0.194</td>\n",
       "                        <td id=\"T_0fa29cc8_c6a6_11ed_8177_e4434be0643crow3_col3\" class=\"data row3 col3\" >0.192</td>\n",
       "            </tr>\n",
       "    </tbody></table>"
      ],
      "text/plain": [
       "<pandas.io.formats.style.Styler at 0x2b2a27154a30>"
      ]
     },
     "metadata": {},
     "output_type": "display_data"
    },
    {
     "name": "stdout",
     "output_type": "stream",
     "text": [
      "[\u001b[1mtardis.simulation.base\u001b[0m][\u001b[1;37mINFO\u001b[0m   ]  \n",
      "\t\n",
      "\tCurrent t_inner = 12999.235 K\n",
      "\tExpected t_inner for next iteration = 12875.863 K\n",
      " (\u001b[1mbase.py\u001b[0m:554)\n",
      "[\u001b[1mtardis.simulation.base\u001b[0m][\u001b[1;37mINFO\u001b[0m   ]  \n",
      "\t\n",
      "\tStarting iteration 8 of 20 (\u001b[1mbase.py\u001b[0m:385)\n",
      "[\u001b[1mtardis.simulation.base\u001b[0m][\u001b[1;37mINFO\u001b[0m   ]  \n",
      "\t\n",
      "\tLuminosity emitted   = 1.102e+43 erg / s\n",
      "\tLuminosity absorbed  = 1.795e+43 erg / s\n",
      "\tLuminosity requested = 1.059e+43 erg / s\n",
      " (\u001b[1mbase.py\u001b[0m:559)\n",
      "[\u001b[1mtardis.simulation.base\u001b[0m][\u001b[1;37mINFO\u001b[0m   ]  \n",
      "\t\n",
      "\tPlasma stratification: (\u001b[1mbase.py\u001b[0m:527)\n"
     ]
    },
    {
     "data": {
      "text/html": [
       "<style  type=\"text/css\" >\n",
       "</style><table id=\"T_12c011b0_c6a6_11ed_8177_e4434be0643c\" ><thead>    <tr>        <th class=\"index_name level0\" >Shell No.</th>        <th class=\"col_heading level0 col0\" >t_rad</th>        <th class=\"col_heading level0 col1\" >next_t_rad</th>        <th class=\"col_heading level0 col2\" >w</th>        <th class=\"col_heading level0 col3\" >next_w</th>    </tr></thead><tbody>\n",
       "                <tr>\n",
       "                        <th id=\"T_12c011b0_c6a6_11ed_8177_e4434be0643clevel0_row0\" class=\"row_heading level0 row0\" >0</th>\n",
       "                        <td id=\"T_12c011b0_c6a6_11ed_8177_e4434be0643crow0_col0\" class=\"data row0 col0\" >1.46e+04</td>\n",
       "                        <td id=\"T_12c011b0_c6a6_11ed_8177_e4434be0643crow0_col1\" class=\"data row0 col1\" >1.46e+04</td>\n",
       "                        <td id=\"T_12c011b0_c6a6_11ed_8177_e4434be0643crow0_col2\" class=\"data row0 col2\" >0.451</td>\n",
       "                        <td id=\"T_12c011b0_c6a6_11ed_8177_e4434be0643crow0_col3\" class=\"data row0 col3\" >0.431</td>\n",
       "            </tr>\n",
       "            <tr>\n",
       "                        <th id=\"T_12c011b0_c6a6_11ed_8177_e4434be0643clevel0_row1\" class=\"row_heading level0 row1\" >5</th>\n",
       "                        <td id=\"T_12c011b0_c6a6_11ed_8177_e4434be0643crow1_col0\" class=\"data row1 col0\" >1.31e+04</td>\n",
       "                        <td id=\"T_12c011b0_c6a6_11ed_8177_e4434be0643crow1_col1\" class=\"data row1 col1\" >1.34e+04</td>\n",
       "                        <td id=\"T_12c011b0_c6a6_11ed_8177_e4434be0643crow1_col2\" class=\"data row1 col2\" >0.238</td>\n",
       "                        <td id=\"T_12c011b0_c6a6_11ed_8177_e4434be0643crow1_col3\" class=\"data row1 col3\" >0.225</td>\n",
       "            </tr>\n",
       "            <tr>\n",
       "                        <th id=\"T_12c011b0_c6a6_11ed_8177_e4434be0643clevel0_row2\" class=\"row_heading level0 row2\" >10</th>\n",
       "                        <td id=\"T_12c011b0_c6a6_11ed_8177_e4434be0643crow2_col0\" class=\"data row2 col0\" >1.11e+04</td>\n",
       "                        <td id=\"T_12c011b0_c6a6_11ed_8177_e4434be0643crow2_col1\" class=\"data row2 col1\" >1.15e+04</td>\n",
       "                        <td id=\"T_12c011b0_c6a6_11ed_8177_e4434be0643crow2_col2\" class=\"data row2 col2\" >0.191</td>\n",
       "                        <td id=\"T_12c011b0_c6a6_11ed_8177_e4434be0643crow2_col3\" class=\"data row2 col3\" >0.178</td>\n",
       "            </tr>\n",
       "            <tr>\n",
       "                        <th id=\"T_12c011b0_c6a6_11ed_8177_e4434be0643clevel0_row3\" class=\"row_heading level0 row3\" >15</th>\n",
       "                        <td id=\"T_12c011b0_c6a6_11ed_8177_e4434be0643crow3_col0\" class=\"data row3 col0\" >9.46e+03</td>\n",
       "                        <td id=\"T_12c011b0_c6a6_11ed_8177_e4434be0643crow3_col1\" class=\"data row3 col1\" >9.7e+03</td>\n",
       "                        <td id=\"T_12c011b0_c6a6_11ed_8177_e4434be0643crow3_col2\" class=\"data row3 col2\" >0.192</td>\n",
       "                        <td id=\"T_12c011b0_c6a6_11ed_8177_e4434be0643crow3_col3\" class=\"data row3 col3\" >0.179</td>\n",
       "            </tr>\n",
       "    </tbody></table>"
      ],
      "text/plain": [
       "<pandas.io.formats.style.Styler at 0x2b2a27175d30>"
      ]
     },
     "metadata": {},
     "output_type": "display_data"
    },
    {
     "name": "stdout",
     "output_type": "stream",
     "text": [
      "[\u001b[1mtardis.simulation.base\u001b[0m][\u001b[1;37mINFO\u001b[0m   ]  \n",
      "\t\n",
      "\tCurrent t_inner = 12875.863 K\n",
      "\tExpected t_inner for next iteration = 12748.440 K\n",
      " (\u001b[1mbase.py\u001b[0m:554)\n",
      "[\u001b[1mtardis.simulation.base\u001b[0m][\u001b[1;37mINFO\u001b[0m   ]  \n",
      "\t\n",
      "\tStarting iteration 9 of 20 (\u001b[1mbase.py\u001b[0m:385)\n",
      "[\u001b[1mtardis.simulation.base\u001b[0m][\u001b[1;37mINFO\u001b[0m   ]  \n",
      "\t\n",
      "\tLuminosity emitted   = 1.076e+43 erg / s\n",
      "\tLuminosity absorbed  = 1.708e+43 erg / s\n",
      "\tLuminosity requested = 1.059e+43 erg / s\n",
      " (\u001b[1mbase.py\u001b[0m:559)\n",
      "[\u001b[1mtardis.simulation.base\u001b[0m][\u001b[1;37mINFO\u001b[0m   ]  \n",
      "\t\n",
      "\tPlasma stratification: (\u001b[1mbase.py\u001b[0m:527)\n"
     ]
    },
    {
     "data": {
      "text/html": [
       "<style  type=\"text/css\" >\n",
       "</style><table id=\"T_15eed2e0_c6a6_11ed_8177_e4434be0643c\" ><thead>    <tr>        <th class=\"index_name level0\" >Shell No.</th>        <th class=\"col_heading level0 col0\" >t_rad</th>        <th class=\"col_heading level0 col1\" >next_t_rad</th>        <th class=\"col_heading level0 col2\" >w</th>        <th class=\"col_heading level0 col3\" >next_w</th>    </tr></thead><tbody>\n",
       "                <tr>\n",
       "                        <th id=\"T_15eed2e0_c6a6_11ed_8177_e4434be0643clevel0_row0\" class=\"row_heading level0 row0\" >0</th>\n",
       "                        <td id=\"T_15eed2e0_c6a6_11ed_8177_e4434be0643crow0_col0\" class=\"data row0 col0\" >1.46e+04</td>\n",
       "                        <td id=\"T_15eed2e0_c6a6_11ed_8177_e4434be0643crow0_col1\" class=\"data row0 col1\" >1.46e+04</td>\n",
       "                        <td id=\"T_15eed2e0_c6a6_11ed_8177_e4434be0643crow0_col2\" class=\"data row0 col2\" >0.431</td>\n",
       "                        <td id=\"T_15eed2e0_c6a6_11ed_8177_e4434be0643crow0_col3\" class=\"data row0 col3\" >0.42</td>\n",
       "            </tr>\n",
       "            <tr>\n",
       "                        <th id=\"T_15eed2e0_c6a6_11ed_8177_e4434be0643clevel0_row1\" class=\"row_heading level0 row1\" >5</th>\n",
       "                        <td id=\"T_15eed2e0_c6a6_11ed_8177_e4434be0643crow1_col0\" class=\"data row1 col0\" >1.34e+04</td>\n",
       "                        <td id=\"T_15eed2e0_c6a6_11ed_8177_e4434be0643crow1_col1\" class=\"data row1 col1\" >1.37e+04</td>\n",
       "                        <td id=\"T_15eed2e0_c6a6_11ed_8177_e4434be0643crow1_col2\" class=\"data row1 col2\" >0.225</td>\n",
       "                        <td id=\"T_15eed2e0_c6a6_11ed_8177_e4434be0643crow1_col3\" class=\"data row1 col3\" >0.202</td>\n",
       "            </tr>\n",
       "            <tr>\n",
       "                        <th id=\"T_15eed2e0_c6a6_11ed_8177_e4434be0643clevel0_row2\" class=\"row_heading level0 row2\" >10</th>\n",
       "                        <td id=\"T_15eed2e0_c6a6_11ed_8177_e4434be0643crow2_col0\" class=\"data row2 col0\" >1.15e+04</td>\n",
       "                        <td id=\"T_15eed2e0_c6a6_11ed_8177_e4434be0643crow2_col1\" class=\"data row2 col1\" >1.17e+04</td>\n",
       "                        <td id=\"T_15eed2e0_c6a6_11ed_8177_e4434be0643crow2_col2\" class=\"data row2 col2\" >0.178</td>\n",
       "                        <td id=\"T_15eed2e0_c6a6_11ed_8177_e4434be0643crow2_col3\" class=\"data row2 col3\" >0.162</td>\n",
       "            </tr>\n",
       "            <tr>\n",
       "                        <th id=\"T_15eed2e0_c6a6_11ed_8177_e4434be0643clevel0_row3\" class=\"row_heading level0 row3\" >15</th>\n",
       "                        <td id=\"T_15eed2e0_c6a6_11ed_8177_e4434be0643crow3_col0\" class=\"data row3 col0\" >9.7e+03</td>\n",
       "                        <td id=\"T_15eed2e0_c6a6_11ed_8177_e4434be0643crow3_col1\" class=\"data row3 col1\" >9.87e+03</td>\n",
       "                        <td id=\"T_15eed2e0_c6a6_11ed_8177_e4434be0643crow3_col2\" class=\"data row3 col2\" >0.179</td>\n",
       "                        <td id=\"T_15eed2e0_c6a6_11ed_8177_e4434be0643crow3_col3\" class=\"data row3 col3\" >0.164</td>\n",
       "            </tr>\n",
       "    </tbody></table>"
      ],
      "text/plain": [
       "<pandas.io.formats.style.Styler at 0x2b2a27175130>"
      ]
     },
     "metadata": {},
     "output_type": "display_data"
    },
    {
     "name": "stdout",
     "output_type": "stream",
     "text": [
      "[\u001b[1mtardis.simulation.base\u001b[0m][\u001b[1;37mINFO\u001b[0m   ]  \n",
      "\t\n",
      "\tCurrent t_inner = 12748.440 K\n",
      "\tExpected t_inner for next iteration = 12698.158 K\n",
      " (\u001b[1mbase.py\u001b[0m:554)\n",
      "[\u001b[1mtardis.simulation.base\u001b[0m][\u001b[1;37mINFO\u001b[0m   ]  \n",
      "\t\n",
      "\tStarting iteration 10 of 20 (\u001b[1mbase.py\u001b[0m:385)\n",
      "[\u001b[1mtardis.simulation.base\u001b[0m][\u001b[1;37mINFO\u001b[0m   ]  \n",
      "\t\n",
      "\tLuminosity emitted   = 1.092e+43 erg / s\n",
      "\tLuminosity absorbed  = 1.650e+43 erg / s\n",
      "\tLuminosity requested = 1.059e+43 erg / s\n",
      " (\u001b[1mbase.py\u001b[0m:559)\n",
      "[\u001b[1mtardis.simulation.base\u001b[0m][\u001b[1;37mINFO\u001b[0m   ]  \n",
      "\t\n",
      "\tPlasma stratification: (\u001b[1mbase.py\u001b[0m:527)\n"
     ]
    },
    {
     "data": {
      "text/html": [
       "<style  type=\"text/css\" >\n",
       "</style><table id=\"T_191cdce6_c6a6_11ed_8177_e4434be0643c\" ><thead>    <tr>        <th class=\"index_name level0\" >Shell No.</th>        <th class=\"col_heading level0 col0\" >t_rad</th>        <th class=\"col_heading level0 col1\" >next_t_rad</th>        <th class=\"col_heading level0 col2\" >w</th>        <th class=\"col_heading level0 col3\" >next_w</th>    </tr></thead><tbody>\n",
       "                <tr>\n",
       "                        <th id=\"T_191cdce6_c6a6_11ed_8177_e4434be0643clevel0_row0\" class=\"row_heading level0 row0\" >0</th>\n",
       "                        <td id=\"T_191cdce6_c6a6_11ed_8177_e4434be0643crow0_col0\" class=\"data row0 col0\" >1.46e+04</td>\n",
       "                        <td id=\"T_191cdce6_c6a6_11ed_8177_e4434be0643crow0_col1\" class=\"data row0 col1\" >1.46e+04</td>\n",
       "                        <td id=\"T_191cdce6_c6a6_11ed_8177_e4434be0643crow0_col2\" class=\"data row0 col2\" >0.42</td>\n",
       "                        <td id=\"T_191cdce6_c6a6_11ed_8177_e4434be0643crow0_col3\" class=\"data row0 col3\" >0.417</td>\n",
       "            </tr>\n",
       "            <tr>\n",
       "                        <th id=\"T_191cdce6_c6a6_11ed_8177_e4434be0643clevel0_row1\" class=\"row_heading level0 row1\" >5</th>\n",
       "                        <td id=\"T_191cdce6_c6a6_11ed_8177_e4434be0643crow1_col0\" class=\"data row1 col0\" >1.37e+04</td>\n",
       "                        <td id=\"T_191cdce6_c6a6_11ed_8177_e4434be0643crow1_col1\" class=\"data row1 col1\" >1.38e+04</td>\n",
       "                        <td id=\"T_191cdce6_c6a6_11ed_8177_e4434be0643crow1_col2\" class=\"data row1 col2\" >0.202</td>\n",
       "                        <td id=\"T_191cdce6_c6a6_11ed_8177_e4434be0643crow1_col3\" class=\"data row1 col3\" >0.189</td>\n",
       "            </tr>\n",
       "            <tr>\n",
       "                        <th id=\"T_191cdce6_c6a6_11ed_8177_e4434be0643clevel0_row2\" class=\"row_heading level0 row2\" >10</th>\n",
       "                        <td id=\"T_191cdce6_c6a6_11ed_8177_e4434be0643crow2_col0\" class=\"data row2 col0\" >1.17e+04</td>\n",
       "                        <td id=\"T_191cdce6_c6a6_11ed_8177_e4434be0643crow2_col1\" class=\"data row2 col1\" >1.19e+04</td>\n",
       "                        <td id=\"T_191cdce6_c6a6_11ed_8177_e4434be0643crow2_col2\" class=\"data row2 col2\" >0.162</td>\n",
       "                        <td id=\"T_191cdce6_c6a6_11ed_8177_e4434be0643crow2_col3\" class=\"data row2 col3\" >0.155</td>\n",
       "            </tr>\n",
       "            <tr>\n",
       "                        <th id=\"T_191cdce6_c6a6_11ed_8177_e4434be0643clevel0_row3\" class=\"row_heading level0 row3\" >15</th>\n",
       "                        <td id=\"T_191cdce6_c6a6_11ed_8177_e4434be0643crow3_col0\" class=\"data row3 col0\" >9.87e+03</td>\n",
       "                        <td id=\"T_191cdce6_c6a6_11ed_8177_e4434be0643crow3_col1\" class=\"data row3 col1\" >9.86e+03</td>\n",
       "                        <td id=\"T_191cdce6_c6a6_11ed_8177_e4434be0643crow3_col2\" class=\"data row3 col2\" >0.164</td>\n",
       "                        <td id=\"T_191cdce6_c6a6_11ed_8177_e4434be0643crow3_col3\" class=\"data row3 col3\" >0.164</td>\n",
       "            </tr>\n",
       "    </tbody></table>"
      ],
      "text/plain": [
       "<pandas.io.formats.style.Styler at 0x2b2a27175730>"
      ]
     },
     "metadata": {},
     "output_type": "display_data"
    },
    {
     "name": "stdout",
     "output_type": "stream",
     "text": [
      "[\u001b[1mtardis.simulation.base\u001b[0m][\u001b[1;37mINFO\u001b[0m   ]  \n",
      "\t\n",
      "\tCurrent t_inner = 12698.158 K\n",
      "\tExpected t_inner for next iteration = 12602.150 K\n",
      " (\u001b[1mbase.py\u001b[0m:554)\n",
      "[\u001b[1mtardis.simulation.base\u001b[0m][\u001b[1;37mINFO\u001b[0m   ]  \n",
      "\t\n",
      "\tStarting iteration 11 of 20 (\u001b[1mbase.py\u001b[0m:385)\n",
      "[\u001b[1mtardis.simulation.base\u001b[0m][\u001b[1;37mINFO\u001b[0m   ]  \n",
      "\t\n",
      "\tLuminosity emitted   = 1.071e+43 erg / s\n",
      "\tLuminosity absorbed  = 1.590e+43 erg / s\n",
      "\tLuminosity requested = 1.059e+43 erg / s\n",
      " (\u001b[1mbase.py\u001b[0m:559)\n",
      "[\u001b[1mtardis.simulation.base\u001b[0m][\u001b[1;37mINFO\u001b[0m   ]  \n",
      "\t\n",
      "\tPlasma stratification: (\u001b[1mbase.py\u001b[0m:527)\n"
     ]
    },
    {
     "data": {
      "text/html": [
       "<style  type=\"text/css\" >\n",
       "</style><table id=\"T_1c1ab2ce_c6a6_11ed_8177_e4434be0643c\" ><thead>    <tr>        <th class=\"index_name level0\" >Shell No.</th>        <th class=\"col_heading level0 col0\" >t_rad</th>        <th class=\"col_heading level0 col1\" >next_t_rad</th>        <th class=\"col_heading level0 col2\" >w</th>        <th class=\"col_heading level0 col3\" >next_w</th>    </tr></thead><tbody>\n",
       "                <tr>\n",
       "                        <th id=\"T_1c1ab2ce_c6a6_11ed_8177_e4434be0643clevel0_row0\" class=\"row_heading level0 row0\" >0</th>\n",
       "                        <td id=\"T_1c1ab2ce_c6a6_11ed_8177_e4434be0643crow0_col0\" class=\"data row0 col0\" >1.46e+04</td>\n",
       "                        <td id=\"T_1c1ab2ce_c6a6_11ed_8177_e4434be0643crow0_col1\" class=\"data row0 col1\" >1.45e+04</td>\n",
       "                        <td id=\"T_1c1ab2ce_c6a6_11ed_8177_e4434be0643crow0_col2\" class=\"data row0 col2\" >0.417</td>\n",
       "                        <td id=\"T_1c1ab2ce_c6a6_11ed_8177_e4434be0643crow0_col3\" class=\"data row0 col3\" >0.407</td>\n",
       "            </tr>\n",
       "            <tr>\n",
       "                        <th id=\"T_1c1ab2ce_c6a6_11ed_8177_e4434be0643clevel0_row1\" class=\"row_heading level0 row1\" >5</th>\n",
       "                        <td id=\"T_1c1ab2ce_c6a6_11ed_8177_e4434be0643crow1_col0\" class=\"data row1 col0\" >1.38e+04</td>\n",
       "                        <td id=\"T_1c1ab2ce_c6a6_11ed_8177_e4434be0643crow1_col1\" class=\"data row1 col1\" >1.38e+04</td>\n",
       "                        <td id=\"T_1c1ab2ce_c6a6_11ed_8177_e4434be0643crow1_col2\" class=\"data row1 col2\" >0.189</td>\n",
       "                        <td id=\"T_1c1ab2ce_c6a6_11ed_8177_e4434be0643crow1_col3\" class=\"data row1 col3\" >0.185</td>\n",
       "            </tr>\n",
       "            <tr>\n",
       "                        <th id=\"T_1c1ab2ce_c6a6_11ed_8177_e4434be0643clevel0_row2\" class=\"row_heading level0 row2\" >10</th>\n",
       "                        <td id=\"T_1c1ab2ce_c6a6_11ed_8177_e4434be0643crow2_col0\" class=\"data row2 col0\" >1.19e+04</td>\n",
       "                        <td id=\"T_1c1ab2ce_c6a6_11ed_8177_e4434be0643crow2_col1\" class=\"data row2 col1\" >1.2e+04</td>\n",
       "                        <td id=\"T_1c1ab2ce_c6a6_11ed_8177_e4434be0643crow2_col2\" class=\"data row2 col2\" >0.155</td>\n",
       "                        <td id=\"T_1c1ab2ce_c6a6_11ed_8177_e4434be0643crow2_col3\" class=\"data row2 col3\" >0.15</td>\n",
       "            </tr>\n",
       "            <tr>\n",
       "                        <th id=\"T_1c1ab2ce_c6a6_11ed_8177_e4434be0643clevel0_row3\" class=\"row_heading level0 row3\" >15</th>\n",
       "                        <td id=\"T_1c1ab2ce_c6a6_11ed_8177_e4434be0643crow3_col0\" class=\"data row3 col0\" >9.86e+03</td>\n",
       "                        <td id=\"T_1c1ab2ce_c6a6_11ed_8177_e4434be0643crow3_col1\" class=\"data row3 col1\" >9.88e+03</td>\n",
       "                        <td id=\"T_1c1ab2ce_c6a6_11ed_8177_e4434be0643crow3_col2\" class=\"data row3 col2\" >0.164</td>\n",
       "                        <td id=\"T_1c1ab2ce_c6a6_11ed_8177_e4434be0643crow3_col3\" class=\"data row3 col3\" >0.159</td>\n",
       "            </tr>\n",
       "    </tbody></table>"
      ],
      "text/plain": [
       "<pandas.io.formats.style.Styler at 0x2b2a27175d60>"
      ]
     },
     "metadata": {},
     "output_type": "display_data"
    },
    {
     "name": "stdout",
     "output_type": "stream",
     "text": [
      "[\u001b[1mtardis.simulation.base\u001b[0m][\u001b[1;37mINFO\u001b[0m   ]  \n",
      "\t\n",
      "\tCurrent t_inner = 12602.150 K\n",
      "\tExpected t_inner for next iteration = 12567.465 K\n",
      " (\u001b[1mbase.py\u001b[0m:554)\n",
      "[\u001b[1mtardis.simulation.base\u001b[0m][\u001b[1;37mINFO\u001b[0m   ]  \n",
      "\t\n",
      "\tStarting iteration 12 of 20 (\u001b[1mbase.py\u001b[0m:385)\n",
      "[\u001b[1mtardis.simulation.base\u001b[0m][\u001b[1;37mINFO\u001b[0m   ]  \n",
      "\t\n",
      "\tLuminosity emitted   = 1.045e+43 erg / s\n",
      "\tLuminosity absorbed  = 1.588e+43 erg / s\n",
      "\tLuminosity requested = 1.059e+43 erg / s\n",
      " (\u001b[1mbase.py\u001b[0m:559)\n",
      "[\u001b[1mtardis.simulation.base\u001b[0m][\u001b[1;37mINFO\u001b[0m   ]  \n",
      "\tIteration converged 1/4 consecutive times. (\u001b[1mbase.py\u001b[0m:266)\n",
      "[\u001b[1mtardis.simulation.base\u001b[0m][\u001b[1;37mINFO\u001b[0m   ]  \n",
      "\t\n",
      "\tPlasma stratification: (\u001b[1mbase.py\u001b[0m:527)\n"
     ]
    },
    {
     "data": {
      "text/html": [
       "<style  type=\"text/css\" >\n",
       "</style><table id=\"T_1f127d2c_c6a6_11ed_8177_e4434be0643c\" ><thead>    <tr>        <th class=\"index_name level0\" >Shell No.</th>        <th class=\"col_heading level0 col0\" >t_rad</th>        <th class=\"col_heading level0 col1\" >next_t_rad</th>        <th class=\"col_heading level0 col2\" >w</th>        <th class=\"col_heading level0 col3\" >next_w</th>    </tr></thead><tbody>\n",
       "                <tr>\n",
       "                        <th id=\"T_1f127d2c_c6a6_11ed_8177_e4434be0643clevel0_row0\" class=\"row_heading level0 row0\" >0</th>\n",
       "                        <td id=\"T_1f127d2c_c6a6_11ed_8177_e4434be0643crow0_col0\" class=\"data row0 col0\" >1.45e+04</td>\n",
       "                        <td id=\"T_1f127d2c_c6a6_11ed_8177_e4434be0643crow0_col1\" class=\"data row0 col1\" >1.45e+04</td>\n",
       "                        <td id=\"T_1f127d2c_c6a6_11ed_8177_e4434be0643crow0_col2\" class=\"data row0 col2\" >0.407</td>\n",
       "                        <td id=\"T_1f127d2c_c6a6_11ed_8177_e4434be0643crow0_col3\" class=\"data row0 col3\" >0.401</td>\n",
       "            </tr>\n",
       "            <tr>\n",
       "                        <th id=\"T_1f127d2c_c6a6_11ed_8177_e4434be0643clevel0_row1\" class=\"row_heading level0 row1\" >5</th>\n",
       "                        <td id=\"T_1f127d2c_c6a6_11ed_8177_e4434be0643crow1_col0\" class=\"data row1 col0\" >1.38e+04</td>\n",
       "                        <td id=\"T_1f127d2c_c6a6_11ed_8177_e4434be0643crow1_col1\" class=\"data row1 col1\" >1.39e+04</td>\n",
       "                        <td id=\"T_1f127d2c_c6a6_11ed_8177_e4434be0643crow1_col2\" class=\"data row1 col2\" >0.185</td>\n",
       "                        <td id=\"T_1f127d2c_c6a6_11ed_8177_e4434be0643crow1_col3\" class=\"data row1 col3\" >0.177</td>\n",
       "            </tr>\n",
       "            <tr>\n",
       "                        <th id=\"T_1f127d2c_c6a6_11ed_8177_e4434be0643clevel0_row2\" class=\"row_heading level0 row2\" >10</th>\n",
       "                        <td id=\"T_1f127d2c_c6a6_11ed_8177_e4434be0643crow2_col0\" class=\"data row2 col0\" >1.2e+04</td>\n",
       "                        <td id=\"T_1f127d2c_c6a6_11ed_8177_e4434be0643crow2_col1\" class=\"data row2 col1\" >1.21e+04</td>\n",
       "                        <td id=\"T_1f127d2c_c6a6_11ed_8177_e4434be0643crow2_col2\" class=\"data row2 col2\" >0.15</td>\n",
       "                        <td id=\"T_1f127d2c_c6a6_11ed_8177_e4434be0643crow2_col3\" class=\"data row2 col3\" >0.143</td>\n",
       "            </tr>\n",
       "            <tr>\n",
       "                        <th id=\"T_1f127d2c_c6a6_11ed_8177_e4434be0643clevel0_row3\" class=\"row_heading level0 row3\" >15</th>\n",
       "                        <td id=\"T_1f127d2c_c6a6_11ed_8177_e4434be0643crow3_col0\" class=\"data row3 col0\" >9.88e+03</td>\n",
       "                        <td id=\"T_1f127d2c_c6a6_11ed_8177_e4434be0643crow3_col1\" class=\"data row3 col1\" >9.9e+03</td>\n",
       "                        <td id=\"T_1f127d2c_c6a6_11ed_8177_e4434be0643crow3_col2\" class=\"data row3 col2\" >0.159</td>\n",
       "                        <td id=\"T_1f127d2c_c6a6_11ed_8177_e4434be0643crow3_col3\" class=\"data row3 col3\" >0.154</td>\n",
       "            </tr>\n",
       "    </tbody></table>"
      ],
      "text/plain": [
       "<pandas.io.formats.style.Styler at 0x2b2a27154f70>"
      ]
     },
     "metadata": {},
     "output_type": "display_data"
    },
    {
     "name": "stdout",
     "output_type": "stream",
     "text": [
      "[\u001b[1mtardis.simulation.base\u001b[0m][\u001b[1;37mINFO\u001b[0m   ]  \n",
      "\t\n",
      "\tCurrent t_inner = 12567.465 K\n",
      "\tExpected t_inner for next iteration = 12610.344 K\n",
      " (\u001b[1mbase.py\u001b[0m:554)\n",
      "[\u001b[1mtardis.simulation.base\u001b[0m][\u001b[1;37mINFO\u001b[0m   ]  \n",
      "\t\n",
      "\tStarting iteration 13 of 20 (\u001b[1mbase.py\u001b[0m:385)\n",
      "[\u001b[1mtardis.simulation.base\u001b[0m][\u001b[1;37mINFO\u001b[0m   ]  \n",
      "\t\n",
      "\tLuminosity emitted   = 1.071e+43 erg / s\n",
      "\tLuminosity absorbed  = 1.599e+43 erg / s\n",
      "\tLuminosity requested = 1.059e+43 erg / s\n",
      " (\u001b[1mbase.py\u001b[0m:559)\n",
      "[\u001b[1mtardis.simulation.base\u001b[0m][\u001b[1;37mINFO\u001b[0m   ]  \n",
      "\tIteration converged 2/4 consecutive times. (\u001b[1mbase.py\u001b[0m:266)\n",
      "[\u001b[1mtardis.simulation.base\u001b[0m][\u001b[1;37mINFO\u001b[0m   ]  \n",
      "\t\n",
      "\tPlasma stratification: (\u001b[1mbase.py\u001b[0m:527)\n"
     ]
    },
    {
     "data": {
      "text/html": [
       "<style  type=\"text/css\" >\n",
       "</style><table id=\"T_2212ddd2_c6a6_11ed_8177_e4434be0643c\" ><thead>    <tr>        <th class=\"index_name level0\" >Shell No.</th>        <th class=\"col_heading level0 col0\" >t_rad</th>        <th class=\"col_heading level0 col1\" >next_t_rad</th>        <th class=\"col_heading level0 col2\" >w</th>        <th class=\"col_heading level0 col3\" >next_w</th>    </tr></thead><tbody>\n",
       "                <tr>\n",
       "                        <th id=\"T_2212ddd2_c6a6_11ed_8177_e4434be0643clevel0_row0\" class=\"row_heading level0 row0\" >0</th>\n",
       "                        <td id=\"T_2212ddd2_c6a6_11ed_8177_e4434be0643crow0_col0\" class=\"data row0 col0\" >1.45e+04</td>\n",
       "                        <td id=\"T_2212ddd2_c6a6_11ed_8177_e4434be0643crow0_col1\" class=\"data row0 col1\" >1.44e+04</td>\n",
       "                        <td id=\"T_2212ddd2_c6a6_11ed_8177_e4434be0643crow0_col2\" class=\"data row0 col2\" >0.401</td>\n",
       "                        <td id=\"T_2212ddd2_c6a6_11ed_8177_e4434be0643crow0_col3\" class=\"data row0 col3\" >0.411</td>\n",
       "            </tr>\n",
       "            <tr>\n",
       "                        <th id=\"T_2212ddd2_c6a6_11ed_8177_e4434be0643clevel0_row1\" class=\"row_heading level0 row1\" >5</th>\n",
       "                        <td id=\"T_2212ddd2_c6a6_11ed_8177_e4434be0643crow1_col0\" class=\"data row1 col0\" >1.39e+04</td>\n",
       "                        <td id=\"T_2212ddd2_c6a6_11ed_8177_e4434be0643crow1_col1\" class=\"data row1 col1\" >1.38e+04</td>\n",
       "                        <td id=\"T_2212ddd2_c6a6_11ed_8177_e4434be0643crow1_col2\" class=\"data row1 col2\" >0.177</td>\n",
       "                        <td id=\"T_2212ddd2_c6a6_11ed_8177_e4434be0643crow1_col3\" class=\"data row1 col3\" >0.183</td>\n",
       "            </tr>\n",
       "            <tr>\n",
       "                        <th id=\"T_2212ddd2_c6a6_11ed_8177_e4434be0643clevel0_row2\" class=\"row_heading level0 row2\" >10</th>\n",
       "                        <td id=\"T_2212ddd2_c6a6_11ed_8177_e4434be0643crow2_col0\" class=\"data row2 col0\" >1.21e+04</td>\n",
       "                        <td id=\"T_2212ddd2_c6a6_11ed_8177_e4434be0643crow2_col1\" class=\"data row2 col1\" >1.21e+04</td>\n",
       "                        <td id=\"T_2212ddd2_c6a6_11ed_8177_e4434be0643crow2_col2\" class=\"data row2 col2\" >0.143</td>\n",
       "                        <td id=\"T_2212ddd2_c6a6_11ed_8177_e4434be0643crow2_col3\" class=\"data row2 col3\" >0.144</td>\n",
       "            </tr>\n",
       "            <tr>\n",
       "                        <th id=\"T_2212ddd2_c6a6_11ed_8177_e4434be0643clevel0_row3\" class=\"row_heading level0 row3\" >15</th>\n",
       "                        <td id=\"T_2212ddd2_c6a6_11ed_8177_e4434be0643crow3_col0\" class=\"data row3 col0\" >9.9e+03</td>\n",
       "                        <td id=\"T_2212ddd2_c6a6_11ed_8177_e4434be0643crow3_col1\" class=\"data row3 col1\" >9.85e+03</td>\n",
       "                        <td id=\"T_2212ddd2_c6a6_11ed_8177_e4434be0643crow3_col2\" class=\"data row3 col2\" >0.154</td>\n",
       "                        <td id=\"T_2212ddd2_c6a6_11ed_8177_e4434be0643crow3_col3\" class=\"data row3 col3\" >0.162</td>\n",
       "            </tr>\n",
       "    </tbody></table>"
      ],
      "text/plain": [
       "<pandas.io.formats.style.Styler at 0x2b2a27175970>"
      ]
     },
     "metadata": {},
     "output_type": "display_data"
    },
    {
     "name": "stdout",
     "output_type": "stream",
     "text": [
      "[\u001b[1mtardis.simulation.base\u001b[0m][\u001b[1;37mINFO\u001b[0m   ]  \n",
      "\t\n",
      "\tCurrent t_inner = 12610.344 K\n",
      "\tExpected t_inner for next iteration = 12576.882 K\n",
      " (\u001b[1mbase.py\u001b[0m:554)\n",
      "[\u001b[1mtardis.simulation.base\u001b[0m][\u001b[1;37mINFO\u001b[0m   ]  \n",
      "\t\n",
      "\tStarting iteration 14 of 20 (\u001b[1mbase.py\u001b[0m:385)\n",
      "[\u001b[1mtardis.simulation.base\u001b[0m][\u001b[1;37mINFO\u001b[0m   ]  \n",
      "\t\n",
      "\tLuminosity emitted   = 1.053e+43 erg / s\n",
      "\tLuminosity absorbed  = 1.588e+43 erg / s\n",
      "\tLuminosity requested = 1.059e+43 erg / s\n",
      " (\u001b[1mbase.py\u001b[0m:559)\n",
      "[\u001b[1mtardis.simulation.base\u001b[0m][\u001b[1;37mINFO\u001b[0m   ]  \n",
      "\tIteration converged 3/4 consecutive times. (\u001b[1mbase.py\u001b[0m:266)\n",
      "[\u001b[1mtardis.simulation.base\u001b[0m][\u001b[1;37mINFO\u001b[0m   ]  \n",
      "\t\n",
      "\tPlasma stratification: (\u001b[1mbase.py\u001b[0m:527)\n"
     ]
    },
    {
     "data": {
      "text/html": [
       "<style  type=\"text/css\" >\n",
       "</style><table id=\"T_2512e6d0_c6a6_11ed_8177_e4434be0643c\" ><thead>    <tr>        <th class=\"index_name level0\" >Shell No.</th>        <th class=\"col_heading level0 col0\" >t_rad</th>        <th class=\"col_heading level0 col1\" >next_t_rad</th>        <th class=\"col_heading level0 col2\" >w</th>        <th class=\"col_heading level0 col3\" >next_w</th>    </tr></thead><tbody>\n",
       "                <tr>\n",
       "                        <th id=\"T_2512e6d0_c6a6_11ed_8177_e4434be0643clevel0_row0\" class=\"row_heading level0 row0\" >0</th>\n",
       "                        <td id=\"T_2512e6d0_c6a6_11ed_8177_e4434be0643crow0_col0\" class=\"data row0 col0\" >1.44e+04</td>\n",
       "                        <td id=\"T_2512e6d0_c6a6_11ed_8177_e4434be0643crow0_col1\" class=\"data row0 col1\" >1.44e+04</td>\n",
       "                        <td id=\"T_2512e6d0_c6a6_11ed_8177_e4434be0643crow0_col2\" class=\"data row0 col2\" >0.411</td>\n",
       "                        <td id=\"T_2512e6d0_c6a6_11ed_8177_e4434be0643crow0_col3\" class=\"data row0 col3\" >0.413</td>\n",
       "            </tr>\n",
       "            <tr>\n",
       "                        <th id=\"T_2512e6d0_c6a6_11ed_8177_e4434be0643clevel0_row1\" class=\"row_heading level0 row1\" >5</th>\n",
       "                        <td id=\"T_2512e6d0_c6a6_11ed_8177_e4434be0643crow1_col0\" class=\"data row1 col0\" >1.38e+04</td>\n",
       "                        <td id=\"T_2512e6d0_c6a6_11ed_8177_e4434be0643crow1_col1\" class=\"data row1 col1\" >1.37e+04</td>\n",
       "                        <td id=\"T_2512e6d0_c6a6_11ed_8177_e4434be0643crow1_col2\" class=\"data row1 col2\" >0.183</td>\n",
       "                        <td id=\"T_2512e6d0_c6a6_11ed_8177_e4434be0643crow1_col3\" class=\"data row1 col3\" >0.187</td>\n",
       "            </tr>\n",
       "            <tr>\n",
       "                        <th id=\"T_2512e6d0_c6a6_11ed_8177_e4434be0643clevel0_row2\" class=\"row_heading level0 row2\" >10</th>\n",
       "                        <td id=\"T_2512e6d0_c6a6_11ed_8177_e4434be0643crow2_col0\" class=\"data row2 col0\" >1.21e+04</td>\n",
       "                        <td id=\"T_2512e6d0_c6a6_11ed_8177_e4434be0643crow2_col1\" class=\"data row2 col1\" >1.2e+04</td>\n",
       "                        <td id=\"T_2512e6d0_c6a6_11ed_8177_e4434be0643crow2_col2\" class=\"data row2 col2\" >0.144</td>\n",
       "                        <td id=\"T_2512e6d0_c6a6_11ed_8177_e4434be0643crow2_col3\" class=\"data row2 col3\" >0.144</td>\n",
       "            </tr>\n",
       "            <tr>\n",
       "                        <th id=\"T_2512e6d0_c6a6_11ed_8177_e4434be0643clevel0_row3\" class=\"row_heading level0 row3\" >15</th>\n",
       "                        <td id=\"T_2512e6d0_c6a6_11ed_8177_e4434be0643crow3_col0\" class=\"data row3 col0\" >9.85e+03</td>\n",
       "                        <td id=\"T_2512e6d0_c6a6_11ed_8177_e4434be0643crow3_col1\" class=\"data row3 col1\" >9.89e+03</td>\n",
       "                        <td id=\"T_2512e6d0_c6a6_11ed_8177_e4434be0643crow3_col2\" class=\"data row3 col2\" >0.162</td>\n",
       "                        <td id=\"T_2512e6d0_c6a6_11ed_8177_e4434be0643crow3_col3\" class=\"data row3 col3\" >0.156</td>\n",
       "            </tr>\n",
       "    </tbody></table>"
      ],
      "text/plain": [
       "<pandas.io.formats.style.Styler at 0x2b2a27180c40>"
      ]
     },
     "metadata": {},
     "output_type": "display_data"
    },
    {
     "name": "stdout",
     "output_type": "stream",
     "text": [
      "[\u001b[1mtardis.simulation.base\u001b[0m][\u001b[1;37mINFO\u001b[0m   ]  \n",
      "\t\n",
      "\tCurrent t_inner = 12576.882 K\n",
      "\tExpected t_inner for next iteration = 12596.009 K\n",
      " (\u001b[1mbase.py\u001b[0m:554)\n",
      "[\u001b[1mtardis.simulation.base\u001b[0m][\u001b[1;37mINFO\u001b[0m   ]  \n",
      "\t\n",
      "\tStarting iteration 15 of 20 (\u001b[1mbase.py\u001b[0m:385)\n",
      "[\u001b[1mtardis.simulation.base\u001b[0m][\u001b[1;37mINFO\u001b[0m   ]  \n",
      "\t\n",
      "\tLuminosity emitted   = 1.060e+43 erg / s\n",
      "\tLuminosity absorbed  = 1.595e+43 erg / s\n",
      "\tLuminosity requested = 1.059e+43 erg / s\n",
      " (\u001b[1mbase.py\u001b[0m:559)\n",
      "[\u001b[1mtardis.simulation.base\u001b[0m][\u001b[1;37mINFO\u001b[0m   ]  \n",
      "\tIteration converged 4/4 consecutive times. (\u001b[1mbase.py\u001b[0m:266)\n",
      "[\u001b[1mtardis.simulation.base\u001b[0m][\u001b[1;37mINFO\u001b[0m   ]  \n",
      "\t\n",
      "\tPlasma stratification: (\u001b[1mbase.py\u001b[0m:527)\n"
     ]
    },
    {
     "data": {
      "text/html": [
       "<style  type=\"text/css\" >\n",
       "</style><table id=\"T_282c51da_c6a6_11ed_8177_e4434be0643c\" ><thead>    <tr>        <th class=\"index_name level0\" >Shell No.</th>        <th class=\"col_heading level0 col0\" >t_rad</th>        <th class=\"col_heading level0 col1\" >next_t_rad</th>        <th class=\"col_heading level0 col2\" >w</th>        <th class=\"col_heading level0 col3\" >next_w</th>    </tr></thead><tbody>\n",
       "                <tr>\n",
       "                        <th id=\"T_282c51da_c6a6_11ed_8177_e4434be0643clevel0_row0\" class=\"row_heading level0 row0\" >0</th>\n",
       "                        <td id=\"T_282c51da_c6a6_11ed_8177_e4434be0643crow0_col0\" class=\"data row0 col0\" >1.44e+04</td>\n",
       "                        <td id=\"T_282c51da_c6a6_11ed_8177_e4434be0643crow0_col1\" class=\"data row0 col1\" >1.44e+04</td>\n",
       "                        <td id=\"T_282c51da_c6a6_11ed_8177_e4434be0643crow0_col2\" class=\"data row0 col2\" >0.413</td>\n",
       "                        <td id=\"T_282c51da_c6a6_11ed_8177_e4434be0643crow0_col3\" class=\"data row0 col3\" >0.42</td>\n",
       "            </tr>\n",
       "            <tr>\n",
       "                        <th id=\"T_282c51da_c6a6_11ed_8177_e4434be0643clevel0_row1\" class=\"row_heading level0 row1\" >5</th>\n",
       "                        <td id=\"T_282c51da_c6a6_11ed_8177_e4434be0643crow1_col0\" class=\"data row1 col0\" >1.37e+04</td>\n",
       "                        <td id=\"T_282c51da_c6a6_11ed_8177_e4434be0643crow1_col1\" class=\"data row1 col1\" >1.37e+04</td>\n",
       "                        <td id=\"T_282c51da_c6a6_11ed_8177_e4434be0643crow1_col2\" class=\"data row1 col2\" >0.187</td>\n",
       "                        <td id=\"T_282c51da_c6a6_11ed_8177_e4434be0643crow1_col3\" class=\"data row1 col3\" >0.187</td>\n",
       "            </tr>\n",
       "            <tr>\n",
       "                        <th id=\"T_282c51da_c6a6_11ed_8177_e4434be0643clevel0_row2\" class=\"row_heading level0 row2\" >10</th>\n",
       "                        <td id=\"T_282c51da_c6a6_11ed_8177_e4434be0643crow2_col0\" class=\"data row2 col0\" >1.2e+04</td>\n",
       "                        <td id=\"T_282c51da_c6a6_11ed_8177_e4434be0643crow2_col1\" class=\"data row2 col1\" >1.21e+04</td>\n",
       "                        <td id=\"T_282c51da_c6a6_11ed_8177_e4434be0643crow2_col2\" class=\"data row2 col2\" >0.144</td>\n",
       "                        <td id=\"T_282c51da_c6a6_11ed_8177_e4434be0643crow2_col3\" class=\"data row2 col3\" >0.144</td>\n",
       "            </tr>\n",
       "            <tr>\n",
       "                        <th id=\"T_282c51da_c6a6_11ed_8177_e4434be0643clevel0_row3\" class=\"row_heading level0 row3\" >15</th>\n",
       "                        <td id=\"T_282c51da_c6a6_11ed_8177_e4434be0643crow3_col0\" class=\"data row3 col0\" >9.89e+03</td>\n",
       "                        <td id=\"T_282c51da_c6a6_11ed_8177_e4434be0643crow3_col1\" class=\"data row3 col1\" >9.95e+03</td>\n",
       "                        <td id=\"T_282c51da_c6a6_11ed_8177_e4434be0643crow3_col2\" class=\"data row3 col2\" >0.156</td>\n",
       "                        <td id=\"T_282c51da_c6a6_11ed_8177_e4434be0643crow3_col3\" class=\"data row3 col3\" >0.156</td>\n",
       "            </tr>\n",
       "    </tbody></table>"
      ],
      "text/plain": [
       "<pandas.io.formats.style.Styler at 0x2b2a27180a90>"
      ]
     },
     "metadata": {},
     "output_type": "display_data"
    },
    {
     "name": "stdout",
     "output_type": "stream",
     "text": [
      "[\u001b[1mtardis.simulation.base\u001b[0m][\u001b[1;37mINFO\u001b[0m   ]  \n",
      "\t\n",
      "\tCurrent t_inner = 12596.009 K\n",
      "\tExpected t_inner for next iteration = 12593.879 K\n",
      " (\u001b[1mbase.py\u001b[0m:554)\n",
      "[\u001b[1mtardis.simulation.base\u001b[0m][\u001b[1;37mINFO\u001b[0m   ]  \n",
      "\t\n",
      "\tStarting iteration 16 of 20 (\u001b[1mbase.py\u001b[0m:385)\n",
      "[\u001b[1mtardis.simulation.base\u001b[0m][\u001b[1;37mINFO\u001b[0m   ]  \n",
      "\t\n",
      "\tLuminosity emitted   = 1.043e+43 erg / s\n",
      "\tLuminosity absorbed  = 1.612e+43 erg / s\n",
      "\tLuminosity requested = 1.059e+43 erg / s\n",
      " (\u001b[1mbase.py\u001b[0m:559)\n",
      "[\u001b[1mtardis.simulation.base\u001b[0m][\u001b[1;37mINFO\u001b[0m   ]  \n",
      "\tIteration converged 5/4 consecutive times. (\u001b[1mbase.py\u001b[0m:266)\n",
      "[\u001b[1mtardis.simulation.base\u001b[0m][\u001b[1;37mINFO\u001b[0m   ]  \n",
      "\t\n",
      "\tPlasma stratification: (\u001b[1mbase.py\u001b[0m:527)\n"
     ]
    },
    {
     "data": {
      "text/html": [
       "<style  type=\"text/css\" >\n",
       "</style><table id=\"T_2b2be8dc_c6a6_11ed_8177_e4434be0643c\" ><thead>    <tr>        <th class=\"index_name level0\" >Shell No.</th>        <th class=\"col_heading level0 col0\" >t_rad</th>        <th class=\"col_heading level0 col1\" >next_t_rad</th>        <th class=\"col_heading level0 col2\" >w</th>        <th class=\"col_heading level0 col3\" >next_w</th>    </tr></thead><tbody>\n",
       "                <tr>\n",
       "                        <th id=\"T_2b2be8dc_c6a6_11ed_8177_e4434be0643clevel0_row0\" class=\"row_heading level0 row0\" >0</th>\n",
       "                        <td id=\"T_2b2be8dc_c6a6_11ed_8177_e4434be0643crow0_col0\" class=\"data row0 col0\" >1.44e+04</td>\n",
       "                        <td id=\"T_2b2be8dc_c6a6_11ed_8177_e4434be0643crow0_col1\" class=\"data row0 col1\" >1.44e+04</td>\n",
       "                        <td id=\"T_2b2be8dc_c6a6_11ed_8177_e4434be0643crow0_col2\" class=\"data row0 col2\" >0.42</td>\n",
       "                        <td id=\"T_2b2be8dc_c6a6_11ed_8177_e4434be0643crow0_col3\" class=\"data row0 col3\" >0.42</td>\n",
       "            </tr>\n",
       "            <tr>\n",
       "                        <th id=\"T_2b2be8dc_c6a6_11ed_8177_e4434be0643clevel0_row1\" class=\"row_heading level0 row1\" >5</th>\n",
       "                        <td id=\"T_2b2be8dc_c6a6_11ed_8177_e4434be0643crow1_col0\" class=\"data row1 col0\" >1.37e+04</td>\n",
       "                        <td id=\"T_2b2be8dc_c6a6_11ed_8177_e4434be0643crow1_col1\" class=\"data row1 col1\" >1.37e+04</td>\n",
       "                        <td id=\"T_2b2be8dc_c6a6_11ed_8177_e4434be0643crow1_col2\" class=\"data row1 col2\" >0.187</td>\n",
       "                        <td id=\"T_2b2be8dc_c6a6_11ed_8177_e4434be0643crow1_col3\" class=\"data row1 col3\" >0.183</td>\n",
       "            </tr>\n",
       "            <tr>\n",
       "                        <th id=\"T_2b2be8dc_c6a6_11ed_8177_e4434be0643clevel0_row2\" class=\"row_heading level0 row2\" >10</th>\n",
       "                        <td id=\"T_2b2be8dc_c6a6_11ed_8177_e4434be0643crow2_col0\" class=\"data row2 col0\" >1.21e+04</td>\n",
       "                        <td id=\"T_2b2be8dc_c6a6_11ed_8177_e4434be0643crow2_col1\" class=\"data row2 col1\" >1.22e+04</td>\n",
       "                        <td id=\"T_2b2be8dc_c6a6_11ed_8177_e4434be0643crow2_col2\" class=\"data row2 col2\" >0.144</td>\n",
       "                        <td id=\"T_2b2be8dc_c6a6_11ed_8177_e4434be0643crow2_col3\" class=\"data row2 col3\" >0.141</td>\n",
       "            </tr>\n",
       "            <tr>\n",
       "                        <th id=\"T_2b2be8dc_c6a6_11ed_8177_e4434be0643clevel0_row3\" class=\"row_heading level0 row3\" >15</th>\n",
       "                        <td id=\"T_2b2be8dc_c6a6_11ed_8177_e4434be0643crow3_col0\" class=\"data row3 col0\" >9.95e+03</td>\n",
       "                        <td id=\"T_2b2be8dc_c6a6_11ed_8177_e4434be0643crow3_col1\" class=\"data row3 col1\" >9.98e+03</td>\n",
       "                        <td id=\"T_2b2be8dc_c6a6_11ed_8177_e4434be0643crow3_col2\" class=\"data row3 col2\" >0.156</td>\n",
       "                        <td id=\"T_2b2be8dc_c6a6_11ed_8177_e4434be0643crow3_col3\" class=\"data row3 col3\" >0.152</td>\n",
       "            </tr>\n",
       "    </tbody></table>"
      ],
      "text/plain": [
       "<pandas.io.formats.style.Styler at 0x2b2a271758b0>"
      ]
     },
     "metadata": {},
     "output_type": "display_data"
    },
    {
     "name": "stdout",
     "output_type": "stream",
     "text": [
      "[\u001b[1mtardis.simulation.base\u001b[0m][\u001b[1;37mINFO\u001b[0m   ]  \n",
      "\t\n",
      "\tCurrent t_inner = 12593.879 K\n",
      "\tExpected t_inner for next iteration = 12643.413 K\n",
      " (\u001b[1mbase.py\u001b[0m:554)\n",
      "[\u001b[1mtardis.simulation.base\u001b[0m][\u001b[1;37mINFO\u001b[0m   ]  \n",
      "\t\n",
      "\tStarting iteration 17 of 20 (\u001b[1mbase.py\u001b[0m:385)\n",
      "[\u001b[1mtardis.simulation.base\u001b[0m][\u001b[1;37mINFO\u001b[0m   ]  \n",
      "\t\n",
      "\tLuminosity emitted   = 1.055e+43 erg / s\n",
      "\tLuminosity absorbed  = 1.643e+43 erg / s\n",
      "\tLuminosity requested = 1.059e+43 erg / s\n",
      " (\u001b[1mbase.py\u001b[0m:559)\n",
      "[\u001b[1mtardis.simulation.base\u001b[0m][\u001b[1;37mINFO\u001b[0m   ]  \n",
      "\tIteration converged 6/4 consecutive times. (\u001b[1mbase.py\u001b[0m:266)\n",
      "[\u001b[1mtardis.simulation.base\u001b[0m][\u001b[1;37mINFO\u001b[0m   ]  \n",
      "\t\n",
      "\tPlasma stratification: (\u001b[1mbase.py\u001b[0m:527)\n"
     ]
    },
    {
     "data": {
      "text/html": [
       "<style  type=\"text/css\" >\n",
       "</style><table id=\"T_2e179d8e_c6a6_11ed_8177_e4434be0643c\" ><thead>    <tr>        <th class=\"index_name level0\" >Shell No.</th>        <th class=\"col_heading level0 col0\" >t_rad</th>        <th class=\"col_heading level0 col1\" >next_t_rad</th>        <th class=\"col_heading level0 col2\" >w</th>        <th class=\"col_heading level0 col3\" >next_w</th>    </tr></thead><tbody>\n",
       "                <tr>\n",
       "                        <th id=\"T_2e179d8e_c6a6_11ed_8177_e4434be0643clevel0_row0\" class=\"row_heading level0 row0\" >0</th>\n",
       "                        <td id=\"T_2e179d8e_c6a6_11ed_8177_e4434be0643crow0_col0\" class=\"data row0 col0\" >1.44e+04</td>\n",
       "                        <td id=\"T_2e179d8e_c6a6_11ed_8177_e4434be0643crow0_col1\" class=\"data row0 col1\" >1.44e+04</td>\n",
       "                        <td id=\"T_2e179d8e_c6a6_11ed_8177_e4434be0643crow0_col2\" class=\"data row0 col2\" >0.42</td>\n",
       "                        <td id=\"T_2e179d8e_c6a6_11ed_8177_e4434be0643crow0_col3\" class=\"data row0 col3\" >0.417</td>\n",
       "            </tr>\n",
       "            <tr>\n",
       "                        <th id=\"T_2e179d8e_c6a6_11ed_8177_e4434be0643clevel0_row1\" class=\"row_heading level0 row1\" >5</th>\n",
       "                        <td id=\"T_2e179d8e_c6a6_11ed_8177_e4434be0643crow1_col0\" class=\"data row1 col0\" >1.37e+04</td>\n",
       "                        <td id=\"T_2e179d8e_c6a6_11ed_8177_e4434be0643crow1_col1\" class=\"data row1 col1\" >1.37e+04</td>\n",
       "                        <td id=\"T_2e179d8e_c6a6_11ed_8177_e4434be0643crow1_col2\" class=\"data row1 col2\" >0.183</td>\n",
       "                        <td id=\"T_2e179d8e_c6a6_11ed_8177_e4434be0643crow1_col3\" class=\"data row1 col3\" >0.183</td>\n",
       "            </tr>\n",
       "            <tr>\n",
       "                        <th id=\"T_2e179d8e_c6a6_11ed_8177_e4434be0643clevel0_row2\" class=\"row_heading level0 row2\" >10</th>\n",
       "                        <td id=\"T_2e179d8e_c6a6_11ed_8177_e4434be0643crow2_col0\" class=\"data row2 col0\" >1.22e+04</td>\n",
       "                        <td id=\"T_2e179d8e_c6a6_11ed_8177_e4434be0643crow2_col1\" class=\"data row2 col1\" >1.21e+04</td>\n",
       "                        <td id=\"T_2e179d8e_c6a6_11ed_8177_e4434be0643crow2_col2\" class=\"data row2 col2\" >0.141</td>\n",
       "                        <td id=\"T_2e179d8e_c6a6_11ed_8177_e4434be0643crow2_col3\" class=\"data row2 col3\" >0.14</td>\n",
       "            </tr>\n",
       "            <tr>\n",
       "                        <th id=\"T_2e179d8e_c6a6_11ed_8177_e4434be0643clevel0_row3\" class=\"row_heading level0 row3\" >15</th>\n",
       "                        <td id=\"T_2e179d8e_c6a6_11ed_8177_e4434be0643crow3_col0\" class=\"data row3 col0\" >9.98e+03</td>\n",
       "                        <td id=\"T_2e179d8e_c6a6_11ed_8177_e4434be0643crow3_col1\" class=\"data row3 col1\" >9.86e+03</td>\n",
       "                        <td id=\"T_2e179d8e_c6a6_11ed_8177_e4434be0643crow3_col2\" class=\"data row3 col2\" >0.152</td>\n",
       "                        <td id=\"T_2e179d8e_c6a6_11ed_8177_e4434be0643crow3_col3\" class=\"data row3 col3\" >0.157</td>\n",
       "            </tr>\n",
       "    </tbody></table>"
      ],
      "text/plain": [
       "<pandas.io.formats.style.Styler at 0x2b2a271549a0>"
      ]
     },
     "metadata": {},
     "output_type": "display_data"
    },
    {
     "name": "stdout",
     "output_type": "stream",
     "text": [
      "[\u001b[1mtardis.simulation.base\u001b[0m][\u001b[1;37mINFO\u001b[0m   ]  \n",
      "\t\n",
      "\tCurrent t_inner = 12643.413 K\n",
      "\tExpected t_inner for next iteration = 12657.656 K\n",
      " (\u001b[1mbase.py\u001b[0m:554)\n",
      "[\u001b[1mtardis.simulation.base\u001b[0m][\u001b[1;37mINFO\u001b[0m   ]  \n",
      "\t\n",
      "\tStarting iteration 18 of 20 (\u001b[1mbase.py\u001b[0m:385)\n",
      "[\u001b[1mtardis.simulation.base\u001b[0m][\u001b[1;37mINFO\u001b[0m   ]  \n",
      "\t\n",
      "\tLuminosity emitted   = 1.075e+43 erg / s\n",
      "\tLuminosity absorbed  = 1.634e+43 erg / s\n",
      "\tLuminosity requested = 1.059e+43 erg / s\n",
      " (\u001b[1mbase.py\u001b[0m:559)\n",
      "[\u001b[1mtardis.simulation.base\u001b[0m][\u001b[1;37mINFO\u001b[0m   ]  \n",
      "\tIteration converged 7/4 consecutive times. (\u001b[1mbase.py\u001b[0m:266)\n",
      "[\u001b[1mtardis.simulation.base\u001b[0m][\u001b[1;37mINFO\u001b[0m   ]  \n",
      "\t\n",
      "\tPlasma stratification: (\u001b[1mbase.py\u001b[0m:527)\n"
     ]
    },
    {
     "data": {
      "text/html": [
       "<style  type=\"text/css\" >\n",
       "</style><table id=\"T_312947ca_c6a6_11ed_8177_e4434be0643c\" ><thead>    <tr>        <th class=\"index_name level0\" >Shell No.</th>        <th class=\"col_heading level0 col0\" >t_rad</th>        <th class=\"col_heading level0 col1\" >next_t_rad</th>        <th class=\"col_heading level0 col2\" >w</th>        <th class=\"col_heading level0 col3\" >next_w</th>    </tr></thead><tbody>\n",
       "                <tr>\n",
       "                        <th id=\"T_312947ca_c6a6_11ed_8177_e4434be0643clevel0_row0\" class=\"row_heading level0 row0\" >0</th>\n",
       "                        <td id=\"T_312947ca_c6a6_11ed_8177_e4434be0643crow0_col0\" class=\"data row0 col0\" >1.44e+04</td>\n",
       "                        <td id=\"T_312947ca_c6a6_11ed_8177_e4434be0643crow0_col1\" class=\"data row0 col1\" >1.45e+04</td>\n",
       "                        <td id=\"T_312947ca_c6a6_11ed_8177_e4434be0643crow0_col2\" class=\"data row0 col2\" >0.417</td>\n",
       "                        <td id=\"T_312947ca_c6a6_11ed_8177_e4434be0643crow0_col3\" class=\"data row0 col3\" >0.416</td>\n",
       "            </tr>\n",
       "            <tr>\n",
       "                        <th id=\"T_312947ca_c6a6_11ed_8177_e4434be0643clevel0_row1\" class=\"row_heading level0 row1\" >5</th>\n",
       "                        <td id=\"T_312947ca_c6a6_11ed_8177_e4434be0643crow1_col0\" class=\"data row1 col0\" >1.37e+04</td>\n",
       "                        <td id=\"T_312947ca_c6a6_11ed_8177_e4434be0643crow1_col1\" class=\"data row1 col1\" >1.37e+04</td>\n",
       "                        <td id=\"T_312947ca_c6a6_11ed_8177_e4434be0643crow1_col2\" class=\"data row1 col2\" >0.183</td>\n",
       "                        <td id=\"T_312947ca_c6a6_11ed_8177_e4434be0643crow1_col3\" class=\"data row1 col3\" >0.188</td>\n",
       "            </tr>\n",
       "            <tr>\n",
       "                        <th id=\"T_312947ca_c6a6_11ed_8177_e4434be0643clevel0_row2\" class=\"row_heading level0 row2\" >10</th>\n",
       "                        <td id=\"T_312947ca_c6a6_11ed_8177_e4434be0643crow2_col0\" class=\"data row2 col0\" >1.21e+04</td>\n",
       "                        <td id=\"T_312947ca_c6a6_11ed_8177_e4434be0643crow2_col1\" class=\"data row2 col1\" >1.2e+04</td>\n",
       "                        <td id=\"T_312947ca_c6a6_11ed_8177_e4434be0643crow2_col2\" class=\"data row2 col2\" >0.14</td>\n",
       "                        <td id=\"T_312947ca_c6a6_11ed_8177_e4434be0643crow2_col3\" class=\"data row2 col3\" >0.147</td>\n",
       "            </tr>\n",
       "            <tr>\n",
       "                        <th id=\"T_312947ca_c6a6_11ed_8177_e4434be0643clevel0_row3\" class=\"row_heading level0 row3\" >15</th>\n",
       "                        <td id=\"T_312947ca_c6a6_11ed_8177_e4434be0643crow3_col0\" class=\"data row3 col0\" >9.86e+03</td>\n",
       "                        <td id=\"T_312947ca_c6a6_11ed_8177_e4434be0643crow3_col1\" class=\"data row3 col1\" >9.92e+03</td>\n",
       "                        <td id=\"T_312947ca_c6a6_11ed_8177_e4434be0643crow3_col2\" class=\"data row3 col2\" >0.157</td>\n",
       "                        <td id=\"T_312947ca_c6a6_11ed_8177_e4434be0643crow3_col3\" class=\"data row3 col3\" >0.16</td>\n",
       "            </tr>\n",
       "    </tbody></table>"
      ],
      "text/plain": [
       "<pandas.io.formats.style.Styler at 0x2b2a27183580>"
      ]
     },
     "metadata": {},
     "output_type": "display_data"
    },
    {
     "name": "stdout",
     "output_type": "stream",
     "text": [
      "[\u001b[1mtardis.simulation.base\u001b[0m][\u001b[1;37mINFO\u001b[0m   ]  \n",
      "\t\n",
      "\tCurrent t_inner = 12657.656 K\n",
      "\tExpected t_inner for next iteration = 12610.370 K\n",
      " (\u001b[1mbase.py\u001b[0m:554)\n",
      "[\u001b[1mtardis.simulation.base\u001b[0m][\u001b[1;37mINFO\u001b[0m   ]  \n",
      "\t\n",
      "\tStarting iteration 19 of 20 (\u001b[1mbase.py\u001b[0m:385)\n",
      "[\u001b[1mtardis.simulation.base\u001b[0m][\u001b[1;37mINFO\u001b[0m   ]  \n",
      "\t\n",
      "\tLuminosity emitted   = 1.051e+43 erg / s\n",
      "\tLuminosity absorbed  = 1.619e+43 erg / s\n",
      "\tLuminosity requested = 1.059e+43 erg / s\n",
      " (\u001b[1mbase.py\u001b[0m:559)\n",
      "[\u001b[1mtardis.simulation.base\u001b[0m][\u001b[1;37mINFO\u001b[0m   ]  \n",
      "\tIteration converged 8/4 consecutive times. (\u001b[1mbase.py\u001b[0m:266)\n",
      "[\u001b[1mtardis.simulation.base\u001b[0m][\u001b[1;37mINFO\u001b[0m   ]  \n",
      "\t\n",
      "\tPlasma stratification: (\u001b[1mbase.py\u001b[0m:527)\n"
     ]
    },
    {
     "data": {
      "text/html": [
       "<style  type=\"text/css\" >\n",
       "</style><table id=\"T_343264d8_c6a6_11ed_8177_e4434be0643c\" ><thead>    <tr>        <th class=\"index_name level0\" >Shell No.</th>        <th class=\"col_heading level0 col0\" >t_rad</th>        <th class=\"col_heading level0 col1\" >next_t_rad</th>        <th class=\"col_heading level0 col2\" >w</th>        <th class=\"col_heading level0 col3\" >next_w</th>    </tr></thead><tbody>\n",
       "                <tr>\n",
       "                        <th id=\"T_343264d8_c6a6_11ed_8177_e4434be0643clevel0_row0\" class=\"row_heading level0 row0\" >0</th>\n",
       "                        <td id=\"T_343264d8_c6a6_11ed_8177_e4434be0643crow0_col0\" class=\"data row0 col0\" >1.45e+04</td>\n",
       "                        <td id=\"T_343264d8_c6a6_11ed_8177_e4434be0643crow0_col1\" class=\"data row0 col1\" >1.44e+04</td>\n",
       "                        <td id=\"T_343264d8_c6a6_11ed_8177_e4434be0643crow0_col2\" class=\"data row0 col2\" >0.416</td>\n",
       "                        <td id=\"T_343264d8_c6a6_11ed_8177_e4434be0643crow0_col3\" class=\"data row0 col3\" >0.412</td>\n",
       "            </tr>\n",
       "            <tr>\n",
       "                        <th id=\"T_343264d8_c6a6_11ed_8177_e4434be0643clevel0_row1\" class=\"row_heading level0 row1\" >5</th>\n",
       "                        <td id=\"T_343264d8_c6a6_11ed_8177_e4434be0643crow1_col0\" class=\"data row1 col0\" >1.37e+04</td>\n",
       "                        <td id=\"T_343264d8_c6a6_11ed_8177_e4434be0643crow1_col1\" class=\"data row1 col1\" >1.37e+04</td>\n",
       "                        <td id=\"T_343264d8_c6a6_11ed_8177_e4434be0643crow1_col2\" class=\"data row1 col2\" >0.188</td>\n",
       "                        <td id=\"T_343264d8_c6a6_11ed_8177_e4434be0643crow1_col3\" class=\"data row1 col3\" >0.184</td>\n",
       "            </tr>\n",
       "            <tr>\n",
       "                        <th id=\"T_343264d8_c6a6_11ed_8177_e4434be0643clevel0_row2\" class=\"row_heading level0 row2\" >10</th>\n",
       "                        <td id=\"T_343264d8_c6a6_11ed_8177_e4434be0643crow2_col0\" class=\"data row2 col0\" >1.2e+04</td>\n",
       "                        <td id=\"T_343264d8_c6a6_11ed_8177_e4434be0643crow2_col1\" class=\"data row2 col1\" >1.2e+04</td>\n",
       "                        <td id=\"T_343264d8_c6a6_11ed_8177_e4434be0643crow2_col2\" class=\"data row2 col2\" >0.147</td>\n",
       "                        <td id=\"T_343264d8_c6a6_11ed_8177_e4434be0643crow2_col3\" class=\"data row2 col3\" >0.147</td>\n",
       "            </tr>\n",
       "            <tr>\n",
       "                        <th id=\"T_343264d8_c6a6_11ed_8177_e4434be0643clevel0_row3\" class=\"row_heading level0 row3\" >15</th>\n",
       "                        <td id=\"T_343264d8_c6a6_11ed_8177_e4434be0643crow3_col0\" class=\"data row3 col0\" >9.92e+03</td>\n",
       "                        <td id=\"T_343264d8_c6a6_11ed_8177_e4434be0643crow3_col1\" class=\"data row3 col1\" >9.83e+03</td>\n",
       "                        <td id=\"T_343264d8_c6a6_11ed_8177_e4434be0643crow3_col2\" class=\"data row3 col2\" >0.16</td>\n",
       "                        <td id=\"T_343264d8_c6a6_11ed_8177_e4434be0643crow3_col3\" class=\"data row3 col3\" >0.158</td>\n",
       "            </tr>\n",
       "    </tbody></table>"
      ],
      "text/plain": [
       "<pandas.io.formats.style.Styler at 0x2b2a27183640>"
      ]
     },
     "metadata": {},
     "output_type": "display_data"
    },
    {
     "name": "stdout",
     "output_type": "stream",
     "text": [
      "[\u001b[1mtardis.simulation.base\u001b[0m][\u001b[1;37mINFO\u001b[0m   ]  \n",
      "\t\n",
      "\tCurrent t_inner = 12610.370 K\n",
      "\tExpected t_inner for next iteration = 12635.550 K\n",
      " (\u001b[1mbase.py\u001b[0m:554)\n",
      "[\u001b[1mtardis.simulation.base\u001b[0m][\u001b[1;37mINFO\u001b[0m   ]  \n",
      "\t\n",
      "\tStarting iteration 20 of 20 (\u001b[1mbase.py\u001b[0m:385)\n",
      "[\u001b[1mtardis.simulation.base\u001b[0m][\u001b[1;37mINFO\u001b[0m   ]  \n",
      "\t\n",
      "\tLuminosity emitted   = 1.054e+43 erg / s\n",
      "\tLuminosity absorbed  = 1.637e+43 erg / s\n",
      "\tLuminosity requested = 1.059e+43 erg / s\n",
      " (\u001b[1mbase.py\u001b[0m:559)\n",
      "[\u001b[1mtardis.simulation.base\u001b[0m][\u001b[1;37mINFO\u001b[0m   ]  \n",
      "\t\n",
      "\tSimulation finished in 20 iterations \n",
      "\tSimulation took 201.88 s\n",
      " (\u001b[1mbase.py\u001b[0m:480)\n"
     ]
    },
    {
     "ename": "AttributeError",
     "evalue": "'MontecarloRunner' object has no attribute 't_rad'",
     "output_type": "error",
     "traceback": [
      "\u001b[0;31m---------------------------------------------------------------------------\u001b[0m",
      "\u001b[0;31mAttributeError\u001b[0m                            Traceback (most recent call last)",
      "Cell \u001b[0;32mIn[10], line 6\u001b[0m\n\u001b[1;32m      4\u001b[0m \u001b[39mif\u001b[39;00m \u001b[39mnot\u001b[39;00m os\u001b[39m.\u001b[39mpath\u001b[39m.\u001b[39mexists(\u001b[39m'\u001b[39m\u001b[39mtargets\u001b[39m\u001b[39m{}\u001b[39;00m\u001b[39m.csv\u001b[39m\u001b[39m'\u001b[39m\u001b[39m.\u001b[39mformat(i)):\n\u001b[1;32m      5\u001b[0m     \u001b[39mwith\u001b[39;00m \u001b[39mopen\u001b[39m(\u001b[39m'\u001b[39m\u001b[39mtargets\u001b[39m\u001b[39m{}\u001b[39;00m\u001b[39m.csv\u001b[39m\u001b[39m'\u001b[39m\u001b[39m.\u001b[39mformat(i), \u001b[39m'\u001b[39m\u001b[39mw\u001b[39m\u001b[39m'\u001b[39m) \u001b[39mas\u001b[39;00m target:\n\u001b[0;32m----> 6\u001b[0m         t_rad \u001b[39m=\u001b[39m model\u001b[39m.\u001b[39;49mrunner\u001b[39m.\u001b[39;49mt_rad\u001b[39m.\u001b[39mvalue\n\u001b[1;32m      7\u001b[0m         w \u001b[39m=\u001b[39m model\u001b[39m.\u001b[39mrunner\u001b[39m.\u001b[39mw\u001b[39m.\u001b[39mvalue\n\u001b[1;32m      8\u001b[0m         np\u001b[39m.\u001b[39msavetxt(target, np\u001b[39m.\u001b[39marray([t_rad, w])\u001b[39m.\u001b[39mT, delimiter\u001b[39m=\u001b[39m\u001b[39m'\u001b[39m\u001b[39m,\u001b[39m\u001b[39m'\u001b[39m, header\u001b[39m=\u001b[39m\u001b[39m'\u001b[39m\u001b[39mt_rad,w\u001b[39m\u001b[39m'\u001b[39m)\n",
      "\u001b[0;31mAttributeError\u001b[0m: 'MontecarloRunner' object has no attribute 't_rad'"
     ]
    }
   ],
   "source": [
    "for i, row in abundances.iterrows():\n",
    "    config = script.generate_config(row)\n",
    "    model = script.run_model(config)\n",
    "    if not os.path.exists('targets{}.csv'.format(i)):\n",
    "        with open('targets{}.csv'.format(i), 'w') as target:\n",
    "            t_rad = model.runner.t_rad.value\n",
    "            w = model.runner.w.value\n",
    "            np.savetxt(target, np.array([t_rad, w]).T, delimiter=',', header='t_rad,w')\n",
    "    break"
   ]
  },
  {
   "cell_type": "code",
   "execution_count": 18,
   "metadata": {},
   "outputs": [],
   "source": [
    "with open('targets{}.csv'.format(i), 'w') as target:\n",
    "    t_rad = model.model.t_rad.value\n",
    "    w = model.model.w\n",
    "    np.savetxt(target, np.array([t_rad, w]).T, delimiter=',', header='t_rad,w')"
   ]
  },
  {
   "cell_type": "code",
   "execution_count": 16,
   "metadata": {},
   "outputs": [
    {
     "data": {
      "text/plain": [
       "array([1.44453703e+04, 1.44153733e+04, 1.42863835e+04, 1.40621637e+04,\n",
       "       1.38773004e+04, 1.37291337e+04, 1.34161526e+04, 1.30520742e+04,\n",
       "       1.27315562e+04, 1.23818760e+04, 1.19596963e+04, 1.16404296e+04,\n",
       "       1.11794861e+04, 1.06746120e+04, 1.02614870e+04, 9.83249634e+03,\n",
       "       9.52903677e+03, 9.17674207e+03, 8.83124281e+03, 8.27431871e+03,\n",
       "       4.12237260e-01, 3.21751407e-01, 2.69646969e-01, 2.34723452e-01,\n",
       "       2.06457611e-01, 1.84126530e-01, 1.70305643e-01, 1.61909401e-01,\n",
       "       1.54184036e-01, 1.49209323e-01, 1.46627044e-01, 1.43192927e-01,\n",
       "       1.43858891e-01, 1.47964216e-01, 1.51402172e-01, 1.58475756e-01,\n",
       "       1.61031177e-01, 1.67835928e-01, 1.75143155e-01, 1.98372083e-01])"
      ]
     },
     "execution_count": 16,
     "metadata": {},
     "output_type": "execute_result"
    }
   ],
   "source": [
    "np.concatenate((t_rad, w))"
   ]
  },
  {
   "cell_type": "code",
   "execution_count": 20,
   "metadata": {},
   "outputs": [],
   "source": [
    "import csv\n",
    "with open('targets{}.csv'.format(i), 'w') as target:\n",
    "    t_rad = model.model.t_rad.value\n",
    "    w = model.model.w\n",
    "    # file should be in long format with columns t_rad# and w#\n",
    "    # where # is the wavelength index\n",
    "    writer = csv.writer(target)\n",
    "    writer.writerow(['t_rad{}'.format(i) for i in range(len(t_rad))] +\n",
    "                    ['w{}'.format(i) for i in range(len(w))])\n",
    "    writer.writerow(t_rad.tolist() + w.tolist())"
   ]
  },
  {
   "cell_type": "code",
   "execution_count": null,
   "metadata": {},
   "outputs": [],
   "source": []
  }
 ],
 "metadata": {
  "kernelspec": {
   "display_name": "Python 3",
   "language": "python",
   "name": "python3"
  },
  "language_info": {
   "codemirror_mode": {
    "name": "ipython",
    "version": 3
   },
   "file_extension": ".py",
   "mimetype": "text/x-python",
   "name": "python",
   "nbconvert_exporter": "python",
   "pygments_lexer": "ipython3",
   "version": "3.6.4"
  }
 },
 "nbformat": 4,
 "nbformat_minor": 5
}
