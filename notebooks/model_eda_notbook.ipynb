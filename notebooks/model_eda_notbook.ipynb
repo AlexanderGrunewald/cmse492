{
 "cells": [
  {
   "cell_type": "markdown",
   "metadata": {},
   "source": [
    "# Emulator Tardis Notebook\n",
    "\n",
    "## EDA \n",
    "\n",
    "In this section we will just look at how our data looks like and what sort of things we need to do to get it in the right format for our model. \n"
   ]
  },
  {
   "cell_type": "code",
   "execution_count": 1,
   "metadata": {},
   "outputs": [
    {
     "name": "stderr",
     "output_type": "stream",
     "text": [
      "2023-04-16 09:37:40.914043: I tensorflow/stream_executor/platform/default/dso_loader.cc:49] Successfully opened dynamic library libcudart.so.10.1\n"
     ]
    }
   ],
   "source": [
    "import pandas as pd\n",
    "import numpy as np\n",
    "import matplotlib.pyplot as plt\n",
    "from sklearn.model_selection import train_test_split\n",
    "\n",
    "import tensorflow as tf\n",
    "from tensorflow.keras.models import Sequential\n",
    "from tensorflow.keras.layers import Dense, BatchNormalization\n",
    "\n",
    "from sklearn.metrics import mean_squared_error"
   ]
  },
  {
   "cell_type": "code",
   "execution_count": 2,
   "metadata": {},
   "outputs": [],
   "source": [
    "X, y = pd.read_csv('../data_predictor/abundances.csv'), pd.read_csv('../data/target.csv')"
   ]
  },
  {
   "cell_type": "code",
   "execution_count": 3,
   "metadata": {},
   "outputs": [
    {
     "data": {
      "text/html": [
       "<div>\n",
       "<style scoped>\n",
       "    .dataframe tbody tr th:only-of-type {\n",
       "        vertical-align: middle;\n",
       "    }\n",
       "\n",
       "    .dataframe tbody tr th {\n",
       "        vertical-align: top;\n",
       "    }\n",
       "\n",
       "    .dataframe thead th {\n",
       "        text-align: right;\n",
       "    }\n",
       "</style>\n",
       "<table border=\"1\" class=\"dataframe\">\n",
       "  <thead>\n",
       "    <tr style=\"text-align: right;\">\n",
       "      <th></th>\n",
       "      <th>O</th>\n",
       "      <th>Si</th>\n",
       "      <th>S</th>\n",
       "      <th>Mg</th>\n",
       "      <th>Ca</th>\n",
       "      <th>Ti+Cr</th>\n",
       "      <th>Fe</th>\n",
       "      <th>Ni56</th>\n",
       "    </tr>\n",
       "  </thead>\n",
       "  <tbody>\n",
       "    <tr>\n",
       "      <th>0</th>\n",
       "      <td>0.032016</td>\n",
       "      <td>0.062298</td>\n",
       "      <td>0.277058</td>\n",
       "      <td>0.186371</td>\n",
       "      <td>0.220107</td>\n",
       "      <td>0.141192</td>\n",
       "      <td>0.036655</td>\n",
       "      <td>0.044302</td>\n",
       "    </tr>\n",
       "    <tr>\n",
       "      <th>1</th>\n",
       "      <td>0.028190</td>\n",
       "      <td>0.108022</td>\n",
       "      <td>0.141695</td>\n",
       "      <td>0.035636</td>\n",
       "      <td>0.152498</td>\n",
       "      <td>0.138558</td>\n",
       "      <td>0.078081</td>\n",
       "      <td>0.317321</td>\n",
       "    </tr>\n",
       "    <tr>\n",
       "      <th>2</th>\n",
       "      <td>0.067910</td>\n",
       "      <td>0.308458</td>\n",
       "      <td>0.175158</td>\n",
       "      <td>0.015401</td>\n",
       "      <td>0.317441</td>\n",
       "      <td>0.066522</td>\n",
       "      <td>0.002386</td>\n",
       "      <td>0.046725</td>\n",
       "    </tr>\n",
       "    <tr>\n",
       "      <th>3</th>\n",
       "      <td>0.261674</td>\n",
       "      <td>0.066003</td>\n",
       "      <td>0.147235</td>\n",
       "      <td>0.008054</td>\n",
       "      <td>0.156008</td>\n",
       "      <td>0.210933</td>\n",
       "      <td>0.003150</td>\n",
       "      <td>0.146944</td>\n",
       "    </tr>\n",
       "    <tr>\n",
       "      <th>4</th>\n",
       "      <td>0.036498</td>\n",
       "      <td>0.104231</td>\n",
       "      <td>0.247088</td>\n",
       "      <td>0.156911</td>\n",
       "      <td>0.102188</td>\n",
       "      <td>0.194698</td>\n",
       "      <td>0.064081</td>\n",
       "      <td>0.094305</td>\n",
       "    </tr>\n",
       "  </tbody>\n",
       "</table>\n",
       "</div>"
      ],
      "text/plain": [
       "          O        Si         S        Mg        Ca     Ti+Cr        Fe  \\\n",
       "0  0.032016  0.062298  0.277058  0.186371  0.220107  0.141192  0.036655   \n",
       "1  0.028190  0.108022  0.141695  0.035636  0.152498  0.138558  0.078081   \n",
       "2  0.067910  0.308458  0.175158  0.015401  0.317441  0.066522  0.002386   \n",
       "3  0.261674  0.066003  0.147235  0.008054  0.156008  0.210933  0.003150   \n",
       "4  0.036498  0.104231  0.247088  0.156911  0.102188  0.194698  0.064081   \n",
       "\n",
       "       Ni56  \n",
       "0  0.044302  \n",
       "1  0.317321  \n",
       "2  0.046725  \n",
       "3  0.146944  \n",
       "4  0.094305  "
      ]
     },
     "execution_count": 3,
     "metadata": {},
     "output_type": "execute_result"
    }
   ],
   "source": [
    "X.head()"
   ]
  },
  {
   "cell_type": "code",
   "execution_count": 4,
   "metadata": {},
   "outputs": [
    {
     "data": {
      "text/html": [
       "<div>\n",
       "<style scoped>\n",
       "    .dataframe tbody tr th:only-of-type {\n",
       "        vertical-align: middle;\n",
       "    }\n",
       "\n",
       "    .dataframe tbody tr th {\n",
       "        vertical-align: top;\n",
       "    }\n",
       "\n",
       "    .dataframe thead th {\n",
       "        text-align: right;\n",
       "    }\n",
       "</style>\n",
       "<table border=\"1\" class=\"dataframe\">\n",
       "  <thead>\n",
       "    <tr style=\"text-align: right;\">\n",
       "      <th></th>\n",
       "      <th>t_rad0</th>\n",
       "      <th>t_rad1</th>\n",
       "      <th>t_rad2</th>\n",
       "      <th>t_rad3</th>\n",
       "      <th>t_rad4</th>\n",
       "      <th>t_rad5</th>\n",
       "      <th>t_rad6</th>\n",
       "      <th>t_rad7</th>\n",
       "      <th>t_rad8</th>\n",
       "      <th>t_rad9</th>\n",
       "      <th>...</th>\n",
       "      <th>w10</th>\n",
       "      <th>w11</th>\n",
       "      <th>w12</th>\n",
       "      <th>w13</th>\n",
       "      <th>w14</th>\n",
       "      <th>w15</th>\n",
       "      <th>w16</th>\n",
       "      <th>w17</th>\n",
       "      <th>w18</th>\n",
       "      <th>w19</th>\n",
       "    </tr>\n",
       "  </thead>\n",
       "  <tbody>\n",
       "    <tr>\n",
       "      <th>0</th>\n",
       "      <td>16322.466961</td>\n",
       "      <td>17160.500022</td>\n",
       "      <td>17248.747939</td>\n",
       "      <td>17210.034799</td>\n",
       "      <td>16992.526533</td>\n",
       "      <td>16590.213053</td>\n",
       "      <td>15848.069524</td>\n",
       "      <td>15074.020976</td>\n",
       "      <td>14135.662020</td>\n",
       "      <td>13134.343766</td>\n",
       "      <td>...</td>\n",
       "      <td>0.150147</td>\n",
       "      <td>0.157453</td>\n",
       "      <td>0.158076</td>\n",
       "      <td>0.162592</td>\n",
       "      <td>0.165243</td>\n",
       "      <td>0.167486</td>\n",
       "      <td>0.172687</td>\n",
       "      <td>0.179994</td>\n",
       "      <td>0.183273</td>\n",
       "      <td>0.219720</td>\n",
       "    </tr>\n",
       "    <tr>\n",
       "      <th>1</th>\n",
       "      <td>16076.725698</td>\n",
       "      <td>16663.477463</td>\n",
       "      <td>16742.159099</td>\n",
       "      <td>16670.531044</td>\n",
       "      <td>16459.989846</td>\n",
       "      <td>16034.915803</td>\n",
       "      <td>15662.785631</td>\n",
       "      <td>15043.215587</td>\n",
       "      <td>14329.828893</td>\n",
       "      <td>13557.324835</td>\n",
       "      <td>...</td>\n",
       "      <td>0.143089</td>\n",
       "      <td>0.147867</td>\n",
       "      <td>0.148121</td>\n",
       "      <td>0.151483</td>\n",
       "      <td>0.154617</td>\n",
       "      <td>0.154576</td>\n",
       "      <td>0.154890</td>\n",
       "      <td>0.160190</td>\n",
       "      <td>0.171282</td>\n",
       "      <td>0.210742</td>\n",
       "    </tr>\n",
       "    <tr>\n",
       "      <th>2</th>\n",
       "      <td>16292.363521</td>\n",
       "      <td>16987.615950</td>\n",
       "      <td>17124.118713</td>\n",
       "      <td>17043.460975</td>\n",
       "      <td>16725.527827</td>\n",
       "      <td>16221.424463</td>\n",
       "      <td>15589.097450</td>\n",
       "      <td>15050.866696</td>\n",
       "      <td>14299.282381</td>\n",
       "      <td>13536.915800</td>\n",
       "      <td>...</td>\n",
       "      <td>0.140014</td>\n",
       "      <td>0.139098</td>\n",
       "      <td>0.137311</td>\n",
       "      <td>0.140751</td>\n",
       "      <td>0.141462</td>\n",
       "      <td>0.146319</td>\n",
       "      <td>0.149139</td>\n",
       "      <td>0.151458</td>\n",
       "      <td>0.159388</td>\n",
       "      <td>0.200917</td>\n",
       "    </tr>\n",
       "    <tr>\n",
       "      <th>3</th>\n",
       "      <td>16480.848232</td>\n",
       "      <td>17242.829510</td>\n",
       "      <td>17447.454746</td>\n",
       "      <td>17318.104011</td>\n",
       "      <td>17038.541491</td>\n",
       "      <td>16813.555903</td>\n",
       "      <td>16326.157433</td>\n",
       "      <td>15816.495728</td>\n",
       "      <td>15102.890527</td>\n",
       "      <td>14334.438904</td>\n",
       "      <td>...</td>\n",
       "      <td>0.134428</td>\n",
       "      <td>0.139153</td>\n",
       "      <td>0.143224</td>\n",
       "      <td>0.146216</td>\n",
       "      <td>0.143029</td>\n",
       "      <td>0.144950</td>\n",
       "      <td>0.152108</td>\n",
       "      <td>0.156458</td>\n",
       "      <td>0.173671</td>\n",
       "      <td>0.215554</td>\n",
       "    </tr>\n",
       "    <tr>\n",
       "      <th>4</th>\n",
       "      <td>15856.141441</td>\n",
       "      <td>16378.280847</td>\n",
       "      <td>16326.022407</td>\n",
       "      <td>16096.203472</td>\n",
       "      <td>15776.571566</td>\n",
       "      <td>15290.421566</td>\n",
       "      <td>14720.290626</td>\n",
       "      <td>14159.782917</td>\n",
       "      <td>13548.728047</td>\n",
       "      <td>12977.930869</td>\n",
       "      <td>...</td>\n",
       "      <td>0.158785</td>\n",
       "      <td>0.161259</td>\n",
       "      <td>0.161936</td>\n",
       "      <td>0.159117</td>\n",
       "      <td>0.158633</td>\n",
       "      <td>0.164979</td>\n",
       "      <td>0.163773</td>\n",
       "      <td>0.167888</td>\n",
       "      <td>0.182158</td>\n",
       "      <td>0.220767</td>\n",
       "    </tr>\n",
       "  </tbody>\n",
       "</table>\n",
       "<p>5 rows × 40 columns</p>\n",
       "</div>"
      ],
      "text/plain": [
       "         t_rad0        t_rad1        t_rad2        t_rad3        t_rad4  \\\n",
       "0  16322.466961  17160.500022  17248.747939  17210.034799  16992.526533   \n",
       "1  16076.725698  16663.477463  16742.159099  16670.531044  16459.989846   \n",
       "2  16292.363521  16987.615950  17124.118713  17043.460975  16725.527827   \n",
       "3  16480.848232  17242.829510  17447.454746  17318.104011  17038.541491   \n",
       "4  15856.141441  16378.280847  16326.022407  16096.203472  15776.571566   \n",
       "\n",
       "         t_rad5        t_rad6        t_rad7        t_rad8        t_rad9  ...  \\\n",
       "0  16590.213053  15848.069524  15074.020976  14135.662020  13134.343766  ...   \n",
       "1  16034.915803  15662.785631  15043.215587  14329.828893  13557.324835  ...   \n",
       "2  16221.424463  15589.097450  15050.866696  14299.282381  13536.915800  ...   \n",
       "3  16813.555903  16326.157433  15816.495728  15102.890527  14334.438904  ...   \n",
       "4  15290.421566  14720.290626  14159.782917  13548.728047  12977.930869  ...   \n",
       "\n",
       "        w10       w11       w12       w13       w14       w15       w16  \\\n",
       "0  0.150147  0.157453  0.158076  0.162592  0.165243  0.167486  0.172687   \n",
       "1  0.143089  0.147867  0.148121  0.151483  0.154617  0.154576  0.154890   \n",
       "2  0.140014  0.139098  0.137311  0.140751  0.141462  0.146319  0.149139   \n",
       "3  0.134428  0.139153  0.143224  0.146216  0.143029  0.144950  0.152108   \n",
       "4  0.158785  0.161259  0.161936  0.159117  0.158633  0.164979  0.163773   \n",
       "\n",
       "        w17       w18       w19  \n",
       "0  0.179994  0.183273  0.219720  \n",
       "1  0.160190  0.171282  0.210742  \n",
       "2  0.151458  0.159388  0.200917  \n",
       "3  0.156458  0.173671  0.215554  \n",
       "4  0.167888  0.182158  0.220767  \n",
       "\n",
       "[5 rows x 40 columns]"
      ]
     },
     "execution_count": 4,
     "metadata": {},
     "output_type": "execute_result"
    }
   ],
   "source": [
    "y.head()"
   ]
  },
  {
   "cell_type": "code",
   "execution_count": 149,
   "metadata": {},
   "outputs": [
    {
     "data": {
      "text/plain": [
       "Text(0.5, 1.0, 't_rad dist')"
      ]
     },
     "execution_count": 149,
     "metadata": {},
     "output_type": "execute_result"
    },
    {
     "data": {
      "image/png": "[encoded data removed]",
      "text/plain": [
       "<Figure size 640x480 with 1 Axes>"
      ]
     },
     "metadata": {},
     "output_type": "display_data"
    }
   ],
   "source": [
    "plt.hist(y[:,:20], bins=200);\n",
    "plt.title(\"t_rad dist\")"
   ]
  },
  {
   "cell_type": "code",
   "execution_count": 161,
   "metadata": {},
   "outputs": [
    {
     "data": {
      "text/plain": [
       "1e-14"
      ]
     },
     "execution_count": 161,
     "metadata": {},
     "output_type": "execute_result"
    }
   ],
   "source": [
    "\n",
    "1e-14"
   ]
  },
  {
   "cell_type": "code",
   "execution_count": 175,
   "metadata": {},
   "outputs": [
    {
     "data": {
      "text/plain": [
       "Text(0.5, 1.0, 'w distribution')"
      ]
     },
     "execution_count": 175,
     "metadata": {},
     "output_type": "execute_result"
    },
    {
     "data": {
      "image/png": "[encoded data removed]",
      "text/plain": [
       "<Figure size 640x480 with 1 Axes>"
      ]
     },
     "metadata": {},
     "output_type": "display_data"
    }
   ],
   "source": [
    "plt.hist(np.log10(y[:,20:]), bins=200);\n",
    "plt.title('w distribution')"
   ]
  },
  {
   "cell_type": "markdown",
   "metadata": {},
   "source": [
    "## Scale the data\n",
    "We will use the Standard Norm to standardize the data"
   ]
  },
  {
   "cell_type": "code",
   "execution_count": 5,
   "metadata": {},
   "outputs": [],
   "source": [
    "from sklearn.preprocessing import StandardScaler"
   ]
  },
  {
   "cell_type": "code",
   "execution_count": null,
   "metadata": {},
   "outputs": [],
   "source": []
  },
  {
   "cell_type": "code",
   "execution_count": 5,
   "metadata": {},
   "outputs": [],
   "source": [
    "X = X.values#np.log10(X)\n",
    "y = y.values#np.log10(y)"
   ]
  },
  {
   "cell_type": "code",
   "execution_count": 6,
   "metadata": {},
   "outputs": [],
   "source": [
    "X_scaled = X#(X - X.min())/(X.max() - X.min())\n",
    "y_scaled = y#(y - y.min())/(y.max() - y.min())"
   ]
  },
  {
   "cell_type": "markdown",
   "metadata": {},
   "source": [
    "## Split into training and testing"
   ]
  },
  {
   "cell_type": "code",
   "execution_count": null,
   "metadata": {},
   "outputs": [],
   "source": []
  },
  {
   "cell_type": "code",
   "execution_count": 132,
   "metadata": {},
   "outputs": [
    {
     "data": {
      "text/plain": [
       "(6000, 8)"
      ]
     },
     "execution_count": 132,
     "metadata": {},
     "output_type": "execute_result"
    }
   ],
   "source": [
    "X_train.shape"
   ]
  },
  {
   "cell_type": "code",
   "execution_count": 7,
   "metadata": {},
   "outputs": [],
   "source": [
    "X_train, X_test, y_train, y_test = train_test_split(X_scaled, y_scaled, random_state=222, train_size=0.8)\n",
    "X_train, X_val, y_train, y_val = train_test_split(X_train, y_train, train_size=0.75, random_state=222)"
   ]
  },
  {
   "cell_type": "code",
   "execution_count": 8,
   "metadata": {},
   "outputs": [],
   "source": [
    "import tensorflow as tf\n",
    "\n",
    "def max_fractional_error(y_true, y_pred):\n",
    "    # Calculate the maximum fractional error between y_true and y_pred\n",
    "    diff = tf.abs(y_true - y_pred)\n",
    "    frac = diff / tf.maximum(tf.abs(y_true), tf.keras.backend.epsilon())\n",
    "    max_frac = tf.reduce_max(frac)\n",
    "    return max_frac\n"
   ]
  },
  {
   "cell_type": "code",
   "execution_count": 9,
   "metadata": {},
   "outputs": [],
   "source": [
    "def meanFE(y_true, y_pred):\n",
    "    # Calculate the mean fractional error between y_true and y_pred\n",
    "    diff = tf.abs(y_true - y_pred)\n",
    "    frac = diff / tf.maximum(tf.abs(y_true), tf.keras.backend.epsilon())\n",
    "    mfe = tf.reduce_mean(frac)\n",
    "    return mfe"
   ]
  },
  {
   "cell_type": "code",
   "execution_count": 10,
   "metadata": {},
   "outputs": [],
   "source": [
    "#log_cosh"
   ]
  },
  {
   "cell_type": "code",
   "execution_count": 8,
   "metadata": {},
   "outputs": [
    {
     "name": "stdout",
     "output_type": "stream",
     "text": [
      "Model: \"sequential\"\n",
      "_________________________________________________________________\n",
      " Layer (type)                Output Shape              Param #   \n",
      "=================================================================\n",
      " dense (Dense)               (None, 200)               1800      \n",
      "                                                                 \n",
      " dense_1 (Dense)             (None, 200)               40200     \n",
      "                                                                 \n",
      " dense_2 (Dense)             (None, 20)                4020      \n",
      "                                                                 \n",
      "=================================================================\n",
      "Total params: 46,020\n",
      "Trainable params: 46,020\n",
      "Non-trainable params: 0\n",
      "_________________________________________________________________\n",
      "None\n"
     ]
    },
    {
     "name": "stderr",
     "output_type": "stream",
     "text": [
      "2023-03-27 20:50:53.073087: W tensorflow/core/common_runtime/gpu/gpu_device.cc:1956] Cannot dlopen some GPU libraries. Please make sure the missing libraries mentioned above are installed properly if you would like to use GPU. Follow the guide at https://www.tensorflow.org/install/gpu for how to download and setup the required libraries for your platform.\n",
      "Skipping registering GPU devices...\n"
     ]
    }
   ],
   "source": [
    "basicModel = Sequential()\n",
    "basicModel.add(Dense(200, input_dim = X.shape[1], activation = 'softplus',  kernel_initializer='glorot_normal',))\n",
    "basicModel.add(Dense(200, activation='softplus', kernel_initializer='VarianceScaling', ))\n",
    "basicModel.add(Dense(20, activation='softplus', kernel_initializer='VarianceScaling',))\n",
    "basicModel.compile(loss='mean_absolute_error', optimizer='nadam')\n",
    "print(basicModel.summary())"
   ]
  },
  {
   "cell_type": "code",
   "execution_count": 28,
   "metadata": {},
   "outputs": [
    {
     "name": "stdout",
     "output_type": "stream",
     "text": [
      "Collecting graphviz\n",
      "  Downloading graphviz-0.20.1-py3-none-any.whl (47 kB)\n",
      "\u001b[2K     \u001b[90m━━━━━━━━━━━━━━━━━━━━━━━━━━━━━━━━━━━━━━━━\u001b[0m \u001b[32m47.0/47.0 kB\u001b[0m \u001b[31m1.7 MB/s\u001b[0m eta \u001b[36m0:00:00\u001b[0m\n",
      "\u001b[?25hInstalling collected packages: graphviz\n",
      "Successfully installed graphviz-0.20.1\n"
     ]
    }
   ],
   "source": [
    "!pip install graphviz "
   ]
  },
  {
   "cell_type": "code",
   "execution_count": 10,
   "metadata": {},
   "outputs": [
    {
     "data": {
      "image/png": "[encoded data removed]",
      "text/plain": [
       "<IPython.core.display.Image object>"
      ]
     },
     "execution_count": 10,
     "metadata": {},
     "output_type": "execute_result"
    }
   ],
   "source": [
    "tf.keras.utils.plot_model(\n",
    "    basicModel,\n",
    "    to_file='model.png',\n",
    "    show_shapes=True,\n",
    "    show_dtype=False,\n",
    "    show_layer_names=True,\n",
    "    rankdir='TB',\n",
    "    expand_nested=True,\n",
    "    dpi=96,\n",
    "    layer_range=None,\n",
    "    show_layer_activations=True,\n",
    "    show_trainable=False\n",
    ")"
   ]
  },
  {
   "cell_type": "code",
   "execution_count": 12,
   "metadata": {},
   "outputs": [],
   "source": [
    "basicModel2 = Sequential()\n",
    "basicModel2.add(Dense(200, input_dim = X.shape[1], activation = 'softplus',  kernel_initializer='he_normal',))\n",
    "basicModel2.add(BatchNormalization(axis = -1))\n",
    "basicModel2.add(Dense(200, activation='softplus', kernel_initializer='VarianceScaling', ))\n",
    "basicModel2.add(BatchNormalization())\n",
    "basicModel2.add(Dense(20, activation='softplus', kernel_initializer='VarianceScaling',))\n",
    "basicModel2.compile(loss='mean_absolute_error', optimizer='nadam') #MSE seems to not work for dilution factor"
   ]
  },
  {
   "cell_type": "code",
   "execution_count": 186,
   "metadata": {},
   "outputs": [
    {
     "data": {
      "text/plain": [
       "array([[-11.02149579, -11.52966245, -11.90229567, ..., -12.57438342,\n",
       "        -12.33091279, -11.96585326],\n",
       "       [-11.05306783, -11.53531309, -11.83469253, ..., -12.72283094,\n",
       "        -12.55338722, -12.09549934],\n",
       "       [-10.9687419 , -11.36987459, -11.67830733, ..., -12.46193216,\n",
       "        -12.3792912 , -11.99618151],\n",
       "       ...,\n",
       "       [-10.93065852, -11.39948026, -11.74086035, ..., -12.46348676,\n",
       "        -12.38202296, -12.11926963],\n",
       "       [-10.94146467, -11.38689846, -11.68103331, ..., -12.31384612,\n",
       "        -12.241259  , -11.92408162],\n",
       "       [-10.87947792, -11.29951296, -11.602596  , ..., -12.44734667,\n",
       "        -12.30641819, -11.97788984]])"
      ]
     },
     "execution_count": 186,
     "metadata": {},
     "output_type": "execute_result"
    }
   ],
   "source": [
    "w = np.log(y_train[:,20:]+1e-16)\n",
    "w"
   ]
  },
  {
   "cell_type": "code",
   "execution_count": 13,
   "metadata": {},
   "outputs": [
    {
     "name": "stdout",
     "output_type": "stream",
     "text": [
      "Epoch 1/100\n",
      "60/60 [==============================] - 2s 3ms/step - loss: 13195.2412\n",
      "Epoch 2/100\n",
      "60/60 [==============================] - 0s 2ms/step - loss: 12758.4023\n",
      "Epoch 3/100\n",
      "60/60 [==============================] - 0s 2ms/step - loss: 11333.5889\n",
      "Epoch 4/100\n",
      "60/60 [==============================] - 0s 2ms/step - loss: 8278.0947\n",
      "Epoch 5/100\n",
      "60/60 [==============================] - 0s 2ms/step - loss: 3543.3694\n",
      "Epoch 6/100\n",
      "60/60 [==============================] - 0s 2ms/step - loss: 963.7655\n",
      "Epoch 7/100\n",
      "60/60 [==============================] - 0s 2ms/step - loss: 534.4412\n",
      "Epoch 8/100\n",
      "60/60 [==============================] - 0s 2ms/step - loss: 533.4697\n",
      "Epoch 9/100\n",
      "60/60 [==============================] - 0s 2ms/step - loss: 533.3929\n",
      "Epoch 10/100\n",
      "60/60 [==============================] - 0s 2ms/step - loss: 533.2884\n",
      "Epoch 11/100\n",
      "60/60 [==============================] - 0s 2ms/step - loss: 533.4776\n",
      "Epoch 12/100\n",
      "60/60 [==============================] - 0s 2ms/step - loss: 533.3802\n",
      "Epoch 13/100\n",
      "60/60 [==============================] - 0s 2ms/step - loss: 533.7122\n",
      "Epoch 14/100\n",
      "60/60 [==============================] - 0s 2ms/step - loss: 533.6475\n",
      "Epoch 15/100\n",
      "60/60 [==============================] - 0s 2ms/step - loss: 533.3119\n",
      "Epoch 16/100\n",
      "60/60 [==============================] - 0s 2ms/step - loss: 533.4811\n",
      "Epoch 17/100\n",
      "60/60 [==============================] - 0s 3ms/step - loss: 533.6915\n",
      "Epoch 18/100\n",
      "60/60 [==============================] - 0s 2ms/step - loss: 533.4839\n",
      "Epoch 19/100\n",
      "60/60 [==============================] - 0s 2ms/step - loss: 533.3292\n",
      "Epoch 20/100\n",
      "60/60 [==============================] - 0s 2ms/step - loss: 533.5923\n",
      "Epoch 21/100\n",
      "60/60 [==============================] - 0s 3ms/step - loss: 533.5344\n",
      "Epoch 22/100\n",
      "60/60 [==============================] - 0s 2ms/step - loss: 534.3229\n",
      "Epoch 23/100\n",
      "60/60 [==============================] - 0s 2ms/step - loss: 533.3804\n",
      "Epoch 24/100\n",
      "60/60 [==============================] - 0s 2ms/step - loss: 533.8415\n",
      "Epoch 25/100\n",
      "60/60 [==============================] - 0s 3ms/step - loss: 533.6044\n",
      "Epoch 26/100\n",
      "60/60 [==============================] - 0s 2ms/step - loss: 533.8649\n",
      "Epoch 27/100\n",
      "60/60 [==============================] - 0s 2ms/step - loss: 533.9184\n",
      "Epoch 28/100\n",
      "60/60 [==============================] - 0s 2ms/step - loss: 533.4745\n",
      "Epoch 29/100\n",
      "60/60 [==============================] - 0s 2ms/step - loss: 533.7821\n",
      "Epoch 30/100\n",
      "60/60 [==============================] - 0s 2ms/step - loss: 533.2495\n",
      "Epoch 31/100\n",
      "60/60 [==============================] - 0s 2ms/step - loss: 533.7178\n",
      "Epoch 32/100\n",
      "60/60 [==============================] - 0s 2ms/step - loss: 533.5836\n",
      "Epoch 33/100\n",
      "60/60 [==============================] - 0s 3ms/step - loss: 534.0670\n",
      "Epoch 34/100\n",
      "60/60 [==============================] - 0s 2ms/step - loss: 533.6714\n",
      "Epoch 35/100\n",
      "60/60 [==============================] - 0s 2ms/step - loss: 533.6660\n",
      "Epoch 36/100\n",
      "60/60 [==============================] - 0s 3ms/step - loss: 533.5458\n",
      "Epoch 37/100\n",
      "60/60 [==============================] - 0s 2ms/step - loss: 533.6587\n",
      "Epoch 38/100\n",
      "60/60 [==============================] - 0s 2ms/step - loss: 533.6881\n",
      "Epoch 39/100\n",
      "60/60 [==============================] - 0s 2ms/step - loss: 533.3936\n",
      "Epoch 40/100\n",
      "60/60 [==============================] - 0s 2ms/step - loss: 533.6269\n",
      "Epoch 41/100\n",
      "60/60 [==============================] - 0s 2ms/step - loss: 534.2179\n",
      "Epoch 42/100\n",
      "60/60 [==============================] - 0s 2ms/step - loss: 534.0359\n",
      "Epoch 43/100\n",
      "60/60 [==============================] - 0s 2ms/step - loss: 533.3564\n",
      "Epoch 44/100\n",
      "60/60 [==============================] - 0s 2ms/step - loss: 533.6252\n",
      "Epoch 45/100\n",
      "60/60 [==============================] - 0s 2ms/step - loss: 533.5800\n",
      "Epoch 46/100\n",
      "60/60 [==============================] - 0s 2ms/step - loss: 533.9601\n",
      "Epoch 47/100\n",
      "60/60 [==============================] - 0s 2ms/step - loss: 533.5537\n",
      "Epoch 48/100\n",
      "60/60 [==============================] - 0s 2ms/step - loss: 533.9557\n",
      "Epoch 49/100\n",
      "60/60 [==============================] - 0s 2ms/step - loss: 533.6423\n",
      "Epoch 50/100\n",
      "60/60 [==============================] - 0s 2ms/step - loss: 533.6018\n",
      "Epoch 51/100\n",
      "60/60 [==============================] - 0s 2ms/step - loss: 533.8583\n",
      "Epoch 52/100\n",
      "60/60 [==============================] - 0s 2ms/step - loss: 533.7194\n",
      "Epoch 53/100\n",
      "60/60 [==============================] - 0s 2ms/step - loss: 533.7947\n",
      "Epoch 54/100\n",
      "60/60 [==============================] - 0s 3ms/step - loss: 533.7204\n",
      "Epoch 55/100\n",
      "60/60 [==============================] - 0s 2ms/step - loss: 534.0782\n",
      "Epoch 56/100\n",
      "60/60 [==============================] - 0s 2ms/step - loss: 534.1339\n",
      "Epoch 57/100\n",
      "60/60 [==============================] - 0s 2ms/step - loss: 533.7625\n",
      "Epoch 58/100\n",
      "60/60 [==============================] - 0s 2ms/step - loss: 534.0005\n",
      "Epoch 59/100\n",
      "60/60 [==============================] - 0s 2ms/step - loss: 533.4213\n",
      "Epoch 60/100\n",
      "60/60 [==============================] - 0s 2ms/step - loss: 533.8127\n",
      "Epoch 61/100\n",
      "60/60 [==============================] - 0s 2ms/step - loss: 533.9363\n",
      "Epoch 62/100\n",
      "60/60 [==============================] - 0s 2ms/step - loss: 534.5921\n",
      "Epoch 63/100\n",
      "60/60 [==============================] - 0s 2ms/step - loss: 534.1829\n",
      "Epoch 64/100\n",
      "60/60 [==============================] - 0s 2ms/step - loss: 533.5359\n",
      "Epoch 65/100\n",
      "60/60 [==============================] - 0s 2ms/step - loss: 533.5626\n",
      "Epoch 66/100\n",
      "60/60 [==============================] - 0s 2ms/step - loss: 533.9340\n",
      "Epoch 67/100\n",
      "60/60 [==============================] - 0s 2ms/step - loss: 533.5892\n",
      "Epoch 68/100\n",
      "60/60 [==============================] - 0s 2ms/step - loss: 534.2603\n",
      "Epoch 69/100\n",
      "60/60 [==============================] - 0s 2ms/step - loss: 533.7635\n",
      "Epoch 70/100\n",
      "60/60 [==============================] - 0s 2ms/step - loss: 534.5498\n",
      "Epoch 71/100\n",
      "60/60 [==============================] - 0s 2ms/step - loss: 533.9548\n",
      "Epoch 72/100\n",
      "60/60 [==============================] - 0s 2ms/step - loss: 533.6738\n",
      "Epoch 73/100\n",
      "60/60 [==============================] - 0s 2ms/step - loss: 533.8484\n",
      "Epoch 74/100\n",
      "60/60 [==============================] - 0s 2ms/step - loss: 533.8726\n",
      "Epoch 75/100\n",
      "60/60 [==============================] - 0s 2ms/step - loss: 534.2500\n",
      "Epoch 76/100\n",
      "60/60 [==============================] - 0s 2ms/step - loss: 533.9722\n",
      "Epoch 77/100\n",
      "60/60 [==============================] - 0s 2ms/step - loss: 533.8339\n",
      "Epoch 78/100\n",
      "60/60 [==============================] - 0s 2ms/step - loss: 533.8945\n",
      "Epoch 79/100\n",
      "60/60 [==============================] - 0s 2ms/step - loss: 534.0364\n",
      "Epoch 80/100\n",
      "60/60 [==============================] - 0s 2ms/step - loss: 533.7944\n",
      "Epoch 81/100\n",
      "60/60 [==============================] - 0s 2ms/step - loss: 534.3298\n",
      "Epoch 82/100\n",
      "60/60 [==============================] - 0s 2ms/step - loss: 533.6093\n",
      "Epoch 83/100\n",
      "60/60 [==============================] - 0s 2ms/step - loss: 534.2288\n",
      "Epoch 84/100\n",
      "60/60 [==============================] - 0s 2ms/step - loss: 533.6030\n",
      "Epoch 85/100\n",
      "60/60 [==============================] - 0s 2ms/step - loss: 534.1264\n",
      "Epoch 86/100\n",
      "60/60 [==============================] - 0s 2ms/step - loss: 534.0392\n",
      "Epoch 87/100\n",
      "60/60 [==============================] - 0s 2ms/step - loss: 533.8533\n",
      "Epoch 88/100\n",
      "60/60 [==============================] - 0s 2ms/step - loss: 534.0858\n",
      "Epoch 89/100\n",
      "60/60 [==============================] - 0s 2ms/step - loss: 534.2058\n",
      "Epoch 90/100\n",
      "60/60 [==============================] - 0s 2ms/step - loss: 533.8669\n",
      "Epoch 91/100\n",
      "60/60 [==============================] - 0s 2ms/step - loss: 533.6982\n",
      "Epoch 92/100\n",
      "60/60 [==============================] - 0s 2ms/step - loss: 534.3003\n",
      "Epoch 93/100\n",
      "60/60 [==============================] - 0s 2ms/step - loss: 533.8588\n",
      "Epoch 94/100\n",
      "60/60 [==============================] - 0s 2ms/step - loss: 533.6906\n",
      "Epoch 95/100\n",
      "60/60 [==============================] - 0s 2ms/step - loss: 533.9379\n",
      "Epoch 96/100\n",
      "60/60 [==============================] - 0s 2ms/step - loss: 534.1423\n",
      "Epoch 97/100\n",
      "60/60 [==============================] - 0s 2ms/step - loss: 533.8542\n",
      "Epoch 98/100\n",
      "60/60 [==============================] - 0s 2ms/step - loss: 534.6555\n",
      "Epoch 99/100\n",
      "60/60 [==============================] - 0s 3ms/step - loss: 533.9297\n",
      "Epoch 100/100\n",
      "60/60 [==============================] - 0s 2ms/step - loss: 533.9767\n",
      "Epoch 1/70\n",
      "60/60 [==============================] - 2s 3ms/step - loss: 0.4506\n",
      "Epoch 2/70\n",
      "60/60 [==============================] - 0s 3ms/step - loss: 0.0980\n",
      "Epoch 3/70\n",
      "60/60 [==============================] - 0s 4ms/step - loss: 0.0226\n",
      "Epoch 4/70\n",
      "60/60 [==============================] - 0s 3ms/step - loss: 0.0200\n",
      "Epoch 5/70\n",
      "60/60 [==============================] - 0s 3ms/step - loss: 0.0187\n",
      "Epoch 6/70\n",
      "60/60 [==============================] - 0s 3ms/step - loss: 0.0184\n",
      "Epoch 7/70\n",
      "60/60 [==============================] - 0s 3ms/step - loss: 0.0181\n",
      "Epoch 8/70\n",
      "60/60 [==============================] - 0s 2ms/step - loss: 0.0175\n",
      "Epoch 9/70\n",
      "60/60 [==============================] - 0s 2ms/step - loss: 0.0167\n",
      "Epoch 10/70\n",
      "60/60 [==============================] - 0s 2ms/step - loss: 0.0168\n",
      "Epoch 11/70\n",
      "60/60 [==============================] - 0s 2ms/step - loss: 0.0167\n",
      "Epoch 12/70\n",
      "60/60 [==============================] - 0s 2ms/step - loss: 0.0163\n",
      "Epoch 13/70\n",
      "60/60 [==============================] - 0s 2ms/step - loss: 0.0161\n",
      "Epoch 14/70\n",
      "60/60 [==============================] - 0s 2ms/step - loss: 0.0160\n",
      "Epoch 15/70\n",
      "60/60 [==============================] - 0s 3ms/step - loss: 0.0161\n",
      "Epoch 16/70\n",
      "60/60 [==============================] - 0s 3ms/step - loss: 0.0159\n",
      "Epoch 17/70\n",
      "60/60 [==============================] - 0s 4ms/step - loss: 0.0157\n",
      "Epoch 18/70\n",
      "60/60 [==============================] - 0s 3ms/step - loss: 0.0157\n",
      "Epoch 19/70\n",
      "60/60 [==============================] - 0s 3ms/step - loss: 0.0155\n",
      "Epoch 20/70\n",
      "60/60 [==============================] - 0s 3ms/step - loss: 0.0154\n",
      "Epoch 21/70\n",
      "60/60 [==============================] - 0s 3ms/step - loss: 0.0154\n",
      "Epoch 22/70\n",
      "60/60 [==============================] - 0s 2ms/step - loss: 0.0152\n",
      "Epoch 23/70\n",
      "60/60 [==============================] - 0s 2ms/step - loss: 0.0153\n",
      "Epoch 24/70\n",
      "60/60 [==============================] - 0s 3ms/step - loss: 0.0151\n",
      "Epoch 25/70\n",
      "60/60 [==============================] - 0s 3ms/step - loss: 0.0152\n",
      "Epoch 26/70\n",
      "60/60 [==============================] - 0s 3ms/step - loss: 0.0151\n",
      "Epoch 27/70\n",
      "60/60 [==============================] - 0s 3ms/step - loss: 0.0149\n",
      "Epoch 28/70\n",
      "60/60 [==============================] - 0s 3ms/step - loss: 0.0149\n",
      "Epoch 29/70\n",
      "60/60 [==============================] - 0s 3ms/step - loss: 0.0146\n",
      "Epoch 30/70\n",
      "60/60 [==============================] - 0s 3ms/step - loss: 0.0147\n",
      "Epoch 31/70\n",
      "60/60 [==============================] - 0s 3ms/step - loss: 0.0147\n",
      "Epoch 32/70\n",
      "60/60 [==============================] - 0s 3ms/step - loss: 0.0148\n",
      "Epoch 33/70\n",
      "60/60 [==============================] - 0s 3ms/step - loss: 0.0146\n",
      "Epoch 34/70\n",
      "60/60 [==============================] - 0s 3ms/step - loss: 0.0146\n",
      "Epoch 35/70\n",
      "60/60 [==============================] - 0s 3ms/step - loss: 0.0146\n",
      "Epoch 36/70\n",
      "60/60 [==============================] - 0s 3ms/step - loss: 0.0147\n",
      "Epoch 37/70\n",
      "60/60 [==============================] - 0s 3ms/step - loss: 0.0146\n",
      "Epoch 38/70\n",
      "60/60 [==============================] - 0s 3ms/step - loss: 0.0145\n",
      "Epoch 39/70\n",
      "60/60 [==============================] - 0s 3ms/step - loss: 0.0145\n",
      "Epoch 40/70\n",
      "60/60 [==============================] - 0s 3ms/step - loss: 0.0144\n",
      "Epoch 41/70\n",
      "60/60 [==============================] - 0s 3ms/step - loss: 0.0144\n",
      "Epoch 42/70\n",
      "60/60 [==============================] - 0s 3ms/step - loss: 0.0143\n",
      "Epoch 43/70\n",
      "60/60 [==============================] - 0s 3ms/step - loss: 0.0142\n",
      "Epoch 44/70\n",
      "60/60 [==============================] - 0s 3ms/step - loss: 0.0143\n",
      "Epoch 45/70\n",
      "60/60 [==============================] - 0s 3ms/step - loss: 0.0143\n",
      "Epoch 46/70\n",
      "60/60 [==============================] - 0s 2ms/step - loss: 0.0143\n",
      "Epoch 47/70\n",
      "60/60 [==============================] - 0s 3ms/step - loss: 0.0142\n",
      "Epoch 48/70\n",
      "60/60 [==============================] - 0s 3ms/step - loss: 0.0141\n",
      "Epoch 49/70\n",
      "60/60 [==============================] - 0s 3ms/step - loss: 0.0143\n",
      "Epoch 50/70\n",
      "60/60 [==============================] - 0s 3ms/step - loss: 0.0142\n",
      "Epoch 51/70\n",
      "60/60 [==============================] - 0s 3ms/step - loss: 0.0142\n",
      "Epoch 52/70\n",
      "60/60 [==============================] - 0s 2ms/step - loss: 0.0141\n",
      "Epoch 53/70\n",
      "60/60 [==============================] - 0s 3ms/step - loss: 0.0141\n",
      "Epoch 54/70\n",
      "60/60 [==============================] - 0s 3ms/step - loss: 0.0142\n",
      "Epoch 55/70\n",
      "60/60 [==============================] - 0s 3ms/step - loss: 0.0142\n",
      "Epoch 56/70\n",
      "60/60 [==============================] - 0s 3ms/step - loss: 0.0141\n",
      "Epoch 57/70\n",
      "60/60 [==============================] - 0s 3ms/step - loss: 0.0140\n",
      "Epoch 58/70\n",
      "60/60 [==============================] - 0s 3ms/step - loss: 0.0139\n",
      "Epoch 59/70\n",
      "60/60 [==============================] - 0s 3ms/step - loss: 0.0140\n",
      "Epoch 60/70\n",
      "60/60 [==============================] - 0s 3ms/step - loss: 0.0140\n",
      "Epoch 61/70\n",
      "60/60 [==============================] - 0s 3ms/step - loss: 0.0139\n",
      "Epoch 62/70\n",
      "60/60 [==============================] - 0s 3ms/step - loss: 0.0141\n",
      "Epoch 63/70\n",
      "60/60 [==============================] - 0s 3ms/step - loss: 0.0139\n",
      "Epoch 64/70\n",
      "60/60 [==============================] - 0s 3ms/step - loss: 0.0139\n",
      "Epoch 65/70\n",
      "60/60 [==============================] - 0s 3ms/step - loss: 0.0139\n",
      "Epoch 66/70\n",
      "60/60 [==============================] - 0s 3ms/step - loss: 0.0140\n",
      "Epoch 67/70\n",
      "60/60 [==============================] - 0s 3ms/step - loss: 0.0139\n",
      "Epoch 68/70\n",
      "60/60 [==============================] - 0s 2ms/step - loss: 0.0140\n",
      "Epoch 69/70\n",
      "60/60 [==============================] - 0s 3ms/step - loss: 0.0139\n",
      "Epoch 70/70\n",
      "60/60 [==============================] - 0s 3ms/step - loss: 0.0139\n"
     ]
    },
    {
     "data": {
      "text/plain": [
       "<keras.callbacks.History at 0x2ade37ee2d00>"
      ]
     },
     "execution_count": 13,
     "metadata": {},
     "output_type": "execute_result"
    }
   ],
   "source": [
    "basicModel.fit(X_train, y_train[:,:20], epochs=100, verbose=1, batch_size=100 )\n",
    "basicModel2.fit(X_train, y_train[:,20:], epochs=70, verbose=1, batch_size=100 )"
   ]
  },
  {
   "cell_type": "code",
   "execution_count": 14,
   "metadata": {},
   "outputs": [],
   "source": [
    "yhat = basicModel(X_test)\n",
    "yhat2 = basicModel2(X_test, training = False)\n"
   ]
  },
  {
   "cell_type": "code",
   "execution_count": 23,
   "metadata": {},
   "outputs": [
    {
     "name": "stdout",
     "output_type": "stream",
     "text": [
      "Collecting seaborn\n",
      "  Downloading seaborn-0.12.2-py3-none-any.whl (293 kB)\n",
      "\u001b[2K     \u001b[90m━━━━━━━━━━━━━━━━━━━━━━━━━━━━━━━━━━━━━━━\u001b[0m \u001b[32m293.3/293.3 kB\u001b[0m \u001b[31m2.3 MB/s\u001b[0m eta \u001b[36m0:00:00\u001b[0m00:01\u001b[0m00:01\u001b[0m\n",
      "\u001b[?25hRequirement already satisfied: numpy!=1.24.0,>=1.17 in /mnt/ufs18/home-216/grunew14/anaconda3/envs/tardis/lib/python3.8/site-packages (from seaborn) (1.23.5)\n",
      "Requirement already satisfied: matplotlib!=3.6.1,>=3.1 in /mnt/ufs18/home-216/grunew14/anaconda3/envs/tardis/lib/python3.8/site-packages (from seaborn) (3.5.3)\n",
      "Requirement already satisfied: pandas>=0.25 in /mnt/ufs18/home-216/grunew14/anaconda3/envs/tardis/lib/python3.8/site-packages (from seaborn) (1.0.5)\n",
      "Requirement already satisfied: pillow>=6.2.0 in /mnt/ufs18/home-216/grunew14/anaconda3/envs/tardis/lib/python3.8/site-packages (from matplotlib!=3.6.1,>=3.1->seaborn) (9.4.0)\n",
      "Requirement already satisfied: pyparsing>=2.2.1 in /mnt/ufs18/home-216/grunew14/anaconda3/envs/tardis/lib/python3.8/site-packages (from matplotlib!=3.6.1,>=3.1->seaborn) (3.0.9)\n",
      "Requirement already satisfied: packaging>=20.0 in /mnt/ufs18/home-216/grunew14/anaconda3/envs/tardis/lib/python3.8/site-packages (from matplotlib!=3.6.1,>=3.1->seaborn) (23.0)\n",
      "Requirement already satisfied: kiwisolver>=1.0.1 in /mnt/ufs18/home-216/grunew14/anaconda3/envs/tardis/lib/python3.8/site-packages (from matplotlib!=3.6.1,>=3.1->seaborn) (1.4.4)\n",
      "Requirement already satisfied: fonttools>=4.22.0 in /mnt/ufs18/home-216/grunew14/anaconda3/envs/tardis/lib/python3.8/site-packages (from matplotlib!=3.6.1,>=3.1->seaborn) (4.38.0)\n",
      "Requirement already satisfied: python-dateutil>=2.7 in /mnt/ufs18/home-216/grunew14/anaconda3/envs/tardis/lib/python3.8/site-packages (from matplotlib!=3.6.1,>=3.1->seaborn) (2.8.2)\n",
      "Requirement already satisfied: cycler>=0.10 in /mnt/ufs18/home-216/grunew14/anaconda3/envs/tardis/lib/python3.8/site-packages (from matplotlib!=3.6.1,>=3.1->seaborn) (0.11.0)\n",
      "Requirement already satisfied: pytz>=2017.2 in /mnt/ufs18/home-216/grunew14/anaconda3/envs/tardis/lib/python3.8/site-packages (from pandas>=0.25->seaborn) (2022.7.1)\n",
      "Requirement already satisfied: six>=1.5 in /mnt/ufs18/home-216/grunew14/anaconda3/envs/tardis/lib/python3.8/site-packages (from python-dateutil>=2.7->matplotlib!=3.6.1,>=3.1->seaborn) (1.16.0)\n",
      "Installing collected packages: seaborn\n",
      "Successfully installed seaborn-0.12.2\n"
     ]
    }
   ],
   "source": [
    "!pip install seaborn"
   ]
  },
  {
   "cell_type": "code",
   "execution_count": 24,
   "metadata": {},
   "outputs": [
    {
     "data": {
      "image/png": "[encoded data removed]",
      "text/plain": [
       "<Figure size 800x600 with 1 Axes>"
      ]
     },
     "metadata": {},
     "output_type": "display_data"
    }
   ],
   "source": [
    "import matplotlib.pyplot as plt\n",
    "import seaborn as sns\n",
    "\n",
    "\n",
    "sns.set_style('ticks')\n",
    "sns.set_palette('colorblind')\n",
    "\n",
    "fig, ax = plt.subplots(figsize=(8, 6))\n",
    "ax.plot(v_inner, y_test[0,:20], label='Ground Truth', linewidth=2)\n",
    "ax.plot(v_inner, yhat[0], '--o', label='Predicted', linewidth=2, markersize=8)\n",
    "\n",
    "ax.set_xlabel('v_inner', fontsize=14)\n",
    "ax.set_ylabel('Radiative Temperature', fontsize=14)\n",
    "ax.set_title('Radiative Temperature vs v_inner', fontsize=16)\n",
    "ax.legend(fontsize=12)\n",
    "\n",
    "ax.grid(True, which='major', linestyle='--')\n",
    "\n",
    "plt.show()"
   ]
  },
  {
   "cell_type": "code",
   "execution_count": 199,
   "metadata": {},
   "outputs": [
    {
     "name": "stdout",
     "output_type": "stream",
     "text": [
      "Model: \"sequential_23\"\n",
      "_________________________________________________________________\n",
      " Layer (type)                Output Shape              Param #   \n",
      "=================================================================\n",
      " dense_112 (Dense)           (None, 200)               1800      \n",
      "                                                                 \n",
      " batch_normalization_62 (Bat  (None, 200)              800       \n",
      " chNormalization)                                                \n",
      "                                                                 \n",
      " dense_113 (Dense)           (None, 200)               40200     \n",
      "                                                                 \n",
      " batch_normalization_63 (Bat  (None, 200)              800       \n",
      " chNormalization)                                                \n",
      "                                                                 \n",
      " dense_114 (Dense)           (None, 200)               40200     \n",
      "                                                                 \n",
      " batch_normalization_64 (Bat  (None, 200)              800       \n",
      " chNormalization)                                                \n",
      "                                                                 \n",
      " dense_115 (Dense)           (None, 200)               40200     \n",
      "                                                                 \n",
      " batch_normalization_65 (Bat  (None, 200)              800       \n",
      " chNormalization)                                                \n",
      "                                                                 \n",
      " dense_116 (Dense)           (None, 20)                4020      \n",
      "                                                                 \n",
      " batch_normalization_66 (Bat  (None, 20)               80        \n",
      " chNormalization)                                                \n",
      "                                                                 \n",
      "=================================================================\n",
      "Total params: 129,700\n",
      "Trainable params: 128,060\n",
      "Non-trainable params: 1,640\n",
      "_________________________________________________________________\n",
      "None\n"
     ]
    }
   ],
   "source": [
    "model1 = Sequential()\n",
    "model1.add(Dense(200, input_dim=X.shape[1], activation='softplus', kernel_initializer='glorot_normal', ))\n",
    "model1.add(BatchNormalization())\n",
    "#model.add(tf.keras.layers.Dropout(0.2))\n",
    "model1.add(Dense(200, activation='softplus', kernel_initializer='VarianceScaling', ))\n",
    "model1.add(BatchNormalization())\n",
    "#model.add(tf.keras.layers.Dropout(0.2))\n",
    "model1.add(Dense(200, activation='softplus', kernel_initializer='VarianceScaling', ))\n",
    "model1.add(BatchNormalization())\n",
    "#model.add(tf.keras.layers.Dropout(0.2))\n",
    "model1.add(Dense(200, activation='softplus', kernel_initializer='VarianceScaling', ))\n",
    "model1.add(BatchNormalization())\n",
    "model1.add(Dense(40, activation='softplus', kernel_initializer='VarianceScaling',))\n",
    "model1.add(BatchNormalization())\n",
    "\n",
    "\n",
    "model1.compile(loss='mean_squared_error', optimizer='nadam')\n",
    "print(model1.summary())"
   ]
  },
  {
   "cell_type": "code",
   "execution_count": 188,
   "metadata": {},
   "outputs": [
    {
     "name": "stdout",
     "output_type": "stream",
     "text": [
      "Model: \"sequential_20\"\n",
      "_________________________________________________________________\n",
      " Layer (type)                Output Shape              Param #   \n",
      "=================================================================\n",
      " dense_97 (Dense)            (None, 256)               2304      \n",
      "                                                                 \n",
      " batch_normalization_58 (Bat  (None, 256)              1024      \n",
      " chNormalization)                                                \n",
      "                                                                 \n",
      " dense_98 (Dense)            (None, 256)               65792     \n",
      "                                                                 \n",
      " batch_normalization_59 (Bat  (None, 256)              1024      \n",
      " chNormalization)                                                \n",
      "                                                                 \n",
      " dense_99 (Dense)            (None, 256)               65792     \n",
      "                                                                 \n",
      " batch_normalization_60 (Bat  (None, 256)              1024      \n",
      " chNormalization)                                                \n",
      "                                                                 \n",
      " dense_100 (Dense)           (None, 256)               65792     \n",
      "                                                                 \n",
      " batch_normalization_61 (Bat  (None, 256)              1024      \n",
      " chNormalization)                                                \n",
      "                                                                 \n",
      " dense_101 (Dense)           (None, 20)                5140      \n",
      "                                                                 \n",
      "=================================================================\n",
      "Total params: 208,916\n",
      "Trainable params: 206,868\n",
      "Non-trainable params: 2,048\n",
      "_________________________________________________________________\n",
      "None\n"
     ]
    }
   ],
   "source": [
    "model2 = Sequential()\n",
    "model2.add(Dense(256, input_dim=X.shape[1], activation='softplus', kernel_initializer='glorot_normal', ))\n",
    "model2.add(BatchNormalization())\n",
    "#model.add(tf.keras.layers.Dropout(0.2))\n",
    "model2.add(Dense(256, activation='softplus', kernel_initializer='VarianceScaling', ))\n",
    "model2.add(BatchNormalization())\n",
    "#model.add(tf.keras.layers.Dropout(0.2))\n",
    "model2.add(Dense(256, activation='softplus', kernel_initializer='VarianceScaling', ))\n",
    "model2.add(BatchNormalization())\n",
    "#model.add(tf.keras.layers.Dropout(0.2))\n",
    "model2.add(Dense(256, activation='softplus', kernel_initializer='VarianceScaling', ))\n",
    "model2.add(BatchNormalization())\n",
    "#model.add(tf.keras.layers.Dropout(0.2))\n",
    "model2.add(Dense(20, activation='softplus', kernel_initializer='VarianceScaling',))\n",
    "\n",
    "model2.compile(loss='mean_squared_error', optimizer='nadam')\n",
    "print(model2.summary())"
   ]
  },
  {
   "cell_type": "code",
   "execution_count": 212,
   "metadata": {},
   "outputs": [
    {
     "data": {
      "text/plain": [
       "(6000, 20)"
      ]
     },
     "execution_count": 212,
     "metadata": {},
     "output_type": "execute_result"
    }
   ],
   "source": [
    "y_train[:,:20].shape"
   ]
  },
  {
   "cell_type": "code",
   "execution_count": 213,
   "metadata": {},
   "outputs": [
    {
     "name": "stdout",
     "output_type": "stream",
     "text": [
      "Epoch 1/70\n",
      "86/86 [==============================] - 1s 7ms/step - loss: 182941664.0000 - val_loss: 183195472.0000\n",
      "Epoch 2/70\n",
      "86/86 [==============================] - 1s 6ms/step - loss: 182933184.0000 - val_loss: 183183312.0000\n",
      "Epoch 3/70\n",
      "86/86 [==============================] - 0s 6ms/step - loss: 182927280.0000 - val_loss: 183176816.0000\n",
      "Epoch 4/70\n",
      "86/86 [==============================] - 1s 6ms/step - loss: 182922560.0000 - val_loss: 183169232.0000\n",
      "Epoch 5/70\n",
      "86/86 [==============================] - 0s 5ms/step - loss: 182918240.0000 - val_loss: 183163824.0000\n",
      "Epoch 6/70\n",
      "86/86 [==============================] - 1s 6ms/step - loss: 182914384.0000 - val_loss: 183159440.0000\n",
      "Epoch 7/70\n",
      "86/86 [==============================] - 0s 6ms/step - loss: 182910784.0000 - val_loss: 183153632.0000\n",
      "Epoch 8/70\n",
      "86/86 [==============================] - 0s 6ms/step - loss: 182907312.0000 - val_loss: 183152272.0000\n",
      "Epoch 9/70\n",
      "86/86 [==============================] - 1s 6ms/step - loss: 182904048.0000 - val_loss: 183144272.0000\n",
      "Epoch 10/70\n",
      "86/86 [==============================] - 0s 5ms/step - loss: 182900912.0000 - val_loss: 183137824.0000\n",
      "Epoch 11/70\n",
      "86/86 [==============================] - 1s 6ms/step - loss: 182897856.0000 - val_loss: 183139088.0000\n",
      "Epoch 12/70\n",
      "86/86 [==============================] - 1s 6ms/step - loss: 182894880.0000 - val_loss: 183134768.0000\n",
      "Epoch 13/70\n",
      "86/86 [==============================] - 0s 5ms/step - loss: 182892000.0000 - val_loss: 183135488.0000\n",
      "Epoch 14/70\n",
      "86/86 [==============================] - 0s 6ms/step - loss: 182889184.0000 - val_loss: 183133552.0000\n",
      "Epoch 15/70\n",
      "86/86 [==============================] - 0s 5ms/step - loss: 182886448.0000 - val_loss: 183121888.0000\n",
      "Epoch 16/70\n",
      "86/86 [==============================] - 0s 5ms/step - loss: 182883664.0000 - val_loss: 183124432.0000\n",
      "Epoch 17/70\n",
      "86/86 [==============================] - 1s 6ms/step - loss: 182880976.0000 - val_loss: 183130320.0000\n",
      "Epoch 18/70\n",
      "86/86 [==============================] - 1s 6ms/step - loss: 182878336.0000 - val_loss: 183116976.0000\n",
      "Epoch 19/70\n",
      "86/86 [==============================] - 0s 5ms/step - loss: 182875680.0000 - val_loss: 183115600.0000\n",
      "Epoch 20/70\n",
      "86/86 [==============================] - 0s 6ms/step - loss: 182873088.0000 - val_loss: 183119344.0000\n",
      "Epoch 21/70\n",
      "86/86 [==============================] - 1s 6ms/step - loss: 182870496.0000 - val_loss: 183118688.0000\n",
      "Epoch 22/70\n",
      "86/86 [==============================] - 1s 6ms/step - loss: 182867968.0000 - val_loss: 183105680.0000\n",
      "Epoch 23/70\n",
      "86/86 [==============================] - 1s 7ms/step - loss: 182865360.0000 - val_loss: 183108368.0000\n",
      "Epoch 24/70\n",
      "86/86 [==============================] - 1s 6ms/step - loss: 182862880.0000 - val_loss: 183110432.0000\n",
      "Epoch 25/70\n",
      "86/86 [==============================] - 1s 6ms/step - loss: 182860320.0000 - val_loss: 183101680.0000\n",
      "Epoch 26/70\n",
      "86/86 [==============================] - 0s 6ms/step - loss: 182857872.0000 - val_loss: 183098736.0000\n",
      "Epoch 27/70\n",
      "86/86 [==============================] - 0s 6ms/step - loss: 182855328.0000 - val_loss: 183095488.0000\n",
      "Epoch 28/70\n",
      "86/86 [==============================] - 0s 6ms/step - loss: 182852944.0000 - val_loss: 183089504.0000\n",
      "Epoch 29/70\n",
      "86/86 [==============================] - 1s 6ms/step - loss: 182850432.0000 - val_loss: 183085760.0000\n",
      "Epoch 30/70\n",
      "86/86 [==============================] - 1s 6ms/step - loss: 182847920.0000 - val_loss: 183093152.0000\n",
      "Epoch 31/70\n",
      "86/86 [==============================] - 0s 6ms/step - loss: 182845520.0000 - val_loss: 183083440.0000\n",
      "Epoch 32/70\n",
      "86/86 [==============================] - 1s 6ms/step - loss: 182843104.0000 - val_loss: 183085856.0000\n",
      "Epoch 33/70\n",
      "86/86 [==============================] - 1s 6ms/step - loss: 182840704.0000 - val_loss: 183088000.0000\n",
      "Epoch 34/70\n",
      "86/86 [==============================] - 0s 6ms/step - loss: 182838160.0000 - val_loss: 183077792.0000\n",
      "Epoch 35/70\n",
      "86/86 [==============================] - 0s 5ms/step - loss: 182835760.0000 - val_loss: 183089808.0000\n",
      "Epoch 36/70\n",
      "86/86 [==============================] - 1s 6ms/step - loss: 182833408.0000 - val_loss: 183062464.0000\n",
      "Epoch 37/70\n",
      "86/86 [==============================] - 1s 6ms/step - loss: 182830896.0000 - val_loss: 183065280.0000\n",
      "Epoch 38/70\n",
      "86/86 [==============================] - 0s 6ms/step - loss: 182828528.0000 - val_loss: 183058064.0000\n",
      "Epoch 39/70\n",
      "86/86 [==============================] - 1s 6ms/step - loss: 182826176.0000 - val_loss: 183061888.0000\n",
      "Epoch 40/70\n",
      "86/86 [==============================] - 0s 5ms/step - loss: 182823664.0000 - val_loss: 183058928.0000\n",
      "Epoch 41/70\n",
      "86/86 [==============================] - 0s 6ms/step - loss: 182821216.0000 - val_loss: 183071328.0000\n",
      "Epoch 42/70\n",
      "86/86 [==============================] - 1s 6ms/step - loss: 182818960.0000 - val_loss: 183066432.0000\n",
      "Epoch 43/70\n",
      "86/86 [==============================] - 1s 6ms/step - loss: 182816512.0000 - val_loss: 183060384.0000\n",
      "Epoch 44/70\n",
      "86/86 [==============================] - 0s 5ms/step - loss: 182814096.0000 - val_loss: 183052288.0000\n",
      "Epoch 45/70\n",
      "86/86 [==============================] - 1s 6ms/step - loss: 182811792.0000 - val_loss: 183056528.0000\n",
      "Epoch 46/70\n",
      "86/86 [==============================] - 1s 6ms/step - loss: 182809472.0000 - val_loss: 183052256.0000\n",
      "Epoch 47/70\n",
      "86/86 [==============================] - 0s 6ms/step - loss: 182806944.0000 - val_loss: 183076656.0000\n",
      "Epoch 48/70\n",
      "86/86 [==============================] - 0s 5ms/step - loss: 182804496.0000 - val_loss: 183040912.0000\n",
      "Epoch 49/70\n",
      "86/86 [==============================] - 0s 6ms/step - loss: 182802080.0000 - val_loss: 183017488.0000\n",
      "Epoch 50/70\n",
      "86/86 [==============================] - 0s 6ms/step - loss: 182799776.0000 - val_loss: 183049184.0000\n",
      "Epoch 51/70\n",
      "86/86 [==============================] - 0s 6ms/step - loss: 182797264.0000 - val_loss: 183031536.0000\n",
      "Epoch 52/70\n",
      "86/86 [==============================] - 0s 6ms/step - loss: 182794992.0000 - val_loss: 183030160.0000\n",
      "Epoch 53/70\n",
      "86/86 [==============================] - 0s 5ms/step - loss: 182792512.0000 - val_loss: 183033168.0000\n",
      "Epoch 54/70\n",
      "86/86 [==============================] - 0s 6ms/step - loss: 182790240.0000 - val_loss: 183034448.0000\n",
      "Epoch 55/70\n",
      "86/86 [==============================] - 0s 5ms/step - loss: 182787776.0000 - val_loss: 183047872.0000\n",
      "Epoch 56/70\n",
      "86/86 [==============================] - 1s 6ms/step - loss: 182785360.0000 - val_loss: 183032288.0000\n",
      "Epoch 57/70\n",
      "86/86 [==============================] - 0s 6ms/step - loss: 182782944.0000 - val_loss: 183007760.0000\n",
      "Epoch 58/70\n",
      "86/86 [==============================] - 1s 6ms/step - loss: 182780592.0000 - val_loss: 183021968.0000\n",
      "Epoch 59/70\n",
      "86/86 [==============================] - 0s 6ms/step - loss: 182778160.0000 - val_loss: 183012144.0000\n",
      "Epoch 60/70\n",
      "86/86 [==============================] - 0s 5ms/step - loss: 182775792.0000 - val_loss: 183012896.0000\n",
      "Epoch 61/70\n",
      "86/86 [==============================] - 0s 5ms/step - loss: 182773520.0000 - val_loss: 183012320.0000\n",
      "Epoch 62/70\n",
      "86/86 [==============================] - 1s 6ms/step - loss: 182771008.0000 - val_loss: 183019616.0000\n",
      "Epoch 63/70\n",
      "86/86 [==============================] - 1s 7ms/step - loss: 182768672.0000 - val_loss: 183023248.0000\n",
      "Epoch 64/70\n",
      "86/86 [==============================] - 0s 5ms/step - loss: 182766432.0000 - val_loss: 183018848.0000\n",
      "Epoch 65/70\n",
      "86/86 [==============================] - 0s 6ms/step - loss: 182763904.0000 - val_loss: 182989904.0000\n",
      "Epoch 66/70\n",
      "86/86 [==============================] - 0s 6ms/step - loss: 182761552.0000 - val_loss: 182987136.0000\n",
      "Epoch 67/70\n",
      "86/86 [==============================] - 0s 6ms/step - loss: 182759152.0000 - val_loss: 182996320.0000\n",
      "Epoch 68/70\n",
      "86/86 [==============================] - 1s 6ms/step - loss: 182756928.0000 - val_loss: 182978144.0000\n",
      "Epoch 69/70\n",
      "86/86 [==============================] - 1s 6ms/step - loss: 182754416.0000 - val_loss: 182993680.0000\n",
      "Epoch 70/70\n",
      "86/86 [==============================] - 0s 5ms/step - loss: 182751936.0000 - val_loss: 182979056.0000\n"
     ]
    },
    {
     "data": {
      "text/plain": [
       "<keras.callbacks.History at 0x2b3522112d00>"
      ]
     },
     "execution_count": 213,
     "metadata": {},
     "output_type": "execute_result"
    }
   ],
   "source": [
    "model1.fit(X_train, y_train[:,:20], epochs=70, batch_size=70, verbose=1, validation_data=(X_val, y_val[:,:20]))"
   ]
  },
  {
   "cell_type": "code",
   "execution_count": 174,
   "metadata": {},
   "outputs": [
    {
     "name": "stdout",
     "output_type": "stream",
     "text": [
      "Epoch 1/200\n",
      "60/60 [==============================] - 3s 10ms/step - loss: 1.4676 - val_loss: 1.2919\n",
      "Epoch 2/200\n",
      "60/60 [==============================] - 0s 6ms/step - loss: 1.2451 - val_loss: 1.1202\n",
      "Epoch 3/200\n",
      "60/60 [==============================] - 0s 6ms/step - loss: 1.0733 - val_loss: 1.0356\n",
      "Epoch 4/200\n",
      "60/60 [==============================] - 0s 5ms/step - loss: 1.0243 - val_loss: 1.0191\n",
      "Epoch 5/200\n",
      "60/60 [==============================] - 0s 5ms/step - loss: 1.0107 - val_loss: 1.0106\n",
      "Epoch 6/200\n",
      "60/60 [==============================] - 0s 5ms/step - loss: 1.0054 - val_loss: 1.0044\n",
      "Epoch 7/200\n",
      "60/60 [==============================] - 0s 5ms/step - loss: 1.0027 - val_loss: 1.0034\n",
      "Epoch 8/200\n",
      "60/60 [==============================] - 0s 6ms/step - loss: 1.0024 - val_loss: 1.0043\n",
      "Epoch 9/200\n",
      "60/60 [==============================] - 0s 5ms/step - loss: 1.0014 - val_loss: 1.0015\n",
      "Epoch 10/200\n",
      "60/60 [==============================] - 0s 6ms/step - loss: 0.9997 - val_loss: 1.0003\n",
      "Epoch 11/200\n",
      "60/60 [==============================] - 0s 6ms/step - loss: 0.9995 - val_loss: 1.0024\n",
      "Epoch 12/200\n",
      "60/60 [==============================] - 0s 5ms/step - loss: 0.9980 - val_loss: 1.0034\n",
      "Epoch 13/200\n",
      "60/60 [==============================] - 0s 6ms/step - loss: 0.9986 - val_loss: 1.0037\n",
      "Epoch 14/200\n",
      "60/60 [==============================] - 0s 6ms/step - loss: 0.9975 - val_loss: 1.0031\n",
      "Epoch 15/200\n",
      "60/60 [==============================] - 0s 5ms/step - loss: 0.9984 - val_loss: 1.0033\n",
      "Epoch 16/200\n",
      "60/60 [==============================] - 0s 5ms/step - loss: 0.9969 - val_loss: 1.0052\n",
      "Epoch 17/200\n",
      "60/60 [==============================] - 0s 6ms/step - loss: 0.9985 - val_loss: 1.0026\n",
      "Epoch 18/200\n",
      "60/60 [==============================] - 0s 5ms/step - loss: 0.9971 - val_loss: 1.0006\n",
      "Epoch 19/200\n",
      "60/60 [==============================] - 0s 5ms/step - loss: 0.9945 - val_loss: 0.9994\n",
      "Epoch 20/200\n",
      "60/60 [==============================] - 0s 6ms/step - loss: 0.9963 - val_loss: 1.0006\n",
      "Epoch 21/200\n",
      "60/60 [==============================] - 0s 6ms/step - loss: 0.9957 - val_loss: 1.0063\n",
      "Epoch 22/200\n",
      "60/60 [==============================] - 0s 5ms/step - loss: 0.9955 - val_loss: 1.0022\n",
      "Epoch 23/200\n",
      "60/60 [==============================] - 0s 5ms/step - loss: 0.9962 - val_loss: 1.0015\n",
      "Epoch 24/200\n",
      "60/60 [==============================] - 0s 5ms/step - loss: 0.9949 - val_loss: 1.0003\n",
      "Epoch 25/200\n",
      "60/60 [==============================] - 0s 5ms/step - loss: 0.9941 - val_loss: 0.9988\n",
      "Epoch 26/200\n",
      "60/60 [==============================] - 0s 5ms/step - loss: 0.9952 - val_loss: 1.0025\n",
      "Epoch 27/200\n",
      "60/60 [==============================] - 0s 5ms/step - loss: 0.9941 - val_loss: 1.0001\n",
      "Epoch 28/200\n",
      "60/60 [==============================] - 0s 5ms/step - loss: 0.9911 - val_loss: 1.0012\n",
      "Epoch 29/200\n",
      "60/60 [==============================] - 0s 5ms/step - loss: 0.9916 - val_loss: 1.0030\n",
      "Epoch 30/200\n",
      "60/60 [==============================] - 0s 5ms/step - loss: 0.9903 - val_loss: 1.0088\n",
      "Epoch 31/200\n",
      "60/60 [==============================] - 0s 6ms/step - loss: 0.9903 - val_loss: 1.0008\n",
      "Epoch 32/200\n",
      "60/60 [==============================] - 0s 6ms/step - loss: 0.9897 - val_loss: 1.0148\n",
      "Epoch 33/200\n",
      "60/60 [==============================] - 0s 5ms/step - loss: 0.9893 - val_loss: 1.0087\n",
      "Epoch 34/200\n",
      "60/60 [==============================] - 0s 6ms/step - loss: 0.9867 - val_loss: 1.0106\n",
      "Epoch 35/200\n",
      "60/60 [==============================] - 0s 5ms/step - loss: 0.9883 - val_loss: 1.0020\n",
      "Epoch 36/200\n",
      "60/60 [==============================] - 0s 5ms/step - loss: 0.9866 - val_loss: 1.0106\n",
      "Epoch 37/200\n",
      "60/60 [==============================] - 0s 5ms/step - loss: 0.9879 - val_loss: 1.0063\n",
      "Epoch 38/200\n",
      "60/60 [==============================] - 0s 5ms/step - loss: 0.9868 - val_loss: 1.0018\n",
      "Epoch 39/200\n",
      "60/60 [==============================] - 0s 6ms/step - loss: 0.9842 - val_loss: 1.0129\n",
      "Epoch 40/200\n",
      "60/60 [==============================] - 0s 5ms/step - loss: 0.9868 - val_loss: 1.0098\n",
      "Epoch 41/200\n",
      "60/60 [==============================] - 0s 5ms/step - loss: 0.9829 - val_loss: 1.0251\n",
      "Epoch 42/200\n",
      "60/60 [==============================] - 0s 5ms/step - loss: 0.9832 - val_loss: 1.0056\n",
      "Epoch 43/200\n",
      "60/60 [==============================] - 0s 6ms/step - loss: 0.9814 - val_loss: 1.0055\n",
      "Epoch 44/200\n",
      "60/60 [==============================] - 0s 6ms/step - loss: 0.9830 - val_loss: 1.0084\n",
      "Epoch 45/200\n",
      "60/60 [==============================] - 0s 5ms/step - loss: 0.9786 - val_loss: 1.0140\n",
      "Epoch 46/200\n",
      "60/60 [==============================] - 0s 5ms/step - loss: 0.9813 - val_loss: 1.0205\n",
      "Epoch 47/200\n",
      "60/60 [==============================] - 0s 6ms/step - loss: 0.9792 - val_loss: 1.0168\n",
      "Epoch 48/200\n",
      "60/60 [==============================] - 0s 5ms/step - loss: 0.9779 - val_loss: 1.0127\n",
      "Epoch 49/200\n",
      "60/60 [==============================] - 0s 5ms/step - loss: 0.9794 - val_loss: 1.0130\n",
      "Epoch 50/200\n",
      "60/60 [==============================] - 0s 5ms/step - loss: 0.9759 - val_loss: 1.0149\n",
      "Epoch 51/200\n",
      "60/60 [==============================] - 0s 5ms/step - loss: 0.9759 - val_loss: 1.0132\n",
      "Epoch 52/200\n",
      "60/60 [==============================] - 0s 5ms/step - loss: 0.9758 - val_loss: 1.0195\n",
      "Epoch 53/200\n",
      "60/60 [==============================] - 0s 6ms/step - loss: 0.9763 - val_loss: 1.0323\n",
      "Epoch 54/200\n",
      "60/60 [==============================] - 0s 5ms/step - loss: 0.9753 - val_loss: 1.0134\n",
      "Epoch 55/200\n",
      "60/60 [==============================] - 0s 5ms/step - loss: 0.9736 - val_loss: 1.0114\n",
      "Epoch 56/200\n",
      "60/60 [==============================] - 0s 5ms/step - loss: 0.9745 - val_loss: 1.0158\n",
      "Epoch 57/200\n",
      "60/60 [==============================] - 0s 6ms/step - loss: 0.9682 - val_loss: 1.0197\n",
      "Epoch 58/200\n",
      "60/60 [==============================] - 0s 5ms/step - loss: 0.9702 - val_loss: 1.0155\n",
      "Epoch 59/200\n",
      "60/60 [==============================] - 0s 6ms/step - loss: 0.9700 - val_loss: 1.0167\n",
      "Epoch 60/200\n",
      "60/60 [==============================] - 0s 6ms/step - loss: 0.9670 - val_loss: 1.0122\n",
      "Epoch 61/200\n",
      "60/60 [==============================] - 0s 5ms/step - loss: 0.9685 - val_loss: 1.0258\n",
      "Epoch 62/200\n",
      "60/60 [==============================] - 0s 5ms/step - loss: 0.9686 - val_loss: 1.0116\n",
      "Epoch 63/200\n",
      "60/60 [==============================] - 0s 6ms/step - loss: 0.9627 - val_loss: 1.0313\n",
      "Epoch 64/200\n",
      "60/60 [==============================] - 0s 6ms/step - loss: 0.9618 - val_loss: 1.0391\n",
      "Epoch 65/200\n",
      "60/60 [==============================] - 0s 5ms/step - loss: 0.9621 - val_loss: 1.0245\n",
      "Epoch 66/200\n",
      "60/60 [==============================] - 0s 6ms/step - loss: 0.9594 - val_loss: 1.0366\n",
      "Epoch 67/200\n",
      "60/60 [==============================] - 0s 5ms/step - loss: 0.9606 - val_loss: 1.0324\n",
      "Epoch 68/200\n",
      "60/60 [==============================] - 0s 5ms/step - loss: 0.9581 - val_loss: 1.0246\n",
      "Epoch 69/200\n",
      "60/60 [==============================] - 0s 7ms/step - loss: 0.9594 - val_loss: 1.0369\n",
      "Epoch 70/200\n",
      "60/60 [==============================] - 0s 5ms/step - loss: 0.9559 - val_loss: 1.0429\n",
      "Epoch 71/200\n",
      "60/60 [==============================] - 0s 6ms/step - loss: 0.9556 - val_loss: 1.0383\n",
      "Epoch 72/200\n",
      "60/60 [==============================] - 0s 6ms/step - loss: 0.9546 - val_loss: 1.0266\n",
      "Epoch 73/200\n",
      "60/60 [==============================] - 0s 5ms/step - loss: 0.9519 - val_loss: 1.0320\n",
      "Epoch 74/200\n",
      "60/60 [==============================] - 0s 6ms/step - loss: 0.9495 - val_loss: 1.0485\n",
      "Epoch 75/200\n",
      "60/60 [==============================] - 0s 5ms/step - loss: 0.9519 - val_loss: 1.0460\n",
      "Epoch 76/200\n",
      "60/60 [==============================] - 0s 5ms/step - loss: 0.9468 - val_loss: 1.0243\n",
      "Epoch 77/200\n",
      "60/60 [==============================] - 0s 6ms/step - loss: 0.9463 - val_loss: 1.0596\n",
      "Epoch 78/200\n",
      "60/60 [==============================] - 0s 5ms/step - loss: 0.9472 - val_loss: 1.0276\n",
      "Epoch 79/200\n",
      "60/60 [==============================] - 0s 5ms/step - loss: 0.9448 - val_loss: 1.0461\n",
      "Epoch 80/200\n",
      "60/60 [==============================] - 0s 6ms/step - loss: 0.9427 - val_loss: 1.0605\n",
      "Epoch 81/200\n",
      "60/60 [==============================] - 0s 6ms/step - loss: 0.9427 - val_loss: 1.0647\n",
      "Epoch 82/200\n",
      "60/60 [==============================] - 0s 5ms/step - loss: 0.9413 - val_loss: 1.0376\n",
      "Epoch 83/200\n",
      "60/60 [==============================] - 0s 5ms/step - loss: 0.9392 - val_loss: 1.0379\n",
      "Epoch 84/200\n",
      "60/60 [==============================] - 0s 6ms/step - loss: 0.9341 - val_loss: 1.0567\n",
      "Epoch 85/200\n",
      "60/60 [==============================] - 0s 5ms/step - loss: 0.9405 - val_loss: 1.0678\n",
      "Epoch 86/200\n",
      "60/60 [==============================] - 0s 5ms/step - loss: 0.9345 - val_loss: 1.0819\n",
      "Epoch 87/200\n",
      "60/60 [==============================] - 0s 5ms/step - loss: 0.9373 - val_loss: 1.0623\n",
      "Epoch 88/200\n",
      "60/60 [==============================] - 0s 5ms/step - loss: 0.9355 - val_loss: 1.0586\n",
      "Epoch 89/200\n",
      "60/60 [==============================] - 0s 6ms/step - loss: 0.9344 - val_loss: 1.0490\n",
      "Epoch 90/200\n",
      "60/60 [==============================] - 0s 5ms/step - loss: 0.9283 - val_loss: 1.0694\n",
      "Epoch 91/200\n",
      "60/60 [==============================] - 0s 6ms/step - loss: 0.9291 - val_loss: 1.0460\n",
      "Epoch 92/200\n",
      "60/60 [==============================] - 0s 5ms/step - loss: 0.9282 - val_loss: 1.0695\n",
      "Epoch 93/200\n",
      "60/60 [==============================] - 0s 6ms/step - loss: 0.9242 - val_loss: 1.0880\n",
      "Epoch 94/200\n",
      "60/60 [==============================] - 0s 5ms/step - loss: 0.9270 - val_loss: 1.0381\n",
      "Epoch 95/200\n",
      "60/60 [==============================] - 0s 6ms/step - loss: 0.9250 - val_loss: 1.0480\n",
      "Epoch 96/200\n",
      "60/60 [==============================] - 0s 5ms/step - loss: 0.9218 - val_loss: 1.0727\n",
      "Epoch 97/200\n",
      "60/60 [==============================] - 0s 5ms/step - loss: 0.9185 - val_loss: 1.1040\n",
      "Epoch 98/200\n",
      "60/60 [==============================] - 0s 6ms/step - loss: 0.9219 - val_loss: 1.0957\n",
      "Epoch 99/200\n",
      "60/60 [==============================] - 0s 5ms/step - loss: 0.9182 - val_loss: 1.0534\n",
      "Epoch 100/200\n",
      "60/60 [==============================] - 0s 6ms/step - loss: 0.9223 - val_loss: 1.0643\n",
      "Epoch 101/200\n",
      "60/60 [==============================] - 0s 6ms/step - loss: 0.9178 - val_loss: 1.0895\n",
      "Epoch 102/200\n",
      "60/60 [==============================] - 0s 5ms/step - loss: 0.9122 - val_loss: 1.0922\n",
      "Epoch 103/200\n",
      "60/60 [==============================] - 0s 5ms/step - loss: 0.9154 - val_loss: 1.0895\n",
      "Epoch 104/200\n",
      "60/60 [==============================] - 0s 5ms/step - loss: 0.9078 - val_loss: 1.0873\n",
      "Epoch 105/200\n",
      "60/60 [==============================] - 0s 5ms/step - loss: 0.9118 - val_loss: 1.0973\n",
      "Epoch 106/200\n",
      "60/60 [==============================] - 0s 6ms/step - loss: 0.9074 - val_loss: 1.0674\n",
      "Epoch 107/200\n",
      "60/60 [==============================] - 0s 6ms/step - loss: 0.9060 - val_loss: 1.1074\n",
      "Epoch 108/200\n",
      "60/60 [==============================] - 0s 5ms/step - loss: 0.9036 - val_loss: 1.0880\n",
      "Epoch 109/200\n",
      "60/60 [==============================] - 0s 5ms/step - loss: 0.9076 - val_loss: 1.0724\n",
      "Epoch 110/200\n",
      "60/60 [==============================] - 0s 6ms/step - loss: 0.9056 - val_loss: 1.0609\n",
      "Epoch 111/200\n",
      "60/60 [==============================] - 0s 5ms/step - loss: 0.9010 - val_loss: 1.1401\n",
      "Epoch 112/200\n",
      "60/60 [==============================] - 0s 5ms/step - loss: 0.9008 - val_loss: 1.0722\n",
      "Epoch 113/200\n",
      "60/60 [==============================] - 0s 5ms/step - loss: 0.8941 - val_loss: 1.0682\n",
      "Epoch 114/200\n",
      "60/60 [==============================] - 0s 6ms/step - loss: 0.8960 - val_loss: 1.0869\n",
      "Epoch 115/200\n",
      "60/60 [==============================] - 0s 6ms/step - loss: 0.8914 - val_loss: 1.0967\n",
      "Epoch 116/200\n",
      "60/60 [==============================] - 0s 5ms/step - loss: 0.8936 - val_loss: 1.1041\n",
      "Epoch 117/200\n",
      "60/60 [==============================] - 0s 5ms/step - loss: 0.8885 - val_loss: 1.0918\n",
      "Epoch 118/200\n",
      "60/60 [==============================] - 0s 5ms/step - loss: 0.8881 - val_loss: 1.1009\n",
      "Epoch 119/200\n",
      "60/60 [==============================] - 0s 6ms/step - loss: 0.8857 - val_loss: 1.1069\n",
      "Epoch 120/200\n",
      "60/60 [==============================] - 0s 6ms/step - loss: 0.8840 - val_loss: 1.1051\n",
      "Epoch 121/200\n",
      "60/60 [==============================] - 0s 5ms/step - loss: 0.8868 - val_loss: 1.1358\n",
      "Epoch 122/200\n",
      "60/60 [==============================] - 0s 5ms/step - loss: 0.8873 - val_loss: 1.1254\n",
      "Epoch 123/200\n",
      "60/60 [==============================] - 0s 6ms/step - loss: 0.8871 - val_loss: 1.1255\n",
      "Epoch 124/200\n",
      "60/60 [==============================] - 0s 5ms/step - loss: 0.8785 - val_loss: 1.1073\n",
      "Epoch 125/200\n",
      "60/60 [==============================] - 0s 5ms/step - loss: 0.8763 - val_loss: 1.1285\n",
      "Epoch 126/200\n",
      "60/60 [==============================] - 0s 6ms/step - loss: 0.8826 - val_loss: 1.1038\n",
      "Epoch 127/200\n",
      "60/60 [==============================] - 0s 5ms/step - loss: 0.8773 - val_loss: 1.1015\n",
      "Epoch 128/200\n",
      "60/60 [==============================] - 0s 5ms/step - loss: 0.8806 - val_loss: 1.1139\n",
      "Epoch 129/200\n",
      "60/60 [==============================] - 0s 5ms/step - loss: 0.8680 - val_loss: 1.1029\n",
      "Epoch 130/200\n",
      "60/60 [==============================] - 0s 5ms/step - loss: 0.8776 - val_loss: 1.1143\n",
      "Epoch 131/200\n",
      "60/60 [==============================] - 0s 6ms/step - loss: 0.8730 - val_loss: 1.1358\n",
      "Epoch 132/200\n",
      "60/60 [==============================] - 0s 5ms/step - loss: 0.8697 - val_loss: 1.1253\n",
      "Epoch 133/200\n",
      "60/60 [==============================] - 0s 6ms/step - loss: 0.8725 - val_loss: 1.1378\n",
      "Epoch 134/200\n",
      "60/60 [==============================] - 0s 5ms/step - loss: 0.8664 - val_loss: 1.1257\n",
      "Epoch 135/200\n",
      "60/60 [==============================] - 0s 6ms/step - loss: 0.8648 - val_loss: 1.1254\n",
      "Epoch 136/200\n",
      "60/60 [==============================] - 0s 6ms/step - loss: 0.8655 - val_loss: 1.1087\n",
      "Epoch 137/200\n",
      "60/60 [==============================] - 0s 5ms/step - loss: 0.8630 - val_loss: 1.1230\n",
      "Epoch 138/200\n",
      "60/60 [==============================] - 0s 6ms/step - loss: 0.8589 - val_loss: 1.1277\n",
      "Epoch 139/200\n",
      "60/60 [==============================] - 0s 6ms/step - loss: 0.8597 - val_loss: 1.1294\n",
      "Epoch 140/200\n",
      "60/60 [==============================] - 0s 5ms/step - loss: 0.8645 - val_loss: 1.1572\n",
      "Epoch 141/200\n",
      "60/60 [==============================] - 0s 6ms/step - loss: 0.8532 - val_loss: 1.1366\n",
      "Epoch 142/200\n",
      "60/60 [==============================] - 0s 6ms/step - loss: 0.8533 - val_loss: 1.1211\n",
      "Epoch 143/200\n",
      "60/60 [==============================] - 0s 5ms/step - loss: 0.8519 - val_loss: 1.1433\n",
      "Epoch 144/200\n",
      "60/60 [==============================] - 0s 5ms/step - loss: 0.8555 - val_loss: 1.1621\n",
      "Epoch 145/200\n",
      "60/60 [==============================] - 0s 5ms/step - loss: 0.8498 - val_loss: 1.1714\n",
      "Epoch 146/200\n",
      "60/60 [==============================] - 0s 5ms/step - loss: 0.8527 - val_loss: 1.1513\n",
      "Epoch 147/200\n",
      "60/60 [==============================] - 0s 5ms/step - loss: 0.8487 - val_loss: 1.1647\n",
      "Epoch 148/200\n",
      "60/60 [==============================] - 0s 6ms/step - loss: 0.8443 - val_loss: 1.1484\n",
      "Epoch 149/200\n",
      "60/60 [==============================] - 0s 6ms/step - loss: 0.8440 - val_loss: 1.1519\n",
      "Epoch 150/200\n",
      "60/60 [==============================] - 0s 5ms/step - loss: 0.8366 - val_loss: 1.1374\n",
      "Epoch 151/200\n",
      "60/60 [==============================] - 0s 5ms/step - loss: 0.8423 - val_loss: 1.1561\n",
      "Epoch 152/200\n",
      "60/60 [==============================] - 0s 5ms/step - loss: 0.8357 - val_loss: 1.1666\n",
      "Epoch 153/200\n",
      "60/60 [==============================] - 0s 5ms/step - loss: 0.8429 - val_loss: 1.1562\n",
      "Epoch 154/200\n",
      "60/60 [==============================] - 0s 5ms/step - loss: 0.8383 - val_loss: 1.1460\n",
      "Epoch 155/200\n",
      "60/60 [==============================] - 0s 6ms/step - loss: 0.8417 - val_loss: 1.1577\n",
      "Epoch 156/200\n",
      "60/60 [==============================] - 0s 5ms/step - loss: 0.8448 - val_loss: 1.1210\n",
      "Epoch 157/200\n",
      "60/60 [==============================] - 0s 5ms/step - loss: 0.8395 - val_loss: 1.1534\n",
      "Epoch 158/200\n",
      "60/60 [==============================] - 0s 6ms/step - loss: 0.8305 - val_loss: 1.1737\n",
      "Epoch 159/200\n",
      "60/60 [==============================] - 0s 6ms/step - loss: 0.8378 - val_loss: 1.1275\n",
      "Epoch 160/200\n",
      "60/60 [==============================] - 0s 5ms/step - loss: 0.8336 - val_loss: 1.1460\n",
      "Epoch 161/200\n",
      "60/60 [==============================] - 0s 6ms/step - loss: 0.8297 - val_loss: 1.1408\n",
      "Epoch 162/200\n",
      "60/60 [==============================] - 0s 5ms/step - loss: 0.8311 - val_loss: 1.1496\n",
      "Epoch 163/200\n",
      "60/60 [==============================] - 0s 6ms/step - loss: 0.8399 - val_loss: 1.1266\n",
      "Epoch 164/200\n",
      "60/60 [==============================] - 0s 5ms/step - loss: 0.8274 - val_loss: 1.1567\n",
      "Epoch 165/200\n",
      "60/60 [==============================] - 0s 5ms/step - loss: 0.8281 - val_loss: 1.1487\n",
      "Epoch 166/200\n",
      "60/60 [==============================] - 0s 5ms/step - loss: 0.8277 - val_loss: 1.1431\n",
      "Epoch 167/200\n",
      "60/60 [==============================] - 0s 5ms/step - loss: 0.8246 - val_loss: 1.1542\n",
      "Epoch 168/200\n",
      "60/60 [==============================] - 0s 5ms/step - loss: 0.8201 - val_loss: 1.1556\n",
      "Epoch 169/200\n",
      "60/60 [==============================] - 0s 5ms/step - loss: 0.8194 - val_loss: 1.1632\n",
      "Epoch 170/200\n",
      "60/60 [==============================] - 0s 5ms/step - loss: 0.8201 - val_loss: 1.1988\n",
      "Epoch 171/200\n",
      "60/60 [==============================] - 0s 5ms/step - loss: 0.8190 - val_loss: 1.1651\n",
      "Epoch 172/200\n",
      "60/60 [==============================] - 0s 5ms/step - loss: 0.8196 - val_loss: 1.1502\n",
      "Epoch 173/200\n",
      "60/60 [==============================] - 0s 5ms/step - loss: 0.8233 - val_loss: 1.1741\n",
      "Epoch 174/200\n",
      "60/60 [==============================] - 0s 5ms/step - loss: 0.8204 - val_loss: 1.1865\n",
      "Epoch 175/200\n",
      "60/60 [==============================] - 0s 5ms/step - loss: 0.8155 - val_loss: 1.1934\n",
      "Epoch 176/200\n",
      "60/60 [==============================] - 0s 5ms/step - loss: 0.8113 - val_loss: 1.1432\n",
      "Epoch 177/200\n",
      "60/60 [==============================] - 0s 6ms/step - loss: 0.8185 - val_loss: 1.1526\n",
      "Epoch 178/200\n",
      "60/60 [==============================] - 0s 6ms/step - loss: 0.8098 - val_loss: 1.1958\n",
      "Epoch 179/200\n",
      "60/60 [==============================] - 0s 6ms/step - loss: 0.8056 - val_loss: 1.1666\n",
      "Epoch 180/200\n",
      "60/60 [==============================] - 0s 5ms/step - loss: 0.8050 - val_loss: 1.1378\n",
      "Epoch 181/200\n",
      "60/60 [==============================] - 0s 5ms/step - loss: 0.8074 - val_loss: 1.1562\n",
      "Epoch 182/200\n",
      "60/60 [==============================] - 0s 5ms/step - loss: 0.8048 - val_loss: 1.1834\n",
      "Epoch 183/200\n",
      "60/60 [==============================] - 0s 6ms/step - loss: 0.8076 - val_loss: 1.1714\n",
      "Epoch 184/200\n",
      "60/60 [==============================] - 0s 5ms/step - loss: 0.8009 - val_loss: 1.1748\n",
      "Epoch 185/200\n",
      "60/60 [==============================] - 0s 6ms/step - loss: 0.8054 - val_loss: 1.1548\n",
      "Epoch 186/200\n",
      "60/60 [==============================] - 0s 5ms/step - loss: 0.7991 - val_loss: 1.1634\n",
      "Epoch 187/200\n",
      "60/60 [==============================] - 0s 5ms/step - loss: 0.8042 - val_loss: 1.1570\n",
      "Epoch 188/200\n",
      "60/60 [==============================] - 0s 5ms/step - loss: 0.7978 - val_loss: 1.1604\n",
      "Epoch 189/200\n",
      "60/60 [==============================] - 0s 6ms/step - loss: 0.7944 - val_loss: 1.1673\n",
      "Epoch 190/200\n",
      "60/60 [==============================] - 0s 6ms/step - loss: 0.7995 - val_loss: 1.1845\n",
      "Epoch 191/200\n",
      "60/60 [==============================] - 0s 5ms/step - loss: 0.8045 - val_loss: 1.1955\n",
      "Epoch 192/200\n",
      "60/60 [==============================] - 0s 5ms/step - loss: 0.7949 - val_loss: 1.1780\n",
      "Epoch 193/200\n",
      "60/60 [==============================] - 0s 5ms/step - loss: 0.7948 - val_loss: 1.1534\n",
      "Epoch 194/200\n",
      "60/60 [==============================] - 0s 6ms/step - loss: 0.7956 - val_loss: 1.1933\n",
      "Epoch 195/200\n",
      "60/60 [==============================] - 0s 6ms/step - loss: 0.7928 - val_loss: 1.1641\n",
      "Epoch 196/200\n",
      "60/60 [==============================] - 0s 5ms/step - loss: 0.7898 - val_loss: 1.2040\n",
      "Epoch 197/200\n",
      "60/60 [==============================] - 0s 6ms/step - loss: 0.7892 - val_loss: 1.1902\n",
      "Epoch 198/200\n",
      "60/60 [==============================] - 0s 6ms/step - loss: 0.7909 - val_loss: 1.1983\n",
      "Epoch 199/200\n",
      "60/60 [==============================] - 0s 5ms/step - loss: 0.7899 - val_loss: 1.1689\n",
      "Epoch 200/200\n",
      "60/60 [==============================] - 0s 6ms/step - loss: 0.7866 - val_loss: 1.1795\n"
     ]
    },
    {
     "data": {
      "text/plain": [
       "<keras.callbacks.History at 0x2b328df33700>"
      ]
     },
     "execution_count": 174,
     "metadata": {},
     "output_type": "execute_result"
    }
   ],
   "source": [
    "model2.fit(X_train, y_train[:,20:], epochs=200, batch_size=100, verbose=1, validation_data=(X_val, y_val[:,20:]))"
   ]
  },
  {
   "cell_type": "code",
   "execution_count": 214,
   "metadata": {},
   "outputs": [],
   "source": [
    "yhat1 = model1(X_test, training = False)\n",
    "yhat2 = model2(X_test, training = False)\n"
   ]
  },
  {
   "cell_type": "code",
   "execution_count": 184,
   "metadata": {},
   "outputs": [
    {
     "data": {
      "text/plain": [
       "<tf.Tensor: shape=(2000, 20), dtype=float32, numpy=\n",
       "array([[3.7148204e-02, 4.1180711e-02, 1.1597092e-02, ..., 2.4951767e-06,\n",
       "        4.2831985e-06, 9.5594305e-07],\n",
       "       [0.0000000e+00, 0.0000000e+00, 0.0000000e+00, ..., 0.0000000e+00,\n",
       "        0.0000000e+00, 0.0000000e+00],\n",
       "       [1.7857010e-05, 2.9362559e-06, 2.3348323e-06, ..., 1.5792287e-10,\n",
       "        1.9069325e-12, 7.1631662e-15],\n",
       "       ...,\n",
       "       [6.6692144e-01, 5.8487153e-01, 5.6225365e-01, ..., 6.7492461e-01,\n",
       "        5.8473754e-01, 5.4093891e-01],\n",
       "       [3.9787035e-20, 6.7278687e-21, 1.5572076e-22, ..., 5.9508192e-27,\n",
       "        5.1260367e-26, 3.3165093e-24],\n",
       "       [7.8836007e-23, 2.0345038e-28, 6.1982077e-31, ..., 0.0000000e+00,\n",
       "        0.0000000e+00, 0.0000000e+00]], dtype=float32)>"
      ]
     },
     "execution_count": 184,
     "metadata": {},
     "output_type": "execute_result"
    }
   ],
   "source": [
    "yhat1"
   ]
  },
  {
   "cell_type": "code",
   "execution_count": 141,
   "metadata": {},
   "outputs": [
    {
     "ename": "ValueError",
     "evalue": "y_true and y_pred have different number of output (40!=20)",
     "output_type": "error",
     "traceback": [
      "\u001b[0;31m---------------------------------------------------------------------------\u001b[0m",
      "\u001b[0;31mValueError\u001b[0m                                Traceback (most recent call last)",
      "Cell \u001b[0;32mIn[141], line 1\u001b[0m\n\u001b[0;32m----> 1\u001b[0m mean_squared_error(y_test, yhat)\n",
      "File \u001b[0;32m~/anaconda3/envs/tardis/lib/python3.8/site-packages/sklearn/metrics/_regression.py:442\u001b[0m, in \u001b[0;36mmean_squared_error\u001b[0;34m(y_true, y_pred, sample_weight, multioutput, squared)\u001b[0m\n\u001b[1;32m    382\u001b[0m \u001b[39mdef\u001b[39;00m \u001b[39mmean_squared_error\u001b[39m(\n\u001b[1;32m    383\u001b[0m     y_true, y_pred, \u001b[39m*\u001b[39m, sample_weight\u001b[39m=\u001b[39m\u001b[39mNone\u001b[39;00m, multioutput\u001b[39m=\u001b[39m\u001b[39m\"\u001b[39m\u001b[39muniform_average\u001b[39m\u001b[39m\"\u001b[39m, squared\u001b[39m=\u001b[39m\u001b[39mTrue\u001b[39;00m\n\u001b[1;32m    384\u001b[0m ):\n\u001b[1;32m    385\u001b[0m \u001b[39m    \u001b[39m\u001b[39m\"\"\"Mean squared error regression loss.\u001b[39;00m\n\u001b[1;32m    386\u001b[0m \n\u001b[1;32m    387\u001b[0m \u001b[39m    Read more in the :ref:`User Guide <mean_squared_error>`.\u001b[39;00m\n\u001b[0;32m   (...)\u001b[0m\n\u001b[1;32m    440\u001b[0m \u001b[39m    0.825...\u001b[39;00m\n\u001b[1;32m    441\u001b[0m \u001b[39m    \"\"\"\u001b[39;00m\n\u001b[0;32m--> 442\u001b[0m     y_type, y_true, y_pred, multioutput \u001b[39m=\u001b[39m _check_reg_targets(\n\u001b[1;32m    443\u001b[0m         y_true, y_pred, multioutput\n\u001b[1;32m    444\u001b[0m     )\n\u001b[1;32m    445\u001b[0m     check_consistent_length(y_true, y_pred, sample_weight)\n\u001b[1;32m    446\u001b[0m     output_errors \u001b[39m=\u001b[39m np\u001b[39m.\u001b[39maverage((y_true \u001b[39m-\u001b[39m y_pred) \u001b[39m*\u001b[39m\u001b[39m*\u001b[39m \u001b[39m2\u001b[39m, axis\u001b[39m=\u001b[39m\u001b[39m0\u001b[39m, weights\u001b[39m=\u001b[39msample_weight)\n",
      "File \u001b[0;32m~/anaconda3/envs/tardis/lib/python3.8/site-packages/sklearn/metrics/_regression.py:111\u001b[0m, in \u001b[0;36m_check_reg_targets\u001b[0;34m(y_true, y_pred, multioutput, dtype)\u001b[0m\n\u001b[1;32m    108\u001b[0m     y_pred \u001b[39m=\u001b[39m y_pred\u001b[39m.\u001b[39mreshape((\u001b[39m-\u001b[39m\u001b[39m1\u001b[39m, \u001b[39m1\u001b[39m))\n\u001b[1;32m    110\u001b[0m \u001b[39mif\u001b[39;00m y_true\u001b[39m.\u001b[39mshape[\u001b[39m1\u001b[39m] \u001b[39m!=\u001b[39m y_pred\u001b[39m.\u001b[39mshape[\u001b[39m1\u001b[39m]:\n\u001b[0;32m--> 111\u001b[0m     \u001b[39mraise\u001b[39;00m \u001b[39mValueError\u001b[39;00m(\n\u001b[1;32m    112\u001b[0m         \u001b[39m\"\u001b[39m\u001b[39my_true and y_pred have different number of output (\u001b[39m\u001b[39m{0}\u001b[39;00m\u001b[39m!=\u001b[39m\u001b[39m{1}\u001b[39;00m\u001b[39m)\u001b[39m\u001b[39m\"\u001b[39m\u001b[39m.\u001b[39mformat(\n\u001b[1;32m    113\u001b[0m             y_true\u001b[39m.\u001b[39mshape[\u001b[39m1\u001b[39m], y_pred\u001b[39m.\u001b[39mshape[\u001b[39m1\u001b[39m]\n\u001b[1;32m    114\u001b[0m         )\n\u001b[1;32m    115\u001b[0m     )\n\u001b[1;32m    117\u001b[0m n_outputs \u001b[39m=\u001b[39m y_true\u001b[39m.\u001b[39mshape[\u001b[39m1\u001b[39m]\n\u001b[1;32m    118\u001b[0m allowed_multioutput_str \u001b[39m=\u001b[39m (\u001b[39m\"\u001b[39m\u001b[39mraw_values\u001b[39m\u001b[39m\"\u001b[39m, \u001b[39m\"\u001b[39m\u001b[39muniform_average\u001b[39m\u001b[39m\"\u001b[39m, \u001b[39m\"\u001b[39m\u001b[39mvariance_weighted\u001b[39m\u001b[39m\"\u001b[39m)\n",
      "\u001b[0;31mValueError\u001b[0m: y_true and y_pred have different number of output (40!=20)"
     ]
    }
   ],
   "source": [
    "mean_squared_error(y_test, yhat)"
   ]
  },
  {
   "cell_type": "code",
   "execution_count": 16,
   "metadata": {},
   "outputs": [],
   "source": [
    "v_inner = np.array([1.100e+09, 1.145e+09, 1.190e+09, 1.235e+09, 1.280e+09, 1.325e+09,\n",
    "       1.370e+09, 1.415e+09, 1.460e+09, 1.505e+09, 1.550e+09, 1.595e+09,\n",
    "       1.640e+09, 1.685e+09, 1.730e+09, 1.775e+09, 1.820e+09, 1.865e+09,\n",
    "       1.910e+09, 1.955e+09])"
   ]
  },
  {
   "cell_type": "code",
   "execution_count": 216,
   "metadata": {},
   "outputs": [
    {
     "data": {
      "text/plain": [
       "<tf.Tensor: shape=(2000, 20), dtype=float32, numpy=\n",
       "array([[ 10.187363 ,  10.277939 ,   9.942703 , ...,  12.116781 ,\n",
       "         11.861215 ,  11.742485 ],\n",
       "       [ 14.03072  ,  14.728542 ,  15.013119 , ...,  16.335896 ,\n",
       "         16.360874 ,  16.955667 ],\n",
       "       [ -7.678795 , -10.689732 , -11.706884 , ...,  -7.460601 ,\n",
       "         -6.979289 ,  -3.192092 ],\n",
       "       ...,\n",
       "       [ -1.740696 ,  -1.722992 ,  -2.1189575, ...,  -4.1478043,\n",
       "         -3.463399 ,  -2.2452009],\n",
       "       [  8.242641 ,   8.903397 ,   9.456924 , ...,  14.864489 ,\n",
       "         15.185927 ,  17.501997 ],\n",
       "       [ 14.56321  ,  13.936966 ,  13.118809 , ...,  14.189663 ,\n",
       "         13.4353895,  10.605965 ]], dtype=float32)>"
      ]
     },
     "execution_count": 216,
     "metadata": {},
     "output_type": "execute_result"
    }
   ],
   "source": [
    "yhat1"
   ]
  },
  {
   "cell_type": "code",
   "execution_count": 57,
   "metadata": {},
   "outputs": [
    {
     "ename": "TypeError",
     "evalue": "'(slice(None, None, None), slice(20, None, None))' is an invalid key",
     "output_type": "error",
     "traceback": [
      "\u001b[0;31m---------------------------------------------------------------------------\u001b[0m",
      "\u001b[0;31mTypeError\u001b[0m                                 Traceback (most recent call last)",
      "Cell \u001b[0;32mIn[57], line 1\u001b[0m\n\u001b[0;32m----> 1\u001b[0m y_test[:,\u001b[39m20\u001b[39;49m:]\n",
      "File \u001b[0;32m~/anaconda3/envs/tardis/lib/python3.8/site-packages/pandas/core/frame.py:2800\u001b[0m, in \u001b[0;36mDataFrame.__getitem__\u001b[0;34m(self, key)\u001b[0m\n\u001b[1;32m   2798\u001b[0m \u001b[39mif\u001b[39;00m \u001b[39mself\u001b[39m\u001b[39m.\u001b[39mcolumns\u001b[39m.\u001b[39mnlevels \u001b[39m>\u001b[39m \u001b[39m1\u001b[39m:\n\u001b[1;32m   2799\u001b[0m     \u001b[39mreturn\u001b[39;00m \u001b[39mself\u001b[39m\u001b[39m.\u001b[39m_getitem_multilevel(key)\n\u001b[0;32m-> 2800\u001b[0m indexer \u001b[39m=\u001b[39m \u001b[39mself\u001b[39;49m\u001b[39m.\u001b[39;49mcolumns\u001b[39m.\u001b[39;49mget_loc(key)\n\u001b[1;32m   2801\u001b[0m \u001b[39mif\u001b[39;00m is_integer(indexer):\n\u001b[1;32m   2802\u001b[0m     indexer \u001b[39m=\u001b[39m [indexer]\n",
      "File \u001b[0;32m~/anaconda3/envs/tardis/lib/python3.8/site-packages/pandas/core/indexes/base.py:2646\u001b[0m, in \u001b[0;36mIndex.get_loc\u001b[0;34m(self, key, method, tolerance)\u001b[0m\n\u001b[1;32m   2641\u001b[0m     \u001b[39mraise\u001b[39;00m \u001b[39mValueError\u001b[39;00m(\n\u001b[1;32m   2642\u001b[0m         \u001b[39m\"\u001b[39m\u001b[39mtolerance argument only valid if using pad, \u001b[39m\u001b[39m\"\u001b[39m\n\u001b[1;32m   2643\u001b[0m         \u001b[39m\"\u001b[39m\u001b[39mbackfill or nearest lookups\u001b[39m\u001b[39m\"\u001b[39m\n\u001b[1;32m   2644\u001b[0m     )\n\u001b[1;32m   2645\u001b[0m \u001b[39mtry\u001b[39;00m:\n\u001b[0;32m-> 2646\u001b[0m     \u001b[39mreturn\u001b[39;00m \u001b[39mself\u001b[39;49m\u001b[39m.\u001b[39;49m_engine\u001b[39m.\u001b[39;49mget_loc(key)\n\u001b[1;32m   2647\u001b[0m \u001b[39mexcept\u001b[39;00m \u001b[39mKeyError\u001b[39;00m:\n\u001b[1;32m   2648\u001b[0m     \u001b[39mreturn\u001b[39;00m \u001b[39mself\u001b[39m\u001b[39m.\u001b[39m_engine\u001b[39m.\u001b[39mget_loc(\u001b[39mself\u001b[39m\u001b[39m.\u001b[39m_maybe_cast_indexer(key))\n",
      "File \u001b[0;32mpandas/_libs/index.pyx:111\u001b[0m, in \u001b[0;36mpandas._libs.index.IndexEngine.get_loc\u001b[0;34m()\u001b[0m\n",
      "File \u001b[0;32mpandas/_libs/index.pyx:116\u001b[0m, in \u001b[0;36mpandas._libs.index.IndexEngine.get_loc\u001b[0;34m()\u001b[0m\n",
      "\u001b[0;31mTypeError\u001b[0m: '(slice(None, None, None), slice(20, None, None))' is an invalid key"
     ]
    }
   ],
   "source": [
    "y_test[:,20:]"
   ]
  },
  {
   "cell_type": "code",
   "execution_count": 144,
   "metadata": {},
   "outputs": [
    {
     "data": {
      "text/plain": [
       "<tf.Tensor: shape=(2000, 0), dtype=float32, numpy=array([], shape=(2000, 0), dtype=float32)>"
      ]
     },
     "execution_count": 144,
     "metadata": {},
     "output_type": "execute_result"
    }
   ],
   "source": [
    "yhat[:,20:]"
   ]
  },
  {
   "cell_type": "code",
   "execution_count": 68,
   "metadata": {},
   "outputs": [
    {
     "data": {
      "text/plain": [
       "[<matplotlib.lines.Line2D at 0x2aba47c893d0>]"
      ]
     },
     "execution_count": 68,
     "metadata": {},
     "output_type": "execute_result"
    },
    {
     "data": {
      "image/png": "[encoded data removed]",
      "text/plain": [
       "<Figure size 640x480 with 1 Axes>"
      ]
     },
     "metadata": {},
     "output_type": "display_data"
    }
   ],
   "source": [
    "plt.plot(v_inner, yhat[10, :20])\n",
    "plt.plot(v_inner, y_test[10, :20], '--')"
   ]
  },
  {
   "cell_type": "code",
   "execution_count": 66,
   "metadata": {},
   "outputs": [
    {
     "data": {
      "text/plain": [
       "[<matplotlib.lines.Line2D at 0x2aba894bdd60>]"
      ]
     },
     "execution_count": 66,
     "metadata": {},
     "output_type": "execute_result"
    },
    {
     "data": {
      "image/png": "[encoded data removed]",
      "text/plain": [
       "<Figure size 640x480 with 1 Axes>"
      ]
     },
     "metadata": {},
     "output_type": "display_data"
    }
   ],
   "source": [
    "plt.plot(v_inner, yhat[20, 20:])\n",
    "plt.plot(v_inner, y_test[20, 20:], '--')"
   ]
  },
  {
   "cell_type": "code",
   "execution_count": 159,
   "metadata": {},
   "outputs": [],
   "source": [
    "from scipy.spatial.distance import cosine"
   ]
  },
  {
   "cell_type": "code",
   "execution_count": 162,
   "metadata": {},
   "outputs": [],
   "source": [
    "distances = [cosine(y_test[i, 20:], yhat2[i]) for i in range(len(yhat2))]"
   ]
  },
  {
   "cell_type": "code",
   "execution_count": 163,
   "metadata": {},
   "outputs": [
    {
     "data": {
      "text/plain": [
       "3.3517127909728277"
      ]
     },
     "execution_count": 163,
     "metadata": {},
     "output_type": "execute_result"
    }
   ],
   "source": [
    "sum(distances)"
   ]
  },
  {
   "cell_type": "code",
   "execution_count": 200,
   "metadata": {},
   "outputs": [],
   "source": [
    "max_fe = [max_fractional_error(y_test[i], yhat[i]).numpy() for i in range(len(yhat))]"
   ]
  },
  {
   "cell_type": "code",
   "execution_count": 201,
   "metadata": {},
   "outputs": [],
   "source": [
    "mean_fe = [meanFE(y_test[i], yhat[i]).numpy() for i in range(len(yhat))]"
   ]
  },
  {
   "cell_type": "code",
   "execution_count": 202,
   "metadata": {},
   "outputs": [],
   "source": [
    "bins = 10**np.histogram(np.log10(mean_fe))[1]"
   ]
  },
  {
   "cell_type": "code",
   "execution_count": 203,
   "metadata": {},
   "outputs": [
    {
     "data": {
      "image/png": "[encoded data removed]",
      "text/plain": [
       "<Figure size 1000x500 with 2 Axes>"
      ]
     },
     "metadata": {},
     "output_type": "display_data"
    }
   ],
   "source": [
    "plt.figure(figsize=(10,5))\n",
    "\n",
    "plt.subplot(1,2,1)\n",
    "plt.hist(mean_fe, bins=bins)\n",
    "plt.title('MEAN FE')\n",
    "plt.xscale('log')\n",
    "plt.subplot(1,2,2)\n",
    "\n",
    "plt.hist(max_fe,bins=bins)\n",
    "plt.title('MAX FE')\n",
    "plt.xscale('log')"
   ]
  },
  {
   "cell_type": "code",
   "execution_count": 87,
   "metadata": {},
   "outputs": [],
   "source": [
    "# NOT MY MODEL BUT LETS SEE WHAT HAPPEBNS\n",
    "\n",
    "\n",
    "def train(model, X_train, Y_train, X_val, Y_val, **kwargs):\n",
    "    \n",
    "    X_train = tf.convert_to_tensor(X_train)\n",
    "    Y_train = tf.convert_to_tensor(Y_train)\n",
    "    Train = (X_train, Y_train)\n",
    "\n",
    "    X_val = tf.convert_to_tensor(X_val)\n",
    "    Y_val = tf.convert_to_tensor(Y_val)\n",
    "    Val = (X_val, Y_val)\n",
    "    \n",
    "    cur_date_str = datetime.now().strftime(\"%Y-%m-%dT%H-%M-%S\")\n",
    "    logdir=\"logs/scalars/\" + cur_date_str\n",
    "    tensorboard_callback = TensorBoard(log_dir=logdir)\n",
    "    checkpoints_dir = os.path.join('checkpoints', cur_date_str)\n",
    "    os.makedirs(checkpoints_dir, exist_ok=True)\n",
    "    checkpointer_best = ModelCheckpoint(monitor='val_loss', \n",
    "                                        filepath=os.path.join(checkpoints_dir, 'grid_weights_best.h5'), \n",
    "                                        save_best_only=True, save_weights_only=True)\n",
    "    early_stopping = EarlyStopping(monitor='val_loss', \n",
    "                                   min_delta=0, patience=500, \n",
    "                                   verbose=0, mode='auto', baseline=None, \n",
    "                                   restore_best_weights=True)\n",
    "    fit_kwargs = dict(validation_data=Val, \n",
    "                  epochs=50000, batch_size=128,\n",
    "                  callbacks=[checkpointer_best, tensorboard_callback, early_stopping], \n",
    "                  verbose=0)\n",
    "    fit_kwargs.update(kwargs)\n",
    "\n",
    "    model.fit(*Train, **fit_kwargs)"
   ]
  },
  {
   "cell_type": "code",
   "execution_count": 88,
   "metadata": {},
   "outputs": [
    {
     "ename": "",
     "evalue": "",
     "output_type": "error",
     "traceback": [
      "\u001b[1;31mCanceled future for execute_request message before replies were done"
     ]
    },
    {
     "ename": "",
     "evalue": "",
     "output_type": "error",
     "traceback": [
      "\u001b[1;31mThe Kernel crashed while executing code in the the current cell or a previous cell. Please review the code in the cell(s) to identify a possible cause of the failure. Click <a href='https://aka.ms/vscodeJupyterKernelCrash'>here</a> for more info. View Jupyter <a href='command:jupyter.viewOutput'>log</a> for further details."
     ]
    }
   ],
   "source": [
    "train(model, X_train, y_train, X_val, y_val)"
   ]
  },
  {
   "cell_type": "code",
   "execution_count": null,
   "metadata": {},
   "outputs": [],
   "source": [
    "yhat = model.predict(X_test)\n",
    "plt.plot(v_inner, yhat[0, 20:])\n",
    "plt.plot(v_inner, y_test[0, 20:], '--')"
   ]
  },
  {
   "cell_type": "code",
   "execution_count": 82,
   "metadata": {},
   "outputs": [
    {
     "data": {
      "text/plain": [
       "[<matplotlib.lines.Line2D at 0x2ad3f0bd37c0>]"
      ]
     },
     "execution_count": 82,
     "metadata": {},
     "output_type": "execute_result"
    },
    {
     "data": {
      "image/png": "[encoded data removed]",
      "text/plain": [
       "<Figure size 640x480 with 1 Axes>"
      ]
     },
     "metadata": {},
     "output_type": "display_data"
    }
   ],
   "source": [
    "plt.plot(v_inner, yhat[1000, :20])\n",
    "plt.plot(v_inner, y_test[1000, :20], '--')"
   ]
  },
  {
   "cell_type": "code",
   "execution_count": null,
   "metadata": {},
   "outputs": [],
   "source": []
  }
 ],
 "metadata": {
  "kernelspec": {
   "display_name": "Emulator",
   "language": "python",
   "name": "emulator"
  },
  "language_info": {
   "codemirror_mode": {
    "name": "ipython",
    "version": 3
   },
   "file_extension": ".py",
   "mimetype": "text/x-python",
   "name": "python",
   "nbconvert_exporter": "python",
   "pygments_lexer": "ipython3",
   "version": "3.9.16"
  }
 },
 "nbformat": 4,
 "nbformat_minor": 2
}
